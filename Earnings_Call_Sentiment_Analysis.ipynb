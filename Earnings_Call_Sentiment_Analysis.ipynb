{
  "nbformat": 4,
  "nbformat_minor": 0,
  "metadata": {
    "colab": {
      "provenance": []
    },
    "kernelspec": {
      "name": "python3",
      "display_name": "Python 3"
    },
    "language_info": {
      "name": "python"
    },
    "widgets": {
      "application/vnd.jupyter.widget-state+json": {
        "4313d127f6d14a408d3426db95204448": {
          "model_module": "catboost-widget",
          "model_name": "CatboostWidgetModel",
          "model_module_version": "^1.0.0",
          "state": {
            "_dom_classes": [],
            "_model_module": "catboost-widget",
            "_model_module_version": "^1.0.0",
            "_model_name": "CatboostWidgetModel",
            "_view_count": null,
            "_view_module": "catboost-widget",
            "_view_module_version": "^1.0.0",
            "_view_name": "CatboostWidgetView",
            "data": {
              "catboost_info": {
                "path": "catboost_info",
                "name": "catboost_info",
                "content": {
                  "passed_iterations": 999,
                  "total_iterations": 1000,
                  "data": {
                    "iterations": [
                      {
                        "learn": [
                          1.086458519
                        ],
                        "iteration": 0,
                        "passed_time": 0.0003919255251,
                        "remaining_time": 0.3915335996
                      },
                      {
                        "learn": [
                          1.074460354
                        ],
                        "iteration": 1,
                        "passed_time": 0.0008624708821,
                        "remaining_time": 0.4303729701
                      },
                      {
                        "learn": [
                          1.064770033
                        ],
                        "iteration": 2,
                        "passed_time": 0.001082814047,
                        "remaining_time": 0.3598552016
                      },
                      {
                        "learn": [
                          1.05517475
                        ],
                        "iteration": 3,
                        "passed_time": 0.001301746306,
                        "remaining_time": 0.3241348302
                      },
                      {
                        "learn": [
                          1.045717495
                        ],
                        "iteration": 4,
                        "passed_time": 0.001527766731,
                        "remaining_time": 0.3040255796
                      },
                      {
                        "learn": [
                          1.036396324
                        ],
                        "iteration": 5,
                        "passed_time": 0.001762733501,
                        "remaining_time": 0.2920261834
                      },
                      {
                        "learn": [
                          1.022873606
                        ],
                        "iteration": 6,
                        "passed_time": 0.001926541333,
                        "remaining_time": 0.2732936491
                      },
                      {
                        "learn": [
                          1.013732149
                        ],
                        "iteration": 7,
                        "passed_time": 0.002106813674,
                        "remaining_time": 0.2612448956
                      },
                      {
                        "learn": [
                          1.002676771
                        ],
                        "iteration": 8,
                        "passed_time": 0.002328465018,
                        "remaining_time": 0.2563898704
                      },
                      {
                        "learn": [
                          0.9917664056
                        ],
                        "iteration": 9,
                        "passed_time": 0.002615379859,
                        "remaining_time": 0.258922606
                      },
                      {
                        "learn": [
                          0.9809995439
                        ],
                        "iteration": 10,
                        "passed_time": 0.002856052071,
                        "remaining_time": 0.2567850453
                      },
                      {
                        "learn": [
                          0.9703746671
                        ],
                        "iteration": 11,
                        "passed_time": 0.003098112463,
                        "remaining_time": 0.2550779261
                      },
                      {
                        "learn": [
                          0.9618229259
                        ],
                        "iteration": 12,
                        "passed_time": 0.003285512062,
                        "remaining_time": 0.249446185
                      },
                      {
                        "learn": [
                          0.9487067358
                        ],
                        "iteration": 13,
                        "passed_time": 0.003469171669,
                        "remaining_time": 0.2443288047
                      },
                      {
                        "learn": [
                          0.9385096585
                        ],
                        "iteration": 14,
                        "passed_time": 0.003700338447,
                        "remaining_time": 0.2429888913
                      },
                      {
                        "learn": [
                          0.9258103916
                        ],
                        "iteration": 15,
                        "passed_time": 0.003934500673,
                        "remaining_time": 0.2419717914
                      },
                      {
                        "learn": [
                          0.9177251373
                        ],
                        "iteration": 16,
                        "passed_time": 0.004124662085,
                        "remaining_time": 0.2385025194
                      },
                      {
                        "learn": [
                          0.9097515451
                        ],
                        "iteration": 17,
                        "passed_time": 0.004358937947,
                        "remaining_time": 0.2378042813
                      },
                      {
                        "learn": [
                          0.9009093485
                        ],
                        "iteration": 18,
                        "passed_time": 0.004541038466,
                        "remaining_time": 0.2344609861
                      },
                      {
                        "learn": [
                          0.8913500669
                        ],
                        "iteration": 19,
                        "passed_time": 0.004720432628,
                        "remaining_time": 0.2313011988
                      },
                      {
                        "learn": [
                          0.8836178176
                        ],
                        "iteration": 20,
                        "passed_time": 0.004939046706,
                        "remaining_time": 0.2302536536
                      },
                      {
                        "learn": [
                          0.8692626361
                        ],
                        "iteration": 21,
                        "passed_time": 0.005090910926,
                        "remaining_time": 0.2263141312
                      },
                      {
                        "learn": [
                          0.8617907063
                        ],
                        "iteration": 22,
                        "passed_time": 0.007472929467,
                        "remaining_time": 0.3174370473
                      },
                      {
                        "learn": [
                          0.8545048134
                        ],
                        "iteration": 23,
                        "passed_time": 0.008590189803,
                        "remaining_time": 0.3493343853
                      },
                      {
                        "learn": [
                          0.8432669267
                        ],
                        "iteration": 24,
                        "passed_time": 0.009675660208,
                        "remaining_time": 0.3773507481
                      },
                      {
                        "learn": [
                          0.8329077104
                        ],
                        "iteration": 25,
                        "passed_time": 0.00988058977,
                        "remaining_time": 0.3701420937
                      },
                      {
                        "learn": [
                          0.8242640828
                        ],
                        "iteration": 26,
                        "passed_time": 0.01024184354,
                        "remaining_time": 0.3690856951
                      },
                      {
                        "learn": [
                          0.8142120763
                        ],
                        "iteration": 27,
                        "passed_time": 0.01039131868,
                        "remaining_time": 0.3607272055
                      },
                      {
                        "learn": [
                          0.8058216938
                        ],
                        "iteration": 28,
                        "passed_time": 0.01061754456,
                        "remaining_time": 0.3555046815
                      },
                      {
                        "learn": [
                          0.7975448803
                        ],
                        "iteration": 29,
                        "passed_time": 0.01079646054,
                        "remaining_time": 0.3490855574
                      },
                      {
                        "learn": [
                          0.7888020149
                        ],
                        "iteration": 30,
                        "passed_time": 0.01094142205,
                        "remaining_time": 0.3420076762
                      },
                      {
                        "learn": [
                          0.7787389949
                        ],
                        "iteration": 31,
                        "passed_time": 0.01111998712,
                        "remaining_time": 0.3363796103
                      },
                      {
                        "learn": [
                          0.7738243721
                        ],
                        "iteration": 32,
                        "passed_time": 0.0112924822,
                        "remaining_time": 0.3309039482
                      },
                      {
                        "learn": [
                          0.7675146826
                        ],
                        "iteration": 33,
                        "passed_time": 0.01148795906,
                        "remaining_time": 0.3263931897
                      },
                      {
                        "learn": [
                          0.7597559501
                        ],
                        "iteration": 34,
                        "passed_time": 0.0116679614,
                        "remaining_time": 0.3217023643
                      },
                      {
                        "learn": [
                          0.7521023479
                        ],
                        "iteration": 35,
                        "passed_time": 0.01188985547,
                        "remaining_time": 0.3183839076
                      },
                      {
                        "learn": [
                          0.7445524442
                        ],
                        "iteration": 36,
                        "passed_time": 0.01206804782,
                        "remaining_time": 0.3140954067
                      },
                      {
                        "learn": [
                          0.7371048187
                        ],
                        "iteration": 37,
                        "passed_time": 0.01228985462,
                        "remaining_time": 0.3111273721
                      },
                      {
                        "learn": [
                          0.7297580627
                        ],
                        "iteration": 38,
                        "passed_time": 0.01251241414,
                        "remaining_time": 0.3083187176
                      },
                      {
                        "learn": [
                          0.7238324845
                        ],
                        "iteration": 39,
                        "passed_time": 0.01274823363,
                        "remaining_time": 0.3059576072
                      },
                      {
                        "learn": [
                          0.7148798138
                        ],
                        "iteration": 40,
                        "passed_time": 0.01292791598,
                        "remaining_time": 0.3023871079
                      },
                      {
                        "learn": [
                          0.7061038363
                        ],
                        "iteration": 41,
                        "passed_time": 0.01310916559,
                        "remaining_time": 0.2990138246
                      },
                      {
                        "learn": [
                          0.6988633792
                        ],
                        "iteration": 42,
                        "passed_time": 0.01326030072,
                        "remaining_time": 0.2951187858
                      },
                      {
                        "learn": [
                          0.6944427357
                        ],
                        "iteration": 43,
                        "passed_time": 0.0134077995,
                        "remaining_time": 0.2913149163
                      },
                      {
                        "learn": [
                          0.6872581974
                        ],
                        "iteration": 44,
                        "passed_time": 0.01355130737,
                        "remaining_time": 0.2875888564
                      },
                      {
                        "learn": [
                          0.6789560469
                        ],
                        "iteration": 45,
                        "passed_time": 0.01372989699,
                        "remaining_time": 0.2847461245
                      },
                      {
                        "learn": [
                          0.6689725069
                        ],
                        "iteration": 46,
                        "passed_time": 0.01390391934,
                        "remaining_time": 0.2819241518
                      },
                      {
                        "learn": [
                          0.6609970458
                        ],
                        "iteration": 47,
                        "passed_time": 0.01408273714,
                        "remaining_time": 0.27930762
                      },
                      {
                        "learn": [
                          0.6542836318
                        ],
                        "iteration": 48,
                        "passed_time": 0.01424529225,
                        "remaining_time": 0.2764749578
                      },
                      {
                        "learn": [
                          0.642153203
                        ],
                        "iteration": 49,
                        "passed_time": 0.01439910374,
                        "remaining_time": 0.273582971
                      },
                      {
                        "learn": [
                          0.632946538
                        ],
                        "iteration": 50,
                        "passed_time": 0.01456342793,
                        "remaining_time": 0.2709939825
                      },
                      {
                        "learn": [
                          0.625343396
                        ],
                        "iteration": 51,
                        "passed_time": 0.01473906847,
                        "remaining_time": 0.2687045559
                      },
                      {
                        "learn": [
                          0.6181052843
                        ],
                        "iteration": 52,
                        "passed_time": 0.01491315809,
                        "remaining_time": 0.2664671833
                      },
                      {
                        "learn": [
                          0.613413731
                        ],
                        "iteration": 53,
                        "passed_time": 0.01508982408,
                        "remaining_time": 0.2643513626
                      },
                      {
                        "learn": [
                          0.6068601377
                        ],
                        "iteration": 54,
                        "passed_time": 0.01523377104,
                        "remaining_time": 0.2617438843
                      },
                      {
                        "learn": [
                          0.5997114219
                        ],
                        "iteration": 55,
                        "passed_time": 0.01541035158,
                        "remaining_time": 0.259774498
                      },
                      {
                        "learn": [
                          0.5928951827
                        ],
                        "iteration": 56,
                        "passed_time": 0.01562932474,
                        "remaining_time": 0.258569355
                      },
                      {
                        "learn": [
                          0.5866586687
                        ],
                        "iteration": 57,
                        "passed_time": 0.01577225989,
                        "remaining_time": 0.2561632555
                      },
                      {
                        "learn": [
                          0.579941552
                        ],
                        "iteration": 58,
                        "passed_time": 0.0159517286,
                        "remaining_time": 0.2544165527
                      },
                      {
                        "learn": [
                          0.5746971604
                        ],
                        "iteration": 59,
                        "passed_time": 0.01614722273,
                        "remaining_time": 0.252973156
                      },
                      {
                        "learn": [
                          0.5699728471
                        ],
                        "iteration": 60,
                        "passed_time": 0.01629706422,
                        "remaining_time": 0.2508679231
                      },
                      {
                        "learn": [
                          0.5634518026
                        ],
                        "iteration": 61,
                        "passed_time": 0.01648152201,
                        "remaining_time": 0.2493494782
                      },
                      {
                        "learn": [
                          0.5570489151
                        ],
                        "iteration": 62,
                        "passed_time": 0.01665532437,
                        "remaining_time": 0.2477149037
                      },
                      {
                        "learn": [
                          0.5494682115
                        ],
                        "iteration": 63,
                        "passed_time": 0.01682882218,
                        "remaining_time": 0.2461215243
                      },
                      {
                        "learn": [
                          0.5433587715
                        ],
                        "iteration": 64,
                        "passed_time": 0.01702628994,
                        "remaining_time": 0.2449166322
                      },
                      {
                        "learn": [
                          0.5372971059
                        ],
                        "iteration": 65,
                        "passed_time": 0.01720345683,
                        "remaining_time": 0.24345498
                      },
                      {
                        "learn": [
                          0.5302148423
                        ],
                        "iteration": 66,
                        "passed_time": 0.01734698471,
                        "remaining_time": 0.2415632348
                      },
                      {
                        "learn": [
                          0.5252712591
                        ],
                        "iteration": 67,
                        "passed_time": 0.01752018979,
                        "remaining_time": 0.24012966
                      },
                      {
                        "learn": [
                          0.5181183431
                        ],
                        "iteration": 68,
                        "passed_time": 0.01764137408,
                        "remaining_time": 0.238030714
                      },
                      {
                        "learn": [
                          0.5124700859
                        ],
                        "iteration": 69,
                        "passed_time": 0.01782992731,
                        "remaining_time": 0.23688332
                      },
                      {
                        "learn": [
                          0.5069213179
                        ],
                        "iteration": 70,
                        "passed_time": 0.01801424691,
                        "remaining_time": 0.2357075406
                      },
                      {
                        "learn": [
                          0.5016012904
                        ],
                        "iteration": 71,
                        "passed_time": 0.01818876381,
                        "remaining_time": 0.2344329558
                      },
                      {
                        "learn": [
                          0.4973706722
                        ],
                        "iteration": 72,
                        "passed_time": 0.01840919061,
                        "remaining_time": 0.2337715027
                      },
                      {
                        "learn": [
                          0.4922058558
                        ],
                        "iteration": 73,
                        "passed_time": 0.01858931023,
                        "remaining_time": 0.2326175848
                      },
                      {
                        "learn": [
                          0.4860159097
                        ],
                        "iteration": 74,
                        "passed_time": 0.01874892716,
                        "remaining_time": 0.2312367683
                      },
                      {
                        "learn": [
                          0.4781990164
                        ],
                        "iteration": 75,
                        "passed_time": 0.01889205594,
                        "remaining_time": 0.2296876275
                      },
                      {
                        "learn": [
                          0.4721780579
                        ],
                        "iteration": 76,
                        "passed_time": 0.01903296201,
                        "remaining_time": 0.2281483628
                      },
                      {
                        "learn": [
                          0.4662776275
                        ],
                        "iteration": 77,
                        "passed_time": 0.01920813891,
                        "remaining_time": 0.2270500522
                      },
                      {
                        "learn": [
                          0.4614728988
                        ],
                        "iteration": 78,
                        "passed_time": 0.01938267035,
                        "remaining_time": 0.2259675872
                      },
                      {
                        "learn": [
                          0.4558606594
                        ],
                        "iteration": 79,
                        "passed_time": 0.01953043731,
                        "remaining_time": 0.224600029
                      },
                      {
                        "learn": [
                          0.4522024594
                        ],
                        "iteration": 80,
                        "passed_time": 0.01972330689,
                        "remaining_time": 0.2237743091
                      },
                      {
                        "learn": [
                          0.4467727672
                        ],
                        "iteration": 81,
                        "passed_time": 0.01988511564,
                        "remaining_time": 0.2226162946
                      },
                      {
                        "learn": [
                          0.4399003078
                        ],
                        "iteration": 82,
                        "passed_time": 0.0200279517,
                        "remaining_time": 0.2212726712
                      },
                      {
                        "learn": [
                          0.4368157806
                        ],
                        "iteration": 83,
                        "passed_time": 0.02016814321,
                        "remaining_time": 0.2199287998
                      },
                      {
                        "learn": [
                          0.4301892163
                        ],
                        "iteration": 84,
                        "passed_time": 0.02031164654,
                        "remaining_time": 0.218648901
                      },
                      {
                        "learn": [
                          0.4251626796
                        ],
                        "iteration": 85,
                        "passed_time": 0.02048837708,
                        "remaining_time": 0.2177485657
                      },
                      {
                        "learn": [
                          0.4202374503
                        ],
                        "iteration": 86,
                        "passed_time": 0.02063475585,
                        "remaining_time": 0.2165463459
                      },
                      {
                        "learn": [
                          0.4153952741
                        ],
                        "iteration": 87,
                        "passed_time": 0.02077766282,
                        "remaining_time": 0.215332142
                      },
                      {
                        "learn": [
                          0.4092725161
                        ],
                        "iteration": 88,
                        "passed_time": 0.02091995252,
                        "remaining_time": 0.2141356937
                      },
                      {
                        "learn": [
                          0.4053570851
                        ],
                        "iteration": 89,
                        "passed_time": 0.02109265578,
                        "remaining_time": 0.2132701862
                      },
                      {
                        "learn": [
                          0.4007926335
                        ],
                        "iteration": 90,
                        "passed_time": 0.02123501548,
                        "remaining_time": 0.212116803
                      },
                      {
                        "learn": [
                          0.3963120926
                        ],
                        "iteration": 91,
                        "passed_time": 0.02138073062,
                        "remaining_time": 0.2110185153
                      },
                      {
                        "learn": [
                          0.3918288041
                        ],
                        "iteration": 92,
                        "passed_time": 0.02152274395,
                        "remaining_time": 0.2099046104
                      },
                      {
                        "learn": [
                          0.387508501
                        ],
                        "iteration": 93,
                        "passed_time": 0.02167301272,
                        "remaining_time": 0.2088909524
                      },
                      {
                        "learn": [
                          0.3832663767
                        ],
                        "iteration": 94,
                        "passed_time": 0.02181986877,
                        "remaining_time": 0.2078629604
                      },
                      {
                        "learn": [
                          0.3797426812
                        ],
                        "iteration": 95,
                        "passed_time": 0.02207280278,
                        "remaining_time": 0.2078522261
                      },
                      {
                        "learn": [
                          0.3755570105
                        ],
                        "iteration": 96,
                        "passed_time": 0.02221499065,
                        "remaining_time": 0.2068055316
                      },
                      {
                        "learn": [
                          0.3715213893
                        ],
                        "iteration": 97,
                        "passed_time": 0.02239170118,
                        "remaining_time": 0.2060950456
                      },
                      {
                        "learn": [
                          0.3675394749
                        ],
                        "iteration": 98,
                        "passed_time": 0.02257812988,
                        "remaining_time": 0.2054837881
                      },
                      {
                        "learn": [
                          0.3636282271
                        ],
                        "iteration": 99,
                        "passed_time": 0.02272330684,
                        "remaining_time": 0.2045097616
                      },
                      {
                        "learn": [
                          0.359328214
                        ],
                        "iteration": 100,
                        "passed_time": 0.02289819465,
                        "remaining_time": 0.2038166038
                      },
                      {
                        "learn": [
                          0.3554972494
                        ],
                        "iteration": 101,
                        "passed_time": 0.0230422307,
                        "remaining_time": 0.2028619919
                      },
                      {
                        "learn": [
                          0.3507159614
                        ],
                        "iteration": 102,
                        "passed_time": 0.02318628585,
                        "remaining_time": 0.2019232855
                      },
                      {
                        "learn": [
                          0.346041747
                        ],
                        "iteration": 103,
                        "passed_time": 0.02333729189,
                        "remaining_time": 0.2010597455
                      },
                      {
                        "learn": [
                          0.3425048865
                        ],
                        "iteration": 104,
                        "passed_time": 0.02349453792,
                        "remaining_time": 0.200262966
                      },
                      {
                        "learn": [
                          0.3380090711
                        ],
                        "iteration": 105,
                        "passed_time": 0.02364837122,
                        "remaining_time": 0.1994494705
                      },
                      {
                        "learn": [
                          0.3336120137
                        ],
                        "iteration": 106,
                        "passed_time": 0.02381689723,
                        "remaining_time": 0.1987709273
                      },
                      {
                        "learn": [
                          0.3298958014
                        ],
                        "iteration": 107,
                        "passed_time": 0.02401300044,
                        "remaining_time": 0.1983295963
                      },
                      {
                        "learn": [
                          0.3265613235
                        ],
                        "iteration": 108,
                        "passed_time": 0.02418864552,
                        "remaining_time": 0.1977255336
                      },
                      {
                        "learn": [
                          0.3233304058
                        ],
                        "iteration": 109,
                        "passed_time": 0.02433212067,
                        "remaining_time": 0.1968689763
                      },
                      {
                        "learn": [
                          0.3201534319
                        ],
                        "iteration": 110,
                        "passed_time": 0.02447569854,
                        "remaining_time": 0.1960260901
                      },
                      {
                        "learn": [
                          0.317512898
                        ],
                        "iteration": 111,
                        "passed_time": 0.0246686354,
                        "remaining_time": 0.1955870378
                      },
                      {
                        "learn": [
                          0.3135439489
                        ],
                        "iteration": 112,
                        "passed_time": 0.0248118751,
                        "remaining_time": 0.1947622408
                      },
                      {
                        "learn": [
                          0.3104778635
                        ],
                        "iteration": 113,
                        "passed_time": 0.02495778115,
                        "remaining_time": 0.1939701237
                      },
                      {
                        "learn": [
                          0.3074628133
                        ],
                        "iteration": 114,
                        "passed_time": 0.02511038264,
                        "remaining_time": 0.1932407708
                      },
                      {
                        "learn": [
                          0.3036993272
                        ],
                        "iteration": 115,
                        "passed_time": 0.02527821501,
                        "remaining_time": 0.1926374316
                      },
                      {
                        "learn": [
                          0.3000140887
                        ],
                        "iteration": 116,
                        "passed_time": 0.02544601829,
                        "remaining_time": 0.1920413175
                      },
                      {
                        "learn": [
                          0.29716663
                        ],
                        "iteration": 117,
                        "passed_time": 0.02559784342,
                        "remaining_time": 0.191333033
                      },
                      {
                        "learn": [
                          0.2944032142
                        ],
                        "iteration": 118,
                        "passed_time": 0.02574542128,
                        "remaining_time": 0.1906026567
                      },
                      {
                        "learn": [
                          0.2909035083
                        ],
                        "iteration": 119,
                        "passed_time": 0.02589054643,
                        "remaining_time": 0.1898640071
                      },
                      {
                        "learn": [
                          0.28819926
                        ],
                        "iteration": 120,
                        "passed_time": 0.02603903975,
                        "remaining_time": 0.1891596358
                      },
                      {
                        "learn": [
                          0.2848226547
                        ],
                        "iteration": 121,
                        "passed_time": 0.02618805215,
                        "remaining_time": 0.188468113
                      },
                      {
                        "learn": [
                          0.2815138045
                        ],
                        "iteration": 122,
                        "passed_time": 0.02633827092,
                        "remaining_time": 0.187794013
                      },
                      {
                        "learn": [
                          0.2789547316
                        ],
                        "iteration": 123,
                        "passed_time": 0.02648644879,
                        "remaining_time": 0.1871139447
                      },
                      {
                        "learn": [
                          0.2764680407
                        ],
                        "iteration": 124,
                        "passed_time": 0.02664121118,
                        "remaining_time": 0.1864884783
                      },
                      {
                        "learn": [
                          0.2733201176
                        ],
                        "iteration": 125,
                        "passed_time": 0.02680637538,
                        "remaining_time": 0.1859426355
                      },
                      {
                        "learn": [
                          0.2706541556
                        ],
                        "iteration": 126,
                        "passed_time": 0.02699699406,
                        "remaining_time": 0.1855777623
                      },
                      {
                        "learn": [
                          0.2682941301
                        ],
                        "iteration": 127,
                        "passed_time": 0.02714310829,
                        "remaining_time": 0.1849124252
                      },
                      {
                        "learn": [
                          0.2659644616
                        ],
                        "iteration": 128,
                        "passed_time": 0.02730299613,
                        "remaining_time": 0.1843481367
                      },
                      {
                        "learn": [
                          0.2640184298
                        ],
                        "iteration": 129,
                        "passed_time": 0.02748176575,
                        "remaining_time": 0.1839164323
                      },
                      {
                        "learn": [
                          0.2617524405
                        ],
                        "iteration": 130,
                        "passed_time": 0.02763292088,
                        "remaining_time": 0.1833054065
                      },
                      {
                        "learn": [
                          0.2595228903
                        ],
                        "iteration": 131,
                        "passed_time": 0.02778344056,
                        "remaining_time": 0.1826971697
                      },
                      {
                        "learn": [
                          0.2566915053
                        ],
                        "iteration": 132,
                        "passed_time": 0.02793067297,
                        "remaining_time": 0.182074387
                      },
                      {
                        "learn": [
                          0.2539137309
                        ],
                        "iteration": 133,
                        "passed_time": 0.02807714175,
                        "remaining_time": 0.1814537668
                      },
                      {
                        "learn": [
                          0.2517965477
                        ],
                        "iteration": 134,
                        "passed_time": 0.02822331144,
                        "remaining_time": 0.1808382548
                      },
                      {
                        "learn": [
                          0.2497101199
                        ],
                        "iteration": 135,
                        "passed_time": 0.02837062476,
                        "remaining_time": 0.1802369102
                      },
                      {
                        "learn": [
                          0.247059183
                        ],
                        "iteration": 136,
                        "passed_time": 0.02851847535,
                        "remaining_time": 0.1796455783
                      },
                      {
                        "learn": [
                          0.2444573057
                        ],
                        "iteration": 137,
                        "passed_time": 0.02867050048,
                        "remaining_time": 0.1790867494
                      },
                      {
                        "learn": [
                          0.2424384838
                        ],
                        "iteration": 138,
                        "passed_time": 0.02883375377,
                        "remaining_time": 0.1786033237
                      },
                      {
                        "learn": [
                          0.24047711
                        ],
                        "iteration": 139,
                        "passed_time": 0.02899669705,
                        "remaining_time": 0.1781225676
                      },
                      {
                        "learn": [
                          0.2379921652
                        ],
                        "iteration": 140,
                        "passed_time": 0.0291416322,
                        "remaining_time": 0.1775366103
                      },
                      {
                        "learn": [
                          0.2360640508
                        ],
                        "iteration": 141,
                        "passed_time": 0.02931966636,
                        "remaining_time": 0.1771568573
                      },
                      {
                        "learn": [
                          0.2339836232
                        ],
                        "iteration": 142,
                        "passed_time": 0.0295000478,
                        "remaining_time": 0.1767939927
                      },
                      {
                        "learn": [
                          0.2316145557
                        ],
                        "iteration": 143,
                        "passed_time": 0.02965159929,
                        "remaining_time": 0.1762622847
                      },
                      {
                        "learn": [
                          0.230092644
                        ],
                        "iteration": 144,
                        "passed_time": 0.02982967073,
                        "remaining_time": 0.1758921964
                      },
                      {
                        "learn": [
                          0.2277916717
                        ],
                        "iteration": 145,
                        "passed_time": 0.02997422769,
                        "remaining_time": 0.1753287017
                      },
                      {
                        "learn": [
                          0.2255311497
                        ],
                        "iteration": 146,
                        "passed_time": 0.03012277828,
                        "remaining_time": 0.1747940808
                      },
                      {
                        "learn": [
                          0.2233100974
                        ],
                        "iteration": 147,
                        "passed_time": 0.03026885706,
                        "remaining_time": 0.1742504474
                      },
                      {
                        "learn": [
                          0.2211275636
                        ],
                        "iteration": 148,
                        "passed_time": 0.03042390127,
                        "remaining_time": 0.1737633556
                      },
                      {
                        "learn": [
                          0.2194536542
                        ],
                        "iteration": 149,
                        "passed_time": 0.03059110455,
                        "remaining_time": 0.1733495925
                      },
                      {
                        "learn": [
                          0.2173360271
                        ],
                        "iteration": 150,
                        "passed_time": 0.0307511533,
                        "remaining_time": 0.1728988686
                      },
                      {
                        "learn": [
                          0.2159960676
                        ],
                        "iteration": 151,
                        "passed_time": 0.0309283611,
                        "remaining_time": 0.1725476988
                      },
                      {
                        "learn": [
                          0.2143846804
                        ],
                        "iteration": 152,
                        "passed_time": 0.03107487261,
                        "remaining_time": 0.1720288699
                      },
                      {
                        "learn": [
                          0.2123509495
                        ],
                        "iteration": 153,
                        "passed_time": 0.03122112593,
                        "remaining_time": 0.171513458
                      },
                      {
                        "learn": [
                          0.2103513663
                        ],
                        "iteration": 154,
                        "passed_time": 0.03137060652,
                        "remaining_time": 0.1710204033
                      },
                      {
                        "learn": [
                          0.2083851354
                        ],
                        "iteration": 155,
                        "passed_time": 0.03151981711,
                        "remaining_time": 0.1705302926
                      },
                      {
                        "learn": [
                          0.206870753
                        ],
                        "iteration": 156,
                        "passed_time": 0.03169481128,
                        "remaining_time": 0.1701829676
                      },
                      {
                        "learn": [
                          0.2052269991
                        ],
                        "iteration": 157,
                        "passed_time": 0.03186992636,
                        "remaining_time": 0.1698384683
                      },
                      {
                        "learn": [
                          0.2040160454
                        ],
                        "iteration": 158,
                        "passed_time": 0.03204516599,
                        "remaining_time": 0.1694967585
                      },
                      {
                        "learn": [
                          0.2025574422
                        ],
                        "iteration": 159,
                        "passed_time": 0.03219241113,
                        "remaining_time": 0.1690101584
                      },
                      {
                        "learn": [
                          0.2007165949
                        ],
                        "iteration": 160,
                        "passed_time": 0.03233733354,
                        "remaining_time": 0.1685156698
                      },
                      {
                        "learn": [
                          0.1989055103
                        ],
                        "iteration": 161,
                        "passed_time": 0.03248827686,
                        "remaining_time": 0.168056642
                      },
                      {
                        "learn": [
                          0.1975081545
                        ],
                        "iteration": 162,
                        "passed_time": 0.03283672975,
                        "remaining_time": 0.1686156
                      },
                      {
                        "learn": [
                          0.19574745
                        ],
                        "iteration": 163,
                        "passed_time": 0.0330362875,
                        "remaining_time": 0.1684044899
                      },
                      {
                        "learn": [
                          0.1940147331
                        ],
                        "iteration": 164,
                        "passed_time": 0.0331915599,
                        "remaining_time": 0.1679694092
                      },
                      {
                        "learn": [
                          0.1923093831
                        ],
                        "iteration": 165,
                        "passed_time": 0.03334480502,
                        "remaining_time": 0.1675275144
                      },
                      {
                        "learn": [
                          0.1909918387
                        ],
                        "iteration": 166,
                        "passed_time": 0.03349902651,
                        "remaining_time": 0.1670939466
                      },
                      {
                        "learn": [
                          0.1896912469
                        ],
                        "iteration": 167,
                        "passed_time": 0.03368432612,
                        "remaining_time": 0.166817615
                      },
                      {
                        "learn": [
                          0.1880515592
                        ],
                        "iteration": 168,
                        "passed_time": 0.03385004758,
                        "remaining_time": 0.1664460919
                      },
                      {
                        "learn": [
                          0.187012552
                        ],
                        "iteration": 169,
                        "passed_time": 0.03404315989,
                        "remaining_time": 0.1662107218
                      },
                      {
                        "learn": [
                          0.1854136396
                        ],
                        "iteration": 170,
                        "passed_time": 0.03420058501,
                        "remaining_time": 0.1658028361
                      },
                      {
                        "learn": [
                          0.1838392209
                        ],
                        "iteration": 171,
                        "passed_time": 0.03438646098,
                        "remaining_time": 0.1655348238
                      },
                      {
                        "learn": [
                          0.182621508
                        ],
                        "iteration": 172,
                        "passed_time": 0.03454203246,
                        "remaining_time": 0.1651228951
                      },
                      {
                        "learn": [
                          0.1814183621
                        ],
                        "iteration": 173,
                        "passed_time": 0.03482406459,
                        "remaining_time": 0.1653142376
                      },
                      {
                        "learn": [
                          0.1802085315
                        ],
                        "iteration": 174,
                        "passed_time": 0.03499631149,
                        "remaining_time": 0.1649826113
                      },
                      {
                        "learn": [
                          0.1787103596
                        ],
                        "iteration": 175,
                        "passed_time": 0.03515038571,
                        "remaining_time": 0.1645677149
                      },
                      {
                        "learn": [
                          0.1774430246
                        ],
                        "iteration": 176,
                        "passed_time": 0.03539560973,
                        "remaining_time": 0.1645795865
                      },
                      {
                        "learn": [
                          0.1762988053
                        ],
                        "iteration": 177,
                        "passed_time": 0.03558804022,
                        "remaining_time": 0.16434477
                      },
                      {
                        "learn": [
                          0.1751673388
                        ],
                        "iteration": 178,
                        "passed_time": 0.0357537426,
                        "remaining_time": 0.1639878362
                      },
                      {
                        "learn": [
                          0.1740295768
                        ],
                        "iteration": 179,
                        "passed_time": 0.03593467948,
                        "remaining_time": 0.1637024288
                      },
                      {
                        "learn": [
                          0.1729052758
                        ],
                        "iteration": 180,
                        "passed_time": 0.03615537628,
                        "remaining_time": 0.1635980838
                      },
                      {
                        "learn": [
                          0.1715123274
                        ],
                        "iteration": 181,
                        "passed_time": 0.03635004223,
                        "remaining_time": 0.1633754645
                      },
                      {
                        "learn": [
                          0.1706107565
                        ],
                        "iteration": 182,
                        "passed_time": 0.03656075905,
                        "remaining_time": 0.1632248095
                      },
                      {
                        "learn": [
                          0.169525536
                        ],
                        "iteration": 183,
                        "passed_time": 0.03671518509,
                        "remaining_time": 0.1628238643
                      },
                      {
                        "learn": [
                          0.1681804086
                        ],
                        "iteration": 184,
                        "passed_time": 0.03690077651,
                        "remaining_time": 0.1625628803
                      },
                      {
                        "learn": [
                          0.1668545829
                        ],
                        "iteration": 185,
                        "passed_time": 0.0370576389,
                        "remaining_time": 0.1621769788
                      },
                      {
                        "learn": [
                          0.1655476684
                        ],
                        "iteration": 186,
                        "passed_time": 0.03722400036,
                        "remaining_time": 0.1618348251
                      },
                      {
                        "learn": [
                          0.1646751847
                        ],
                        "iteration": 187,
                        "passed_time": 0.03741122178,
                        "remaining_time": 0.1615846387
                      },
                      {
                        "learn": [
                          0.1633981173
                        ],
                        "iteration": 188,
                        "passed_time": 0.03756765053,
                        "remaining_time": 0.1612029872
                      },
                      {
                        "learn": [
                          0.1621390021
                        ],
                        "iteration": 189,
                        "passed_time": 0.03774511379,
                        "remaining_time": 0.1609133798
                      },
                      {
                        "learn": [
                          0.1608974826
                        ],
                        "iteration": 190,
                        "passed_time": 0.03790274436,
                        "remaining_time": 0.1605409434
                      },
                      {
                        "learn": [
                          0.1599192063
                        ],
                        "iteration": 191,
                        "passed_time": 0.03805581949,
                        "remaining_time": 0.1601515737
                      },
                      {
                        "learn": [
                          0.1587078714
                        ],
                        "iteration": 192,
                        "passed_time": 0.03821754187,
                        "remaining_time": 0.1598008098
                      },
                      {
                        "learn": [
                          0.1577533836
                        ],
                        "iteration": 193,
                        "passed_time": 0.03839355513,
                        "remaining_time": 0.1595113682
                      },
                      {
                        "learn": [
                          0.1567389099
                        ],
                        "iteration": 194,
                        "passed_time": 0.03858122746,
                        "remaining_time": 0.159271221
                      },
                      {
                        "learn": [
                          0.1555707666
                        ],
                        "iteration": 195,
                        "passed_time": 0.03873542076,
                        "remaining_time": 0.158894277
                      },
                      {
                        "learn": [
                          0.1546494193
                        ],
                        "iteration": 196,
                        "passed_time": 0.03892632672,
                        "remaining_time": 0.1586692404
                      },
                      {
                        "learn": [
                          0.1537507535
                        ],
                        "iteration": 197,
                        "passed_time": 0.03907863457,
                        "remaining_time": 0.1582882067
                      },
                      {
                        "learn": [
                          0.1526218713
                        ],
                        "iteration": 198,
                        "passed_time": 0.03924589331,
                        "remaining_time": 0.157969651
                      },
                      {
                        "learn": [
                          0.1515080916
                        ],
                        "iteration": 199,
                        "passed_time": 0.03940173843,
                        "remaining_time": 0.1576069537
                      },
                      {
                        "learn": [
                          0.1505659847
                        ],
                        "iteration": 200,
                        "passed_time": 0.03969963052,
                        "remaining_time": 0.1578109691
                      },
                      {
                        "learn": [
                          0.1497087042
                        ],
                        "iteration": 201,
                        "passed_time": 0.03991114734,
                        "remaining_time": 0.15766879
                      },
                      {
                        "learn": [
                          0.1486331631
                        ],
                        "iteration": 202,
                        "passed_time": 0.04008570424,
                        "remaining_time": 0.1573808191
                      },
                      {
                        "learn": [
                          0.147795615
                        ],
                        "iteration": 203,
                        "passed_time": 0.04026923203,
                        "remaining_time": 0.1571289642
                      },
                      {
                        "learn": [
                          0.1469544053
                        ],
                        "iteration": 204,
                        "passed_time": 0.04150500029,
                        "remaining_time": 0.1609584158
                      },
                      {
                        "learn": [
                          0.1461339653
                        ],
                        "iteration": 205,
                        "passed_time": 0.04196758839,
                        "remaining_time": 0.1617585689
                      },
                      {
                        "learn": [
                          0.1451035925
                        ],
                        "iteration": 206,
                        "passed_time": 0.04242244378,
                        "remaining_time": 0.1625168982
                      },
                      {
                        "learn": [
                          0.1444350685
                        ],
                        "iteration": 207,
                        "passed_time": 0.04291823363,
                        "remaining_time": 0.1634194281
                      },
                      {
                        "learn": [
                          0.1436280209
                        ],
                        "iteration": 208,
                        "passed_time": 0.04336537177,
                        "remaining_time": 0.1641244453
                      },
                      {
                        "learn": [
                          0.1429476184
                        ],
                        "iteration": 209,
                        "passed_time": 0.04396382958,
                        "remaining_time": 0.1653877398
                      },
                      {
                        "learn": [
                          0.1423073497
                        ],
                        "iteration": 210,
                        "passed_time": 0.04413083286,
                        "remaining_time": 0.1650200338
                      },
                      {
                        "learn": [
                          0.1416724961
                        ],
                        "iteration": 211,
                        "passed_time": 0.04457012101,
                        "remaining_time": 0.1656662988
                      },
                      {
                        "learn": [
                          0.1408366139
                        ],
                        "iteration": 212,
                        "passed_time": 0.04473369066,
                        "remaining_time": 0.1652836364
                      },
                      {
                        "learn": [
                          0.139872015
                        ],
                        "iteration": 213,
                        "passed_time": 0.04511004076,
                        "remaining_time": 0.1656845422
                      },
                      {
                        "learn": [
                          0.1389195377
                        ],
                        "iteration": 214,
                        "passed_time": 0.04524324593,
                        "remaining_time": 0.1651904561
                      },
                      {
                        "learn": [
                          0.1379789649
                        ],
                        "iteration": 215,
                        "passed_time": 0.04539870287,
                        "remaining_time": 0.1647804771
                      },
                      {
                        "learn": [
                          0.1372450377
                        ],
                        "iteration": 216,
                        "passed_time": 0.04554917619,
                        "remaining_time": 0.1643548615
                      },
                      {
                        "learn": [
                          0.1365182622
                        ],
                        "iteration": 217,
                        "passed_time": 0.04578048296,
                        "remaining_time": 0.1642217325
                      },
                      {
                        "learn": [
                          0.1356066312
                        ],
                        "iteration": 218,
                        "passed_time": 0.04596642711,
                        "remaining_time": 0.1639259341
                      },
                      {
                        "learn": [
                          0.1350251001
                        ],
                        "iteration": 219,
                        "passed_time": 0.0461813812,
                        "remaining_time": 0.1637339879
                      },
                      {
                        "learn": [
                          0.1342603282
                        ],
                        "iteration": 220,
                        "passed_time": 0.04690007966,
                        "remaining_time": 0.1653174754
                      },
                      {
                        "learn": [
                          0.1335513511
                        ],
                        "iteration": 221,
                        "passed_time": 0.04743217125,
                        "remaining_time": 0.1662262578
                      },
                      {
                        "learn": [
                          0.1326754444
                        ],
                        "iteration": 222,
                        "passed_time": 0.04757181913,
                        "remaining_time": 0.1657547241
                      },
                      {
                        "learn": [
                          0.1318101154
                        ],
                        "iteration": 223,
                        "passed_time": 0.0477236179,
                        "remaining_time": 0.1653282477
                      },
                      {
                        "learn": [
                          0.1311243917
                        ],
                        "iteration": 224,
                        "passed_time": 0.04792284929,
                        "remaining_time": 0.165067592
                      },
                      {
                        "learn": [
                          0.1302773198
                        ],
                        "iteration": 225,
                        "passed_time": 0.04808832166,
                        "remaining_time": 0.1646918627
                      },
                      {
                        "learn": [
                          0.1296149544
                        ],
                        "iteration": 226,
                        "passed_time": 0.04826543037,
                        "remaining_time": 0.1643576109
                      },
                      {
                        "learn": [
                          0.128958986
                        ],
                        "iteration": 227,
                        "passed_time": 0.04843058548,
                        "remaining_time": 0.1639842631
                      },
                      {
                        "learn": [
                          0.128136929
                        ],
                        "iteration": 228,
                        "passed_time": 0.04860628328,
                        "remaining_time": 0.1636482289
                      },
                      {
                        "learn": [
                          0.1273245458
                        ],
                        "iteration": 229,
                        "passed_time": 0.04878358745,
                        "remaining_time": 0.1633189667
                      },
                      {
                        "learn": [
                          0.1265216736
                        ],
                        "iteration": 230,
                        "passed_time": 0.04894732619,
                        "remaining_time": 0.1629458608
                      },
                      {
                        "learn": [
                          0.1257281529
                        ],
                        "iteration": 231,
                        "passed_time": 0.04912421945,
                        "remaining_time": 0.1626181058
                      },
                      {
                        "learn": [
                          0.1249438277
                        ],
                        "iteration": 232,
                        "passed_time": 0.04927331004,
                        "remaining_time": 0.1622001236
                      },
                      {
                        "learn": [
                          0.1243295243
                        ],
                        "iteration": 233,
                        "passed_time": 0.04967188827,
                        "remaining_time": 0.1626011385
                      },
                      {
                        "learn": [
                          0.1238015772
                        ],
                        "iteration": 234,
                        "passed_time": 0.0498997987,
                        "remaining_time": 0.1624397702
                      },
                      {
                        "learn": [
                          0.1232780808
                        ],
                        "iteration": 235,
                        "passed_time": 0.05011102915,
                        "remaining_time": 0.1622238401
                      },
                      {
                        "learn": [
                          0.1225206642
                        ],
                        "iteration": 236,
                        "passed_time": 0.05047103384,
                        "remaining_time": 0.1624869148
                      },
                      {
                        "learn": [
                          0.1219283113
                        ],
                        "iteration": 237,
                        "passed_time": 0.05090231019,
                        "remaining_time": 0.1629729427
                      },
                      {
                        "learn": [
                          0.1213413277
                        ],
                        "iteration": 238,
                        "passed_time": 0.05134505288,
                        "remaining_time": 0.1634878043
                      },
                      {
                        "learn": [
                          0.1208654447
                        ],
                        "iteration": 239,
                        "passed_time": 0.05183266092,
                        "remaining_time": 0.1641367596
                      },
                      {
                        "learn": [
                          0.1203645702
                        ],
                        "iteration": 240,
                        "passed_time": 0.05235182709,
                        "remaining_time": 0.1648756712
                      },
                      {
                        "learn": [
                          0.1197430679
                        ],
                        "iteration": 241,
                        "passed_time": 0.05315874809,
                        "remaining_time": 0.1665055002
                      },
                      {
                        "learn": [
                          0.1191665812
                        ],
                        "iteration": 242,
                        "passed_time": 0.05360432168,
                        "remaining_time": 0.1669895947
                      },
                      {
                        "learn": [
                          0.1184541163
                        ],
                        "iteration": 243,
                        "passed_time": 0.05405624526,
                        "remaining_time": 0.1674857435
                      },
                      {
                        "learn": [
                          0.1177495624
                        ],
                        "iteration": 244,
                        "passed_time": 0.05450781338,
                        "remaining_time": 0.1679730576
                      },
                      {
                        "learn": [
                          0.1172990985
                        ],
                        "iteration": 245,
                        "passed_time": 0.05499616779,
                        "remaining_time": 0.1685654899
                      },
                      {
                        "learn": [
                          0.1166071095
                        ],
                        "iteration": 246,
                        "passed_time": 0.05543746685,
                        "remaining_time": 0.1690057188
                      },
                      {
                        "learn": [
                          0.1160650614
                        ],
                        "iteration": 247,
                        "passed_time": 0.05592038309,
                        "remaining_time": 0.1695650326
                      },
                      {
                        "learn": [
                          0.1155202513
                        ],
                        "iteration": 248,
                        "passed_time": 0.05636585577,
                        "remaining_time": 0.1700030429
                      },
                      {
                        "learn": [
                          0.1149875424
                        ],
                        "iteration": 249,
                        "passed_time": 0.05680892482,
                        "remaining_time": 0.1704267745
                      },
                      {
                        "learn": [
                          0.1144598401
                        ],
                        "iteration": 250,
                        "passed_time": 0.05726183567,
                        "remaining_time": 0.1708729678
                      },
                      {
                        "learn": [
                          0.1139367014
                        ],
                        "iteration": 251,
                        "passed_time": 0.05772118469,
                        "remaining_time": 0.1713311355
                      },
                      {
                        "learn": [
                          0.1134174323
                        ],
                        "iteration": 252,
                        "passed_time": 0.05818305461,
                        "remaining_time": 0.1717894933
                      },
                      {
                        "learn": [
                          0.1127661042
                        ],
                        "iteration": 253,
                        "passed_time": 0.0586356691,
                        "remaining_time": 0.1722134218
                      },
                      {
                        "learn": [
                          0.1123495651
                        ],
                        "iteration": 254,
                        "passed_time": 0.0591192117,
                        "remaining_time": 0.1727208342
                      },
                      {
                        "learn": [
                          0.1118361435
                        ],
                        "iteration": 255,
                        "passed_time": 0.0596063852,
                        "remaining_time": 0.173231057
                      },
                      {
                        "learn": [
                          0.1114012144
                        ],
                        "iteration": 256,
                        "passed_time": 0.06012846409,
                        "remaining_time": 0.1738344312
                      },
                      {
                        "learn": [
                          0.1109937841
                        ],
                        "iteration": 257,
                        "passed_time": 0.06061300941,
                        "remaining_time": 0.1743211356
                      },
                      {
                        "learn": [
                          0.1103673654
                        ],
                        "iteration": 258,
                        "passed_time": 0.06106829662,
                        "remaining_time": 0.1747166324
                      },
                      {
                        "learn": [
                          0.10974755
                        ],
                        "iteration": 259,
                        "passed_time": 0.06152977472,
                        "remaining_time": 0.175123205
                      },
                      {
                        "learn": [
                          0.1092624726
                        ],
                        "iteration": 260,
                        "passed_time": 0.06199216828,
                        "remaining_time": 0.1755257178
                      },
                      {
                        "learn": [
                          0.1086540085
                        ],
                        "iteration": 261,
                        "passed_time": 0.06248365086,
                        "remaining_time": 0.1760035662
                      },
                      {
                        "learn": [
                          0.1081783969
                        ],
                        "iteration": 262,
                        "passed_time": 0.06304252421,
                        "remaining_time": 0.176662891
                      },
                      {
                        "learn": [
                          0.1075809832
                        ],
                        "iteration": 263,
                        "passed_time": 0.06347459511,
                        "remaining_time": 0.1769594773
                      },
                      {
                        "learn": [
                          0.1071066609
                        ],
                        "iteration": 264,
                        "passed_time": 0.06393577867,
                        "remaining_time": 0.1773313106
                      },
                      {
                        "learn": [
                          0.1066363109
                        ],
                        "iteration": 265,
                        "passed_time": 0.06438132953,
                        "remaining_time": 0.1776537439
                      },
                      {
                        "learn": [
                          0.1061376532
                        ],
                        "iteration": 266,
                        "passed_time": 0.06489070935,
                        "remaining_time": 0.1781456553
                      },
                      {
                        "learn": [
                          0.1058248494
                        ],
                        "iteration": 267,
                        "passed_time": 0.06539635554,
                        "remaining_time": 0.1786198965
                      },
                      {
                        "learn": [
                          0.1053715681
                        ],
                        "iteration": 268,
                        "passed_time": 0.0658770827,
                        "remaining_time": 0.1790191355
                      },
                      {
                        "learn": [
                          0.1048838797
                        ],
                        "iteration": 269,
                        "passed_time": 0.06638052162,
                        "remaining_time": 0.1794732622
                      },
                      {
                        "learn": [
                          0.1044379119
                        ],
                        "iteration": 270,
                        "passed_time": 0.06682835793,
                        "remaining_time": 0.1797707488
                      },
                      {
                        "learn": [
                          0.1039584045
                        ],
                        "iteration": 271,
                        "passed_time": 0.06733334776,
                        "remaining_time": 0.1802157249
                      },
                      {
                        "learn": [
                          0.103519581
                        ],
                        "iteration": 272,
                        "passed_time": 0.06778086589,
                        "remaining_time": 0.1805006942
                      },
                      {
                        "learn": [
                          0.1030842758
                        ],
                        "iteration": 273,
                        "passed_time": 0.06824364854,
                        "remaining_time": 0.1808207622
                      },
                      {
                        "learn": [
                          0.1026524481
                        ],
                        "iteration": 274,
                        "passed_time": 0.06870465301,
                        "remaining_time": 0.1811304488
                      },
                      {
                        "learn": [
                          0.1022170598
                        ],
                        "iteration": 275,
                        "passed_time": 0.06916834474,
                        "remaining_time": 0.1814416
                      },
                      {
                        "learn": [
                          0.1016784726
                        ],
                        "iteration": 276,
                        "passed_time": 0.06961798106,
                        "remaining_time": 0.1817104704
                      },
                      {
                        "learn": [
                          0.101145215
                        ],
                        "iteration": 277,
                        "passed_time": 0.07006456737,
                        "remaining_time": 0.1819662505
                      },
                      {
                        "learn": [
                          0.1006932
                        ],
                        "iteration": 278,
                        "passed_time": 0.07057955536,
                        "remaining_time": 0.1823937613
                      },
                      {
                        "learn": [
                          0.1001696883
                        ],
                        "iteration": 279,
                        "passed_time": 0.07102904258,
                        "remaining_time": 0.1826461095
                      },
                      {
                        "learn": [
                          0.09965128997
                        ],
                        "iteration": 280,
                        "passed_time": 0.07148382525,
                        "remaining_time": 0.1829070119
                      },
                      {
                        "learn": [
                          0.09913793279
                        ],
                        "iteration": 281,
                        "passed_time": 0.07192432521,
                        "remaining_time": 0.1831264734
                      },
                      {
                        "learn": [
                          0.09880939492
                        ],
                        "iteration": 282,
                        "passed_time": 0.07258707925,
                        "remaining_time": 0.1839043669
                      },
                      {
                        "learn": [
                          0.09830406586
                        ],
                        "iteration": 283,
                        "passed_time": 0.07307136003,
                        "remaining_time": 0.1842221612
                      },
                      {
                        "learn": [
                          0.09790691603
                        ],
                        "iteration": 284,
                        "passed_time": 0.07354757083,
                        "remaining_time": 0.1845140812
                      },
                      {
                        "learn": [
                          0.09748213956
                        ],
                        "iteration": 285,
                        "passed_time": 0.07406113155,
                        "remaining_time": 0.1848938739
                      },
                      {
                        "learn": [
                          0.09709205981
                        ],
                        "iteration": 286,
                        "passed_time": 0.07453794689,
                        "remaining_time": 0.1851761538
                      },
                      {
                        "learn": [
                          0.09660289639
                        ],
                        "iteration": 287,
                        "passed_time": 0.07498668775,
                        "remaining_time": 0.1853837558
                      },
                      {
                        "learn": [
                          0.09611837088
                        ],
                        "iteration": 288,
                        "passed_time": 0.07546500309,
                        "remaining_time": 0.1856595751
                      },
                      {
                        "learn": [
                          0.09573210915
                        ],
                        "iteration": 289,
                        "passed_time": 0.0759301821,
                        "remaining_time": 0.185898032
                      },
                      {
                        "learn": [
                          0.09535487411
                        ],
                        "iteration": 290,
                        "passed_time": 0.07644441645,
                        "remaining_time": 0.1862511727
                      },
                      {
                        "learn": [
                          0.09498047995
                        ],
                        "iteration": 291,
                        "passed_time": 0.07691400454,
                        "remaining_time": 0.1864901206
                      },
                      {
                        "learn": [
                          0.09460889562
                        ],
                        "iteration": 292,
                        "passed_time": 0.07741207165,
                        "remaining_time": 0.1867929511
                      },
                      {
                        "learn": [
                          0.09421003088
                        ],
                        "iteration": 293,
                        "passed_time": 0.07790540423,
                        "remaining_time": 0.1870789639
                      },
                      {
                        "learn": [
                          0.09374738519
                        ],
                        "iteration": 294,
                        "passed_time": 0.07835527963,
                        "remaining_time": 0.1872558378
                      },
                      {
                        "learn": [
                          0.09328902288
                        ],
                        "iteration": 295,
                        "passed_time": 0.0788006705,
                        "remaining_time": 0.1874178109
                      },
                      {
                        "learn": [
                          0.09292344235
                        ],
                        "iteration": 296,
                        "passed_time": 0.07942116735,
                        "remaining_time": 0.1879901705
                      },
                      {
                        "learn": [
                          0.09256524931
                        ],
                        "iteration": 297,
                        "passed_time": 0.07992031447,
                        "remaining_time": 0.1882686603
                      },
                      {
                        "learn": [
                          0.09227471776
                        ],
                        "iteration": 298,
                        "passed_time": 0.08042030704,
                        "remaining_time": 0.1885439305
                      },
                      {
                        "learn": [
                          0.09182951635
                        ],
                        "iteration": 299,
                        "passed_time": 0.08090179055,
                        "remaining_time": 0.1887708446
                      },
                      {
                        "learn": [
                          0.09154439564
                        ],
                        "iteration": 300,
                        "passed_time": 0.08142199035,
                        "remaining_time": 0.189082961
                      },
                      {
                        "learn": [
                          0.09119708407
                        ],
                        "iteration": 301,
                        "passed_time": 0.08187202575,
                        "remaining_time": 0.1892273973
                      },
                      {
                        "learn": [
                          0.09084647003
                        ],
                        "iteration": 302,
                        "passed_time": 0.08231717207,
                        "remaining_time": 0.1893566631
                      },
                      {
                        "learn": [
                          0.09050297554
                        ],
                        "iteration": 303,
                        "passed_time": 0.08276805928,
                        "remaining_time": 0.1894952936
                      },
                      {
                        "learn": [
                          0.09013570598
                        ],
                        "iteration": 304,
                        "passed_time": 0.08326184641,
                        "remaining_time": 0.189727814
                      },
                      {
                        "learn": [
                          0.08970941349
                        ],
                        "iteration": 305,
                        "passed_time": 0.08372038452,
                        "remaining_time": 0.1898756433
                      },
                      {
                        "learn": [
                          0.08934852343
                        ],
                        "iteration": 306,
                        "passed_time": 0.08420709893,
                        "remaining_time": 0.1900831256
                      },
                      {
                        "learn": [
                          0.08892929549
                        ],
                        "iteration": 307,
                        "passed_time": 0.0846633525,
                        "remaining_time": 0.1902176621
                      },
                      {
                        "learn": [
                          0.08851378638
                        ],
                        "iteration": 308,
                        "passed_time": 0.08512518697,
                        "remaining_time": 0.190360855
                      },
                      {
                        "learn": [
                          0.08818723827
                        ],
                        "iteration": 309,
                        "passed_time": 0.08558451417,
                        "remaining_time": 0.1904945638
                      },
                      {
                        "learn": [
                          0.08777815666
                        ],
                        "iteration": 310,
                        "passed_time": 0.08602421232,
                        "remaining_time": 0.190580972
                      },
                      {
                        "learn": [
                          0.08749734981
                        ],
                        "iteration": 311,
                        "passed_time": 0.08651908944,
                        "remaining_time": 0.1907856844
                      },
                      {
                        "learn": [
                          0.08709414138
                        ],
                        "iteration": 312,
                        "passed_time": 0.0870030075,
                        "remaining_time": 0.1909618727
                      },
                      {
                        "learn": [
                          0.08669444992
                        ],
                        "iteration": 313,
                        "passed_time": 0.08766786698,
                        "remaining_time": 0.1915291616
                      },
                      {
                        "learn": [
                          0.08629823078
                        ],
                        "iteration": 314,
                        "passed_time": 0.08822033944,
                        "remaining_time": 0.1918442302
                      },
                      {
                        "learn": [
                          0.08590544005
                        ],
                        "iteration": 315,
                        "passed_time": 0.08869255843,
                        "remaining_time": 0.1919800948
                      },
                      {
                        "learn": [
                          0.08551603454
                        ],
                        "iteration": 316,
                        "passed_time": 0.08921699367,
                        "remaining_time": 0.1922246267
                      },
                      {
                        "learn": [
                          0.08520455561
                        ],
                        "iteration": 317,
                        "passed_time": 0.09353274807,
                        "remaining_time": 0.2005953905
                      },
                      {
                        "learn": [
                          0.08489924295
                        ],
                        "iteration": 318,
                        "passed_time": 0.09407599782,
                        "remaining_time": 0.2008330863
                      },
                      {
                        "learn": [
                          0.08451824368
                        ],
                        "iteration": 319,
                        "passed_time": 0.09450737599,
                        "remaining_time": 0.200828174
                      },
                      {
                        "learn": [
                          0.08414048479
                        ],
                        "iteration": 320,
                        "passed_time": 0.09490908149,
                        "remaining_time": 0.200757839
                      },
                      {
                        "learn": [
                          0.08384223526
                        ],
                        "iteration": 321,
                        "passed_time": 0.09529992066,
                        "remaining_time": 0.2006625659
                      },
                      {
                        "learn": [
                          0.08354204256
                        ],
                        "iteration": 322,
                        "passed_time": 0.09574154971,
                        "remaining_time": 0.2006719169
                      },
                      {
                        "learn": [
                          0.08317233282
                        ],
                        "iteration": 323,
                        "passed_time": 0.09617688332,
                        "remaining_time": 0.2006653492
                      },
                      {
                        "learn": [
                          0.08287664079
                        ],
                        "iteration": 324,
                        "passed_time": 0.09666120683,
                        "remaining_time": 0.2007578911
                      },
                      {
                        "learn": [
                          0.08251241409
                        ],
                        "iteration": 325,
                        "passed_time": 0.0970992459,
                        "remaining_time": 0.2007512016
                      },
                      {
                        "learn": [
                          0.08215122495
                        ],
                        "iteration": 326,
                        "passed_time": 0.09747482146,
                        "remaining_time": 0.2006133176
                      },
                      {
                        "learn": [
                          0.08179303641
                        ],
                        "iteration": 327,
                        "passed_time": 0.09797733402,
                        "remaining_time": 0.2007340502
                      },
                      {
                        "learn": [
                          0.08148980946
                        ],
                        "iteration": 328,
                        "passed_time": 0.09852059922,
                        "remaining_time": 0.2009341097
                      },
                      {
                        "learn": [
                          0.08113711496
                        ],
                        "iteration": 329,
                        "passed_time": 0.0989710028,
                        "remaining_time": 0.2009411269
                      },
                      {
                        "learn": [
                          0.08083872186
                        ],
                        "iteration": 330,
                        "passed_time": 0.09943088818,
                        "remaining_time": 0.2009645444
                      },
                      {
                        "learn": [
                          0.08056246366
                        ],
                        "iteration": 331,
                        "passed_time": 0.09988963538,
                        "remaining_time": 0.2009827603
                      },
                      {
                        "learn": [
                          0.08028717226
                        ],
                        "iteration": 332,
                        "passed_time": 0.1014492102,
                        "remaining_time": 0.2032030727
                      },
                      {
                        "learn": [
                          0.08001012572
                        ],
                        "iteration": 333,
                        "passed_time": 0.10196264,
                        "remaining_time": 0.2033147253
                      },
                      {
                        "learn": [
                          0.07973922402
                        ],
                        "iteration": 334,
                        "passed_time": 0.1024034127,
                        "remaining_time": 0.2032784163
                      },
                      {
                        "learn": [
                          0.0795197898
                        ],
                        "iteration": 335,
                        "passed_time": 0.1028776481,
                        "remaining_time": 0.2033058283
                      },
                      {
                        "learn": [
                          0.07928551062
                        ],
                        "iteration": 336,
                        "passed_time": 0.1033988979,
                        "remaining_time": 0.2034227575
                      },
                      {
                        "learn": [
                          0.07905265816
                        ],
                        "iteration": 337,
                        "passed_time": 0.1039366295,
                        "remaining_time": 0.2035681914
                      },
                      {
                        "learn": [
                          0.07871914103
                        ],
                        "iteration": 338,
                        "passed_time": 0.1044053212,
                        "remaining_time": 0.2035749773
                      },
                      {
                        "learn": [
                          0.07838830103
                        ],
                        "iteration": 339,
                        "passed_time": 0.1048197303,
                        "remaining_time": 0.2034735941
                      },
                      {
                        "learn": [
                          0.07817575532
                        ],
                        "iteration": 340,
                        "passed_time": 0.1052532357,
                        "remaining_time": 0.2034072796
                      },
                      {
                        "learn": [
                          0.07791556797
                        ],
                        "iteration": 341,
                        "passed_time": 0.1056847466,
                        "remaining_time": 0.2033349803
                      },
                      {
                        "learn": [
                          0.07759099912
                        ],
                        "iteration": 342,
                        "passed_time": 0.1060771976,
                        "remaining_time": 0.2031857692
                      },
                      {
                        "learn": [
                          0.0772690044
                        ],
                        "iteration": 343,
                        "passed_time": 0.1064683431,
                        "remaining_time": 0.2030326543
                      },
                      {
                        "learn": [
                          0.0769963985
                        ],
                        "iteration": 344,
                        "passed_time": 0.1068984322,
                        "remaining_time": 0.2029520959
                      },
                      {
                        "learn": [
                          0.07674012662
                        ],
                        "iteration": 345,
                        "passed_time": 0.107399592,
                        "remaining_time": 0.2030038532
                      },
                      {
                        "learn": [
                          0.07648873503
                        ],
                        "iteration": 346,
                        "passed_time": 0.107847142,
                        "remaining_time": 0.2029515381
                      },
                      {
                        "learn": [
                          0.07622128537
                        ],
                        "iteration": 347,
                        "passed_time": 0.1082791038,
                        "remaining_time": 0.2028677462
                      },
                      {
                        "learn": [
                          0.0759099481
                        ],
                        "iteration": 348,
                        "passed_time": 0.1087207383,
                        "remaining_time": 0.2028000018
                      },
                      {
                        "learn": [
                          0.07560103376
                        ],
                        "iteration": 349,
                        "passed_time": 0.1091818137,
                        "remaining_time": 0.2027662254
                      },
                      {
                        "learn": [
                          0.07533969331
                        ],
                        "iteration": 350,
                        "passed_time": 0.1096979262,
                        "remaining_time": 0.2028317781
                      },
                      {
                        "learn": [
                          0.07508022951
                        ],
                        "iteration": 351,
                        "passed_time": 0.1104515428,
                        "remaining_time": 0.2033312492
                      },
                      {
                        "learn": [
                          0.07482262157
                        ],
                        "iteration": 352,
                        "passed_time": 0.1112665719,
                        "remaining_time": 0.2039361814
                      },
                      {
                        "learn": [
                          0.07452216532
                        ],
                        "iteration": 353,
                        "passed_time": 0.1117593236,
                        "remaining_time": 0.2039449804
                      },
                      {
                        "learn": [
                          0.07428387483
                        ],
                        "iteration": 354,
                        "passed_time": 0.1122587844,
                        "remaining_time": 0.2039631434
                      },
                      {
                        "learn": [
                          0.07398746641
                        ],
                        "iteration": 355,
                        "passed_time": 0.1127246397,
                        "remaining_time": 0.2039176067
                      },
                      {
                        "learn": [
                          0.07379682694
                        ],
                        "iteration": 356,
                        "passed_time": 0.113284084,
                        "remaining_time": 0.2040382801
                      },
                      {
                        "learn": [
                          0.07356286242
                        ],
                        "iteration": 357,
                        "passed_time": 0.1137769966,
                        "remaining_time": 0.204035843
                      },
                      {
                        "learn": [
                          0.07327181017
                        ],
                        "iteration": 358,
                        "passed_time": 0.1142329556,
                        "remaining_time": 0.2039646923
                      },
                      {
                        "learn": [
                          0.07308091184
                        ],
                        "iteration": 359,
                        "passed_time": 0.1147141818,
                        "remaining_time": 0.2039363233
                      },
                      {
                        "learn": [
                          0.07289400379
                        ],
                        "iteration": 360,
                        "passed_time": 0.1151925699,
                        "remaining_time": 0.2039004215
                      },
                      {
                        "learn": [
                          0.07266537559
                        ],
                        "iteration": 361,
                        "passed_time": 0.1157838977,
                        "remaining_time": 0.2040611236
                      },
                      {
                        "learn": [
                          0.07238091906
                        ],
                        "iteration": 362,
                        "passed_time": 0.1163810056,
                        "remaining_time": 0.2042278252
                      },
                      {
                        "learn": [
                          0.07215590558
                        ],
                        "iteration": 363,
                        "passed_time": 0.1168411437,
                        "remaining_time": 0.2041510093
                      },
                      {
                        "learn": [
                          0.07197404993
                        ],
                        "iteration": 364,
                        "passed_time": 0.1193066447,
                        "remaining_time": 0.2075608751
                      },
                      {
                        "learn": [
                          0.07169463772
                        ],
                        "iteration": 365,
                        "passed_time": 0.1197694692,
                        "remaining_time": 0.2074695177
                      },
                      {
                        "learn": [
                          0.07147301027
                        ],
                        "iteration": 366,
                        "passed_time": 0.1203277189,
                        "remaining_time": 0.207540725
                      },
                      {
                        "learn": [
                          0.07125331406
                        ],
                        "iteration": 367,
                        "passed_time": 0.1208717678,
                        "remaining_time": 0.2075841229
                      },
                      {
                        "learn": [
                          0.07103430939
                        ],
                        "iteration": 368,
                        "passed_time": 0.121361384,
                        "remaining_time": 0.2075312555
                      },
                      {
                        "learn": [
                          0.07084393013
                        ],
                        "iteration": 369,
                        "passed_time": 0.1219826572,
                        "remaining_time": 0.2077002001
                      },
                      {
                        "learn": [
                          0.07057257924
                        ],
                        "iteration": 370,
                        "passed_time": 0.1224369381,
                        "remaining_time": 0.2075817629
                      },
                      {
                        "learn": [
                          0.07035459808
                        ],
                        "iteration": 371,
                        "passed_time": 0.1228872035,
                        "remaining_time": 0.2074547413
                      },
                      {
                        "learn": [
                          0.07008676841
                        ],
                        "iteration": 372,
                        "passed_time": 0.1233337716,
                        "remaining_time": 0.2073197715
                      },
                      {
                        "learn": [
                          0.06987163262
                        ],
                        "iteration": 373,
                        "passed_time": 0.1237786152,
                        "remaining_time": 0.2071802489
                      },
                      {
                        "learn": [
                          0.06964643229
                        ],
                        "iteration": 374,
                        "passed_time": 0.124235946,
                        "remaining_time": 0.20705991
                      },
                      {
                        "learn": [
                          0.06943382325
                        ],
                        "iteration": 375,
                        "passed_time": 0.1247143505,
                        "remaining_time": 0.2069727518
                      },
                      {
                        "learn": [
                          0.06917257733
                        ],
                        "iteration": 376,
                        "passed_time": 0.1251577913,
                        "remaining_time": 0.20682574
                      },
                      {
                        "learn": [
                          0.0689132123
                        ],
                        "iteration": 377,
                        "passed_time": 0.1256002722,
                        "remaining_time": 0.2066755802
                      },
                      {
                        "learn": [
                          0.06873328867
                        ],
                        "iteration": 378,
                        "passed_time": 0.1260847548,
                        "remaining_time": 0.2065926985
                      },
                      {
                        "learn": [
                          0.06847698846
                        ],
                        "iteration": 379,
                        "passed_time": 0.126226389,
                        "remaining_time": 0.205948319
                      },
                      {
                        "learn": [
                          0.06831206488
                        ],
                        "iteration": 380,
                        "passed_time": 0.1267359816,
                        "remaining_time": 0.20590439
                      },
                      {
                        "learn": [
                          0.06813511079
                        ],
                        "iteration": 381,
                        "passed_time": 0.1272174387,
                        "remaining_time": 0.2058125056
                      },
                      {
                        "learn": [
                          0.06788295165
                        ],
                        "iteration": 382,
                        "passed_time": 0.1276583842,
                        "remaining_time": 0.2056533238
                      },
                      {
                        "learn": [
                          0.06763258011
                        ],
                        "iteration": 383,
                        "passed_time": 0.1278278583,
                        "remaining_time": 0.2050571894
                      },
                      {
                        "learn": [
                          0.0673839776
                        ],
                        "iteration": 384,
                        "passed_time": 0.1286850756,
                        "remaining_time": 0.205561874
                      },
                      {
                        "learn": [
                          0.06718418101
                        ],
                        "iteration": 385,
                        "passed_time": 0.1293778141,
                        "remaining_time": 0.2057978701
                      },
                      {
                        "learn": [
                          0.06697510527
                        ],
                        "iteration": 386,
                        "passed_time": 0.1298769676,
                        "remaining_time": 0.2057224319
                      },
                      {
                        "learn": [
                          0.06680449552
                        ],
                        "iteration": 387,
                        "passed_time": 0.1306356141,
                        "remaining_time": 0.206054113
                      },
                      {
                        "learn": [
                          0.06661046319
                        ],
                        "iteration": 388,
                        "passed_time": 0.1311247822,
                        "remaining_time": 0.2059569201
                      },
                      {
                        "learn": [
                          0.06647757194
                        ],
                        "iteration": 389,
                        "passed_time": 0.1316713765,
                        "remaining_time": 0.2059475376
                      },
                      {
                        "learn": [
                          0.06623683472
                        ],
                        "iteration": 390,
                        "passed_time": 0.1321943654,
                        "remaining_time": 0.2058986407
                      },
                      {
                        "learn": [
                          0.0659977695
                        ],
                        "iteration": 391,
                        "passed_time": 0.1327178342,
                        "remaining_time": 0.2058480694
                      },
                      {
                        "learn": [
                          0.06580814015
                        ],
                        "iteration": 392,
                        "passed_time": 0.1331993068,
                        "remaining_time": 0.2057302271
                      },
                      {
                        "learn": [
                          0.06560702571
                        ],
                        "iteration": 393,
                        "passed_time": 0.1336902903,
                        "remaining_time": 0.2056251674
                      },
                      {
                        "learn": [
                          0.06540719682
                        ],
                        "iteration": 394,
                        "passed_time": 0.13428099,
                        "remaining_time": 0.2056708834
                      },
                      {
                        "learn": [
                          0.06522115573
                        ],
                        "iteration": 395,
                        "passed_time": 0.1347792916,
                        "remaining_time": 0.2055724549
                      },
                      {
                        "learn": [
                          0.06498901796
                        ],
                        "iteration": 396,
                        "passed_time": 0.1352321225,
                        "remaining_time": 0.2054029468
                      },
                      {
                        "learn": [
                          0.06480231493
                        ],
                        "iteration": 397,
                        "passed_time": 0.1359514855,
                        "remaining_time": 0.2056351615
                      },
                      {
                        "learn": [
                          0.064607141
                        ],
                        "iteration": 398,
                        "passed_time": 0.1365334143,
                        "remaining_time": 0.2056555939
                      },
                      {
                        "learn": [
                          0.06442534804
                        ],
                        "iteration": 399,
                        "passed_time": 0.1370489522,
                        "remaining_time": 0.2055734284
                      },
                      {
                        "learn": [
                          0.06424455898
                        ],
                        "iteration": 400,
                        "passed_time": 0.1375156149,
                        "remaining_time": 0.2054160931
                      },
                      {
                        "learn": [
                          0.06406476562
                        ],
                        "iteration": 401,
                        "passed_time": 0.1379778721,
                        "remaining_time": 0.2052506654
                      },
                      {
                        "learn": [
                          0.06388595989
                        ],
                        "iteration": 402,
                        "passed_time": 0.1384692147,
                        "remaining_time": 0.2051268515
                      },
                      {
                        "learn": [
                          0.06370522458
                        ],
                        "iteration": 403,
                        "passed_time": 0.1389702409,
                        "remaining_time": 0.2050155038
                      },
                      {
                        "learn": [
                          0.06348309711
                        ],
                        "iteration": 404,
                        "passed_time": 0.1394228726,
                        "remaining_time": 0.2048311338
                      },
                      {
                        "learn": [
                          0.06326245797
                        ],
                        "iteration": 405,
                        "passed_time": 0.1398764262,
                        "remaining_time": 0.204646791
                      },
                      {
                        "learn": [
                          0.06308730274
                        ],
                        "iteration": 406,
                        "passed_time": 0.1403371598,
                        "remaining_time": 0.2044715866
                      },
                      {
                        "learn": [
                          0.06286926024
                        ],
                        "iteration": 407,
                        "passed_time": 0.1408866768,
                        "remaining_time": 0.2044238055
                      },
                      {
                        "learn": [
                          0.06268485241
                        ],
                        "iteration": 408,
                        "passed_time": 0.1413712312,
                        "remaining_time": 0.2042797008
                      },
                      {
                        "learn": [
                          0.06251321062
                        ],
                        "iteration": 409,
                        "passed_time": 0.1418533238,
                        "remaining_time": 0.2041303928
                      },
                      {
                        "learn": [
                          0.06234193958
                        ],
                        "iteration": 410,
                        "passed_time": 0.14235333,
                        "remaining_time": 0.2040051371
                      },
                      {
                        "learn": [
                          0.06219286642
                        ],
                        "iteration": 411,
                        "passed_time": 0.1428602234,
                        "remaining_time": 0.2038878917
                      },
                      {
                        "learn": [
                          0.06202108703
                        ],
                        "iteration": 412,
                        "passed_time": 0.1433817687,
                        "remaining_time": 0.2037895841
                      },
                      {
                        "learn": [
                          0.06187357427
                        ],
                        "iteration": 413,
                        "passed_time": 0.1439860574,
                        "remaining_time": 0.2038063518
                      },
                      {
                        "learn": [
                          0.06170623703
                        ],
                        "iteration": 414,
                        "passed_time": 0.1444443101,
                        "remaining_time": 0.2036142684
                      },
                      {
                        "learn": [
                          0.0615370709
                        ],
                        "iteration": 415,
                        "passed_time": 0.1449854607,
                        "remaining_time": 0.2035372814
                      },
                      {
                        "learn": [
                          0.06132891856
                        ],
                        "iteration": 416,
                        "passed_time": 0.1456841947,
                        "remaining_time": 0.2036783825
                      },
                      {
                        "learn": [
                          0.06119441175
                        ],
                        "iteration": 417,
                        "passed_time": 0.1461994463,
                        "remaining_time": 0.2035599946
                      },
                      {
                        "learn": [
                          0.06098846158
                        ],
                        "iteration": 418,
                        "passed_time": 0.1466909507,
                        "remaining_time": 0.2034067837
                      },
                      {
                        "learn": [
                          0.06078384632
                        ],
                        "iteration": 419,
                        "passed_time": 0.1471729624,
                        "remaining_time": 0.2032388528
                      },
                      {
                        "learn": [
                          0.06061065951
                        ],
                        "iteration": 420,
                        "passed_time": 0.1476543759,
                        "remaining_time": 0.2030686073
                      },
                      {
                        "learn": [
                          0.06040849489
                        ],
                        "iteration": 421,
                        "passed_time": 0.1481012586,
                        "remaining_time": 0.2028495912
                      },
                      {
                        "learn": [
                          0.06024592091
                        ],
                        "iteration": 422,
                        "passed_time": 0.1485463386,
                        "remaining_time": 0.2026270386
                      },
                      {
                        "learn": [
                          0.06008674114
                        ],
                        "iteration": 423,
                        "passed_time": 0.1491552163,
                        "remaining_time": 0.2026259543
                      },
                      {
                        "learn": [
                          0.0599258463
                        ],
                        "iteration": 424,
                        "passed_time": 0.1496379189,
                        "remaining_time": 0.2024513021
                      },
                      {
                        "learn": [
                          0.05972795436
                        ],
                        "iteration": 425,
                        "passed_time": 0.1501101752,
                        "remaining_time": 0.2022611281
                      },
                      {
                        "learn": [
                          0.05953132191
                        ],
                        "iteration": 426,
                        "passed_time": 0.1505726642,
                        "remaining_time": 0.202056526
                      },
                      {
                        "learn": [
                          0.05933593716
                        ],
                        "iteration": 427,
                        "passed_time": 0.1510357987,
                        "remaining_time": 0.2018515814
                      },
                      {
                        "learn": [
                          0.05918127706
                        ],
                        "iteration": 428,
                        "passed_time": 0.1515016886,
                        "remaining_time": 0.2016491007
                      },
                      {
                        "learn": [
                          0.05902741136
                        ],
                        "iteration": 429,
                        "passed_time": 0.1519711449,
                        "remaining_time": 0.2014501223
                      },
                      {
                        "learn": [
                          0.05887379839
                        ],
                        "iteration": 430,
                        "passed_time": 0.1524264112,
                        "remaining_time": 0.2012311553
                      },
                      {
                        "learn": [
                          0.05871902002
                        ],
                        "iteration": 431,
                        "passed_time": 0.1528823838,
                        "remaining_time": 0.2010120232
                      },
                      {
                        "learn": [
                          0.05856696289
                        ],
                        "iteration": 432,
                        "passed_time": 0.1533444601,
                        "remaining_time": 0.2007997896
                      },
                      {
                        "learn": [
                          0.05841616862
                        ],
                        "iteration": 433,
                        "passed_time": 0.1537890073,
                        "remaining_time": 0.2005635441
                      },
                      {
                        "learn": [
                          0.05828455815
                        ],
                        "iteration": 434,
                        "passed_time": 0.1542747354,
                        "remaining_time": 0.2003798287
                      },
                      {
                        "learn": [
                          0.05809673397
                        ],
                        "iteration": 435,
                        "passed_time": 0.1547287517,
                        "remaining_time": 0.2001537063
                      },
                      {
                        "learn": [
                          0.05791007827
                        ],
                        "iteration": 436,
                        "passed_time": 0.155177698,
                        "remaining_time": 0.1999200091
                      },
                      {
                        "learn": [
                          0.0578079576
                        ],
                        "iteration": 437,
                        "passed_time": 0.155651707,
                        "remaining_time": 0.1997174871
                      },
                      {
                        "learn": [
                          0.05770621106
                        ],
                        "iteration": 438,
                        "passed_time": 0.1561226851,
                        "remaining_time": 0.199509855
                      },
                      {
                        "learn": [
                          0.05758632023
                        ],
                        "iteration": 439,
                        "passed_time": 0.1565558541,
                        "remaining_time": 0.1992529053
                      },
                      {
                        "learn": [
                          0.05745826199
                        ],
                        "iteration": 440,
                        "passed_time": 0.157029865,
                        "remaining_time": 0.1990469263
                      },
                      {
                        "learn": [
                          0.05727539851
                        ],
                        "iteration": 441,
                        "passed_time": 0.1574733676,
                        "remaining_time": 0.1988012198
                      },
                      {
                        "learn": [
                          0.05712855256
                        ],
                        "iteration": 442,
                        "passed_time": 0.1579126431,
                        "remaining_time": 0.1985493052
                      },
                      {
                        "learn": [
                          0.05694768181
                        ],
                        "iteration": 443,
                        "passed_time": 0.15805928,
                        "remaining_time": 0.1979300894
                      },
                      {
                        "learn": [
                          0.05679441028
                        ],
                        "iteration": 444,
                        "passed_time": 0.1585039609,
                        "remaining_time": 0.1976847153
                      },
                      {
                        "learn": [
                          0.05665169683
                        ],
                        "iteration": 445,
                        "passed_time": 0.1586543987,
                        "remaining_time": 0.1970729527
                      },
                      {
                        "learn": [
                          0.05651012692
                        ],
                        "iteration": 446,
                        "passed_time": 0.1591229196,
                        "remaining_time": 0.1968567663
                      },
                      {
                        "learn": [
                          0.05638658711
                        ],
                        "iteration": 447,
                        "passed_time": 0.1596263758,
                        "remaining_time": 0.1966824987
                      },
                      {
                        "learn": [
                          0.05624587815
                        ],
                        "iteration": 448,
                        "passed_time": 0.1601222002,
                        "remaining_time": 0.1964973993
                      },
                      {
                        "learn": [
                          0.05607024275
                        ],
                        "iteration": 449,
                        "passed_time": 0.1605913355,
                        "remaining_time": 0.196278299
                      },
                      {
                        "learn": [
                          0.05592135593
                        ],
                        "iteration": 450,
                        "passed_time": 0.1610963563,
                        "remaining_time": 0.1961017729
                      },
                      {
                        "learn": [
                          0.05574768896
                        ],
                        "iteration": 451,
                        "passed_time": 0.1615701252,
                        "remaining_time": 0.195885904
                      },
                      {
                        "learn": [
                          0.05563543458
                        ],
                        "iteration": 452,
                        "passed_time": 0.1620841369,
                        "remaining_time": 0.1957174898
                      },
                      {
                        "learn": [
                          0.05548886385
                        ],
                        "iteration": 453,
                        "passed_time": 0.1626450584,
                        "remaining_time": 0.1956039689
                      },
                      {
                        "learn": [
                          0.05535052473
                        ],
                        "iteration": 454,
                        "passed_time": 0.1631274883,
                        "remaining_time": 0.195394464
                      },
                      {
                        "learn": [
                          0.05520542584
                        ],
                        "iteration": 455,
                        "passed_time": 0.1636181818,
                        "remaining_time": 0.1951936204
                      },
                      {
                        "learn": [
                          0.05503601072
                        ],
                        "iteration": 456,
                        "passed_time": 0.1640621972,
                        "remaining_time": 0.1949360461
                      },
                      {
                        "learn": [
                          0.05486760148
                        ],
                        "iteration": 457,
                        "passed_time": 0.1645074271,
                        "remaining_time": 0.194679095
                      },
                      {
                        "learn": [
                          0.05473428523
                        ],
                        "iteration": 458,
                        "passed_time": 0.1649582471,
                        "remaining_time": 0.1944279121
                      },
                      {
                        "learn": [
                          0.05460120646
                        ],
                        "iteration": 459,
                        "passed_time": 0.1651025695,
                        "remaining_time": 0.1938160598
                      },
                      {
                        "learn": [
                          0.05443530692
                        ],
                        "iteration": 460,
                        "passed_time": 0.1655431795,
                        "remaining_time": 0.1935526545
                      },
                      {
                        "learn": [
                          0.05427038305
                        ],
                        "iteration": 461,
                        "passed_time": 0.1659917749,
                        "remaining_time": 0.1932977811
                      },
                      {
                        "learn": [
                          0.05410642637
                        ],
                        "iteration": 462,
                        "passed_time": 0.1664379685,
                        "remaining_time": 0.1930392852
                      },
                      {
                        "learn": [
                          0.05397660523
                        ],
                        "iteration": 463,
                        "passed_time": 0.1668835884,
                        "remaining_time": 0.1927793177
                      },
                      {
                        "learn": [
                          0.05384700941
                        ],
                        "iteration": 464,
                        "passed_time": 0.1670394772,
                        "remaining_time": 0.1921852049
                      },
                      {
                        "learn": [
                          0.05368546676
                        ],
                        "iteration": 465,
                        "passed_time": 0.1676265441,
                        "remaining_time": 0.1920870698
                      },
                      {
                        "learn": [
                          0.05352486258
                        ],
                        "iteration": 466,
                        "passed_time": 0.1681160112,
                        "remaining_time": 0.1918754475
                      },
                      {
                        "learn": [
                          0.0534213576
                        ],
                        "iteration": 467,
                        "passed_time": 0.1686294456,
                        "remaining_time": 0.1916898826
                      },
                      {
                        "learn": [
                          0.05329427787
                        ],
                        "iteration": 468,
                        "passed_time": 0.1690839228,
                        "remaining_time": 0.1914361685
                      },
                      {
                        "learn": [
                          0.05315936255
                        ],
                        "iteration": 469,
                        "passed_time": 0.1695647827,
                        "remaining_time": 0.1912113507
                      },
                      {
                        "learn": [
                          0.05303382218
                        ],
                        "iteration": 470,
                        "passed_time": 0.1700228226,
                        "remaining_time": 0.1909598156
                      },
                      {
                        "learn": [
                          0.05290849332
                        ],
                        "iteration": 471,
                        "passed_time": 0.1704615835,
                        "remaining_time": 0.1906858392
                      },
                      {
                        "learn": [
                          0.05275227697
                        ],
                        "iteration": 472,
                        "passed_time": 0.1709030871,
                        "remaining_time": 0.1904142218
                      },
                      {
                        "learn": [
                          0.05261999336
                        ],
                        "iteration": 473,
                        "passed_time": 0.1714623432,
                        "remaining_time": 0.190272558
                      },
                      {
                        "learn": [
                          0.05246543425
                        ],
                        "iteration": 474,
                        "passed_time": 0.1719273876,
                        "remaining_time": 0.1900250074
                      },
                      {
                        "learn": [
                          0.05231175484
                        ],
                        "iteration": 475,
                        "passed_time": 0.1723821339,
                        "remaining_time": 0.1897652063
                      },
                      {
                        "learn": [
                          0.05218996883
                        ],
                        "iteration": 476,
                        "passed_time": 0.1728352148,
                        "remaining_time": 0.1895027617
                      },
                      {
                        "learn": [
                          0.05206838247
                        ],
                        "iteration": 477,
                        "passed_time": 0.1732877211,
                        "remaining_time": 0.1892388921
                      },
                      {
                        "learn": [
                          0.0519169012
                        ],
                        "iteration": 478,
                        "passed_time": 0.173742181,
                        "remaining_time": 0.1889763597
                      },
                      {
                        "learn": [
                          0.05179688112
                        ],
                        "iteration": 479,
                        "passed_time": 0.174191311,
                        "remaining_time": 0.1887072535
                      },
                      {
                        "learn": [
                          0.05164690423
                        ],
                        "iteration": 480,
                        "passed_time": 0.17465421,
                        "remaining_time": 0.1884522557
                      },
                      {
                        "learn": [
                          0.05149776933
                        ],
                        "iteration": 481,
                        "passed_time": 0.175124119,
                        "remaining_time": 0.1882039287
                      },
                      {
                        "learn": [
                          0.05134946944
                        ],
                        "iteration": 482,
                        "passed_time": 0.1755814062,
                        "remaining_time": 0.1879411739
                      },
                      {
                        "learn": [
                          0.05123192955
                        ],
                        "iteration": 483,
                        "passed_time": 0.1760404888,
                        "remaining_time": 0.1876795294
                      },
                      {
                        "learn": [
                          0.05111296358
                        ],
                        "iteration": 484,
                        "passed_time": 0.1765292778,
                        "remaining_time": 0.1874486145
                      },
                      {
                        "learn": [
                          0.05096676088
                        ],
                        "iteration": 485,
                        "passed_time": 0.1769730568,
                        "remaining_time": 0.1871690354
                      },
                      {
                        "learn": [
                          0.05085054413
                        ],
                        "iteration": 486,
                        "passed_time": 0.1774562758,
                        "remaining_time": 0.1869303275
                      },
                      {
                        "learn": [
                          0.05070577231
                        ],
                        "iteration": 487,
                        "passed_time": 0.1779124239,
                        "remaining_time": 0.1866622152
                      },
                      {
                        "learn": [
                          0.05056180014
                        ],
                        "iteration": 488,
                        "passed_time": 0.1783668975,
                        "remaining_time": 0.1863915841
                      },
                      {
                        "learn": [
                          0.05046149112
                        ],
                        "iteration": 489,
                        "passed_time": 0.1789074836,
                        "remaining_time": 0.1862098299
                      },
                      {
                        "learn": [
                          0.05031882895
                        ],
                        "iteration": 490,
                        "passed_time": 0.1793690135,
                        "remaining_time": 0.1859446596
                      },
                      {
                        "learn": [
                          0.0502194602
                        ],
                        "iteration": 491,
                        "passed_time": 0.1795562486,
                        "remaining_time": 0.1853954762
                      },
                      {
                        "learn": [
                          0.05012050973
                        ],
                        "iteration": 492,
                        "passed_time": 0.1797577363,
                        "remaining_time": 0.1848624185
                      },
                      {
                        "learn": [
                          0.04997964702
                        ],
                        "iteration": 493,
                        "passed_time": 0.1799027178,
                        "remaining_time": 0.1842728243
                      },
                      {
                        "learn": [
                          0.049839553
                        ],
                        "iteration": 494,
                        "passed_time": 0.1806185608,
                        "remaining_time": 0.1842674207
                      },
                      {
                        "learn": [
                          0.04970022146
                        ],
                        "iteration": 495,
                        "passed_time": 0.1807685878,
                        "remaining_time": 0.1836842102
                      },
                      {
                        "learn": [
                          0.04956164626
                        ],
                        "iteration": 496,
                        "passed_time": 0.1809451565,
                        "remaining_time": 0.1831296051
                      },
                      {
                        "learn": [
                          0.04945181378
                        ],
                        "iteration": 497,
                        "passed_time": 0.1811564897,
                        "remaining_time": 0.1826115619
                      },
                      {
                        "learn": [
                          0.04931456006
                        ],
                        "iteration": 498,
                        "passed_time": 0.1813299793,
                        "remaining_time": 0.1820567528
                      },
                      {
                        "learn": [
                          0.04917804621
                        ],
                        "iteration": 499,
                        "passed_time": 0.181496089,
                        "remaining_time": 0.181496089
                      },
                      {
                        "learn": [
                          0.04908813893
                        ],
                        "iteration": 500,
                        "passed_time": 0.1816866204,
                        "remaining_time": 0.1809613245
                      },
                      {
                        "learn": [
                          0.04895282818
                        ],
                        "iteration": 501,
                        "passed_time": 0.1818507809,
                        "remaining_time": 0.1804017707
                      },
                      {
                        "learn": [
                          0.04881824192
                        ],
                        "iteration": 502,
                        "passed_time": 0.1820015033,
                        "remaining_time": 0.1798305113
                      },
                      {
                        "learn": [
                          0.0486843744
                        ],
                        "iteration": 503,
                        "passed_time": 0.1821578248,
                        "remaining_time": 0.1792664308
                      },
                      {
                        "learn": [
                          0.04855121995
                        ],
                        "iteration": 504,
                        "passed_time": 0.1823255363,
                        "remaining_time": 0.1787151296
                      },
                      {
                        "learn": [
                          0.04847797138
                        ],
                        "iteration": 505,
                        "passed_time": 0.1825756985,
                        "remaining_time": 0.17824584
                      },
                      {
                        "learn": [
                          0.0483458891
                        ],
                        "iteration": 506,
                        "passed_time": 0.182747159,
                        "remaining_time": 0.1777008864
                      },
                      {
                        "learn": [
                          0.048214506
                        ],
                        "iteration": 507,
                        "passed_time": 0.1829137487,
                        "remaining_time": 0.1771526857
                      },
                      {
                        "learn": [
                          0.04808381661
                        ],
                        "iteration": 508,
                        "passed_time": 0.1830655338,
                        "remaining_time": 0.1765917035
                      },
                      {
                        "learn": [
                          0.04795381551
                        ],
                        "iteration": 509,
                        "passed_time": 0.183279037,
                        "remaining_time": 0.1760916238
                      },
                      {
                        "learn": [
                          0.04786301191
                        ],
                        "iteration": 510,
                        "passed_time": 0.1834785284,
                        "remaining_time": 0.1755792571
                      },
                      {
                        "learn": [
                          0.04776020664
                        ],
                        "iteration": 511,
                        "passed_time": 0.1837343487,
                        "remaining_time": 0.1751218011
                      },
                      {
                        "learn": [
                          0.04765614698
                        ],
                        "iteration": 512,
                        "passed_time": 0.184035449,
                        "remaining_time": 0.1747081163
                      },
                      {
                        "learn": [
                          0.04752831936
                        ],
                        "iteration": 513,
                        "passed_time": 0.1842078604,
                        "remaining_time": 0.174173191
                      },
                      {
                        "learn": [
                          0.04742523574
                        ],
                        "iteration": 514,
                        "passed_time": 0.1846311504,
                        "remaining_time": 0.1738759378
                      },
                      {
                        "learn": [
                          0.04732259821
                        ],
                        "iteration": 515,
                        "passed_time": 0.1848205482,
                        "remaining_time": 0.1733588088
                      },
                      {
                        "learn": [
                          0.04719647015
                        ],
                        "iteration": 516,
                        "passed_time": 0.1851104103,
                        "remaining_time": 0.172936805
                      },
                      {
                        "learn": [
                          0.04707099584
                        ],
                        "iteration": 517,
                        "passed_time": 0.1853713443,
                        "remaining_time": 0.1724883937
                      },
                      {
                        "learn": [
                          0.04696982459
                        ],
                        "iteration": 518,
                        "passed_time": 0.1855641384,
                        "remaining_time": 0.1719775541
                      },
                      {
                        "learn": [
                          0.04688262581
                        ],
                        "iteration": 519,
                        "passed_time": 0.1857531299,
                        "remaining_time": 0.1714644276
                      },
                      {
                        "learn": [
                          0.04680185844
                        ],
                        "iteration": 520,
                        "passed_time": 0.1859550158,
                        "remaining_time": 0.1709644003
                      },
                      {
                        "learn": [
                          0.04667836161
                        ],
                        "iteration": 521,
                        "passed_time": 0.1861049237,
                        "remaining_time": 0.1704179186
                      },
                      {
                        "learn": [
                          0.04659828322
                        ],
                        "iteration": 522,
                        "passed_time": 0.1862925942,
                        "remaining_time": 0.1699073947
                      },
                      {
                        "learn": [
                          0.04647581865
                        ],
                        "iteration": 523,
                        "passed_time": 0.1864427829,
                        "remaining_time": 0.1693640547
                      },
                      {
                        "learn": [
                          0.04637863743
                        ],
                        "iteration": 524,
                        "passed_time": 0.1866480243,
                        "remaining_time": 0.168872022
                      },
                      {
                        "learn": [
                          0.04628186139
                        ],
                        "iteration": 525,
                        "passed_time": 0.1867994258,
                        "remaining_time": 0.1683325624
                      },
                      {
                        "learn": [
                          0.04620182507
                        ],
                        "iteration": 526,
                        "passed_time": 0.1869792081,
                        "remaining_time": 0.1678200483
                      },
                      {
                        "learn": [
                          0.04610545686
                        ],
                        "iteration": 527,
                        "passed_time": 0.1871276424,
                        "remaining_time": 0.1672807712
                      },
                      {
                        "learn": [
                          0.04600978243
                        ],
                        "iteration": 528,
                        "passed_time": 0.1872757321,
                        "remaining_time": 0.166742665
                      },
                      {
                        "learn": [
                          0.04591450394
                        ],
                        "iteration": 529,
                        "passed_time": 0.1874237754,
                        "remaining_time": 0.1662059895
                      },
                      {
                        "learn": [
                          0.04583109148
                        ],
                        "iteration": 530,
                        "passed_time": 0.187618915,
                        "remaining_time": 0.165712375
                      },
                      {
                        "learn": [
                          0.04572992557
                        ],
                        "iteration": 531,
                        "passed_time": 0.1878174845,
                        "remaining_time": 0.1652228999
                      },
                      {
                        "learn": [
                          0.045635766
                        ],
                        "iteration": 532,
                        "passed_time": 0.187966986,
                        "remaining_time": 0.1646915243
                      },
                      {
                        "learn": [
                          0.04551804787
                        ],
                        "iteration": 533,
                        "passed_time": 0.1881160221,
                        "remaining_time": 0.1641611728
                      },
                      {
                        "learn": [
                          0.04544205213
                        ],
                        "iteration": 534,
                        "passed_time": 0.1883025853,
                        "remaining_time": 0.1636648639
                      },
                      {
                        "learn": [
                          0.04534257589
                        ],
                        "iteration": 535,
                        "passed_time": 0.1884853967,
                        "remaining_time": 0.1631664629
                      },
                      {
                        "learn": [
                          0.04526716865
                        ],
                        "iteration": 536,
                        "passed_time": 0.1886721709,
                        "remaining_time": 0.1626726539
                      },
                      {
                        "learn": [
                          0.04517448823
                        ],
                        "iteration": 537,
                        "passed_time": 0.188821466,
                        "remaining_time": 0.1621478017
                      },
                      {
                        "learn": [
                          0.04505904636
                        ],
                        "iteration": 538,
                        "passed_time": 0.1889689612,
                        "remaining_time": 0.1616228035
                      },
                      {
                        "learn": [
                          0.04494417938
                        ],
                        "iteration": 539,
                        "passed_time": 0.1891143163,
                        "remaining_time": 0.1610973806
                      },
                      {
                        "learn": [
                          0.04485307991
                        ],
                        "iteration": 540,
                        "passed_time": 0.1892742687,
                        "remaining_time": 0.1605857474
                      },
                      {
                        "learn": [
                          0.04476202491
                        ],
                        "iteration": 541,
                        "passed_time": 0.1894340484,
                        "remaining_time": 0.1600752659
                      },
                      {
                        "learn": [
                          0.04464859793
                        ],
                        "iteration": 542,
                        "passed_time": 0.1895839398,
                        "remaining_time": 0.1595577542
                      },
                      {
                        "learn": [
                          0.044558657
                        ],
                        "iteration": 543,
                        "passed_time": 0.1897292614,
                        "remaining_time": 0.1590377632
                      },
                      {
                        "learn": [
                          0.04446907791
                        ],
                        "iteration": 544,
                        "passed_time": 0.1898826019,
                        "remaining_time": 0.158525842
                      },
                      {
                        "learn": [
                          0.04437364183
                        ],
                        "iteration": 545,
                        "passed_time": 0.1900691234,
                        "remaining_time": 0.1580428242
                      },
                      {
                        "learn": [
                          0.04430131073
                        ],
                        "iteration": 546,
                        "passed_time": 0.1902522548,
                        "remaining_time": 0.157558083
                      },
                      {
                        "learn": [
                          0.04419011392
                        ],
                        "iteration": 547,
                        "passed_time": 0.1903995081,
                        "remaining_time": 0.1570448497
                      },
                      {
                        "learn": [
                          0.04411836898
                        ],
                        "iteration": 548,
                        "passed_time": 0.190579915,
                        "remaining_time": 0.1565601852
                      },
                      {
                        "learn": [
                          0.04400805637
                        ],
                        "iteration": 549,
                        "passed_time": 0.1907278992,
                        "remaining_time": 0.1560500994
                      },
                      {
                        "learn": [
                          0.04391907371
                        ],
                        "iteration": 550,
                        "passed_time": 0.1908792116,
                        "remaining_time": 0.15554404
                      },
                      {
                        "learn": [
                          0.04380971733
                        ],
                        "iteration": 551,
                        "passed_time": 0.1910501013,
                        "remaining_time": 0.1550551546
                      },
                      {
                        "learn": [
                          0.04372298813
                        ],
                        "iteration": 552,
                        "passed_time": 0.1912142591,
                        "remaining_time": 0.154561978
                      },
                      {
                        "learn": [
                          0.04361456781
                        ],
                        "iteration": 553,
                        "passed_time": 0.1913697988,
                        "remaining_time": 0.154063051
                      },
                      {
                        "learn": [
                          0.04350667196
                        ],
                        "iteration": 554,
                        "passed_time": 0.1915323984,
                        "remaining_time": 0.1535710221
                      },
                      {
                        "learn": [
                          0.04339929684
                        ],
                        "iteration": 555,
                        "passed_time": 0.1916784135,
                        "remaining_time": 0.1530669346
                      },
                      {
                        "learn": [
                          0.0432924387
                        ],
                        "iteration": 556,
                        "passed_time": 0.1918267105,
                        "remaining_time": 0.1525659475
                      },
                      {
                        "learn": [
                          0.04321779285
                        ],
                        "iteration": 557,
                        "passed_time": 0.1920092374,
                        "remaining_time": 0.1520933386
                      },
                      {
                        "learn": [
                          0.04313330145
                        ],
                        "iteration": 558,
                        "passed_time": 0.1921554871,
                        "remaining_time": 0.1515931481
                      },
                      {
                        "learn": [
                          0.04302768234
                        ],
                        "iteration": 559,
                        "passed_time": 0.1923003122,
                        "remaining_time": 0.1510931025
                      },
                      {
                        "learn": [
                          0.04292256796
                        ],
                        "iteration": 560,
                        "passed_time": 0.1924542528,
                        "remaining_time": 0.1506014563
                      },
                      {
                        "learn": [
                          0.04281795474
                        ],
                        "iteration": 561,
                        "passed_time": 0.1926019334,
                        "remaining_time": 0.1501061331
                      },
                      {
                        "learn": [
                          0.0427349523
                        ],
                        "iteration": 562,
                        "passed_time": 0.1928095993,
                        "remaining_time": 0.1496586055
                      },
                      {
                        "learn": [
                          0.04265192843
                        ],
                        "iteration": 563,
                        "passed_time": 0.1929629681,
                        "remaining_time": 0.149169954
                      },
                      {
                        "learn": [
                          0.04256956109
                        ],
                        "iteration": 564,
                        "passed_time": 0.1931169396,
                        "remaining_time": 0.1486829535
                      },
                      {
                        "learn": [
                          0.04246658001
                        ],
                        "iteration": 565,
                        "passed_time": 0.1932656192,
                        "remaining_time": 0.148193072
                      },
                      {
                        "learn": [
                          0.04238456686
                        ],
                        "iteration": 566,
                        "passed_time": 0.193413058,
                        "remaining_time": 0.1477034464
                      },
                      {
                        "learn": [
                          0.04228244488
                        ],
                        "iteration": 567,
                        "passed_time": 0.1935606295,
                        "remaining_time": 0.1472151267
                      },
                      {
                        "learn": [
                          0.04218080338
                        ],
                        "iteration": 568,
                        "passed_time": 0.1937075756,
                        "remaining_time": 0.1467275309
                      },
                      {
                        "learn": [
                          0.04209984855
                        ],
                        "iteration": 569,
                        "passed_time": 0.1938604752,
                        "remaining_time": 0.1462456217
                      },
                      {
                        "learn": [
                          0.04201398327
                        ],
                        "iteration": 570,
                        "passed_time": 0.1940476576,
                        "remaining_time": 0.1457906219
                      },
                      {
                        "learn": [
                          0.04193256056
                        ],
                        "iteration": 571,
                        "passed_time": 0.1942347863,
                        "remaining_time": 0.1453365184
                      },
                      {
                        "learn": [
                          0.04183253532
                        ],
                        "iteration": 572,
                        "passed_time": 0.1943816032,
                        "remaining_time": 0.1448533064
                      },
                      {
                        "learn": [
                          0.04174774832
                        ],
                        "iteration": 573,
                        "passed_time": 0.1945659765,
                        "remaining_time": 0.1443991393
                      },
                      {
                        "learn": [
                          0.04166867246
                        ],
                        "iteration": 574,
                        "passed_time": 0.1947108389,
                        "remaining_time": 0.143916707
                      },
                      {
                        "learn": [
                          0.04156986559
                        ],
                        "iteration": 575,
                        "passed_time": 0.1948574577,
                        "remaining_time": 0.1434367397
                      },
                      {
                        "learn": [
                          0.04149112707
                        ],
                        "iteration": 576,
                        "passed_time": 0.1950536318,
                        "remaining_time": 0.1429942569
                      },
                      {
                        "learn": [
                          0.04139312891
                        ],
                        "iteration": 577,
                        "passed_time": 0.195209746,
                        "remaining_time": 0.1425233786
                      },
                      {
                        "learn": [
                          0.04132848292
                        ],
                        "iteration": 578,
                        "passed_time": 0.1954256073,
                        "remaining_time": 0.1420970306
                      },
                      {
                        "learn": [
                          0.04125062134
                        ],
                        "iteration": 579,
                        "passed_time": 0.1956200506,
                        "remaining_time": 0.1416558987
                      },
                      {
                        "learn": [
                          0.04115371065
                        ],
                        "iteration": 580,
                        "passed_time": 0.1957734812,
                        "remaining_time": 0.1411860389
                      },
                      {
                        "learn": [
                          0.04105724484
                        ],
                        "iteration": 581,
                        "passed_time": 0.1959233563,
                        "remaining_time": 0.1407147129
                      },
                      {
                        "learn": [
                          0.04098036424
                        ],
                        "iteration": 582,
                        "passed_time": 0.1960758369,
                        "remaining_time": 0.1402463533
                      },
                      {
                        "learn": [
                          0.04090274049
                        ],
                        "iteration": 583,
                        "passed_time": 0.1962613337,
                        "remaining_time": 0.1398025939
                      },
                      {
                        "learn": [
                          0.04080739798
                        ],
                        "iteration": 584,
                        "passed_time": 0.1964150607,
                        "remaining_time": 0.1393371798
                      },
                      {
                        "learn": [
                          0.04072658337
                        ],
                        "iteration": 585,
                        "passed_time": 0.1965976348,
                        "remaining_time": 0.1388932096
                      },
                      {
                        "learn": [
                          0.04065116458
                        ],
                        "iteration": 586,
                        "passed_time": 0.1968373452,
                        "remaining_time": 0.1384903298
                      },
                      {
                        "learn": [
                          0.04055695799
                        ],
                        "iteration": 587,
                        "passed_time": 0.1970441157,
                        "remaining_time": 0.1380649246
                      },
                      {
                        "learn": [
                          0.04049609384
                        ],
                        "iteration": 588,
                        "passed_time": 0.1972248817,
                        "remaining_time": 0.1376221161
                      },
                      {
                        "learn": [
                          0.04042150214
                        ],
                        "iteration": 589,
                        "passed_time": 0.1973775832,
                        "remaining_time": 0.1371606934
                      },
                      {
                        "learn": [
                          0.04034718599
                        ],
                        "iteration": 590,
                        "passed_time": 0.1975715846,
                        "remaining_time": 0.1367288969
                      },
                      {
                        "learn": [
                          0.04027314389
                        ],
                        "iteration": 591,
                        "passed_time": 0.1977898732,
                        "remaining_time": 0.1363146423
                      },
                      {
                        "learn": [
                          0.04021311627
                        ],
                        "iteration": 592,
                        "passed_time": 0.1980017064,
                        "remaining_time": 0.135896618
                      },
                      {
                        "learn": [
                          0.04012083442
                        ],
                        "iteration": 593,
                        "passed_time": 0.1981590315,
                        "remaining_time": 0.1354420316
                      },
                      {
                        "learn": [
                          0.04002896676
                        ],
                        "iteration": 594,
                        "passed_time": 0.1983105212,
                        "remaining_time": 0.1349844724
                      },
                      {
                        "learn": [
                          0.03996471699
                        ],
                        "iteration": 595,
                        "passed_time": 0.1986026451,
                        "remaining_time": 0.1346232695
                      },
                      {
                        "learn": [
                          0.03990557728
                        ],
                        "iteration": 596,
                        "passed_time": 0.1988486282,
                        "remaining_time": 0.134231151
                      },
                      {
                        "learn": [
                          0.03983278715
                        ],
                        "iteration": 597,
                        "passed_time": 0.1990268978,
                        "remaining_time": 0.1337940015
                      },
                      {
                        "learn": [
                          0.0397421701
                        ],
                        "iteration": 598,
                        "passed_time": 0.1991712066,
                        "remaining_time": 0.1333349814
                      },
                      {
                        "learn": [
                          0.0396519564
                        ],
                        "iteration": 599,
                        "passed_time": 0.1993207963,
                        "remaining_time": 0.1328805309
                      },
                      {
                        "learn": [
                          0.03958036073
                        ],
                        "iteration": 600,
                        "passed_time": 0.1994768478,
                        "remaining_time": 0.1324313848
                      },
                      {
                        "learn": [
                          0.03952200694
                        ],
                        "iteration": 601,
                        "passed_time": 0.1996670665,
                        "remaining_time": 0.1320058014
                      },
                      {
                        "learn": [
                          0.03943275076
                        ],
                        "iteration": 602,
                        "passed_time": 0.1998178907,
                        "remaining_time": 0.1315550624
                      },
                      {
                        "learn": [
                          0.03937512737
                        ],
                        "iteration": 603,
                        "passed_time": 0.2000049003,
                        "remaining_time": 0.1311290406
                      },
                      {
                        "learn": [
                          0.03930418701
                        ],
                        "iteration": 604,
                        "passed_time": 0.2001625654,
                        "remaining_time": 0.1306846501
                      },
                      {
                        "learn": [
                          0.03923253529
                        ],
                        "iteration": 605,
                        "passed_time": 0.2003492968,
                        "remaining_time": 0.1302601039
                      },
                      {
                        "learn": [
                          0.0391624009
                        ],
                        "iteration": 606,
                        "passed_time": 0.200528171,
                        "remaining_time": 0.129831254
                      },
                      {
                        "learn": [
                          0.03909126057
                        ],
                        "iteration": 607,
                        "passed_time": 0.2007082997,
                        "remaining_time": 0.1294040353
                      },
                      {
                        "learn": [
                          0.03902992887
                        ],
                        "iteration": 608,
                        "passed_time": 0.2008899793,
                        "remaining_time": 0.1289786238
                      },
                      {
                        "learn": [
                          0.03897343301
                        ],
                        "iteration": 609,
                        "passed_time": 0.2010682853,
                        "remaining_time": 0.1285518545
                      },
                      {
                        "learn": [
                          0.03888651482
                        ],
                        "iteration": 610,
                        "passed_time": 0.201231374,
                        "remaining_time": 0.1281162103
                      },
                      {
                        "learn": [
                          0.03881758861
                        ],
                        "iteration": 611,
                        "passed_time": 0.20139461,
                        "remaining_time": 0.1276815502
                      },
                      {
                        "learn": [
                          0.03874766586
                        ],
                        "iteration": 612,
                        "passed_time": 0.2015477479,
                        "remaining_time": 0.1272414004
                      },
                      {
                        "learn": [
                          0.03867891573
                        ],
                        "iteration": 613,
                        "passed_time": 0.2017282857,
                        "remaining_time": 0.1268194109
                      },
                      {
                        "learn": [
                          0.03862309547
                        ],
                        "iteration": 614,
                        "passed_time": 0.201908608,
                        "remaining_time": 0.1263980717
                      },
                      {
                        "learn": [
                          0.03855507854
                        ],
                        "iteration": 615,
                        "passed_time": 0.2020619604,
                        "remaining_time": 0.1259607026
                      },
                      {
                        "learn": [
                          0.03848730219
                        ],
                        "iteration": 616,
                        "passed_time": 0.2022173101,
                        "remaining_time": 0.1255254939
                      },
                      {
                        "learn": [
                          0.03842784416
                        ],
                        "iteration": 617,
                        "passed_time": 0.202396677,
                        "remaining_time": 0.1251060366
                      },
                      {
                        "learn": [
                          0.03835572826
                        ],
                        "iteration": 618,
                        "passed_time": 0.2025750284,
                        "remaining_time": 0.1246867299
                      },
                      {
                        "learn": [
                          0.03827141979
                        ],
                        "iteration": 619,
                        "passed_time": 0.2027226172,
                        "remaining_time": 0.124249346
                      },
                      {
                        "learn": [
                          0.03820460426
                        ],
                        "iteration": 620,
                        "passed_time": 0.2028719841,
                        "remaining_time": 0.1238139807
                      },
                      {
                        "learn": [
                          0.0381209358
                        ],
                        "iteration": 621,
                        "passed_time": 0.2030428238,
                        "remaining_time": 0.1233925842
                      },
                      {
                        "learn": [
                          0.03804996069
                        ],
                        "iteration": 622,
                        "passed_time": 0.203235697,
                        "remaining_time": 0.1229853255
                      },
                      {
                        "learn": [
                          0.03798388104
                        ],
                        "iteration": 623,
                        "passed_time": 0.2033813903,
                        "remaining_time": 0.1225503249
                      },
                      {
                        "learn": [
                          0.03793029264
                        ],
                        "iteration": 624,
                        "passed_time": 0.2035608218,
                        "remaining_time": 0.1221364931
                      },
                      {
                        "learn": [
                          0.03784778551
                        ],
                        "iteration": 625,
                        "passed_time": 0.2037095169,
                        "remaining_time": 0.1217050468
                      },
                      {
                        "learn": [
                          0.03778207544
                        ],
                        "iteration": 626,
                        "passed_time": 0.2038597275,
                        "remaining_time": 0.1212754041
                      },
                      {
                        "learn": [
                          0.03771569771
                        ],
                        "iteration": 627,
                        "passed_time": 0.2040447653,
                        "remaining_time": 0.1208672813
                      },
                      {
                        "learn": [
                          0.03763408481
                        ],
                        "iteration": 628,
                        "passed_time": 0.2041967895,
                        "remaining_time": 0.1204403957
                      },
                      {
                        "learn": [
                          0.03756821392
                        ],
                        "iteration": 629,
                        "passed_time": 0.2043742173,
                        "remaining_time": 0.1200293022
                      },
                      {
                        "learn": [
                          0.03748721695
                        ],
                        "iteration": 630,
                        "passed_time": 0.2045265124,
                        "remaining_time": 0.1196042521
                      },
                      {
                        "learn": [
                          0.03742184722
                        ],
                        "iteration": 631,
                        "passed_time": 0.2047072693,
                        "remaining_time": 0.1191966378
                      },
                      {
                        "learn": [
                          0.0373567071
                        ],
                        "iteration": 632,
                        "passed_time": 0.2048544508,
                        "remaining_time": 0.118770274
                      },
                      {
                        "learn": [
                          0.03729179538
                        ],
                        "iteration": 633,
                        "passed_time": 0.2050205959,
                        "remaining_time": 0.1183557383
                      },
                      {
                        "learn": [
                          0.03722374838
                        ],
                        "iteration": 634,
                        "passed_time": 0.2052058055,
                        "remaining_time": 0.1179529433
                      },
                      {
                        "learn": [
                          0.03717219972
                        ],
                        "iteration": 635,
                        "passed_time": 0.2053839351,
                        "remaining_time": 0.1175467805
                      },
                      {
                        "learn": [
                          0.03710873139
                        ],
                        "iteration": 636,
                        "passed_time": 0.2055301321,
                        "remaining_time": 0.1171231365
                      },
                      {
                        "learn": [
                          0.0370296283
                        ],
                        "iteration": 637,
                        "passed_time": 0.2056854236,
                        "remaining_time": 0.1167055225
                      },
                      {
                        "learn": [
                          0.03695085608
                        ],
                        "iteration": 638,
                        "passed_time": 0.2058400396,
                        "remaining_time": 0.1162883479
                      },
                      {
                        "learn": [
                          0.03687241267
                        ],
                        "iteration": 639,
                        "passed_time": 0.2060055102,
                        "remaining_time": 0.1158780995
                      },
                      {
                        "learn": [
                          0.03679429601
                        ],
                        "iteration": 640,
                        "passed_time": 0.2061527199,
                        "remaining_time": 0.1154583876
                      },
                      {
                        "learn": [
                          0.03673124033
                        ],
                        "iteration": 641,
                        "passed_time": 0.2063563085,
                        "remaining_time": 0.1150709633
                      },
                      {
                        "learn": [
                          0.03666921235
                        ],
                        "iteration": 642,
                        "passed_time": 0.2065558126,
                        "remaining_time": 0.1146818431
                      },
                      {
                        "learn": [
                          0.03660767791
                        ],
                        "iteration": 643,
                        "passed_time": 0.2067129741,
                        "remaining_time": 0.1142699049
                      },
                      {
                        "learn": [
                          0.03655367607
                        ],
                        "iteration": 644,
                        "passed_time": 0.2068953755,
                        "remaining_time": 0.1138726486
                      },
                      {
                        "learn": [
                          0.03647683962
                        ],
                        "iteration": 645,
                        "passed_time": 0.2070552161,
                        "remaining_time": 0.1134636943
                      },
                      {
                        "learn": [
                          0.03642617046
                        ],
                        "iteration": 646,
                        "passed_time": 0.2072405303,
                        "remaining_time": 0.1130694083
                      },
                      {
                        "learn": [
                          0.03636115358
                        ],
                        "iteration": 647,
                        "passed_time": 0.2074188826,
                        "remaining_time": 0.1126719856
                      },
                      {
                        "learn": [
                          0.03628510818
                        ],
                        "iteration": 648,
                        "passed_time": 0.2075690832,
                        "remaining_time": 0.1122600126
                      },
                      {
                        "learn": [
                          0.03623604094
                        ],
                        "iteration": 649,
                        "passed_time": 0.2077477055,
                        "remaining_time": 0.1118641491
                      },
                      {
                        "learn": [
                          0.036160503
                        ],
                        "iteration": 650,
                        "passed_time": 0.2079379033,
                        "remaining_time": 0.1114751586
                      },
                      {
                        "learn": [
                          0.0360995293
                        ],
                        "iteration": 651,
                        "passed_time": 0.2081227047,
                        "remaining_time": 0.1110838976
                      },
                      {
                        "learn": [
                          0.03603876298
                        ],
                        "iteration": 652,
                        "passed_time": 0.2083010798,
                        "remaining_time": 0.110689854
                      },
                      {
                        "learn": [
                          0.03596401451
                        ],
                        "iteration": 653,
                        "passed_time": 0.2084466368,
                        "remaining_time": 0.1102791075
                      },
                      {
                        "learn": [
                          0.03588957049
                        ],
                        "iteration": 654,
                        "passed_time": 0.2085970683,
                        "remaining_time": 0.1098717382
                      },
                      {
                        "learn": [
                          0.03582948714
                        ],
                        "iteration": 655,
                        "passed_time": 0.2087466234,
                        "remaining_time": 0.1094646928
                      },
                      {
                        "learn": [
                          0.03575558132
                        ],
                        "iteration": 656,
                        "passed_time": 0.208897094,
                        "remaining_time": 0.109058909
                      },
                      {
                        "learn": [
                          0.0356966823
                        ],
                        "iteration": 657,
                        "passed_time": 0.2090437182,
                        "remaining_time": 0.1086519022
                      },
                      {
                        "learn": [
                          0.03563722882
                        ],
                        "iteration": 658,
                        "passed_time": 0.2092222324,
                        "remaining_time": 0.108262187
                      },
                      {
                        "learn": [
                          0.03556408412
                        ],
                        "iteration": 659,
                        "passed_time": 0.2093851711,
                        "remaining_time": 0.1078650882
                      },
                      {
                        "learn": [
                          0.03550203312
                        ],
                        "iteration": 660,
                        "passed_time": 0.2095858716,
                        "remaining_time": 0.1074880643
                      },
                      {
                        "learn": [
                          0.03542943597
                        ],
                        "iteration": 661,
                        "passed_time": 0.2097324904,
                        "remaining_time": 0.1070839603
                      },
                      {
                        "learn": [
                          0.03537869239
                        ],
                        "iteration": 662,
                        "passed_time": 0.2099204109,
                        "remaining_time": 0.1067016266
                      },
                      {
                        "learn": [
                          0.03532098875
                        ],
                        "iteration": 663,
                        "passed_time": 0.2100673051,
                        "remaining_time": 0.1062991183
                      },
                      {
                        "learn": [
                          0.03524909726
                        ],
                        "iteration": 664,
                        "passed_time": 0.2102229784,
                        "remaining_time": 0.1059018012
                      },
                      {
                        "learn": [
                          0.03519206681
                        ],
                        "iteration": 665,
                        "passed_time": 0.2103678354,
                        "remaining_time": 0.1054997853
                      },
                      {
                        "learn": [
                          0.03512068221
                        ],
                        "iteration": 666,
                        "passed_time": 0.2105132078,
                        "remaining_time": 0.1050987979
                      },
                      {
                        "learn": [
                          0.03506012342
                        ],
                        "iteration": 667,
                        "passed_time": 0.2107141428,
                        "remaining_time": 0.1047261907
                      },
                      {
                        "learn": [
                          0.03501321384
                        ],
                        "iteration": 668,
                        "passed_time": 0.2109596514,
                        "remaining_time": 0.1043761504
                      },
                      {
                        "learn": [
                          0.03494253906
                        ],
                        "iteration": 669,
                        "passed_time": 0.2111576791,
                        "remaining_time": 0.104003036
                      },
                      {
                        "learn": [
                          0.03488618934
                        ],
                        "iteration": 670,
                        "passed_time": 0.211363856,
                        "remaining_time": 0.1036344391
                      },
                      {
                        "learn": [
                          0.0348160101
                        ],
                        "iteration": 671,
                        "passed_time": 0.2115217393,
                        "remaining_time": 0.1032427537
                      },
                      {
                        "learn": [
                          0.03476031258
                        ],
                        "iteration": 672,
                        "passed_time": 0.2116729308,
                        "remaining_time": 0.1028485117
                      },
                      {
                        "learn": [
                          0.0347114041
                        ],
                        "iteration": 673,
                        "passed_time": 0.2118564067,
                        "remaining_time": 0.1024706062
                      },
                      {
                        "learn": [
                          0.0346418953
                        ],
                        "iteration": 674,
                        "passed_time": 0.2120222509,
                        "remaining_time": 0.1020847875
                      },
                      {
                        "learn": [
                          0.03457266009
                        ],
                        "iteration": 675,
                        "passed_time": 0.2121736042,
                        "remaining_time": 0.1016926742
                      },
                      {
                        "learn": [
                          0.03451772144
                        ],
                        "iteration": 676,
                        "passed_time": 0.2123203203,
                        "remaining_time": 0.1012990598
                      },
                      {
                        "learn": [
                          0.03445916509
                        ],
                        "iteration": 677,
                        "passed_time": 0.2125086199,
                        "remaining_time": 0.1009259227
                      },
                      {
                        "learn": [
                          0.03440431497
                        ],
                        "iteration": 678,
                        "passed_time": 0.2126632796,
                        "remaining_time": 0.1005374267
                      },
                      {
                        "learn": [
                          0.03434894126
                        ],
                        "iteration": 679,
                        "passed_time": 0.2128470519,
                        "remaining_time": 0.1001633185
                      },
                      {
                        "learn": [
                          0.03429469113
                        ],
                        "iteration": 680,
                        "passed_time": 0.2130023825,
                        "remaining_time": 0.09977644642
                      },
                      {
                        "learn": [
                          0.03422678737
                        ],
                        "iteration": 681,
                        "passed_time": 0.2131510894,
                        "remaining_time": 0.09938716486
                      },
                      {
                        "learn": [
                          0.03415914799
                        ],
                        "iteration": 682,
                        "passed_time": 0.2132988627,
                        "remaining_time": 0.09899815445
                      },
                      {
                        "learn": [
                          0.03410453911
                        ],
                        "iteration": 683,
                        "passed_time": 0.2134951732,
                        "remaining_time": 0.09863227302
                      },
                      {
                        "learn": [
                          0.03404732964
                        ],
                        "iteration": 684,
                        "passed_time": 0.2136746783,
                        "remaining_time": 0.09825915864
                      },
                      {
                        "learn": [
                          0.0339803821
                        ],
                        "iteration": 685,
                        "passed_time": 0.2138235071,
                        "remaining_time": 0.09787256738
                      },
                      {
                        "learn": [
                          0.03391369342
                        ],
                        "iteration": 686,
                        "passed_time": 0.2139780949,
                        "remaining_time": 0.09748929216
                      },
                      {
                        "learn": [
                          0.03386970814
                        ],
                        "iteration": 687,
                        "passed_time": 0.2141628736,
                        "remaining_time": 0.09712037292
                      },
                      {
                        "learn": [
                          0.03382650273
                        ],
                        "iteration": 688,
                        "passed_time": 0.2143412596,
                        "remaining_time": 0.09674910267
                      },
                      {
                        "learn": [
                          0.03377381812
                        ],
                        "iteration": 689,
                        "passed_time": 0.2144906529,
                        "remaining_time": 0.09636536581
                      },
                      {
                        "learn": [
                          0.03372039003
                        ],
                        "iteration": 690,
                        "passed_time": 0.2146550653,
                        "remaining_time": 0.09598902341
                      },
                      {
                        "learn": [
                          0.03367780149
                        ],
                        "iteration": 691,
                        "passed_time": 0.214834344,
                        "remaining_time": 0.09561991034
                      },
                      {
                        "learn": [
                          0.03361224911
                        ],
                        "iteration": 692,
                        "passed_time": 0.2149838619,
                        "remaining_time": 0.09523816103
                      },
                      {
                        "learn": [
                          0.03355996662
                        ],
                        "iteration": 693,
                        "passed_time": 0.2151475097,
                        "remaining_time": 0.09486331119
                      },
                      {
                        "learn": [
                          0.03349485805
                        ],
                        "iteration": 694,
                        "passed_time": 0.2153021557,
                        "remaining_time": 0.0944851187
                      },
                      {
                        "learn": [
                          0.033429998
                        ],
                        "iteration": 695,
                        "passed_time": 0.2154486281,
                        "remaining_time": 0.0941039985
                      },
                      {
                        "learn": [
                          0.03336538502
                        ],
                        "iteration": 696,
                        "passed_time": 0.215592876,
                        "remaining_time": 0.09372258455
                      },
                      {
                        "learn": [
                          0.03330101773
                        ],
                        "iteration": 697,
                        "passed_time": 0.2157444102,
                        "remaining_time": 0.09334500271
                      },
                      {
                        "learn": [
                          0.03325856573
                        ],
                        "iteration": 698,
                        "passed_time": 0.2159378189,
                        "remaining_time": 0.09298609942
                      },
                      {
                        "learn": [
                          0.03320669903
                        ],
                        "iteration": 699,
                        "passed_time": 0.2160851277,
                        "remaining_time": 0.09260791187
                      },
                      {
                        "learn": [
                          0.03315562414
                        ],
                        "iteration": 700,
                        "passed_time": 0.2162873064,
                        "remaining_time": 0.09225378688
                      },
                      {
                        "learn": [
                          0.03310470803
                        ],
                        "iteration": 701,
                        "passed_time": 0.2164366988,
                        "remaining_time": 0.09187768694
                      },
                      {
                        "learn": [
                          0.03305417898
                        ],
                        "iteration": 702,
                        "passed_time": 0.2165865757,
                        "remaining_time": 0.09150243668
                      },
                      {
                        "learn": [
                          0.03300357339
                        ],
                        "iteration": 703,
                        "passed_time": 0.2167408517,
                        "remaining_time": 0.0911296763
                      },
                      {
                        "learn": [
                          0.03295335195
                        ],
                        "iteration": 704,
                        "passed_time": 0.2169277823,
                        "remaining_time": 0.09077119967
                      },
                      {
                        "learn": [
                          0.03290241964
                        ],
                        "iteration": 705,
                        "passed_time": 0.2170775283,
                        "remaining_time": 0.09039772425
                      },
                      {
                        "learn": [
                          0.03283974939
                        ],
                        "iteration": 706,
                        "passed_time": 0.2172246643,
                        "remaining_time": 0.09002380008
                      },
                      {
                        "learn": [
                          0.03279001503
                        ],
                        "iteration": 707,
                        "passed_time": 0.2173715177,
                        "remaining_time": 0.08965039994
                      },
                      {
                        "learn": [
                          0.03272775925
                        ],
                        "iteration": 708,
                        "passed_time": 0.2175192501,
                        "remaining_time": 0.08927799968
                      },
                      {
                        "learn": [
                          0.0326657362
                        ],
                        "iteration": 709,
                        "passed_time": 0.2176653743,
                        "remaining_time": 0.08890557542
                      },
                      {
                        "learn": [
                          0.03261628068
                        ],
                        "iteration": 710,
                        "passed_time": 0.2178255512,
                        "remaining_time": 0.08853949973
                      },
                      {
                        "learn": [
                          0.03255466678
                        ],
                        "iteration": 711,
                        "passed_time": 0.2179838427,
                        "remaining_time": 0.08817323975
                      },
                      {
                        "learn": [
                          0.03249328207
                        ],
                        "iteration": 712,
                        "passed_time": 0.2181331424,
                        "remaining_time": 0.08780394372
                      },
                      {
                        "learn": [
                          0.03244433177
                        ],
                        "iteration": 713,
                        "passed_time": 0.2182796394,
                        "remaining_time": 0.08743414126
                      },
                      {
                        "learn": [
                          0.03238335002
                        ],
                        "iteration": 714,
                        "passed_time": 0.2184243645,
                        "remaining_time": 0.08706425718
                      },
                      {
                        "learn": [
                          0.03232259399
                        ],
                        "iteration": 715,
                        "passed_time": 0.2185748942,
                        "remaining_time": 0.0866973044
                      },
                      {
                        "learn": [
                          0.03226206243
                        ],
                        "iteration": 716,
                        "passed_time": 0.218727513,
                        "remaining_time": 0.08633177987
                      },
                      {
                        "learn": [
                          0.03221317148
                        ],
                        "iteration": 717,
                        "passed_time": 0.218907208,
                        "remaining_time": 0.08597748282
                      },
                      {
                        "learn": [
                          0.03216443053
                        ],
                        "iteration": 718,
                        "passed_time": 0.2190542423,
                        "remaining_time": 0.08561090692
                      },
                      {
                        "learn": [
                          0.03211643697
                        ],
                        "iteration": 719,
                        "passed_time": 0.2192003274,
                        "remaining_time": 0.08524457176
                      },
                      {
                        "learn": [
                          0.03206879981
                        ],
                        "iteration": 720,
                        "passed_time": 0.2193865461,
                        "remaining_time": 0.08489437775
                      },
                      {
                        "learn": [
                          0.03200917729
                        ],
                        "iteration": 721,
                        "passed_time": 0.2195473057,
                        "remaining_time": 0.08453483518
                      },
                      {
                        "learn": [
                          0.03194977313
                        ],
                        "iteration": 722,
                        "passed_time": 0.2197001527,
                        "remaining_time": 0.08417281092
                      },
                      {
                        "learn": [
                          0.03190180669
                        ],
                        "iteration": 723,
                        "passed_time": 0.2198782369,
                        "remaining_time": 0.08382098532
                      },
                      {
                        "learn": [
                          0.03185457436
                        ],
                        "iteration": 724,
                        "passed_time": 0.2200556692,
                        "remaining_time": 0.08346939177
                      },
                      {
                        "learn": [
                          0.03179572275
                        ],
                        "iteration": 725,
                        "passed_time": 0.2202084661,
                        "remaining_time": 0.08310898034
                      },
                      {
                        "learn": [
                          0.03174576822
                        ],
                        "iteration": 726,
                        "passed_time": 0.2203928885,
                        "remaining_time": 0.08276101589
                      },
                      {
                        "learn": [
                          0.03169918513
                        ],
                        "iteration": 727,
                        "passed_time": 0.2205404191,
                        "remaining_time": 0.08239971702
                      },
                      {
                        "learn": [
                          0.0316408944
                        ],
                        "iteration": 728,
                        "passed_time": 0.220690346,
                        "remaining_time": 0.08203989544
                      },
                      {
                        "learn": [
                          0.03160322226
                        ],
                        "iteration": 729,
                        "passed_time": 0.2208702429,
                        "remaining_time": 0.08169173368
                      },
                      {
                        "learn": [
                          0.03156253534
                        ],
                        "iteration": 730,
                        "passed_time": 0.2210747943,
                        "remaining_time": 0.08135310488
                      },
                      {
                        "learn": [
                          0.03151648264
                        ],
                        "iteration": 731,
                        "passed_time": 0.2212357867,
                        "remaining_time": 0.08099889458
                      },
                      {
                        "learn": [
                          0.03145883403
                        ],
                        "iteration": 732,
                        "passed_time": 0.2213819582,
                        "remaining_time": 0.08063981287
                      },
                      {
                        "learn": [
                          0.03141286429
                        ],
                        "iteration": 733,
                        "passed_time": 0.2215580714,
                        "remaining_time": 0.08029216213
                      },
                      {
                        "learn": [
                          0.0313670305
                        ],
                        "iteration": 734,
                        "passed_time": 0.2217084175,
                        "remaining_time": 0.07993568794
                      },
                      {
                        "learn": [
                          0.03132695649
                        ],
                        "iteration": 735,
                        "passed_time": 0.2218977416,
                        "remaining_time": 0.07959375515
                      },
                      {
                        "learn": [
                          0.0312699695
                        ],
                        "iteration": 736,
                        "passed_time": 0.2220497886,
                        "remaining_time": 0.07923893405
                      },
                      {
                        "learn": [
                          0.03122475182
                        ],
                        "iteration": 737,
                        "passed_time": 0.2222085291,
                        "remaining_time": 0.0788870388
                      },
                      {
                        "learn": [
                          0.03117946017
                        ],
                        "iteration": 738,
                        "passed_time": 0.2224085478,
                        "remaining_time": 0.07855024489
                      },
                      {
                        "learn": [
                          0.03112298985
                        ],
                        "iteration": 739,
                        "passed_time": 0.2225714784,
                        "remaining_time": 0.0782007897
                      },
                      {
                        "learn": [
                          0.03107798712
                        ],
                        "iteration": 740,
                        "passed_time": 0.222764058,
                        "remaining_time": 0.07786220109
                      },
                      {
                        "learn": [
                          0.03102187324
                        ],
                        "iteration": 741,
                        "passed_time": 0.2229202331,
                        "remaining_time": 0.07751134789
                      },
                      {
                        "learn": [
                          0.03097735328
                        ],
                        "iteration": 742,
                        "passed_time": 0.2230772182,
                        "remaining_time": 0.07716129889
                      },
                      {
                        "learn": [
                          0.03093218708
                        ],
                        "iteration": 743,
                        "passed_time": 0.2232261742,
                        "remaining_time": 0.07680900619
                      },
                      {
                        "learn": [
                          0.03088792354
                        ],
                        "iteration": 744,
                        "passed_time": 0.2233854284,
                        "remaining_time": 0.07646078423
                      },
                      {
                        "learn": [
                          0.03084358652
                        ],
                        "iteration": 745,
                        "passed_time": 0.2235312345,
                        "remaining_time": 0.07610849003
                      },
                      {
                        "learn": [
                          0.03079643487
                        ],
                        "iteration": 746,
                        "passed_time": 0.2237108677,
                        "remaining_time": 0.07576820554
                      },
                      {
                        "learn": [
                          0.03075235111
                        ],
                        "iteration": 747,
                        "passed_time": 0.2238568511,
                        "remaining_time": 0.075417014
                      },
                      {
                        "learn": [
                          0.0306973663
                        ],
                        "iteration": 748,
                        "passed_time": 0.2240007626,
                        "remaining_time": 0.07506567611
                      },
                      {
                        "learn": [
                          0.03065375247
                        ],
                        "iteration": 749,
                        "passed_time": 0.2241476414,
                        "remaining_time": 0.07471588045
                      },
                      {
                        "learn": [
                          0.03061026404
                        ],
                        "iteration": 750,
                        "passed_time": 0.2243004938,
                        "remaining_time": 0.07436860579
                      },
                      {
                        "learn": [
                          0.03056670287
                        ],
                        "iteration": 751,
                        "passed_time": 0.2244534734,
                        "remaining_time": 0.07402189017
                      },
                      {
                        "learn": [
                          0.03052346099
                        ],
                        "iteration": 752,
                        "passed_time": 0.2246037113,
                        "remaining_time": 0.07367478976
                      },
                      {
                        "learn": [
                          0.03046925932
                        ],
                        "iteration": 753,
                        "passed_time": 0.22476068,
                        "remaining_time": 0.07333040755
                      },
                      {
                        "learn": [
                          0.03042552547
                        ],
                        "iteration": 754,
                        "passed_time": 0.2249198888,
                        "remaining_time": 0.07298724868
                      },
                      {
                        "learn": [
                          0.03037166161
                        ],
                        "iteration": 755,
                        "passed_time": 0.2250820312,
                        "remaining_time": 0.07264552329
                      },
                      {
                        "learn": [
                          0.03031798596
                        ],
                        "iteration": 756,
                        "passed_time": 0.2252419063,
                        "remaining_time": 0.07230354455
                      },
                      {
                        "learn": [
                          0.03026449754
                        ],
                        "iteration": 757,
                        "passed_time": 0.2254227395,
                        "remaining_time": 0.07196873742
                      },
                      {
                        "learn": [
                          0.03021904929
                        ],
                        "iteration": 758,
                        "passed_time": 0.225604991,
                        "remaining_time": 0.07163478633
                      },
                      {
                        "learn": [
                          0.03017655496
                        ],
                        "iteration": 759,
                        "passed_time": 0.2257530361,
                        "remaining_time": 0.07129043245
                      },
                      {
                        "learn": [
                          0.03012355499
                        ],
                        "iteration": 760,
                        "passed_time": 0.2259061594,
                        "remaining_time": 0.07094818936
                      },
                      {
                        "learn": [
                          0.03008652435
                        ],
                        "iteration": 761,
                        "passed_time": 0.2260885408,
                        "remaining_time": 0.070615581
                      },
                      {
                        "learn": [
                          0.03004959291
                        ],
                        "iteration": 762,
                        "passed_time": 0.2262856531,
                        "remaining_time": 0.07028794206
                      },
                      {
                        "learn": [
                          0.03001276026
                        ],
                        "iteration": 763,
                        "passed_time": 0.2265392826,
                        "remaining_time": 0.069978103
                      },
                      {
                        "learn": [
                          0.02997084616
                        ],
                        "iteration": 764,
                        "passed_time": 0.2267070132,
                        "remaining_time": 0.06964202365
                      },
                      {
                        "learn": [
                          0.02992905064
                        ],
                        "iteration": 765,
                        "passed_time": 0.2268582383,
                        "remaining_time": 0.06930134172
                      },
                      {
                        "learn": [
                          0.02987687261
                        ],
                        "iteration": 766,
                        "passed_time": 0.227008948,
                        "remaining_time": 0.06896099723
                      },
                      {
                        "learn": [
                          0.02982487423
                        ],
                        "iteration": 767,
                        "passed_time": 0.2271614285,
                        "remaining_time": 0.06862168154
                      },
                      {
                        "learn": [
                          0.02978365146
                        ],
                        "iteration": 768,
                        "passed_time": 0.2273214673,
                        "remaining_time": 0.06828512216
                      },
                      {
                        "learn": [
                          0.02973196807
                        ],
                        "iteration": 769,
                        "passed_time": 0.2274727933,
                        "remaining_time": 0.06794641879
                      },
                      {
                        "learn": [
                          0.0296804618
                        ],
                        "iteration": 770,
                        "passed_time": 0.2276319421,
                        "remaining_time": 0.06761052495
                      },
                      {
                        "learn": [
                          0.02963890335
                        ],
                        "iteration": 771,
                        "passed_time": 0.2278198362,
                        "remaining_time": 0.06728357857
                      },
                      {
                        "learn": [
                          0.02960498687
                        ],
                        "iteration": 772,
                        "passed_time": 0.2280147249,
                        "remaining_time": 0.06695904599
                      },
                      {
                        "learn": [
                          0.02956435154
                        ],
                        "iteration": 773,
                        "passed_time": 0.2282041336,
                        "remaining_time": 0.06663324831
                      },
                      {
                        "learn": [
                          0.02952382918
                        ],
                        "iteration": 774,
                        "passed_time": 0.2283586533,
                        "remaining_time": 0.06629767353
                      },
                      {
                        "learn": [
                          0.02947301548
                        ],
                        "iteration": 775,
                        "passed_time": 0.2285145438,
                        "remaining_time": 0.06596296111
                      },
                      {
                        "learn": [
                          0.02943255573
                        ],
                        "iteration": 776,
                        "passed_time": 0.2286708562,
                        "remaining_time": 0.06562883004
                      },
                      {
                        "learn": [
                          0.0293916777
                        ],
                        "iteration": 777,
                        "passed_time": 0.2288198277,
                        "remaining_time": 0.06529306138
                      },
                      {
                        "learn": [
                          0.02935161936
                        ],
                        "iteration": 778,
                        "passed_time": 0.2289679674,
                        "remaining_time": 0.06495753632
                      },
                      {
                        "learn": [
                          0.02930137544
                        ],
                        "iteration": 779,
                        "passed_time": 0.2291200844,
                        "remaining_time": 0.06462361354
                      },
                      {
                        "learn": [
                          0.02926155816
                        ],
                        "iteration": 780,
                        "passed_time": 0.2292760786,
                        "remaining_time": 0.06429124354
                      },
                      {
                        "learn": [
                          0.02923393517
                        ],
                        "iteration": 781,
                        "passed_time": 0.2294755972,
                        "remaining_time": 0.06397145805
                      },
                      {
                        "learn": [
                          0.02920161666
                        ],
                        "iteration": 782,
                        "passed_time": 0.2296568278,
                        "remaining_time": 0.06364691139
                      },
                      {
                        "learn": [
                          0.02916188448
                        ],
                        "iteration": 783,
                        "passed_time": 0.2298416128,
                        "remaining_time": 0.06332370965
                      },
                      {
                        "learn": [
                          0.02911226266
                        ],
                        "iteration": 784,
                        "passed_time": 0.2299916325,
                        "remaining_time": 0.06299133883
                      },
                      {
                        "learn": [
                          0.02907224907
                        ],
                        "iteration": 785,
                        "passed_time": 0.2301693339,
                        "remaining_time": 0.06266696878
                      },
                      {
                        "learn": [
                          0.02904027817
                        ],
                        "iteration": 786,
                        "passed_time": 0.2303470345,
                        "remaining_time": 0.06234297121
                      },
                      {
                        "learn": [
                          0.02899105726
                        ],
                        "iteration": 787,
                        "passed_time": 0.2304911587,
                        "remaining_time": 0.06201031173
                      },
                      {
                        "learn": [
                          0.0289518797
                        ],
                        "iteration": 788,
                        "passed_time": 0.2306374657,
                        "remaining_time": 0.06167871388
                      },
                      {
                        "learn": [
                          0.02891298814
                        ],
                        "iteration": 789,
                        "passed_time": 0.2307849444,
                        "remaining_time": 0.06134789662
                      },
                      {
                        "learn": [
                          0.02887420246
                        ],
                        "iteration": 790,
                        "passed_time": 0.2309389186,
                        "remaining_time": 0.06101925916
                      },
                      {
                        "learn": [
                          0.0288255226
                        ],
                        "iteration": 791,
                        "passed_time": 0.2311029492,
                        "remaining_time": 0.06069370383
                      },
                      {
                        "learn": [
                          0.02879870477
                        ],
                        "iteration": 792,
                        "passed_time": 0.2313440905,
                        "remaining_time": 0.06038868441
                      },
                      {
                        "learn": [
                          0.02875027127
                        ],
                        "iteration": 793,
                        "passed_time": 0.2314886684,
                        "remaining_time": 0.0600587729
                      },
                      {
                        "learn": [
                          0.02870908051
                        ],
                        "iteration": 794,
                        "passed_time": 0.2316723225,
                        "remaining_time": 0.05973940392
                      },
                      {
                        "learn": [
                          0.02866094661
                        ],
                        "iteration": 795,
                        "passed_time": 0.2318307313,
                        "remaining_time": 0.05941390601
                      },
                      {
                        "learn": [
                          0.02862212566
                        ],
                        "iteration": 796,
                        "passed_time": 0.2320079736,
                        "remaining_time": 0.0590936244
                      },
                      {
                        "learn": [
                          0.02858864633
                        ],
                        "iteration": 797,
                        "passed_time": 0.2322583958,
                        "remaining_time": 0.05879222551
                      },
                      {
                        "learn": [
                          0.02855070162
                        ],
                        "iteration": 798,
                        "passed_time": 0.2324484709,
                        "remaining_time": 0.05847577302
                      },
                      {
                        "learn": [
                          0.028512859
                        ],
                        "iteration": 799,
                        "passed_time": 0.238966376,
                        "remaining_time": 0.059741594
                      },
                      {
                        "learn": [
                          0.02847443857
                        ],
                        "iteration": 800,
                        "passed_time": 0.2448939379,
                        "remaining_time": 0.0608413154
                      },
                      {
                        "learn": [
                          0.02843661431
                        ],
                        "iteration": 801,
                        "passed_time": 0.2455413265,
                        "remaining_time": 0.06061992849
                      },
                      {
                        "learn": [
                          0.02839907218
                        ],
                        "iteration": 802,
                        "passed_time": 0.2460252027,
                        "remaining_time": 0.06035736605
                      },
                      {
                        "learn": [
                          0.02835192799
                        ],
                        "iteration": 803,
                        "passed_time": 0.2464908799,
                        "remaining_time": 0.0600898165
                      },
                      {
                        "learn": [
                          0.02831460502
                        ],
                        "iteration": 804,
                        "passed_time": 0.2468928927,
                        "remaining_time": 0.05980635289
                      },
                      {
                        "learn": [
                          0.02827670855
                        ],
                        "iteration": 805,
                        "passed_time": 0.2475602913,
                        "remaining_time": 0.05958647209
                      },
                      {
                        "learn": [
                          0.02822995692
                        ],
                        "iteration": 806,
                        "passed_time": 0.2480567411,
                        "remaining_time": 0.05932459856
                      },
                      {
                        "learn": [
                          0.02819276602
                        ],
                        "iteration": 807,
                        "passed_time": 0.2484904602,
                        "remaining_time": 0.05904723806
                      },
                      {
                        "learn": [
                          0.02815308234
                        ],
                        "iteration": 808,
                        "passed_time": 0.2488262358,
                        "remaining_time": 0.05874636717
                      },
                      {
                        "learn": [
                          0.02812239188
                        ],
                        "iteration": 809,
                        "passed_time": 0.2491439779,
                        "remaining_time": 0.05844118
                      },
                      {
                        "learn": [
                          0.02809242919
                        ],
                        "iteration": 810,
                        "passed_time": 0.2494351082,
                        "remaining_time": 0.0581297601
                      },
                      {
                        "learn": [
                          0.02805558539
                        ],
                        "iteration": 811,
                        "passed_time": 0.2496021505,
                        "remaining_time": 0.05778966047
                      },
                      {
                        "learn": [
                          0.02801628958
                        ],
                        "iteration": 812,
                        "passed_time": 0.2497893438,
                        "remaining_time": 0.05745462151
                      },
                      {
                        "learn": [
                          0.02797916122
                        ],
                        "iteration": 813,
                        "passed_time": 0.2499381798,
                        "remaining_time": 0.05711118114
                      },
                      {
                        "learn": [
                          0.02793336417
                        ],
                        "iteration": 814,
                        "passed_time": 0.2501023213,
                        "remaining_time": 0.05677169256
                      },
                      {
                        "learn": [
                          0.02788771548
                        ],
                        "iteration": 815,
                        "passed_time": 0.2502737409,
                        "remaining_time": 0.05643427491
                      },
                      {
                        "learn": [
                          0.02784221444
                        ],
                        "iteration": 816,
                        "passed_time": 0.2504363533,
                        "remaining_time": 0.05609529088
                      },
                      {
                        "learn": [
                          0.02779686031
                        ],
                        "iteration": 817,
                        "passed_time": 0.250585573,
                        "remaining_time": 0.05575375829
                      },
                      {
                        "learn": [
                          0.0277516524
                        ],
                        "iteration": 818,
                        "passed_time": 0.2507868598,
                        "remaining_time": 0.05542420223
                      },
                      {
                        "learn": [
                          0.02770659
                        ],
                        "iteration": 819,
                        "passed_time": 0.250978424,
                        "remaining_time": 0.05509282477
                      },
                      {
                        "learn": [
                          0.02766167241
                        ],
                        "iteration": 820,
                        "passed_time": 0.2511355182,
                        "remaining_time": 0.05475427253
                      },
                      {
                        "learn": [
                          0.02761689892
                        ],
                        "iteration": 821,
                        "passed_time": 0.2512974851,
                        "remaining_time": 0.05441721697
                      },
                      {
                        "learn": [
                          0.02758565809
                        ],
                        "iteration": 822,
                        "passed_time": 0.2514866065,
                        "remaining_time": 0.05408642691
                      },
                      {
                        "learn": [
                          0.02754112183
                        ],
                        "iteration": 823,
                        "passed_time": 0.2516394589,
                        "remaining_time": 0.05374823394
                      },
                      {
                        "learn": [
                          0.02749672788
                        ],
                        "iteration": 824,
                        "passed_time": 0.2517889586,
                        "remaining_time": 0.05340977909
                      },
                      {
                        "learn": [
                          0.02745247556
                        ],
                        "iteration": 825,
                        "passed_time": 0.2519385564,
                        "remaining_time": 0.05307180245
                      },
                      {
                        "learn": [
                          0.02740836418
                        ],
                        "iteration": 826,
                        "passed_time": 0.2520898525,
                        "remaining_time": 0.05273463661
                      },
                      {
                        "learn": [
                          0.02736439308
                        ],
                        "iteration": 827,
                        "passed_time": 0.2525034198,
                        "remaining_time": 0.05245240121
                      },
                      {
                        "learn": [
                          0.02732056159
                        ],
                        "iteration": 828,
                        "passed_time": 0.2526543658,
                        "remaining_time": 0.05211567739
                      },
                      {
                        "learn": [
                          0.02728519165
                        ],
                        "iteration": 829,
                        "passed_time": 0.2528044346,
                        "remaining_time": 0.05177922154
                      },
                      {
                        "learn": [
                          0.02724991482
                        ],
                        "iteration": 830,
                        "passed_time": 0.2529498579,
                        "remaining_time": 0.05144226954
                      },
                      {
                        "learn": [
                          0.02721473075
                        ],
                        "iteration": 831,
                        "passed_time": 0.2531392839,
                        "remaining_time": 0.05111466309
                      },
                      {
                        "learn": [
                          0.02717136158
                        ],
                        "iteration": 832,
                        "passed_time": 0.2532836281,
                        "remaining_time": 0.05077835041
                      },
                      {
                        "learn": [
                          0.0271368123
                        ],
                        "iteration": 833,
                        "passed_time": 0.2534444514,
                        "remaining_time": 0.0504457781
                      },
                      {
                        "learn": [
                          0.02710235227
                        ],
                        "iteration": 834,
                        "passed_time": 0.2536190874,
                        "remaining_time": 0.05011634661
                      },
                      {
                        "learn": [
                          0.02707429588
                        ],
                        "iteration": 835,
                        "passed_time": 0.2537978816,
                        "remaining_time": 0.04978810117
                      },
                      {
                        "learn": [
                          0.02703955471
                        ],
                        "iteration": 836,
                        "passed_time": 0.2539430185,
                        "remaining_time": 0.04945365833
                      },
                      {
                        "learn": [
                          0.02700549807
                        ],
                        "iteration": 837,
                        "passed_time": 0.2542973496,
                        "remaining_time": 0.04916010815
                      },
                      {
                        "learn": [
                          0.02696903849
                        ],
                        "iteration": 838,
                        "passed_time": 0.2544819501,
                        "remaining_time": 0.04883384263
                      },
                      {
                        "learn": [
                          0.02692642544
                        ],
                        "iteration": 839,
                        "passed_time": 0.2546296489,
                        "remaining_time": 0.0485008855
                      },
                      {
                        "learn": [
                          0.02688394571
                        ],
                        "iteration": 840,
                        "passed_time": 0.2550150208,
                        "remaining_time": 0.04821330357
                      },
                      {
                        "learn": [
                          0.02685010722
                        ],
                        "iteration": 841,
                        "passed_time": 0.2551752477,
                        "remaining_time": 0.04788324125
                      },
                      {
                        "learn": [
                          0.02681635529
                        ],
                        "iteration": 842,
                        "passed_time": 0.2555648987,
                        "remaining_time": 0.04759630972
                      },
                      {
                        "learn": [
                          0.02678225545
                        ],
                        "iteration": 843,
                        "passed_time": 0.2559002125,
                        "remaining_time": 0.04729909141
                      },
                      {
                        "learn": [
                          0.02674867404
                        ],
                        "iteration": 844,
                        "passed_time": 0.2560624194,
                        "remaining_time": 0.0469700296
                      },
                      {
                        "learn": [
                          0.02671474639
                        ],
                        "iteration": 845,
                        "passed_time": 0.2564474095,
                        "remaining_time": 0.04668191615
                      },
                      {
                        "learn": [
                          0.02669160797
                        ],
                        "iteration": 846,
                        "passed_time": 0.2566275982,
                        "remaining_time": 0.04635657914
                      },
                      {
                        "learn": [
                          0.02665825328
                        ],
                        "iteration": 847,
                        "passed_time": 0.2570188819,
                        "remaining_time": 0.04606942223
                      },
                      {
                        "learn": [
                          0.0266165818
                        ],
                        "iteration": 848,
                        "passed_time": 0.2571705098,
                        "remaining_time": 0.04573939573
                      },
                      {
                        "learn": [
                          0.0265829841
                        ],
                        "iteration": 849,
                        "passed_time": 0.2575661444,
                        "remaining_time": 0.04545284901
                      },
                      {
                        "learn": [
                          0.02654154202
                        ],
                        "iteration": 850,
                        "passed_time": 0.257718405,
                        "remaining_time": 0.04512343401
                      },
                      {
                        "learn": [
                          0.02650628527
                        ],
                        "iteration": 851,
                        "passed_time": 0.2579069546,
                        "remaining_time": 0.04480073859
                      },
                      {
                        "learn": [
                          0.02646508133
                        ],
                        "iteration": 852,
                        "passed_time": 0.258055197,
                        "remaining_time": 0.04447141144
                      },
                      {
                        "learn": [
                          0.02642400428
                        ],
                        "iteration": 853,
                        "passed_time": 0.2582093448,
                        "remaining_time": 0.04414351797
                      },
                      {
                        "learn": [
                          0.02638305352
                        ],
                        "iteration": 854,
                        "passed_time": 0.2583568282,
                        "remaining_time": 0.04381490068
                      },
                      {
                        "learn": [
                          0.02634222848
                        ],
                        "iteration": 855,
                        "passed_time": 0.2585023724,
                        "remaining_time": 0.0434863804
                      },
                      {
                        "learn": [
                          0.02631583258
                        ],
                        "iteration": 856,
                        "passed_time": 0.2586810647,
                        "remaining_time": 0.04316381827
                      },
                      {
                        "learn": [
                          0.02628118329
                        ],
                        "iteration": 857,
                        "passed_time": 0.2588593071,
                        "remaining_time": 0.04284151702
                      },
                      {
                        "learn": [
                          0.02624066926
                        ],
                        "iteration": 858,
                        "passed_time": 0.2590042568,
                        "remaining_time": 0.04251408639
                      },
                      {
                        "learn": [
                          0.0262085303
                        ],
                        "iteration": 859,
                        "passed_time": 0.2591641019,
                        "remaining_time": 0.04218950496
                      },
                      {
                        "learn": [
                          0.02616823442
                        ],
                        "iteration": 860,
                        "passed_time": 0.2593262815,
                        "remaining_time": 0.04186568308
                      },
                      {
                        "learn": [
                          0.02612806128
                        ],
                        "iteration": 861,
                        "passed_time": 0.2594977739,
                        "remaining_time": 0.04154372715
                      },
                      {
                        "learn": [
                          0.02609563872
                        ],
                        "iteration": 862,
                        "passed_time": 0.259690268,
                        "remaining_time": 0.04122545391
                      },
                      {
                        "learn": [
                          0.02605568292
                        ],
                        "iteration": 863,
                        "passed_time": 0.2598528104,
                        "remaining_time": 0.0409027572
                      },
                      {
                        "learn": [
                          0.02602398339
                        ],
                        "iteration": 864,
                        "passed_time": 0.2600192937,
                        "remaining_time": 0.04058104584
                      },
                      {
                        "learn": [
                          0.02599221718
                        ],
                        "iteration": 865,
                        "passed_time": 0.2601943715,
                        "remaining_time": 0.04026102284
                      },
                      {
                        "learn": [
                          0.02597027077
                        ],
                        "iteration": 866,
                        "passed_time": 0.2603793275,
                        "remaining_time": 0.03994284954
                      },
                      {
                        "learn": [
                          0.02593650711
                        ],
                        "iteration": 867,
                        "passed_time": 0.2605622053,
                        "remaining_time": 0.03962466716
                      },
                      {
                        "learn": [
                          0.025905091
                        ],
                        "iteration": 868,
                        "passed_time": 0.2607032813,
                        "remaining_time": 0.03930049465
                      },
                      {
                        "learn": [
                          0.02587149762
                        ],
                        "iteration": 869,
                        "passed_time": 0.2608797328,
                        "remaining_time": 0.03898202903
                      },
                      {
                        "learn": [
                          0.02584023391
                        ],
                        "iteration": 870,
                        "passed_time": 0.2610239743,
                        "remaining_time": 0.03865911904
                      },
                      {
                        "learn": [
                          0.02580103495
                        ],
                        "iteration": 871,
                        "passed_time": 0.2611697103,
                        "remaining_time": 0.03833683821
                      },
                      {
                        "learn": [
                          0.02576993862
                        ],
                        "iteration": 872,
                        "passed_time": 0.2613112637,
                        "remaining_time": 0.03801435336
                      },
                      {
                        "learn": [
                          0.02573094745
                        ],
                        "iteration": 873,
                        "passed_time": 0.2614570188,
                        "remaining_time": 0.03769288829
                      },
                      {
                        "learn": [
                          0.0256920732
                        ],
                        "iteration": 874,
                        "passed_time": 0.2616469829,
                        "remaining_time": 0.03737814042
                      },
                      {
                        "learn": [
                          0.0256610875
                        ],
                        "iteration": 875,
                        "passed_time": 0.2618384307,
                        "remaining_time": 0.03706388745
                      },
                      {
                        "learn": [
                          0.02562241899
                        ],
                        "iteration": 876,
                        "passed_time": 0.2619961422,
                        "remaining_time": 0.036745183
                      },
                      {
                        "learn": [
                          0.02559159857
                        ],
                        "iteration": 877,
                        "passed_time": 0.2621863891,
                        "remaining_time": 0.03643136613
                      },
                      {
                        "learn": [
                          0.0255531342
                        ],
                        "iteration": 878,
                        "passed_time": 0.262344596,
                        "remaining_time": 0.03611341993
                      },
                      {
                        "learn": [
                          0.02551478441
                        ],
                        "iteration": 879,
                        "passed_time": 0.2624943357,
                        "remaining_time": 0.03579468214
                      },
                      {
                        "learn": [
                          0.02548421612
                        ],
                        "iteration": 880,
                        "passed_time": 0.2626458926,
                        "remaining_time": 0.03547657346
                      },
                      {
                        "learn": [
                          0.02545385891
                        ],
                        "iteration": 881,
                        "passed_time": 0.262797285,
                        "remaining_time": 0.03515882045
                      },
                      {
                        "learn": [
                          0.02542357526
                        ],
                        "iteration": 882,
                        "passed_time": 0.2629503274,
                        "remaining_time": 0.03484166286
                      },
                      {
                        "learn": [
                          0.0253911874
                        ],
                        "iteration": 883,
                        "passed_time": 0.2631323398,
                        "remaining_time": 0.03452867807
                      },
                      {
                        "learn": [
                          0.02535888896
                        ],
                        "iteration": 884,
                        "passed_time": 0.2633146621,
                        "remaining_time": 0.03421602954
                      },
                      {
                        "learn": [
                          0.02532868176
                        ],
                        "iteration": 885,
                        "passed_time": 0.2634989635,
                        "remaining_time": 0.03390392984
                      },
                      {
                        "learn": [
                          0.02530424069
                        ],
                        "iteration": 886,
                        "passed_time": 0.2636895168,
                        "remaining_time": 0.03359291476
                      },
                      {
                        "learn": [
                          0.02526661592
                        ],
                        "iteration": 887,
                        "passed_time": 0.2638558455,
                        "remaining_time": 0.03327911565
                      },
                      {
                        "learn": [
                          0.02523623353
                        ],
                        "iteration": 888,
                        "passed_time": 0.2640181697,
                        "remaining_time": 0.0329651483
                      },
                      {
                        "learn": [
                          0.02520592559
                        ],
                        "iteration": 889,
                        "passed_time": 0.2641757612,
                        "remaining_time": 0.03265093677
                      },
                      {
                        "learn": [
                          0.02516858434
                        ],
                        "iteration": 890,
                        "passed_time": 0.2643244663,
                        "remaining_time": 0.03233598971
                      },
                      {
                        "learn": [
                          0.02513895517
                        ],
                        "iteration": 891,
                        "passed_time": 0.2644788942,
                        "remaining_time": 0.03202210826
                      },
                      {
                        "learn": [
                          0.02510939697
                        ],
                        "iteration": 892,
                        "passed_time": 0.2646338684,
                        "remaining_time": 0.0317086494
                      },
                      {
                        "learn": [
                          0.02507233264
                        ],
                        "iteration": 893,
                        "passed_time": 0.2647855244,
                        "remaining_time": 0.03139515166
                      },
                      {
                        "learn": [
                          0.02504292854
                        ],
                        "iteration": 894,
                        "passed_time": 0.2649331568,
                        "remaining_time": 0.03108154354
                      },
                      {
                        "learn": [
                          0.0250130752
                        ],
                        "iteration": 895,
                        "passed_time": 0.2650843829,
                        "remaining_time": 0.03076872301
                      },
                      {
                        "learn": [
                          0.02498922559
                        ],
                        "iteration": 896,
                        "passed_time": 0.2652693243,
                        "remaining_time": 0.03046013423
                      },
                      {
                        "learn": [
                          0.02495250449
                        ],
                        "iteration": 897,
                        "passed_time": 0.2654174076,
                        "remaining_time": 0.03014763427
                      },
                      {
                        "learn": [
                          0.02491589039
                        ],
                        "iteration": 898,
                        "passed_time": 0.2655835472,
                        "remaining_time": 0.02983752867
                      },
                      {
                        "learn": [
                          0.02488633127
                        ],
                        "iteration": 899,
                        "passed_time": 0.265785725,
                        "remaining_time": 0.02953174722
                      },
                      {
                        "learn": [
                          0.02486220812
                        ],
                        "iteration": 900,
                        "passed_time": 0.2659769937,
                        "remaining_time": 0.02922499709
                      },
                      {
                        "learn": [
                          0.024833284
                        ],
                        "iteration": 901,
                        "passed_time": 0.2661719987,
                        "remaining_time": 0.02891890895
                      },
                      {
                        "learn": [
                          0.02479700868
                        ],
                        "iteration": 902,
                        "passed_time": 0.2663234475,
                        "remaining_time": 0.02860838805
                      },
                      {
                        "learn": [
                          0.02476809233
                        ],
                        "iteration": 903,
                        "passed_time": 0.2665155334,
                        "remaining_time": 0.02830253452
                      },
                      {
                        "learn": [
                          0.02473200281
                        ],
                        "iteration": 904,
                        "passed_time": 0.2666994512,
                        "remaining_time": 0.02799607499
                      },
                      {
                        "learn": [
                          0.02470867493
                        ],
                        "iteration": 905,
                        "passed_time": 0.2669270035,
                        "remaining_time": 0.02769441316
                      },
                      {
                        "learn": [
                          0.02468539322
                        ],
                        "iteration": 906,
                        "passed_time": 0.2671101413,
                        "remaining_time": 0.02738836068
                      },
                      {
                        "learn": [
                          0.02465687149
                        ],
                        "iteration": 907,
                        "passed_time": 0.2672606182,
                        "remaining_time": 0.02707926969
                      },
                      {
                        "learn": [
                          0.02462109624
                        ],
                        "iteration": 908,
                        "passed_time": 0.2674146661,
                        "remaining_time": 0.02677088516
                      },
                      {
                        "learn": [
                          0.02458542396
                        ],
                        "iteration": 909,
                        "passed_time": 0.2675707321,
                        "remaining_time": 0.02646303944
                      },
                      {
                        "learn": [
                          0.02455662462
                        ],
                        "iteration": 910,
                        "passed_time": 0.2677570071,
                        "remaining_time": 0.0261584782
                      },
                      {
                        "learn": [
                          0.02452636503
                        ],
                        "iteration": 911,
                        "passed_time": 0.2679526276,
                        "remaining_time": 0.02585507811
                      },
                      {
                        "learn": [
                          0.02449096306
                        ],
                        "iteration": 912,
                        "passed_time": 0.2680992764,
                        "remaining_time": 0.02554724759
                      },
                      {
                        "learn": [
                          0.02446273299
                        ],
                        "iteration": 913,
                        "passed_time": 0.2682792124,
                        "remaining_time": 0.02524290182
                      },
                      {
                        "learn": [
                          0.02442751026
                        ],
                        "iteration": 914,
                        "passed_time": 0.2684284375,
                        "remaining_time": 0.02493597507
                      },
                      {
                        "learn": [
                          0.02439757021
                        ],
                        "iteration": 915,
                        "passed_time": 0.2686522143,
                        "remaining_time": 0.02463622926
                      },
                      {
                        "learn": [
                          0.02436253457
                        ],
                        "iteration": 916,
                        "passed_time": 0.2688142912,
                        "remaining_time": 0.02433106453
                      },
                      {
                        "learn": [
                          0.02433975108
                        ],
                        "iteration": 917,
                        "passed_time": 0.2690209417,
                        "remaining_time": 0.02403019305
                      },
                      {
                        "learn": [
                          0.02431003306
                        ],
                        "iteration": 918,
                        "passed_time": 0.269205495,
                        "remaining_time": 0.02372757899
                      },
                      {
                        "learn": [
                          0.02428220278
                        ],
                        "iteration": 919,
                        "passed_time": 0.2693923309,
                        "remaining_time": 0.02342542008
                      },
                      {
                        "learn": [
                          0.02425443746
                        ],
                        "iteration": 920,
                        "passed_time": 0.2695766478,
                        "remaining_time": 0.02312329552
                      },
                      {
                        "learn": [
                          0.02422638145
                        ],
                        "iteration": 921,
                        "passed_time": 0.2697762537,
                        "remaining_time": 0.02282271995
                      },
                      {
                        "learn": [
                          0.02419182334
                        ],
                        "iteration": 922,
                        "passed_time": 0.2699301407,
                        "remaining_time": 0.02251854911
                      },
                      {
                        "learn": [
                          0.02415736303
                        ],
                        "iteration": 923,
                        "passed_time": 0.270099124,
                        "remaining_time": 0.02221594526
                      },
                      {
                        "learn": [
                          0.02412952642
                        ],
                        "iteration": 924,
                        "passed_time": 0.2702590436,
                        "remaining_time": 0.02191289543
                      },
                      {
                        "learn": [
                          0.02410175526
                        ],
                        "iteration": 925,
                        "passed_time": 0.2704494487,
                        "remaining_time": 0.02161259093
                      },
                      {
                        "learn": [
                          0.02406754405
                        ],
                        "iteration": 926,
                        "passed_time": 0.2706379337,
                        "remaining_time": 0.02131237234
                      },
                      {
                        "learn": [
                          0.02404361103
                        ],
                        "iteration": 927,
                        "passed_time": 0.2708325242,
                        "remaining_time": 0.02101286826
                      },
                      {
                        "learn": [
                          0.02401638001
                        ],
                        "iteration": 928,
                        "passed_time": 0.2709854748,
                        "remaining_time": 0.02071040765
                      },
                      {
                        "learn": [
                          0.02398240232
                        ],
                        "iteration": 929,
                        "passed_time": 0.2711562617,
                        "remaining_time": 0.0204096111
                      },
                      {
                        "learn": [
                          0.02395496494
                        ],
                        "iteration": 930,
                        "passed_time": 0.2714471738,
                        "remaining_time": 0.02011799677
                      },
                      {
                        "learn": [
                          0.02392759164
                        ],
                        "iteration": 931,
                        "passed_time": 0.2716111907,
                        "remaining_time": 0.0198171255
                      },
                      {
                        "learn": [
                          0.02390061954
                        ],
                        "iteration": 932,
                        "passed_time": 0.2717618277,
                        "remaining_time": 0.01951558677
                      },
                      {
                        "learn": [
                          0.0238669586
                        ],
                        "iteration": 933,
                        "passed_time": 0.2719327982,
                        "remaining_time": 0.01921580801
                      },
                      {
                        "learn": [
                          0.02383339175
                        ],
                        "iteration": 934,
                        "passed_time": 0.2720865079,
                        "remaining_time": 0.01891510483
                      },
                      {
                        "learn": [
                          0.02380675051
                        ],
                        "iteration": 935,
                        "passed_time": 0.2722463148,
                        "remaining_time": 0.01861513264
                      },
                      {
                        "learn": [
                          0.0237833331
                        ],
                        "iteration": 936,
                        "passed_time": 0.2724302153,
                        "remaining_time": 0.01831707958
                      },
                      {
                        "learn": [
                          0.02374999287
                        ],
                        "iteration": 937,
                        "passed_time": 0.2726061386,
                        "remaining_time": 0.01801874264
                      },
                      {
                        "learn": [
                          0.02372353752
                        ],
                        "iteration": 938,
                        "passed_time": 0.272776501,
                        "remaining_time": 0.01772030517
                      },
                      {
                        "learn": [
                          0.02369036095
                        ],
                        "iteration": 939,
                        "passed_time": 0.2729308515,
                        "remaining_time": 0.01742111818
                      },
                      {
                        "learn": [
                          0.02365727649
                        ],
                        "iteration": 940,
                        "passed_time": 0.2730933166,
                        "remaining_time": 0.0171227478
                      },
                      {
                        "learn": [
                          0.02363056587
                        ],
                        "iteration": 941,
                        "passed_time": 0.2732632517,
                        "remaining_time": 0.0168251259
                      },
                      {
                        "learn": [
                          0.02360424583
                        ],
                        "iteration": 942,
                        "passed_time": 0.2734501031,
                        "remaining_time": 0.01652879733
                      },
                      {
                        "learn": [
                          0.02357139484
                        ],
                        "iteration": 943,
                        "passed_time": 0.273601541,
                        "remaining_time": 0.01623059989
                      },
                      {
                        "learn": [
                          0.02354487561
                        ],
                        "iteration": 944,
                        "passed_time": 0.2737651325,
                        "remaining_time": 0.01593342041
                      },
                      {
                        "learn": [
                          0.02351886603
                        ],
                        "iteration": 945,
                        "passed_time": 0.2739566948,
                        "remaining_time": 0.01563812
                      },
                      {
                        "learn": [
                          0.02349279148
                        ],
                        "iteration": 946,
                        "passed_time": 0.2741420308,
                        "remaining_time": 0.01534269021
                      },
                      {
                        "learn": [
                          0.02346502934
                        ],
                        "iteration": 947,
                        "passed_time": 0.2743337294,
                        "remaining_time": 0.0150478417
                      },
                      {
                        "learn": [
                          0.02343907075
                        ],
                        "iteration": 948,
                        "passed_time": 0.2744970764,
                        "remaining_time": 0.01475168693
                      },
                      {
                        "learn": [
                          0.02341761428
                        ],
                        "iteration": 949,
                        "passed_time": 0.2746824787,
                        "remaining_time": 0.01445697256
                      },
                      {
                        "learn": [
                          0.02339187878
                        ],
                        "iteration": 950,
                        "passed_time": 0.2748358556,
                        "remaining_time": 0.01416083799
                      },
                      {
                        "learn": [
                          0.02335959947
                        ],
                        "iteration": 951,
                        "passed_time": 0.2750055216,
                        "remaining_time": 0.01386582462
                      },
                      {
                        "learn": [
                          0.02333398959
                        ],
                        "iteration": 952,
                        "passed_time": 0.2751923012,
                        "remaining_time": 0.01357191832
                      },
                      {
                        "learn": [
                          0.02330799304
                        ],
                        "iteration": 953,
                        "passed_time": 0.2753421527,
                        "remaining_time": 0.013276456
                      },
                      {
                        "learn": [
                          0.02328205564
                        ],
                        "iteration": 954,
                        "passed_time": 0.275526486,
                        "remaining_time": 0.01298292342
                      },
                      {
                        "learn": [
                          0.02325006957
                        ],
                        "iteration": 955,
                        "passed_time": 0.275674792,
                        "remaining_time": 0.01268796114
                      },
                      {
                        "learn": [
                          0.02322457584
                        ],
                        "iteration": 956,
                        "passed_time": 0.2758274426,
                        "remaining_time": 0.01239350056
                      },
                      {
                        "learn": [
                          0.02319274408
                        ],
                        "iteration": 957,
                        "passed_time": 0.2760009959,
                        "remaining_time": 0.01210025243
                      },
                      {
                        "learn": [
                          0.02317216237
                        ],
                        "iteration": 958,
                        "passed_time": 0.2762030454,
                        "remaining_time": 0.01180847222
                      },
                      {
                        "learn": [
                          0.02314047171
                        ],
                        "iteration": 959,
                        "passed_time": 0.2763516133,
                        "remaining_time": 0.01151465055
                      },
                      {
                        "learn": [
                          0.0231135191
                        ],
                        "iteration": 960,
                        "passed_time": 0.2765336202,
                        "remaining_time": 0.01122248823
                      },
                      {
                        "learn": [
                          0.02308198861
                        ],
                        "iteration": 961,
                        "passed_time": 0.2766970507,
                        "remaining_time": 0.01092982113
                      },
                      {
                        "learn": [
                          0.02305054355
                        ],
                        "iteration": 962,
                        "passed_time": 0.2768511968,
                        "remaining_time": 0.01063706571
                      },
                      {
                        "learn": [
                          0.02302855737
                        ],
                        "iteration": 963,
                        "passed_time": 0.2770527636,
                        "remaining_time": 0.01034636877
                      },
                      {
                        "learn": [
                          0.02300365093
                        ],
                        "iteration": 964,
                        "passed_time": 0.2772067906,
                        "remaining_time": 0.0100541323
                      },
                      {
                        "learn": [
                          0.02297241166
                        ],
                        "iteration": 965,
                        "passed_time": 0.2773586439,
                        "remaining_time": 0.009762105478
                      },
                      {
                        "learn": [
                          0.02294125667
                        ],
                        "iteration": 966,
                        "passed_time": 0.2775095654,
                        "remaining_time": 0.009470336771
                      },
                      {
                        "learn": [
                          0.02292405374
                        ],
                        "iteration": 967,
                        "passed_time": 0.2777159231,
                        "remaining_time": 0.009180691673
                      },
                      {
                        "learn": [
                          0.02290351277
                        ],
                        "iteration": 968,
                        "passed_time": 0.2779207809,
                        "remaining_time": 0.008891170492
                      },
                      {
                        "learn": [
                          0.02287253933
                        ],
                        "iteration": 969,
                        "passed_time": 0.2780751814,
                        "remaining_time": 0.008600263343
                      },
                      {
                        "learn": [
                          0.0228416491
                        ],
                        "iteration": 970,
                        "passed_time": 0.2783201645,
                        "remaining_time": 0.00831234271
                      },
                      {
                        "learn": [
                          0.02281671175
                        ],
                        "iteration": 971,
                        "passed_time": 0.2785239368,
                        "remaining_time": 0.008023323283
                      },
                      {
                        "learn": [
                          0.02278596902
                        ],
                        "iteration": 972,
                        "passed_time": 0.2786876465,
                        "remaining_time": 0.007733367374
                      },
                      {
                        "learn": [
                          0.02276899389
                        ],
                        "iteration": 973,
                        "passed_time": 0.2788750752,
                        "remaining_time": 0.007444303855
                      },
                      {
                        "learn": [
                          0.02274421363
                        ],
                        "iteration": 974,
                        "passed_time": 0.2790573802,
                        "remaining_time": 0.007155317442
                      },
                      {
                        "learn": [
                          0.02271366006
                        ],
                        "iteration": 975,
                        "passed_time": 0.2792102208,
                        "remaining_time": 0.006865825102
                      },
                      {
                        "learn": [
                          0.02269679241
                        ],
                        "iteration": 976,
                        "passed_time": 0.2793943322,
                        "remaining_time": 0.006577348661
                      },
                      {
                        "learn": [
                          0.02266636284
                        ],
                        "iteration": 977,
                        "passed_time": 0.279546541,
                        "remaining_time": 0.006288367998
                      },
                      {
                        "learn": [
                          0.02264180174
                        ],
                        "iteration": 978,
                        "passed_time": 0.2797353924,
                        "remaining_time": 0.006000452749
                      },
                      {
                        "learn": [
                          0.02261758875
                        ],
                        "iteration": 979,
                        "passed_time": 0.2799211384,
                        "remaining_time": 0.005712676294
                      },
                      {
                        "learn": [
                          0.02259181993
                        ],
                        "iteration": 980,
                        "passed_time": 0.2801235516,
                        "remaining_time": 0.005425430663
                      },
                      {
                        "learn": [
                          0.02256166603
                        ],
                        "iteration": 981,
                        "passed_time": 0.2802871658,
                        "remaining_time": 0.005137646623
                      },
                      {
                        "learn": [
                          0.0225405812
                        ],
                        "iteration": 982,
                        "passed_time": 0.2804877808,
                        "remaining_time": 0.004850755111
                      },
                      {
                        "learn": [
                          0.02251628776
                        ],
                        "iteration": 983,
                        "passed_time": 0.2806371669,
                        "remaining_time": 0.004563205965
                      },
                      {
                        "learn": [
                          0.02249233805
                        ],
                        "iteration": 984,
                        "passed_time": 0.2807912802,
                        "remaining_time": 0.004276009343
                      },
                      {
                        "learn": [
                          0.02246855159
                        ],
                        "iteration": 985,
                        "passed_time": 0.2809436371,
                        "remaining_time": 0.003989057728
                      },
                      {
                        "learn": [
                          0.02243871406
                        ],
                        "iteration": 986,
                        "passed_time": 0.2810939322,
                        "remaining_time": 0.003702351691
                      },
                      {
                        "learn": [
                          0.02240895529
                        ],
                        "iteration": 987,
                        "passed_time": 0.281249071,
                        "remaining_time": 0.00341598062
                      },
                      {
                        "learn": [
                          0.02238494023
                        ],
                        "iteration": 988,
                        "passed_time": 0.2814531306,
                        "remaining_time": 0.003130419046
                      },
                      {
                        "learn": [
                          0.02236573899
                        ],
                        "iteration": 989,
                        "passed_time": 0.2816349375,
                        "remaining_time": 0.002844797348
                      },
                      {
                        "learn": [
                          0.02234502009
                        ],
                        "iteration": 990,
                        "passed_time": 0.2818205689,
                        "remaining_time": 0.002559419899
                      },
                      {
                        "learn": [
                          0.0223243434
                        ],
                        "iteration": 991,
                        "passed_time": 0.2820191148,
                        "remaining_time": 0.0022743477
                      },
                      {
                        "learn": [
                          0.02230090903
                        ],
                        "iteration": 992,
                        "passed_time": 0.2821750072,
                        "remaining_time": 0.001989149094
                      },
                      {
                        "learn": [
                          0.02227150047
                        ],
                        "iteration": 993,
                        "passed_time": 0.2823287614,
                        "remaining_time": 0.001704197755
                      },
                      {
                        "learn": [
                          0.02224806256
                        ],
                        "iteration": 994,
                        "passed_time": 0.2825672346,
                        "remaining_time": 0.001419935852
                      },
                      {
                        "learn": [
                          0.02222756808
                        ],
                        "iteration": 995,
                        "passed_time": 0.2827499233,
                        "remaining_time": 0.00113554186
                      },
                      {
                        "learn": [
                          0.02219834623
                        ],
                        "iteration": 996,
                        "passed_time": 0.2829149902,
                        "remaining_time": 0.0008512988671
                      },
                      {
                        "learn": [
                          0.02216920077
                        ],
                        "iteration": 997,
                        "passed_time": 0.2830883798,
                        "remaining_time": 0.0005673113824
                      },
                      {
                        "learn": [
                          0.02214569227
                        ],
                        "iteration": 998,
                        "passed_time": 0.2832751458,
                        "remaining_time": 0.0002835587045
                      },
                      {
                        "learn": [
                          0.02212251559
                        ],
                        "iteration": 999,
                        "passed_time": 0.2834243327,
                        "remaining_time": 0
                      }
                    ],
                    "meta": {
                      "test_sets": [],
                      "test_metrics": [],
                      "learn_metrics": [
                        {
                          "best_value": "Min",
                          "name": "MultiClass"
                        }
                      ],
                      "launch_mode": "Train",
                      "parameters": "",
                      "iteration_count": 1000,
                      "learn_sets": [
                        "learn"
                      ],
                      "name": "experiment"
                    }
                  }
                }
              }
            },
            "layout": "IPY_MODEL_122f63821e174eb69686e966e7996038"
          }
        },
        "0ef1bab5bb394efea81afe0ba5ce3ad8": {
          "model_module": "catboost-widget",
          "model_name": "CatboostWidgetModel",
          "model_module_version": "^1.0.0",
          "state": {
            "_dom_classes": [],
            "_model_module": "catboost-widget",
            "_model_module_version": "^1.0.0",
            "_model_name": "CatboostWidgetModel",
            "_view_count": null,
            "_view_module": "catboost-widget",
            "_view_module_version": "^1.0.0",
            "_view_name": "CatboostWidgetView",
            "data": {
              "catboost_info": {
                "path": "catboost_info",
                "name": "catboost_info",
                "content": {
                  "passed_iterations": 999,
                  "total_iterations": 1000,
                  "data": {
                    "iterations": [
                      {
                        "learn": [
                          1.372260904
                        ],
                        "iteration": 0,
                        "passed_time": 0.0004226754593,
                        "remaining_time": 0.4222527839
                      },
                      {
                        "learn": [
                          1.360137227
                        ],
                        "iteration": 1,
                        "passed_time": 0.0007024812243,
                        "remaining_time": 0.3505381309
                      },
                      {
                        "learn": [
                          1.344203456
                        ],
                        "iteration": 2,
                        "passed_time": 0.000916322585,
                        "remaining_time": 0.3045245391
                      },
                      {
                        "learn": [
                          1.330599517
                        ],
                        "iteration": 3,
                        "passed_time": 0.001137547566,
                        "remaining_time": 0.283249344
                      },
                      {
                        "learn": [
                          1.313355785
                        ],
                        "iteration": 4,
                        "passed_time": 0.001337827138,
                        "remaining_time": 0.2662276004
                      },
                      {
                        "learn": [
                          1.296374078
                        ],
                        "iteration": 5,
                        "passed_time": 0.001530108545,
                        "remaining_time": 0.2534879822
                      },
                      {
                        "learn": [
                          1.28326962
                        ],
                        "iteration": 6,
                        "passed_time": 0.001772098027,
                        "remaining_time": 0.251384763
                      },
                      {
                        "learn": [
                          1.274907589
                        ],
                        "iteration": 7,
                        "passed_time": 0.001979113948,
                        "remaining_time": 0.2454101295
                      },
                      {
                        "learn": [
                          1.260046865
                        ],
                        "iteration": 8,
                        "passed_time": 0.002195950756,
                        "remaining_time": 0.2417985777
                      },
                      {
                        "learn": [
                          1.253480917
                        ],
                        "iteration": 9,
                        "passed_time": 0.002347141342,
                        "remaining_time": 0.2323669929
                      },
                      {
                        "learn": [
                          1.240833177
                        ],
                        "iteration": 10,
                        "passed_time": 0.002591004457,
                        "remaining_time": 0.2329548552
                      },
                      {
                        "learn": [
                          1.232851827
                        ],
                        "iteration": 11,
                        "passed_time": 0.002755328651,
                        "remaining_time": 0.2268553922
                      },
                      {
                        "learn": [
                          1.220270749
                        ],
                        "iteration": 12,
                        "passed_time": 0.002916321942,
                        "remaining_time": 0.2214161352
                      },
                      {
                        "learn": [
                          1.206197944
                        ],
                        "iteration": 13,
                        "passed_time": 0.003067958891,
                        "remaining_time": 0.2160719619
                      },
                      {
                        "learn": [
                          1.194064274
                        ],
                        "iteration": 14,
                        "passed_time": 0.003444083541,
                        "remaining_time": 0.2261614858
                      },
                      {
                        "learn": [
                          1.186337452
                        ],
                        "iteration": 15,
                        "passed_time": 0.003616634081,
                        "remaining_time": 0.222422996
                      },
                      {
                        "learn": [
                          1.174352612
                        ],
                        "iteration": 16,
                        "passed_time": 0.003775676468,
                        "remaining_time": 0.2183229393
                      },
                      {
                        "learn": [
                          1.159421454
                        ],
                        "iteration": 17,
                        "passed_time": 0.003972277865,
                        "remaining_time": 0.2167098258
                      },
                      {
                        "learn": [
                          1.149218422
                        ],
                        "iteration": 18,
                        "passed_time": 0.004181311054,
                        "remaining_time": 0.2158876918
                      },
                      {
                        "learn": [
                          1.140539098
                        ],
                        "iteration": 19,
                        "passed_time": 0.004332469822,
                        "remaining_time": 0.2122910213
                      },
                      {
                        "learn": [
                          1.125944944
                        ],
                        "iteration": 20,
                        "passed_time": 0.004520393965,
                        "remaining_time": 0.2107364615
                      },
                      {
                        "learn": [
                          1.114707042
                        ],
                        "iteration": 21,
                        "passed_time": 0.00470847629,
                        "remaining_time": 0.2093131733
                      },
                      {
                        "learn": [
                          1.105051896
                        ],
                        "iteration": 22,
                        "passed_time": 0.004904800415,
                        "remaining_time": 0.2083473916
                      },
                      {
                        "learn": [
                          1.094051038
                        ],
                        "iteration": 23,
                        "passed_time": 0.005158034419,
                        "remaining_time": 0.2097600664
                      },
                      {
                        "learn": [
                          1.080297763
                        ],
                        "iteration": 24,
                        "passed_time": 0.005462730131,
                        "remaining_time": 0.2130464751
                      },
                      {
                        "learn": [
                          1.069618257
                        ],
                        "iteration": 25,
                        "passed_time": 0.005635668852,
                        "remaining_time": 0.2111208254
                      },
                      {
                        "learn": [
                          1.059024009
                        ],
                        "iteration": 26,
                        "passed_time": 0.005889572854,
                        "remaining_time": 0.2122427551
                      },
                      {
                        "learn": [
                          1.048552155
                        ],
                        "iteration": 27,
                        "passed_time": 0.006145373216,
                        "remaining_time": 0.2133322416
                      },
                      {
                        "learn": [
                          1.035506079
                        ],
                        "iteration": 28,
                        "passed_time": 0.006368866374,
                        "remaining_time": 0.2132472155
                      },
                      {
                        "learn": [
                          1.025307825
                        ],
                        "iteration": 29,
                        "passed_time": 0.006609474041,
                        "remaining_time": 0.2137063273
                      },
                      {
                        "learn": [
                          1.01522859
                        ],
                        "iteration": 30,
                        "passed_time": 0.006796568186,
                        "remaining_time": 0.2124475669
                      },
                      {
                        "learn": [
                          1.005267328
                        ],
                        "iteration": 31,
                        "passed_time": 0.007063550342,
                        "remaining_time": 0.2136723979
                      },
                      {
                        "learn": [
                          0.9966622121
                        ],
                        "iteration": 32,
                        "passed_time": 0.00732157979,
                        "remaining_time": 0.2145444745
                      },
                      {
                        "learn": [
                          0.9869193601
                        ],
                        "iteration": 33,
                        "passed_time": 0.007509411207,
                        "remaining_time": 0.2133556243
                      },
                      {
                        "learn": [
                          0.9785260129
                        ],
                        "iteration": 34,
                        "passed_time": 0.007697239896,
                        "remaining_time": 0.2122239
                      },
                      {
                        "learn": [
                          0.9676341792
                        ],
                        "iteration": 35,
                        "passed_time": 0.007892800386,
                        "remaining_time": 0.2113516548
                      },
                      {
                        "learn": [
                          0.9582343832
                        ],
                        "iteration": 36,
                        "passed_time": 0.008129068972,
                        "remaining_time": 0.2115754978
                      },
                      {
                        "learn": [
                          0.9465582037
                        ],
                        "iteration": 37,
                        "passed_time": 0.008314449484,
                        "remaining_time": 0.2104868527
                      },
                      {
                        "learn": [
                          0.9361728349
                        ],
                        "iteration": 38,
                        "passed_time": 0.008502885445,
                        "remaining_time": 0.2095198183
                      },
                      {
                        "learn": [
                          0.9271476205
                        ],
                        "iteration": 39,
                        "passed_time": 0.00870763137,
                        "remaining_time": 0.2089831529
                      },
                      {
                        "learn": [
                          0.9182303282
                        ],
                        "iteration": 40,
                        "passed_time": 0.008891620977,
                        "remaining_time": 0.2079771833
                      },
                      {
                        "learn": [
                          0.9082312801
                        ],
                        "iteration": 41,
                        "passed_time": 0.009077112398,
                        "remaining_time": 0.2070446114
                      },
                      {
                        "learn": [
                          0.8984229143
                        ],
                        "iteration": 42,
                        "passed_time": 0.009265873812,
                        "remaining_time": 0.2062195637
                      },
                      {
                        "learn": [
                          0.8908939933
                        ],
                        "iteration": 43,
                        "passed_time": 0.009452245232,
                        "remaining_time": 0.20537151
                      },
                      {
                        "learn": [
                          0.8835806112
                        ],
                        "iteration": 44,
                        "passed_time": 0.009638068471,
                        "remaining_time": 0.2045412309
                      },
                      {
                        "learn": [
                          0.8781796229
                        ],
                        "iteration": 45,
                        "passed_time": 0.009789756328,
                        "remaining_time": 0.2030310334
                      },
                      {
                        "learn": [
                          0.8710268535
                        ],
                        "iteration": 46,
                        "passed_time": 0.009978843196,
                        "remaining_time": 0.2023369695
                      },
                      {
                        "learn": [
                          0.8639366236
                        ],
                        "iteration": 47,
                        "passed_time": 0.01023621537,
                        "remaining_time": 0.2030182716
                      },
                      {
                        "learn": [
                          0.8544904872
                        ],
                        "iteration": 48,
                        "passed_time": 0.01042369861,
                        "remaining_time": 0.2023048444
                      },
                      {
                        "learn": [
                          0.8464475654
                        ],
                        "iteration": 49,
                        "passed_time": 0.01060839094,
                        "remaining_time": 0.2015594279
                      },
                      {
                        "learn": [
                          0.8394713985
                        ],
                        "iteration": 50,
                        "passed_time": 0.01080468507,
                        "remaining_time": 0.2010518848
                      },
                      {
                        "learn": [
                          0.8327232843
                        ],
                        "iteration": 51,
                        "passed_time": 0.01101256371,
                        "remaining_time": 0.2007675077
                      },
                      {
                        "learn": [
                          0.824944159
                        ],
                        "iteration": 52,
                        "passed_time": 0.01121467964,
                        "remaining_time": 0.2003830495
                      },
                      {
                        "learn": [
                          0.8153006404
                        ],
                        "iteration": 53,
                        "passed_time": 0.01139859198,
                        "remaining_time": 0.1996864446
                      },
                      {
                        "learn": [
                          0.8038126128
                        ],
                        "iteration": 54,
                        "passed_time": 0.01158634703,
                        "remaining_time": 0.1990745081
                      },
                      {
                        "learn": [
                          0.7963850615
                        ],
                        "iteration": 55,
                        "passed_time": 0.01191296906,
                        "remaining_time": 0.2008186213
                      },
                      {
                        "learn": [
                          0.791555024
                        ],
                        "iteration": 56,
                        "passed_time": 0.01206428601,
                        "remaining_time": 0.1995898545
                      },
                      {
                        "learn": [
                          0.7824504311
                        ],
                        "iteration": 57,
                        "passed_time": 0.01225456469,
                        "remaining_time": 0.1990310334
                      },
                      {
                        "learn": [
                          0.7734974821
                        ],
                        "iteration": 58,
                        "passed_time": 0.01244531246,
                        "remaining_time": 0.1984921869
                      },
                      {
                        "learn": [
                          0.7646933167
                        ],
                        "iteration": 59,
                        "passed_time": 0.01265479565,
                        "remaining_time": 0.1982584652
                      },
                      {
                        "learn": [
                          0.758503405
                        ],
                        "iteration": 60,
                        "passed_time": 0.01285732977,
                        "remaining_time": 0.197918568
                      },
                      {
                        "learn": [
                          0.749796536
                        ],
                        "iteration": 61,
                        "passed_time": 0.01304569118,
                        "remaining_time": 0.1973686827
                      },
                      {
                        "learn": [
                          0.7432308908
                        ],
                        "iteration": 62,
                        "passed_time": 0.01324250894,
                        "remaining_time": 0.1969560457
                      },
                      {
                        "learn": [
                          0.7365398296
                        ],
                        "iteration": 63,
                        "passed_time": 0.01351772926,
                        "remaining_time": 0.1976967904
                      },
                      {
                        "learn": [
                          0.7301664077
                        ],
                        "iteration": 64,
                        "passed_time": 0.01372389609,
                        "remaining_time": 0.1974129669
                      },
                      {
                        "learn": [
                          0.7203131687
                        ],
                        "iteration": 65,
                        "passed_time": 0.01389786481,
                        "remaining_time": 0.1966758445
                      },
                      {
                        "learn": [
                          0.7122136776
                        ],
                        "iteration": 66,
                        "passed_time": 0.0141154498,
                        "remaining_time": 0.1965629054
                      },
                      {
                        "learn": [
                          0.7043572984
                        ],
                        "iteration": 67,
                        "passed_time": 0.01434542749,
                        "remaining_time": 0.1966167415
                      },
                      {
                        "learn": [
                          0.6966299584
                        ],
                        "iteration": 68,
                        "passed_time": 0.01460296058,
                        "remaining_time": 0.1970341492
                      },
                      {
                        "learn": [
                          0.690504676
                        ],
                        "iteration": 69,
                        "passed_time": 0.01484104461,
                        "remaining_time": 0.1971738784
                      },
                      {
                        "learn": [
                          0.6829958534
                        ],
                        "iteration": 70,
                        "passed_time": 0.01502566331,
                        "remaining_time": 0.1966033974
                      },
                      {
                        "learn": [
                          0.6740386851
                        ],
                        "iteration": 71,
                        "passed_time": 0.01521275473,
                        "remaining_time": 0.1960755054
                      },
                      {
                        "learn": [
                          0.666650646
                        ],
                        "iteration": 72,
                        "passed_time": 0.0154578142,
                        "remaining_time": 0.1962930653
                      },
                      {
                        "learn": [
                          0.6593854714
                        ],
                        "iteration": 73,
                        "passed_time": 0.01565404924,
                        "remaining_time": 0.1958871567
                      },
                      {
                        "learn": [
                          0.6522407215
                        ],
                        "iteration": 74,
                        "passed_time": 0.01584348156,
                        "remaining_time": 0.1954029392
                      },
                      {
                        "learn": [
                          0.6466526412
                        ],
                        "iteration": 75,
                        "passed_time": 0.0160849665,
                        "remaining_time": 0.1955593295
                      },
                      {
                        "learn": [
                          0.6383793336
                        ],
                        "iteration": 76,
                        "passed_time": 0.01627470245,
                        "remaining_time": 0.1950850697
                      },
                      {
                        "learn": [
                          0.6316553127
                        ],
                        "iteration": 77,
                        "passed_time": 0.01646488023,
                        "remaining_time": 0.1946233278
                      },
                      {
                        "learn": [
                          0.6250395751
                        ],
                        "iteration": 78,
                        "passed_time": 0.01665429619,
                        "remaining_time": 0.1941595796
                      },
                      {
                        "learn": [
                          0.6191946496
                        ],
                        "iteration": 79,
                        "passed_time": 0.01684702396,
                        "remaining_time": 0.1937407755
                      },
                      {
                        "learn": [
                          0.6127655471
                        ],
                        "iteration": 80,
                        "passed_time": 0.01706055986,
                        "remaining_time": 0.193563636
                      },
                      {
                        "learn": [
                          0.6064391796
                        ],
                        "iteration": 81,
                        "passed_time": 0.01737772828,
                        "remaining_time": 0.1945457873
                      },
                      {
                        "learn": [
                          0.6002135253
                        ],
                        "iteration": 82,
                        "passed_time": 0.01756441515,
                        "remaining_time": 0.1940550445
                      },
                      {
                        "learn": [
                          0.5939649384
                        ],
                        "iteration": 83,
                        "passed_time": 0.0177550511,
                        "remaining_time": 0.1936146049
                      },
                      {
                        "learn": [
                          0.5866692894
                        ],
                        "iteration": 84,
                        "passed_time": 0.01793932435,
                        "remaining_time": 0.1931115503
                      },
                      {
                        "learn": [
                          0.5807401319
                        ],
                        "iteration": 85,
                        "passed_time": 0.01812659667,
                        "remaining_time": 0.1926477833
                      },
                      {
                        "learn": [
                          0.57600594
                        ],
                        "iteration": 86,
                        "passed_time": 0.01831323537,
                        "remaining_time": 0.1921837229
                      },
                      {
                        "learn": [
                          0.5702385258
                        ],
                        "iteration": 87,
                        "passed_time": 0.0184980477,
                        "remaining_time": 0.1917070398
                      },
                      {
                        "learn": [
                          0.5644403365
                        ],
                        "iteration": 88,
                        "passed_time": 0.01870320635,
                        "remaining_time": 0.1914451796
                      },
                      {
                        "learn": [
                          0.5576799646
                        ],
                        "iteration": 89,
                        "passed_time": 0.01890396046,
                        "remaining_time": 0.1911400447
                      },
                      {
                        "learn": [
                          0.5510442346
                        ],
                        "iteration": 90,
                        "passed_time": 0.01905610559,
                        "remaining_time": 0.1903516482
                      },
                      {
                        "learn": [
                          0.5445303315
                        ],
                        "iteration": 91,
                        "passed_time": 0.01920566164,
                        "remaining_time": 0.1895515301
                      },
                      {
                        "learn": [
                          0.5391282006
                        ],
                        "iteration": 92,
                        "passed_time": 0.01939296487,
                        "remaining_time": 0.1891335391
                      },
                      {
                        "learn": [
                          0.5339003585
                        ],
                        "iteration": 93,
                        "passed_time": 0.01957687357,
                        "remaining_time": 0.1886877389
                      },
                      {
                        "learn": [
                          0.5287165221
                        ],
                        "iteration": 94,
                        "passed_time": 0.01972871688,
                        "remaining_time": 0.1879419871
                      },
                      {
                        "learn": [
                          0.5226055586
                        ],
                        "iteration": 95,
                        "passed_time": 0.01992895827,
                        "remaining_time": 0.1876643571
                      },
                      {
                        "learn": [
                          0.5166046735
                        ],
                        "iteration": 96,
                        "passed_time": 0.02012444785,
                        "remaining_time": 0.1873440867
                      },
                      {
                        "learn": [
                          0.5107114025
                        ],
                        "iteration": 97,
                        "passed_time": 0.02028505933,
                        "remaining_time": 0.186705342
                      },
                      {
                        "learn": [
                          0.5049233414
                        ],
                        "iteration": 98,
                        "passed_time": 0.020440389,
                        "remaining_time": 0.1860281867
                      },
                      {
                        "learn": [
                          0.4992381447
                        ],
                        "iteration": 99,
                        "passed_time": 0.02063975675,
                        "remaining_time": 0.1857578108
                      },
                      {
                        "learn": [
                          0.4936535243
                        ],
                        "iteration": 100,
                        "passed_time": 0.02081387911,
                        "remaining_time": 0.1852641318
                      },
                      {
                        "learn": [
                          0.4890907431
                        ],
                        "iteration": 101,
                        "passed_time": 0.02102904319,
                        "remaining_time": 0.1851380469
                      },
                      {
                        "learn": [
                          0.4836821563
                        ],
                        "iteration": 102,
                        "passed_time": 0.02121747461,
                        "remaining_time": 0.1847774245
                      },
                      {
                        "learn": [
                          0.4792637368
                        ],
                        "iteration": 103,
                        "passed_time": 0.02140645057,
                        "remaining_time": 0.1844248049
                      },
                      {
                        "learn": [
                          0.4740242522
                        ],
                        "iteration": 104,
                        "passed_time": 0.02155848751,
                        "remaining_time": 0.1837604412
                      },
                      {
                        "learn": [
                          0.4696516776
                        ],
                        "iteration": 105,
                        "passed_time": 0.02174324803,
                        "remaining_time": 0.1833817334
                      },
                      {
                        "learn": [
                          0.4645768974
                        ],
                        "iteration": 106,
                        "passed_time": 0.02193235126,
                        "remaining_time": 0.1830428941
                      },
                      {
                        "learn": [
                          0.4595893447
                        ],
                        "iteration": 107,
                        "passed_time": 0.02214957352,
                        "remaining_time": 0.1829390702
                      },
                      {
                        "learn": [
                          0.4546871145
                        ],
                        "iteration": 108,
                        "passed_time": 0.0223439322,
                        "remaining_time": 0.1826462714
                      },
                      {
                        "learn": [
                          0.4498683486
                        ],
                        "iteration": 109,
                        "passed_time": 0.02253297543,
                        "remaining_time": 0.1823122557
                      },
                      {
                        "learn": [
                          0.4451312345
                        ],
                        "iteration": 110,
                        "passed_time": 0.02272223411,
                        "remaining_time": 0.1819825777
                      },
                      {
                        "learn": [
                          0.4411734503
                        ],
                        "iteration": 111,
                        "passed_time": 0.02291141553,
                        "remaining_time": 0.1816547945
                      },
                      {
                        "learn": [
                          0.4365812827
                        ],
                        "iteration": 112,
                        "passed_time": 0.02310630057,
                        "remaining_time": 0.1813742354
                      },
                      {
                        "learn": [
                          0.4320659011
                        ],
                        "iteration": 113,
                        "passed_time": 0.02340985992,
                        "remaining_time": 0.1819397885
                      },
                      {
                        "learn": [
                          0.4276256574
                        ],
                        "iteration": 114,
                        "passed_time": 0.02368428387,
                        "remaining_time": 0.1822660107
                      },
                      {
                        "learn": [
                          0.4232589441
                        ],
                        "iteration": 115,
                        "passed_time": 0.02387575983,
                        "remaining_time": 0.1819497559
                      },
                      {
                        "learn": [
                          0.4189641932
                        ],
                        "iteration": 116,
                        "passed_time": 0.02406582669,
                        "remaining_time": 0.1816249998
                      },
                      {
                        "learn": [
                          0.4160638278
                        ],
                        "iteration": 117,
                        "passed_time": 0.02425628992,
                        "remaining_time": 0.1813054891
                      },
                      {
                        "learn": [
                          0.4118840155
                        ],
                        "iteration": 118,
                        "passed_time": 0.02444223771,
                        "remaining_time": 0.1809547178
                      },
                      {
                        "learn": [
                          0.4083872202
                        ],
                        "iteration": 119,
                        "passed_time": 0.02465093635,
                        "remaining_time": 0.1807735332
                      },
                      {
                        "learn": [
                          0.405600301
                        ],
                        "iteration": 120,
                        "passed_time": 0.0248372405,
                        "remaining_time": 0.1804292099
                      },
                      {
                        "learn": [
                          0.4015863459
                        ],
                        "iteration": 121,
                        "passed_time": 0.02500407196,
                        "remaining_time": 0.1799473375
                      },
                      {
                        "learn": [
                          0.3976370273
                        ],
                        "iteration": 122,
                        "passed_time": 0.02520238972,
                        "remaining_time": 0.1796950877
                      },
                      {
                        "learn": [
                          0.3937509927
                        ],
                        "iteration": 123,
                        "passed_time": 0.02540218565,
                        "remaining_time": 0.1794541503
                      },
                      {
                        "learn": [
                          0.3906577174
                        ],
                        "iteration": 124,
                        "passed_time": 0.02556911075,
                        "remaining_time": 0.1789837753
                      },
                      {
                        "learn": [
                          0.3868833371
                        ],
                        "iteration": 125,
                        "passed_time": 0.02577501304,
                        "remaining_time": 0.1787885825
                      },
                      {
                        "learn": [
                          0.3831685927
                        ],
                        "iteration": 126,
                        "passed_time": 0.02599738893,
                        "remaining_time": 0.1787064609
                      },
                      {
                        "learn": [
                          0.3800995808
                        ],
                        "iteration": 127,
                        "passed_time": 0.02626044564,
                        "remaining_time": 0.1788992859
                      },
                      {
                        "learn": [
                          0.3764899611
                        ],
                        "iteration": 128,
                        "passed_time": 0.02649675967,
                        "remaining_time": 0.1789044781
                      },
                      {
                        "learn": [
                          0.3729366134
                        ],
                        "iteration": 129,
                        "passed_time": 0.02667441839,
                        "remaining_time": 0.1785134154
                      },
                      {
                        "learn": [
                          0.3694383886
                        ],
                        "iteration": 130,
                        "passed_time": 0.02689158065,
                        "remaining_time": 0.1783876609
                      },
                      {
                        "learn": [
                          0.3665041541
                        ],
                        "iteration": 131,
                        "passed_time": 0.02711757562,
                        "remaining_time": 0.1783186033
                      },
                      {
                        "learn": [
                          0.3636094625
                        ],
                        "iteration": 132,
                        "passed_time": 0.02733789969,
                        "remaining_time": 0.1782102183
                      },
                      {
                        "learn": [
                          0.3602527868
                        ],
                        "iteration": 133,
                        "passed_time": 0.02752879747,
                        "remaining_time": 0.1779099896
                      },
                      {
                        "learn": [
                          0.3569472853
                        ],
                        "iteration": 134,
                        "passed_time": 0.02772325978,
                        "remaining_time": 0.1776342201
                      },
                      {
                        "learn": [
                          0.3541762781
                        ],
                        "iteration": 135,
                        "passed_time": 0.02792205935,
                        "remaining_time": 0.1773872006
                      },
                      {
                        "learn": [
                          0.3509618876
                        ],
                        "iteration": 136,
                        "passed_time": 0.02813139618,
                        "remaining_time": 0.1772072621
                      },
                      {
                        "learn": [
                          0.3482943706
                        ],
                        "iteration": 137,
                        "passed_time": 0.02842422555,
                        "remaining_time": 0.1775484234
                      },
                      {
                        "learn": [
                          0.3451672181
                        ],
                        "iteration": 138,
                        "passed_time": 0.02862831421,
                        "remaining_time": 0.1773307808
                      },
                      {
                        "learn": [
                          0.3425725783
                        ],
                        "iteration": 139,
                        "passed_time": 0.02883205104,
                        "remaining_time": 0.1771111707
                      },
                      {
                        "learn": [
                          0.3399790914
                        ],
                        "iteration": 140,
                        "passed_time": 0.02902604426,
                        "remaining_time": 0.1768324257
                      },
                      {
                        "learn": [
                          0.3374192712
                        ],
                        "iteration": 141,
                        "passed_time": 0.02923541382,
                        "remaining_time": 0.1766477821
                      },
                      {
                        "learn": [
                          0.334450756
                        ],
                        "iteration": 142,
                        "passed_time": 0.02942853795,
                        "remaining_time": 0.1763654337
                      },
                      {
                        "learn": [
                          0.3319605071
                        ],
                        "iteration": 143,
                        "passed_time": 0.02961358755,
                        "remaining_time": 0.176036326
                      },
                      {
                        "learn": [
                          0.3295221018
                        ],
                        "iteration": 144,
                        "passed_time": 0.02980465805,
                        "remaining_time": 0.1757447078
                      },
                      {
                        "learn": [
                          0.3270914793
                        ],
                        "iteration": 145,
                        "passed_time": 0.02999054402,
                        "remaining_time": 0.175424141
                      },
                      {
                        "learn": [
                          0.3246917491
                        ],
                        "iteration": 146,
                        "passed_time": 0.03017916271,
                        "remaining_time": 0.1751212639
                      },
                      {
                        "learn": [
                          0.3223223762
                        ],
                        "iteration": 147,
                        "passed_time": 0.03036394686,
                        "remaining_time": 0.1747978562
                      },
                      {
                        "learn": [
                          0.3195694159
                        ],
                        "iteration": 148,
                        "passed_time": 0.03056564733,
                        "remaining_time": 0.1745729254
                      },
                      {
                        "learn": [
                          0.3172628624
                        ],
                        "iteration": 149,
                        "passed_time": 0.03076057055,
                        "remaining_time": 0.1743098998
                      },
                      {
                        "learn": [
                          0.3149850852
                        ],
                        "iteration": 150,
                        "passed_time": 0.03102517544,
                        "remaining_time": 0.1744395626
                      },
                      {
                        "learn": [
                          0.3123354424
                        ],
                        "iteration": 151,
                        "passed_time": 0.03127640218,
                        "remaining_time": 0.1744894016
                      },
                      {
                        "learn": [
                          0.309723314
                        ],
                        "iteration": 152,
                        "passed_time": 0.03149998715,
                        "remaining_time": 0.1743822818
                      },
                      {
                        "learn": [
                          0.3075358653
                        ],
                        "iteration": 153,
                        "passed_time": 0.0317298203,
                        "remaining_time": 0.1743079738
                      },
                      {
                        "learn": [
                          0.3049905396
                        ],
                        "iteration": 154,
                        "passed_time": 0.03200335153,
                        "remaining_time": 0.1744698841
                      },
                      {
                        "learn": [
                          0.302862431
                        ],
                        "iteration": 155,
                        "passed_time": 0.03220100929,
                        "remaining_time": 0.1742157169
                      },
                      {
                        "learn": [
                          0.300381576
                        ],
                        "iteration": 156,
                        "passed_time": 0.03240028432,
                        "remaining_time": 0.1739709534
                      },
                      {
                        "learn": [
                          0.2979350853
                        ],
                        "iteration": 157,
                        "passed_time": 0.03257458122,
                        "remaining_time": 0.1735936543
                      },
                      {
                        "learn": [
                          0.2958841493
                        ],
                        "iteration": 158,
                        "passed_time": 0.03278585349,
                        "remaining_time": 0.1734144829
                      },
                      {
                        "learn": [
                          0.2938605032
                        ],
                        "iteration": 159,
                        "passed_time": 0.03297986126,
                        "remaining_time": 0.1731442716
                      },
                      {
                        "learn": [
                          0.2918609818
                        ],
                        "iteration": 160,
                        "passed_time": 0.03316996449,
                        "remaining_time": 0.1728546597
                      },
                      {
                        "learn": [
                          0.2898776718
                        ],
                        "iteration": 161,
                        "passed_time": 0.03335989045,
                        "remaining_time": 0.1725653592
                      },
                      {
                        "learn": [
                          0.2879179339
                        ],
                        "iteration": 162,
                        "passed_time": 0.03355330549,
                        "remaining_time": 0.1722951944
                      },
                      {
                        "learn": [
                          0.2859839038
                        ],
                        "iteration": 163,
                        "passed_time": 0.03375027507,
                        "remaining_time": 0.1720440851
                      },
                      {
                        "learn": [
                          0.2837300524
                        ],
                        "iteration": 164,
                        "passed_time": 0.03390125474,
                        "remaining_time": 0.1715608952
                      },
                      {
                        "learn": [
                          0.2818392186
                        ],
                        "iteration": 165,
                        "passed_time": 0.03408580526,
                        "remaining_time": 0.171250371
                      },
                      {
                        "learn": [
                          0.279640337
                        ],
                        "iteration": 166,
                        "passed_time": 0.03427398031,
                        "remaining_time": 0.1709594347
                      },
                      {
                        "learn": [
                          0.2777960789
                        ],
                        "iteration": 167,
                        "passed_time": 0.03446833989,
                        "remaining_time": 0.1707003499
                      },
                      {
                        "learn": [
                          0.275973198
                        ],
                        "iteration": 168,
                        "passed_time": 0.03467046946,
                        "remaining_time": 0.1704802374
                      },
                      {
                        "learn": [
                          0.2741713518
                        ],
                        "iteration": 169,
                        "passed_time": 0.03486861631,
                        "remaining_time": 0.1702408914
                      },
                      {
                        "learn": [
                          0.2720723448
                        ],
                        "iteration": 170,
                        "passed_time": 0.03505671045,
                        "remaining_time": 0.1699532922
                      },
                      {
                        "learn": [
                          0.2706233698
                        ],
                        "iteration": 171,
                        "passed_time": 0.03524197824,
                        "remaining_time": 0.1696532441
                      },
                      {
                        "learn": [
                          0.2688766489
                        ],
                        "iteration": 172,
                        "passed_time": 0.03545934959,
                        "remaining_time": 0.1695079891
                      },
                      {
                        "learn": [
                          0.2671498426
                        ],
                        "iteration": 173,
                        "passed_time": 0.035650851,
                        "remaining_time": 0.1692390973
                      },
                      {
                        "learn": [
                          0.2654425048
                        ],
                        "iteration": 174,
                        "passed_time": 0.03585145693,
                        "remaining_time": 0.1690140113
                      },
                      {
                        "learn": [
                          0.2634546323
                        ],
                        "iteration": 175,
                        "passed_time": 0.03605462377,
                        "remaining_time": 0.1688011931
                      },
                      {
                        "learn": [
                          0.2614923428
                        ],
                        "iteration": 176,
                        "passed_time": 0.03625917606,
                        "remaining_time": 0.168594926
                      },
                      {
                        "learn": [
                          0.2595551891
                        ],
                        "iteration": 177,
                        "passed_time": 0.03644844202,
                        "remaining_time": 0.1683180862
                      },
                      {
                        "learn": [
                          0.2576427333
                        ],
                        "iteration": 178,
                        "passed_time": 0.03663889889,
                        "remaining_time": 0.1680476871
                      },
                      {
                        "learn": [
                          0.2557545471
                        ],
                        "iteration": 179,
                        "passed_time": 0.03682661757,
                        "remaining_time": 0.1677657023
                      },
                      {
                        "learn": [
                          0.2544475026
                        ],
                        "iteration": 180,
                        "passed_time": 0.03701286263,
                        "remaining_time": 0.1674780911
                      },
                      {
                        "learn": [
                          0.2525987544
                        ],
                        "iteration": 181,
                        "passed_time": 0.03719967041,
                        "remaining_time": 0.1671941231
                      },
                      {
                        "learn": [
                          0.2507731929
                        ],
                        "iteration": 182,
                        "passed_time": 0.03736699369,
                        "remaining_time": 0.1668242287
                      },
                      {
                        "learn": [
                          0.2495086062
                        ],
                        "iteration": 183,
                        "passed_time": 0.03763181858,
                        "remaining_time": 0.1668889346
                      },
                      {
                        "learn": [
                          0.2479886809
                        ],
                        "iteration": 184,
                        "passed_time": 0.03783362724,
                        "remaining_time": 0.1666724659
                      },
                      {
                        "learn": [
                          0.2464852558
                        ],
                        "iteration": 185,
                        "passed_time": 0.03818325649,
                        "remaining_time": 0.1671030687
                      },
                      {
                        "learn": [
                          0.244998081
                        ],
                        "iteration": 186,
                        "passed_time": 0.03846268044,
                        "remaining_time": 0.1672201027
                      },
                      {
                        "learn": [
                          0.2437826564
                        ],
                        "iteration": 187,
                        "passed_time": 0.03878799065,
                        "remaining_time": 0.1675311086
                      },
                      {
                        "learn": [
                          0.2423173847
                        ],
                        "iteration": 188,
                        "passed_time": 0.03899089113,
                        "remaining_time": 0.1673101201
                      },
                      {
                        "learn": [
                          0.2408725656
                        ],
                        "iteration": 189,
                        "passed_time": 0.03919540887,
                        "remaining_time": 0.1670962168
                      },
                      {
                        "learn": [
                          0.2391881699
                        ],
                        "iteration": 190,
                        "passed_time": 0.03939042027,
                        "remaining_time": 0.1668421466
                      },
                      {
                        "learn": [
                          0.2375242397
                        ],
                        "iteration": 191,
                        "passed_time": 0.03954381812,
                        "remaining_time": 0.1664135679
                      },
                      {
                        "learn": [
                          0.2358804345
                        ],
                        "iteration": 192,
                        "passed_time": 0.03973372045,
                        "remaining_time": 0.1661404788
                      },
                      {
                        "learn": [
                          0.2342564207
                        ],
                        "iteration": 193,
                        "passed_time": 0.03988677375,
                        "remaining_time": 0.1657151528
                      },
                      {
                        "learn": [
                          0.2326518716
                        ],
                        "iteration": 194,
                        "passed_time": 0.04007247608,
                        "remaining_time": 0.1654274013
                      },
                      {
                        "learn": [
                          0.2312994065
                        ],
                        "iteration": 195,
                        "passed_time": 0.04026607203,
                        "remaining_time": 0.165173071
                      },
                      {
                        "learn": [
                          0.2301965887
                        ],
                        "iteration": 196,
                        "passed_time": 0.04053019874,
                        "remaining_time": 0.1652068507
                      },
                      {
                        "learn": [
                          0.2286393407
                        ],
                        "iteration": 197,
                        "passed_time": 0.04072467287,
                        "remaining_time": 0.1649554931
                      },
                      {
                        "learn": [
                          0.2271004802
                        ],
                        "iteration": 198,
                        "passed_time": 0.04087737073,
                        "remaining_time": 0.1645365525
                      },
                      {
                        "learn": [
                          0.2255797089
                        ],
                        "iteration": 199,
                        "passed_time": 0.04107253576,
                        "remaining_time": 0.1642901431
                      },
                      {
                        "learn": [
                          0.2242978025
                        ],
                        "iteration": 200,
                        "passed_time": 0.04132445886,
                        "remaining_time": 0.1642698638
                      },
                      {
                        "learn": [
                          0.2230290542
                        ],
                        "iteration": 201,
                        "passed_time": 0.04152083844,
                        "remaining_time": 0.1640278667
                      },
                      {
                        "learn": [
                          0.2215551634
                        ],
                        "iteration": 202,
                        "passed_time": 0.0417161153,
                        "remaining_time": 0.1637819896
                      },
                      {
                        "learn": [
                          0.22031484
                        ],
                        "iteration": 203,
                        "passed_time": 0.04190448762,
                        "remaining_time": 0.1635096674
                      },
                      {
                        "learn": [
                          0.2188719975
                        ],
                        "iteration": 204,
                        "passed_time": 0.04209825175,
                        "remaining_time": 0.1632590739
                      },
                      {
                        "learn": [
                          0.2176557292
                        ],
                        "iteration": 205,
                        "passed_time": 0.04229199861,
                        "remaining_time": 0.1630089655
                      },
                      {
                        "learn": [
                          0.2162430808
                        ],
                        "iteration": 206,
                        "passed_time": 0.04249697817,
                        "remaining_time": 0.1628024333
                      },
                      {
                        "learn": [
                          0.2150536432
                        ],
                        "iteration": 207,
                        "passed_time": 0.04270077319,
                        "remaining_time": 0.1625914056
                      },
                      {
                        "learn": [
                          0.2138760632
                        ],
                        "iteration": 208,
                        "passed_time": 0.04288525734,
                        "remaining_time": 0.1623073615
                      },
                      {
                        "learn": [
                          0.2125057581
                        ],
                        "iteration": 209,
                        "passed_time": 0.04308886963,
                        "remaining_time": 0.1620962239
                      },
                      {
                        "learn": [
                          0.2113527899
                        ],
                        "iteration": 210,
                        "passed_time": 0.04327486196,
                        "remaining_time": 0.1618192706
                      },
                      {
                        "learn": [
                          0.2100105847
                        ],
                        "iteration": 211,
                        "passed_time": 0.04345956066,
                        "remaining_time": 0.161538367
                      },
                      {
                        "learn": [
                          0.208881522
                        ],
                        "iteration": 212,
                        "passed_time": 0.0436468348,
                        "remaining_time": 0.1612678826
                      },
                      {
                        "learn": [
                          0.2075666245
                        ],
                        "iteration": 213,
                        "passed_time": 0.04383101895,
                        "remaining_time": 0.1609868266
                      },
                      {
                        "learn": [
                          0.2062663135
                        ],
                        "iteration": 214,
                        "passed_time": 0.04402953035,
                        "remaining_time": 0.1607589829
                      },
                      {
                        "learn": [
                          0.204980365
                        ],
                        "iteration": 215,
                        "passed_time": 0.04418261911,
                        "remaining_time": 0.1603665434
                      },
                      {
                        "learn": [
                          0.2037085595
                        ],
                        "iteration": 216,
                        "passed_time": 0.04436762599,
                        "remaining_time": 0.1600914799
                      },
                      {
                        "learn": [
                          0.2026331254
                        ],
                        "iteration": 217,
                        "passed_time": 0.044575491,
                        "remaining_time": 0.1598992383
                      },
                      {
                        "learn": [
                          0.201572066
                        ],
                        "iteration": 218,
                        "passed_time": 0.04477946783,
                        "remaining_time": 0.159692988
                      },
                      {
                        "learn": [
                          0.2003369971
                        ],
                        "iteration": 219,
                        "passed_time": 0.04501303006,
                        "remaining_time": 0.159591652
                      },
                      {
                        "learn": [
                          0.1992972679
                        ],
                        "iteration": 220,
                        "passed_time": 0.04522065053,
                        "remaining_time": 0.1593976776
                      },
                      {
                        "learn": [
                          0.1982673874
                        ],
                        "iteration": 221,
                        "passed_time": 0.04541022194,
                        "remaining_time": 0.1591403273
                      },
                      {
                        "learn": [
                          0.1972404963
                        ],
                        "iteration": 222,
                        "passed_time": 0.04567128592,
                        "remaining_time": 0.1591326868
                      },
                      {
                        "learn": [
                          0.1960514426
                        ],
                        "iteration": 223,
                        "passed_time": 0.04590568815,
                        "remaining_time": 0.1590304197
                      },
                      {
                        "learn": [
                          0.1948750892
                        ],
                        "iteration": 224,
                        "passed_time": 0.04613852129,
                        "remaining_time": 0.1589215733
                      },
                      {
                        "learn": [
                          0.193711248
                        ],
                        "iteration": 225,
                        "passed_time": 0.04635738264,
                        "remaining_time": 0.1587637795
                      },
                      {
                        "learn": [
                          0.1927257963
                        ],
                        "iteration": 226,
                        "passed_time": 0.04657298672,
                        "remaining_time": 0.1585943557
                      },
                      {
                        "learn": [
                          0.1917539869
                        ],
                        "iteration": 227,
                        "passed_time": 0.04680093078,
                        "remaining_time": 0.1584663095
                      },
                      {
                        "learn": [
                          0.1906226933
                        ],
                        "iteration": 228,
                        "passed_time": 0.04701627123,
                        "remaining_time": 0.1582949568
                      },
                      {
                        "learn": [
                          0.1896645984
                        ],
                        "iteration": 229,
                        "passed_time": 0.04724621619,
                        "remaining_time": 0.1581721151
                      },
                      {
                        "learn": [
                          0.1887153694
                        ],
                        "iteration": 230,
                        "passed_time": 0.04746266664,
                        "remaining_time": 0.1580034227
                      },
                      {
                        "learn": [
                          0.187778223
                        ],
                        "iteration": 231,
                        "passed_time": 0.04767858436,
                        "remaining_time": 0.1578325551
                      },
                      {
                        "learn": [
                          0.186845478
                        ],
                        "iteration": 232,
                        "passed_time": 0.04789952752,
                        "remaining_time": 0.1576778438
                      },
                      {
                        "learn": [
                          0.1860812483
                        ],
                        "iteration": 233,
                        "passed_time": 0.04811784614,
                        "remaining_time": 0.157513975
                      },
                      {
                        "learn": [
                          0.1851668657
                        ],
                        "iteration": 234,
                        "passed_time": 0.04834337384,
                        "remaining_time": 0.1573731106
                      },
                      {
                        "learn": [
                          0.1842567361
                        ],
                        "iteration": 235,
                        "passed_time": 0.04857131336,
                        "remaining_time": 0.1572393365
                      },
                      {
                        "learn": [
                          0.1833580178
                        ],
                        "iteration": 236,
                        "passed_time": 0.04879605833,
                        "remaining_time": 0.1570944831
                      },
                      {
                        "learn": [
                          0.1826188561
                        ],
                        "iteration": 237,
                        "passed_time": 0.04900825151,
                        "remaining_time": 0.1569087716
                      },
                      {
                        "learn": [
                          0.1815799969
                        ],
                        "iteration": 238,
                        "passed_time": 0.04918327659,
                        "remaining_time": 0.1566044916
                      },
                      {
                        "learn": [
                          0.1805516894
                        ],
                        "iteration": 239,
                        "passed_time": 0.0494114752,
                        "remaining_time": 0.1564696715
                      },
                      {
                        "learn": [
                          0.1795337839
                        ],
                        "iteration": 240,
                        "passed_time": 0.04960339751,
                        "remaining_time": 0.1562198287
                      },
                      {
                        "learn": [
                          0.1786718519
                        ],
                        "iteration": 241,
                        "passed_time": 0.04981180343,
                        "remaining_time": 0.156022095
                      },
                      {
                        "learn": [
                          0.177817587
                        ],
                        "iteration": 242,
                        "passed_time": 0.05000443029,
                        "remaining_time": 0.1557751182
                      },
                      {
                        "learn": [
                          0.1769708915
                        ],
                        "iteration": 243,
                        "passed_time": 0.05019527352,
                        "remaining_time": 0.1555230606
                      },
                      {
                        "learn": [
                          0.1761316693
                        ],
                        "iteration": 244,
                        "passed_time": 0.05040908124,
                        "remaining_time": 0.1553422708
                      },
                      {
                        "learn": [
                          0.1753004304
                        ],
                        "iteration": 245,
                        "passed_time": 0.05059652902,
                        "remaining_time": 0.1550804182
                      },
                      {
                        "learn": [
                          0.1746173682
                        ],
                        "iteration": 246,
                        "passed_time": 0.05082687035,
                        "remaining_time": 0.1549499327
                      },
                      {
                        "learn": [
                          0.1736576142
                        ],
                        "iteration": 247,
                        "passed_time": 0.05100765178,
                        "remaining_time": 0.1546683635
                      },
                      {
                        "learn": [
                          0.1728459363
                        ],
                        "iteration": 248,
                        "passed_time": 0.05124808854,
                        "remaining_time": 0.1545675281
                      },
                      {
                        "learn": [
                          0.1721797264
                        ],
                        "iteration": 249,
                        "passed_time": 0.0514850444,
                        "remaining_time": 0.1544551332
                      },
                      {
                        "learn": [
                          0.1715182022
                        ],
                        "iteration": 250,
                        "passed_time": 0.05175461473,
                        "remaining_time": 0.1544390694
                      },
                      {
                        "learn": [
                          0.1707250045
                        ],
                        "iteration": 251,
                        "passed_time": 0.0519443625,
                        "remaining_time": 0.1541840601
                      },
                      {
                        "learn": [
                          0.1698025087
                        ],
                        "iteration": 252,
                        "passed_time": 0.05214390753,
                        "remaining_time": 0.1539584938
                      },
                      {
                        "learn": [
                          0.1688889714
                        ],
                        "iteration": 253,
                        "passed_time": 0.05234041166,
                        "remaining_time": 0.1537242012
                      },
                      {
                        "learn": [
                          0.1681163289
                        ],
                        "iteration": 254,
                        "passed_time": 0.05252572035,
                        "remaining_time": 0.1534574967
                      },
                      {
                        "learn": [
                          0.1674821441
                        ],
                        "iteration": 255,
                        "passed_time": 0.0527132445,
                        "remaining_time": 0.1531978668
                      },
                      {
                        "learn": [
                          0.1667217223
                        ],
                        "iteration": 256,
                        "passed_time": 0.05295847215,
                        "remaining_time": 0.1531056218
                      },
                      {
                        "learn": [
                          0.1659665646
                        ],
                        "iteration": 257,
                        "passed_time": 0.05314872538,
                        "remaining_time": 0.1528540862
                      },
                      {
                        "learn": [
                          0.1650892311
                        ],
                        "iteration": 258,
                        "passed_time": 0.05333630407,
                        "remaining_time": 0.1525953719
                      },
                      {
                        "learn": [
                          0.164347487
                        ],
                        "iteration": 259,
                        "passed_time": 0.0535316482,
                        "remaining_time": 0.1523593064
                      },
                      {
                        "learn": [
                          0.1636118484
                        ],
                        "iteration": 260,
                        "passed_time": 0.0537370523,
                        "remaining_time": 0.152152037
                      },
                      {
                        "learn": [
                          0.1628823604
                        ],
                        "iteration": 261,
                        "passed_time": 0.05392539827,
                        "remaining_time": 0.1518967325
                      },
                      {
                        "learn": [
                          0.1620338763
                        ],
                        "iteration": 262,
                        "passed_time": 0.05412732692,
                        "remaining_time": 0.1516799998
                      },
                      {
                        "learn": [
                          0.1611933696
                        ],
                        "iteration": 263,
                        "passed_time": 0.0543979018,
                        "remaining_time": 0.1516547565
                      },
                      {
                        "learn": [
                          0.1604821994
                        ],
                        "iteration": 264,
                        "passed_time": 0.05462734222,
                        "remaining_time": 0.1515135718
                      },
                      {
                        "learn": [
                          0.159656082
                        ],
                        "iteration": 265,
                        "passed_time": 0.0547926455,
                        "remaining_time": 0.1511947436
                      },
                      {
                        "learn": [
                          0.1588376487
                        ],
                        "iteration": 266,
                        "passed_time": 0.05500813595,
                        "remaining_time": 0.1510148451
                      },
                      {
                        "learn": [
                          0.1581452042
                        ],
                        "iteration": 267,
                        "passed_time": 0.05520833916,
                        "remaining_time": 0.1507929264
                      },
                      {
                        "learn": [
                          0.1573406323
                        ],
                        "iteration": 268,
                        "passed_time": 0.05538367878,
                        "remaining_time": 0.1505036029
                      },
                      {
                        "learn": [
                          0.1566599663
                        ],
                        "iteration": 269,
                        "passed_time": 0.05557169565,
                        "remaining_time": 0.1502493994
                      },
                      {
                        "learn": [
                          0.1559843799
                        ],
                        "iteration": 270,
                        "passed_time": 0.05577123613,
                        "remaining_time": 0.1500266832
                      },
                      {
                        "learn": [
                          0.1553142613
                        ],
                        "iteration": 271,
                        "passed_time": 0.05597159661,
                        "remaining_time": 0.1498063321
                      },
                      {
                        "learn": [
                          0.1545352856
                        ],
                        "iteration": 272,
                        "passed_time": 0.05616315802,
                        "remaining_time": 0.1495626955
                      },
                      {
                        "learn": [
                          0.1537633883
                        ],
                        "iteration": 273,
                        "passed_time": 0.0563520958,
                        "remaining_time": 0.1493124874
                      },
                      {
                        "learn": [
                          0.1531098742
                        ],
                        "iteration": 274,
                        "passed_time": 0.05654530721,
                        "remaining_time": 0.1490739917
                      },
                      {
                        "learn": [
                          0.152350755
                        ],
                        "iteration": 275,
                        "passed_time": 0.0567497795,
                        "remaining_time": 0.1488653636
                      },
                      {
                        "learn": [
                          0.1517082097
                        ],
                        "iteration": 276,
                        "passed_time": 0.05695341451,
                        "remaining_time": 0.1486545801
                      },
                      {
                        "learn": [
                          0.1509615711
                        ],
                        "iteration": 277,
                        "passed_time": 0.05710363056,
                        "remaining_time": 0.1483051125
                      },
                      {
                        "learn": [
                          0.1503297359
                        ],
                        "iteration": 278,
                        "passed_time": 0.05731092193,
                        "remaining_time": 0.1481045689
                      },
                      {
                        "learn": [
                          0.149595289
                        ],
                        "iteration": 279,
                        "passed_time": 0.05750106789,
                        "remaining_time": 0.1478598889
                      },
                      {
                        "learn": [
                          0.1490795867
                        ],
                        "iteration": 280,
                        "passed_time": 0.05771162835,
                        "remaining_time": 0.147667832
                      },
                      {
                        "learn": [
                          0.1483560226
                        ],
                        "iteration": 281,
                        "passed_time": 0.0578809098,
                        "remaining_time": 0.1473705434
                      },
                      {
                        "learn": [
                          0.1476388418
                        ],
                        "iteration": 282,
                        "passed_time": 0.05807157485,
                        "remaining_time": 0.1471283363
                      },
                      {
                        "learn": [
                          0.1469279648
                        ],
                        "iteration": 283,
                        "passed_time": 0.05822393725,
                        "remaining_time": 0.1467899263
                      },
                      {
                        "learn": [
                          0.1463263313
                        ],
                        "iteration": 284,
                        "passed_time": 0.05841303321,
                        "remaining_time": 0.1465449781
                      },
                      {
                        "learn": [
                          0.1456268354
                        ],
                        "iteration": 285,
                        "passed_time": 0.05860595916,
                        "remaining_time": 0.146309982
                      },
                      {
                        "learn": [
                          0.1449334256
                        ],
                        "iteration": 286,
                        "passed_time": 0.05883755685,
                        "remaining_time": 0.146171352
                      },
                      {
                        "learn": [
                          0.1442460268
                        ],
                        "iteration": 287,
                        "passed_time": 0.05899261288,
                        "remaining_time": 0.1458428485
                      },
                      {
                        "learn": [
                          0.1435645655
                        ],
                        "iteration": 288,
                        "passed_time": 0.05916086434,
                        "remaining_time": 0.1455480088
                      },
                      {
                        "learn": [
                          0.142888969
                        ],
                        "iteration": 289,
                        "passed_time": 0.05935847119,
                        "remaining_time": 0.1453259122
                      },
                      {
                        "learn": [
                          0.1424135539
                        ],
                        "iteration": 290,
                        "passed_time": 0.05955526622,
                        "remaining_time": 0.145102006
                      },
                      {
                        "learn": [
                          0.1417476451
                        ],
                        "iteration": 291,
                        "passed_time": 0.05974123855,
                        "remaining_time": 0.1448520442
                      },
                      {
                        "learn": [
                          0.1411838403
                        ],
                        "iteration": 292,
                        "passed_time": 0.05993479086,
                        "remaining_time": 0.1446208094
                      },
                      {
                        "learn": [
                          0.1405283147
                        ],
                        "iteration": 293,
                        "passed_time": 0.06012926227,
                        "remaining_time": 0.144392038
                      },
                      {
                        "learn": [
                          0.1400669325
                        ],
                        "iteration": 294,
                        "passed_time": 0.06031555641,
                        "remaining_time": 0.1441439568
                      },
                      {
                        "learn": [
                          0.1395137608
                        ],
                        "iteration": 295,
                        "passed_time": 0.06050156238,
                        "remaining_time": 0.1438956078
                      },
                      {
                        "learn": [
                          0.1389658706
                        ],
                        "iteration": 296,
                        "passed_time": 0.06068809107,
                        "remaining_time": 0.1436489159
                      },
                      {
                        "learn": [
                          0.1383287396
                        ],
                        "iteration": 297,
                        "passed_time": 0.06086033525,
                        "remaining_time": 0.1433689777
                      },
                      {
                        "learn": [
                          0.1376969464
                        ],
                        "iteration": 298,
                        "passed_time": 0.06106929207,
                        "remaining_time": 0.1431758319
                      },
                      {
                        "learn": [
                          0.1371620598
                        ],
                        "iteration": 299,
                        "passed_time": 0.06125457258,
                        "remaining_time": 0.142927336
                      },
                      {
                        "learn": [
                          0.1366292446
                        ],
                        "iteration": 300,
                        "passed_time": 0.06145054671,
                        "remaining_time": 0.1427040935
                      },
                      {
                        "learn": [
                          0.1360114458
                        ],
                        "iteration": 301,
                        "passed_time": 0.06166139353,
                        "remaining_time": 0.1425154062
                      },
                      {
                        "learn": [
                          0.135488328
                        ],
                        "iteration": 302,
                        "passed_time": 0.06185096949,
                        "remaining_time": 0.1422776427
                      },
                      {
                        "learn": [
                          0.134969029
                        ],
                        "iteration": 303,
                        "passed_time": 0.06203526001,
                        "remaining_time": 0.1420280953
                      },
                      {
                        "learn": [
                          0.1344535085
                        ],
                        "iteration": 304,
                        "passed_time": 0.06221985325,
                        "remaining_time": 0.1417796656
                      },
                      {
                        "learn": [
                          0.1338533996
                        ],
                        "iteration": 305,
                        "passed_time": 0.06237655928,
                        "remaining_time": 0.1414684057
                      },
                      {
                        "learn": [
                          0.1333457396
                        ],
                        "iteration": 306,
                        "passed_time": 0.06257599067,
                        "remaining_time": 0.1412545978
                      },
                      {
                        "learn": [
                          0.1328389105
                        ],
                        "iteration": 307,
                        "passed_time": 0.06278008387,
                        "remaining_time": 0.1410513573
                      },
                      {
                        "learn": [
                          0.1322518253
                        ],
                        "iteration": 308,
                        "passed_time": 0.06296276711,
                        "remaining_time": 0.1408002333
                      },
                      {
                        "learn": [
                          0.1316694976
                        ],
                        "iteration": 309,
                        "passed_time": 0.06314731217,
                        "remaining_time": 0.1405536948
                      },
                      {
                        "learn": [
                          0.1310918728
                        ],
                        "iteration": 310,
                        "passed_time": 0.06347961237,
                        "remaining_time": 0.1406348969
                      },
                      {
                        "learn": [
                          0.1306006631
                        ],
                        "iteration": 311,
                        "passed_time": 0.06371841095,
                        "remaining_time": 0.1405072652
                      },
                      {
                        "learn": [
                          0.1300315668
                        ],
                        "iteration": 312,
                        "passed_time": 0.06396532497,
                        "remaining_time": 0.1403967356
                      },
                      {
                        "learn": [
                          0.1295496826
                        ],
                        "iteration": 313,
                        "passed_time": 0.06420281355,
                        "remaining_time": 0.1402647455
                      },
                      {
                        "learn": [
                          0.1289889114
                        ],
                        "iteration": 314,
                        "passed_time": 0.06440506221,
                        "remaining_time": 0.1400554527
                      },
                      {
                        "learn": [
                          0.1284325986
                        ],
                        "iteration": 315,
                        "passed_time": 0.06456299823,
                        "remaining_time": 0.1397502873
                      },
                      {
                        "learn": [
                          0.1278806937
                        ],
                        "iteration": 316,
                        "passed_time": 0.06479020229,
                        "remaining_time": 0.1395952939
                      },
                      {
                        "learn": [
                          0.1274111348
                        ],
                        "iteration": 317,
                        "passed_time": 0.0649942764,
                        "remaining_time": 0.1393902406
                      },
                      {
                        "learn": [
                          0.126867228
                        ],
                        "iteration": 318,
                        "passed_time": 0.06515137152,
                        "remaining_time": 0.1390849028
                      },
                      {
                        "learn": [
                          0.1264064127
                        ],
                        "iteration": 319,
                        "passed_time": 0.06536266925,
                        "remaining_time": 0.1388956722
                      },
                      {
                        "learn": [
                          0.1258703165
                        ],
                        "iteration": 320,
                        "passed_time": 0.06557349971,
                        "remaining_time": 0.1387053156
                      },
                      {
                        "learn": [
                          0.1254162139
                        ],
                        "iteration": 321,
                        "passed_time": 0.06576689566,
                        "remaining_time": 0.1384781219
                      },
                      {
                        "learn": [
                          0.1248877692
                        ],
                        "iteration": 322,
                        "passed_time": 0.0659695625,
                        "remaining_time": 0.1382705691
                      },
                      {
                        "learn": [
                          0.1245146927
                        ],
                        "iteration": 323,
                        "passed_time": 0.06619227384,
                        "remaining_time": 0.1381048676
                      },
                      {
                        "learn": [
                          0.1240672494
                        ],
                        "iteration": 324,
                        "passed_time": 0.06638519524,
                        "remaining_time": 0.137876944
                      },
                      {
                        "learn": [
                          0.1236249175
                        ],
                        "iteration": 325,
                        "passed_time": 0.06658244664,
                        "remaining_time": 0.1376581872
                      },
                      {
                        "learn": [
                          0.1231100868
                        ],
                        "iteration": 326,
                        "passed_time": 0.06679361892,
                        "remaining_time": 0.1374682126
                      },
                      {
                        "learn": [
                          0.1226740917
                        ],
                        "iteration": 327,
                        "passed_time": 0.06700567392,
                        "remaining_time": 0.1372799173
                      },
                      {
                        "learn": [
                          0.1222384963
                        ],
                        "iteration": 328,
                        "passed_time": 0.0672245789,
                        "remaining_time": 0.1371054482
                      },
                      {
                        "learn": [
                          0.1218081114
                        ],
                        "iteration": 329,
                        "passed_time": 0.06741951576,
                        "remaining_time": 0.1368820471
                      },
                      {
                        "learn": [
                          0.1213069995
                        ],
                        "iteration": 330,
                        "passed_time": 0.06761274535,
                        "remaining_time": 0.1366553675
                      },
                      {
                        "learn": [
                          0.1208802323
                        ],
                        "iteration": 331,
                        "passed_time": 0.06780915493,
                        "remaining_time": 0.1364352876
                      },
                      {
                        "learn": [
                          0.1205287708
                        ],
                        "iteration": 332,
                        "passed_time": 0.06800048179,
                        "remaining_time": 0.1362051692
                      },
                      {
                        "learn": [
                          0.1200371927
                        ],
                        "iteration": 333,
                        "passed_time": 0.06819274865,
                        "remaining_time": 0.1359771575
                      },
                      {
                        "learn": [
                          0.1196187029
                        ],
                        "iteration": 334,
                        "passed_time": 0.06838157734,
                        "remaining_time": 0.1357425341
                      },
                      {
                        "learn": [
                          0.1192739598
                        ],
                        "iteration": 335,
                        "passed_time": 0.068625385,
                        "remaining_time": 0.1356168323
                      },
                      {
                        "learn": [
                          0.1188623018
                        ],
                        "iteration": 336,
                        "passed_time": 0.06885198815,
                        "remaining_time": 0.135456582
                      },
                      {
                        "learn": [
                          0.1184533692
                        ],
                        "iteration": 337,
                        "passed_time": 0.06905505226,
                        "remaining_time": 0.1352498361
                      },
                      {
                        "learn": [
                          0.1180447987
                        ],
                        "iteration": 338,
                        "passed_time": 0.06924528185,
                        "remaining_time": 0.1350180864
                      },
                      {
                        "learn": [
                          0.1177084265
                        ],
                        "iteration": 339,
                        "passed_time": 0.06948453861,
                        "remaining_time": 0.1348817514
                      },
                      {
                        "learn": [
                          0.1173046895
                        ],
                        "iteration": 340,
                        "passed_time": 0.0696718273,
                        "remaining_time": 0.1346443818
                      },
                      {
                        "learn": [
                          0.116836741
                        ],
                        "iteration": 341,
                        "passed_time": 0.06986013599,
                        "remaining_time": 0.1344092675
                      },
                      {
                        "learn": [
                          0.1164403363
                        ],
                        "iteration": 342,
                        "passed_time": 0.07005750557,
                        "remaining_time": 0.1341917818
                      },
                      {
                        "learn": [
                          0.1160445355
                        ],
                        "iteration": 343,
                        "passed_time": 0.07026392422,
                        "remaining_time": 0.1339916694
                      },
                      {
                        "learn": [
                          0.1155857705
                        ],
                        "iteration": 344,
                        "passed_time": 0.07041732298,
                        "remaining_time": 0.1336908596
                      },
                      {
                        "learn": [
                          0.1151303645
                        ],
                        "iteration": 345,
                        "passed_time": 0.07060344077,
                        "remaining_time": 0.1334527464
                      },
                      {
                        "learn": [
                          0.1146782823
                        ],
                        "iteration": 346,
                        "passed_time": 0.07079811217,
                        "remaining_time": 0.1332310295
                      },
                      {
                        "learn": [
                          0.1142951732
                        ],
                        "iteration": 347,
                        "passed_time": 0.07100347809,
                        "remaining_time": 0.1330295049
                      },
                      {
                        "learn": [
                          0.1138491106
                        ],
                        "iteration": 348,
                        "passed_time": 0.07128382567,
                        "remaining_time": 0.1329678238
                      },
                      {
                        "learn": [
                          0.1134711782
                        ],
                        "iteration": 349,
                        "passed_time": 0.07149749613,
                        "remaining_time": 0.1327810642
                      },
                      {
                        "learn": [
                          0.1130956609
                        ],
                        "iteration": 350,
                        "passed_time": 0.07169139844,
                        "remaining_time": 0.1325576
                      },
                      {
                        "learn": [
                          0.1127202313
                        ],
                        "iteration": 351,
                        "passed_time": 0.07188480075,
                        "remaining_time": 0.1323333832
                      },
                      {
                        "learn": [
                          0.1123472111
                        ],
                        "iteration": 352,
                        "passed_time": 0.07209532757,
                        "remaining_time": 0.1321407279
                      },
                      {
                        "learn": [
                          0.1119765775
                        ],
                        "iteration": 353,
                        "passed_time": 0.0722942326,
                        "remaining_time": 0.1319267634
                      },
                      {
                        "learn": [
                          0.111608308
                        ],
                        "iteration": 354,
                        "passed_time": 0.07249817035,
                        "remaining_time": 0.1317220278
                      },
                      {
                        "learn": [
                          0.1112423804
                        ],
                        "iteration": 355,
                        "passed_time": 0.07269230902,
                        "remaining_time": 0.1314995703
                      },
                      {
                        "learn": [
                          0.1108798437
                        ],
                        "iteration": 356,
                        "passed_time": 0.07289017224,
                        "remaining_time": 0.1312839797
                      },
                      {
                        "learn": [
                          0.1104579075
                        ],
                        "iteration": 357,
                        "passed_time": 0.07310719632,
                        "remaining_time": 0.1311028493
                      },
                      {
                        "learn": [
                          0.1100389543
                        ],
                        "iteration": 358,
                        "passed_time": 0.07332113677,
                        "remaining_time": 0.130916013
                      },
                      {
                        "learn": [
                          0.1096229538
                        ],
                        "iteration": 359,
                        "passed_time": 0.07351416908,
                        "remaining_time": 0.1306918561
                      },
                      {
                        "learn": [
                          0.1093291884
                        ],
                        "iteration": 360,
                        "passed_time": 0.07375855311,
                        "remaining_time": 0.1305587685
                      },
                      {
                        "learn": [
                          0.1089768939
                        ],
                        "iteration": 361,
                        "passed_time": 0.07395790541,
                        "remaining_time": 0.1303457007
                      },
                      {
                        "learn": [
                          0.1086278111
                        ],
                        "iteration": 362,
                        "passed_time": 0.07414738318,
                        "remaining_time": 0.1301153804
                      },
                      {
                        "learn": [
                          0.108279671
                        ],
                        "iteration": 363,
                        "passed_time": 0.07434613549,
                        "remaining_time": 0.1299014895
                      },
                      {
                        "learn": [
                          0.1078757803
                        ],
                        "iteration": 364,
                        "passed_time": 0.07453470599,
                        "remaining_time": 0.129669968
                      },
                      {
                        "learn": [
                          0.107474693
                        ],
                        "iteration": 365,
                        "passed_time": 0.07472660649,
                        "remaining_time": 0.1294444495
                      },
                      {
                        "learn": [
                          0.1071334356
                        ],
                        "iteration": 366,
                        "passed_time": 0.07493705149,
                        "remaining_time": 0.1292510997
                      },
                      {
                        "learn": [
                          0.1067942791
                        ],
                        "iteration": 367,
                        "passed_time": 0.0751425956,
                        "remaining_time": 0.1290492403
                      },
                      {
                        "learn": [
                          0.1064577545
                        ],
                        "iteration": 368,
                        "passed_time": 0.07533148701,
                        "remaining_time": 0.1288188843
                      },
                      {
                        "learn": [
                          0.1060663338
                        ],
                        "iteration": 369,
                        "passed_time": 0.07552605478,
                        "remaining_time": 0.1285984176
                      },
                      {
                        "learn": [
                          0.105677594
                        ],
                        "iteration": 370,
                        "passed_time": 0.07572014164,
                        "remaining_time": 0.1283772752
                      },
                      {
                        "learn": [
                          0.1052915088
                        ],
                        "iteration": 371,
                        "passed_time": 0.0759106485,
                        "remaining_time": 0.1281502346
                      },
                      {
                        "learn": [
                          0.1049080521
                        ],
                        "iteration": 372,
                        "passed_time": 0.07609472174,
                        "remaining_time": 0.1279125752
                      },
                      {
                        "learn": [
                          0.1045824895
                        ],
                        "iteration": 373,
                        "passed_time": 0.07628998042,
                        "remaining_time": 0.1276939244
                      },
                      {
                        "learn": [
                          0.1042588855
                        ],
                        "iteration": 374,
                        "passed_time": 0.07647539184,
                        "remaining_time": 0.1274589864
                      },
                      {
                        "learn": [
                          0.1038823482
                        ],
                        "iteration": 375,
                        "passed_time": 0.07666456962,
                        "remaining_time": 0.1272305623
                      },
                      {
                        "learn": [
                          0.1035083471
                        ],
                        "iteration": 376,
                        "passed_time": 0.07683497471,
                        "remaining_time": 0.1269713242
                      },
                      {
                        "learn": [
                          0.1031909376
                        ],
                        "iteration": 377,
                        "passed_time": 0.07703541882,
                        "remaining_time": 0.1267619855
                      },
                      {
                        "learn": [
                          0.1028215385
                        ],
                        "iteration": 378,
                        "passed_time": 0.07723331476,
                        "remaining_time": 0.1265485184
                      },
                      {
                        "learn": [
                          0.1024546072
                        ],
                        "iteration": 379,
                        "passed_time": 0.0774249689,
                        "remaining_time": 0.1263249493
                      },
                      {
                        "learn": [
                          0.1021951068
                        ],
                        "iteration": 380,
                        "passed_time": 0.07766772747,
                        "remaining_time": 0.1261845756
                      },
                      {
                        "learn": [
                          0.1018322791
                        ],
                        "iteration": 381,
                        "passed_time": 0.07786639795,
                        "remaining_time": 0.1259723401
                      },
                      {
                        "learn": [
                          0.1014718567
                        ],
                        "iteration": 382,
                        "passed_time": 0.07803312669,
                        "remaining_time": 0.1257087185
                      },
                      {
                        "learn": [
                          0.1011138167
                        ],
                        "iteration": 383,
                        "passed_time": 0.07823179354,
                        "remaining_time": 0.1254968355
                      },
                      {
                        "learn": [
                          0.1007581365
                        ],
                        "iteration": 384,
                        "passed_time": 0.07844450853,
                        "remaining_time": 0.1253074617
                      },
                      {
                        "learn": [
                          0.1004047937
                        ],
                        "iteration": 385,
                        "passed_time": 0.07861036454,
                        "remaining_time": 0.1250434296
                      },
                      {
                        "learn": [
                          0.1001036624
                        ],
                        "iteration": 386,
                        "passed_time": 0.07880532504,
                        "remaining_time": 0.1248260058
                      },
                      {
                        "learn": [
                          0.0997545747
                        ],
                        "iteration": 387,
                        "passed_time": 0.07900188734,
                        "remaining_time": 0.1246112244
                      },
                      {
                        "learn": [
                          0.09940776257
                        ],
                        "iteration": 388,
                        "passed_time": 0.07919593329,
                        "remaining_time": 0.1243925842
                      },
                      {
                        "learn": [
                          0.09906320463
                        ],
                        "iteration": 389,
                        "passed_time": 0.07935607477,
                        "remaining_time": 0.12412104
                      },
                      {
                        "learn": [
                          0.09872087979
                        ],
                        "iteration": 390,
                        "passed_time": 0.07959816061,
                        "remaining_time": 0.1239776977
                      },
                      {
                        "learn": [
                          0.09838076724
                        ],
                        "iteration": 391,
                        "passed_time": 0.07978891748,
                        "remaining_time": 0.1237542394
                      },
                      {
                        "learn": [
                          0.09813980206
                        ],
                        "iteration": 392,
                        "passed_time": 0.07998489706,
                        "remaining_time": 0.123539014
                      },
                      {
                        "learn": [
                          0.09780337382
                        ],
                        "iteration": 393,
                        "passed_time": 0.08017428847,
                        "remaining_time": 0.1233137533
                      },
                      {
                        "learn": [
                          0.09746910367
                        ],
                        "iteration": 394,
                        "passed_time": 0.08037443804,
                        "remaining_time": 0.1231051519
                      },
                      {
                        "learn": [
                          0.09718506482
                        ],
                        "iteration": 395,
                        "passed_time": 0.08057065671,
                        "remaining_time": 0.1228905976
                      },
                      {
                        "learn": [
                          0.09685471575
                        ],
                        "iteration": 396,
                        "passed_time": 0.08075846358,
                        "remaining_time": 0.122663359
                      },
                      {
                        "learn": [
                          0.09652646904
                        ],
                        "iteration": 397,
                        "passed_time": 0.08097115586,
                        "remaining_time": 0.1224739594
                      },
                      {
                        "learn": [
                          0.09620030542
                        ],
                        "iteration": 398,
                        "passed_time": 0.08118012632,
                        "remaining_time": 0.1222788369
                      },
                      {
                        "learn": [
                          0.09592212864
                        ],
                        "iteration": 399,
                        "passed_time": 0.08137083955,
                        "remaining_time": 0.1220562593
                      },
                      {
                        "learn": [
                          0.09564638529
                        ],
                        "iteration": 400,
                        "passed_time": 0.08156980912,
                        "remaining_time": 0.1218461737
                      },
                      {
                        "learn": [
                          0.09532572585
                        ],
                        "iteration": 401,
                        "passed_time": 0.0817307706,
                        "remaining_time": 0.121579604
                      },
                      {
                        "learn": [
                          0.09500708088
                        ],
                        "iteration": 402,
                        "passed_time": 0.08191895747,
                        "remaining_time": 0.1213538898
                      },
                      {
                        "learn": [
                          0.094736267
                        ],
                        "iteration": 403,
                        "passed_time": 0.08210759797,
                        "remaining_time": 0.1211290307
                      },
                      {
                        "learn": [
                          0.09446583176
                        ],
                        "iteration": 404,
                        "passed_time": 0.08231099844,
                        "remaining_time": 0.1209260348
                      },
                      {
                        "learn": [
                          0.09419787938
                        ],
                        "iteration": 405,
                        "passed_time": 0.08251621891,
                        "remaining_time": 0.1207256996
                      },
                      {
                        "learn": [
                          0.09388619889
                        ],
                        "iteration": 406,
                        "passed_time": 0.0827039276,
                        "remaining_time": 0.1204998257
                      },
                      {
                        "learn": [
                          0.09366516963
                        ],
                        "iteration": 407,
                        "passed_time": 0.08294523072,
                        "remaining_time": 0.1203519034
                      },
                      {
                        "learn": [
                          0.09335674296
                        ],
                        "iteration": 408,
                        "passed_time": 0.08313664759,
                        "remaining_time": 0.1201314394
                      },
                      {
                        "learn": [
                          0.09309467734
                        ],
                        "iteration": 409,
                        "passed_time": 0.08332383719,
                        "remaining_time": 0.119905034
                      },
                      {
                        "learn": [
                          0.09283404832
                        ],
                        "iteration": 410,
                        "passed_time": 0.08351094497,
                        "remaining_time": 0.1196787022
                      },
                      {
                        "learn": [
                          0.09253069281
                        ],
                        "iteration": 411,
                        "passed_time": 0.08369797639,
                        "remaining_time": 0.1194524517
                      },
                      {
                        "learn": [
                          0.09222919829
                        ],
                        "iteration": 412,
                        "passed_time": 0.08390393595,
                        "remaining_time": 0.1192532939
                      },
                      {
                        "learn": [
                          0.09197311708
                        ],
                        "iteration": 413,
                        "passed_time": 0.08409050282,
                        "remaining_time": 0.1190266537
                      },
                      {
                        "learn": [
                          0.09176039659
                        ],
                        "iteration": 414,
                        "passed_time": 0.08428055514,
                        "remaining_time": 0.1188051199
                      },
                      {
                        "learn": [
                          0.09150680678
                        ],
                        "iteration": 415,
                        "passed_time": 0.08448198198,
                        "remaining_time": 0.1185997055
                      },
                      {
                        "learn": [
                          0.09125458653
                        ],
                        "iteration": 416,
                        "passed_time": 0.08467277248,
                        "remaining_time": 0.1183794397
                      },
                      {
                        "learn": [
                          0.09100372489
                        ],
                        "iteration": 417,
                        "passed_time": 0.0848622948,
                        "remaining_time": 0.1181575492
                      },
                      {
                        "learn": [
                          0.09071137498
                        ],
                        "iteration": 418,
                        "passed_time": 0.08505357621,
                        "remaining_time": 0.1179382525
                      },
                      {
                        "learn": [
                          0.09046334633
                        ],
                        "iteration": 419,
                        "passed_time": 0.08524240126,
                        "remaining_time": 0.117715697
                      },
                      {
                        "learn": [
                          0.09021664339
                        ],
                        "iteration": 420,
                        "passed_time": 0.08545692899,
                        "remaining_time": 0.1175286506
                      },
                      {
                        "learn": [
                          0.08997125564
                        ],
                        "iteration": 421,
                        "passed_time": 0.08566600399,
                        "remaining_time": 0.1173340055
                      },
                      {
                        "learn": [
                          0.08972717271
                        ],
                        "iteration": 422,
                        "passed_time": 0.0858568554,
                        "remaining_time": 0.117114434
                      },
                      {
                        "learn": [
                          0.08948212994
                        ],
                        "iteration": 423,
                        "passed_time": 0.08606270315,
                        "remaining_time": 0.1169153703
                      },
                      {
                        "learn": [
                          0.08924051501
                        ],
                        "iteration": 424,
                        "passed_time": 0.08625480001,
                        "remaining_time": 0.1166976706
                      },
                      {
                        "learn": [
                          0.089000176
                        ],
                        "iteration": 425,
                        "passed_time": 0.0864583023,
                        "remaining_time": 0.116495459
                      },
                      {
                        "learn": [
                          0.08871966476
                        ],
                        "iteration": 426,
                        "passed_time": 0.08665052189,
                        "remaining_time": 0.1162781008
                      },
                      {
                        "learn": [
                          0.08848198894
                        ],
                        "iteration": 427,
                        "passed_time": 0.08686856688,
                        "remaining_time": 0.1160953744
                      },
                      {
                        "learn": [
                          0.08820452411
                        ],
                        "iteration": 428,
                        "passed_time": 0.08706530009,
                        "remaining_time": 0.1158841174
                      },
                      {
                        "learn": [
                          0.08796946897
                        ],
                        "iteration": 429,
                        "passed_time": 0.08727925691,
                        "remaining_time": 0.1156957592
                      },
                      {
                        "learn": [
                          0.08769500281
                        ],
                        "iteration": 430,
                        "passed_time": 0.08744235383,
                        "remaining_time": 0.1154401377
                      },
                      {
                        "learn": [
                          0.08746004809
                        ],
                        "iteration": 431,
                        "passed_time": 0.08766686153,
                        "remaining_time": 0.1152656883
                      },
                      {
                        "learn": [
                          0.08718855669
                        ],
                        "iteration": 432,
                        "passed_time": 0.0878443457,
                        "remaining_time": 0.1150294319
                      },
                      {
                        "learn": [
                          0.0869186534
                        ],
                        "iteration": 433,
                        "passed_time": 0.08803920528,
                        "remaining_time": 0.1148161064
                      },
                      {
                        "learn": [
                          0.08672724781
                        ],
                        "iteration": 434,
                        "passed_time": 0.08823871304,
                        "remaining_time": 0.1146089031
                      },
                      {
                        "learn": [
                          0.08645999415
                        ],
                        "iteration": 435,
                        "passed_time": 0.08840743995,
                        "remaining_time": 0.1143619177
                      },
                      {
                        "learn": [
                          0.08619429316
                        ],
                        "iteration": 436,
                        "passed_time": 0.08859998135,
                        "remaining_time": 0.1141459714
                      },
                      {
                        "learn": [
                          0.08596686971
                        ],
                        "iteration": 437,
                        "passed_time": 0.08879228731,
                        "remaining_time": 0.1139298298
                      },
                      {
                        "learn": [
                          0.08577937128
                        ],
                        "iteration": 438,
                        "passed_time": 0.08903136952,
                        "remaining_time": 0.1137735724
                      },
                      {
                        "learn": [
                          0.08551755279
                        ],
                        "iteration": 439,
                        "passed_time": 0.08924325998,
                        "remaining_time": 0.1135823309
                      },
                      {
                        "learn": [
                          0.08525724187
                        ],
                        "iteration": 440,
                        "passed_time": 0.08939691692,
                        "remaining_time": 0.1133171804
                      },
                      {
                        "learn": [
                          0.08503448992
                        ],
                        "iteration": 441,
                        "passed_time": 0.08958694924,
                        "remaining_time": 0.1130984563
                      },
                      {
                        "learn": [
                          0.08481483366
                        ],
                        "iteration": 442,
                        "passed_time": 0.08978233701,
                        "remaining_time": 0.1128865953
                      },
                      {
                        "learn": [
                          0.08459424665
                        ],
                        "iteration": 443,
                        "passed_time": 0.08997582841,
                        "remaining_time": 0.1126724338
                      },
                      {
                        "learn": [
                          0.08433916959
                        ],
                        "iteration": 444,
                        "passed_time": 0.09013201808,
                        "remaining_time": 0.1124118428
                      },
                      {
                        "learn": [
                          0.08412095231
                        ],
                        "iteration": 445,
                        "passed_time": 0.09032512675,
                        "remaining_time": 0.112197579
                      },
                      {
                        "learn": [
                          0.08386855166
                        ],
                        "iteration": 446,
                        "passed_time": 0.09052379996,
                        "remaining_time": 0.1119902939
                      },
                      {
                        "learn": [
                          0.08361758116
                        ],
                        "iteration": 447,
                        "passed_time": 0.09072719135,
                        "remaining_time": 0.1117888608
                      },
                      {
                        "learn": [
                          0.08340465748
                        ],
                        "iteration": 448,
                        "passed_time": 0.09093183273,
                        "remaining_time": 0.1115889529
                      },
                      {
                        "learn": [
                          0.08319279894
                        ],
                        "iteration": 449,
                        "passed_time": 0.09111862142,
                        "remaining_time": 0.111367204
                      },
                      {
                        "learn": [
                          0.0829819976
                        ],
                        "iteration": 450,
                        "passed_time": 0.09131358464,
                        "remaining_time": 0.1111555609
                      },
                      {
                        "learn": [
                          0.08277021647
                        ],
                        "iteration": 451,
                        "passed_time": 0.0915036606,
                        "remaining_time": 0.1109380664
                      },
                      {
                        "learn": [
                          0.08252535268
                        ],
                        "iteration": 452,
                        "passed_time": 0.09169234656,
                        "remaining_time": 0.1107190145
                      },
                      {
                        "learn": [
                          0.08231770332
                        ],
                        "iteration": 453,
                        "passed_time": 0.09187931525,
                        "remaining_time": 0.1104980311
                      },
                      {
                        "learn": [
                          0.08210909571
                        ],
                        "iteration": 454,
                        "passed_time": 0.09206892484,
                        "remaining_time": 0.1102803605
                      },
                      {
                        "learn": [
                          0.0819015338
                        ],
                        "iteration": 455,
                        "passed_time": 0.09227740803,
                        "remaining_time": 0.1100853289
                      },
                      {
                        "learn": [
                          0.08166146515
                        ],
                        "iteration": 456,
                        "passed_time": 0.09248948212,
                        "remaining_time": 0.109894505
                      },
                      {
                        "learn": [
                          0.08142272736
                        ],
                        "iteration": 457,
                        "passed_time": 0.09263887998,
                        "remaining_time": 0.1096294169
                      },
                      {
                        "learn": [
                          0.08122019076
                        ],
                        "iteration": 458,
                        "passed_time": 0.09282712231,
                        "remaining_time": 0.1094106169
                      },
                      {
                        "learn": [
                          0.0809838716
                        ],
                        "iteration": 459,
                        "passed_time": 0.09298907833,
                        "remaining_time": 0.1091610919
                      },
                      {
                        "learn": [
                          0.08078161948
                        ],
                        "iteration": 460,
                        "passed_time": 0.09318721427,
                        "remaining_time": 0.1089542484
                      },
                      {
                        "learn": [
                          0.08054769901
                        ],
                        "iteration": 461,
                        "passed_time": 0.09337939567,
                        "remaining_time": 0.1087405084
                      },
                      {
                        "learn": [
                          0.08031506047
                        ],
                        "iteration": 462,
                        "passed_time": 0.09353426443,
                        "remaining_time": 0.1084835853
                      },
                      {
                        "learn": [
                          0.08008369367
                        ],
                        "iteration": 463,
                        "passed_time": 0.09372527402,
                        "remaining_time": 0.108268851
                      },
                      {
                        "learn": [
                          0.07988734176
                        ],
                        "iteration": 464,
                        "passed_time": 0.0939128318,
                        "remaining_time": 0.1080502473
                      },
                      {
                        "learn": [
                          0.07965828697
                        ],
                        "iteration": 465,
                        "passed_time": 0.09412065863,
                        "remaining_time": 0.1078550037
                      },
                      {
                        "learn": [
                          0.07943047572
                        ],
                        "iteration": 466,
                        "passed_time": 0.09433282272,
                        "remaining_time": 0.1076646563
                      },
                      {
                        "learn": [
                          0.07920389821
                        ],
                        "iteration": 467,
                        "passed_time": 0.09452249414,
                        "remaining_time": 0.1074486472
                      },
                      {
                        "learn": [
                          0.07901160665
                        ],
                        "iteration": 468,
                        "passed_time": 0.0947192819,
                        "remaining_time": 0.1072408074
                      },
                      {
                        "learn": [
                          0.07882023503
                        ],
                        "iteration": 469,
                        "passed_time": 0.09491294512,
                        "remaining_time": 0.1070294913
                      },
                      {
                        "learn": [
                          0.07859691271
                        ],
                        "iteration": 470,
                        "passed_time": 0.09510216835,
                        "remaining_time": 0.1068132634
                      },
                      {
                        "learn": [
                          0.07840746191
                        ],
                        "iteration": 471,
                        "passed_time": 0.09529433794,
                        "remaining_time": 0.1066004458
                      },
                      {
                        "learn": [
                          0.07821891112
                        ],
                        "iteration": 472,
                        "passed_time": 0.09548292117,
                        "remaining_time": 0.1063837198
                      },
                      {
                        "learn": [
                          0.07803125397
                        ],
                        "iteration": 473,
                        "passed_time": 0.09567295531,
                        "remaining_time": 0.1061687226
                      },
                      {
                        "learn": [
                          0.07784242344
                        ],
                        "iteration": 474,
                        "passed_time": 0.0958804376,
                        "remaining_time": 0.1059731152
                      },
                      {
                        "learn": [
                          0.07765646081
                        ],
                        "iteration": 475,
                        "passed_time": 0.09608602625,
                        "remaining_time": 0.1057753734
                      },
                      {
                        "learn": [
                          0.07746933904
                        ],
                        "iteration": 476,
                        "passed_time": 0.09630419578,
                        "remaining_time": 0.1055913929
                      },
                      {
                        "learn": [
                          0.07728311264
                        ],
                        "iteration": 477,
                        "passed_time": 0.09665634412,
                        "remaining_time": 0.1055535808
                      },
                      {
                        "learn": [
                          0.07706788364
                        ],
                        "iteration": 478,
                        "passed_time": 0.09687414638,
                        "remaining_time": 0.1053683304
                      },
                      {
                        "learn": [
                          0.07688351633
                        ],
                        "iteration": 479,
                        "passed_time": 0.09708415866,
                        "remaining_time": 0.1051745052
                      },
                      {
                        "learn": [
                          0.07667038518
                        ],
                        "iteration": 480,
                        "passed_time": 0.09728506823,
                        "remaining_time": 0.1049707909
                      },
                      {
                        "learn": [
                          0.07648784998
                        ],
                        "iteration": 481,
                        "passed_time": 0.09748840416,
                        "remaining_time": 0.1047696958
                      },
                      {
                        "learn": [
                          0.07630779841
                        ],
                        "iteration": 482,
                        "passed_time": 0.09768918009,
                        "remaining_time": 0.1045658512
                      },
                      {
                        "learn": [
                          0.07609766253
                        ],
                        "iteration": 483,
                        "passed_time": 0.09785774882,
                        "remaining_time": 0.1043276826
                      },
                      {
                        "learn": [
                          0.07588862502
                        ],
                        "iteration": 484,
                        "passed_time": 0.09805332749,
                        "remaining_time": 0.1041184818
                      },
                      {
                        "learn": [
                          0.07570958394
                        ],
                        "iteration": 485,
                        "passed_time": 0.09824733617,
                        "remaining_time": 0.1039076765
                      },
                      {
                        "learn": [
                          0.07553138234
                        ],
                        "iteration": 486,
                        "passed_time": 0.09844850028,
                        "remaining_time": 0.1037044777
                      },
                      {
                        "learn": [
                          0.07532527059
                        ],
                        "iteration": 487,
                        "passed_time": 0.09865985438,
                        "remaining_time": 0.1035119784
                      },
                      {
                        "learn": [
                          0.07517887189
                        ],
                        "iteration": 488,
                        "passed_time": 0.09891946291,
                        "remaining_time": 0.1033698273
                      },
                      {
                        "learn": [
                          0.07497455981
                        ],
                        "iteration": 489,
                        "passed_time": 0.09910987887,
                        "remaining_time": 0.10315518
                      },
                      {
                        "learn": [
                          0.07477130244
                        ],
                        "iteration": 490,
                        "passed_time": 0.09927607124,
                        "remaining_time": 0.1029155199
                      },
                      {
                        "learn": [
                          0.07459873074
                        ],
                        "iteration": 491,
                        "passed_time": 0.09947006537,
                        "remaining_time": 0.1027048642
                      },
                      {
                        "learn": [
                          0.07439739235
                        ],
                        "iteration": 492,
                        "passed_time": 0.09966099042,
                        "remaining_time": 0.10249112
                      },
                      {
                        "learn": [
                          0.07419708652
                        ],
                        "iteration": 493,
                        "passed_time": 0.09985783636,
                        "remaining_time": 0.1022835328
                      },
                      {
                        "learn": [
                          0.07402703278
                        ],
                        "iteration": 494,
                        "passed_time": 0.1000667341,
                        "remaining_time": 0.1020882843
                      },
                      {
                        "learn": [
                          0.07388533915
                        ],
                        "iteration": 495,
                        "passed_time": 0.1002766691,
                        "remaining_time": 0.1018940347
                      },
                      {
                        "learn": [
                          0.07368760999
                        ],
                        "iteration": 496,
                        "passed_time": 0.1004707705,
                        "remaining_time": 0.1016836973
                      },
                      {
                        "learn": [
                          0.07349088682
                        ],
                        "iteration": 497,
                        "passed_time": 0.1006582901,
                        "remaining_time": 0.1014667904
                      },
                      {
                        "learn": [
                          0.07329516221
                        ],
                        "iteration": 498,
                        "passed_time": 0.1008113007,
                        "remaining_time": 0.101215354
                      },
                      {
                        "learn": [
                          0.07312750116
                        ],
                        "iteration": 499,
                        "passed_time": 0.1010536056,
                        "remaining_time": 0.1010536056
                      },
                      {
                        "learn": [
                          0.0729620339
                        ],
                        "iteration": 500,
                        "passed_time": 0.101250237,
                        "remaining_time": 0.1008460445
                      },
                      {
                        "learn": [
                          0.072768959
                        ],
                        "iteration": 501,
                        "passed_time": 0.101437413,
                        "remaining_time": 0.1006291467
                      },
                      {
                        "learn": [
                          0.07257685598
                        ],
                        "iteration": 502,
                        "passed_time": 0.1016017208,
                        "remaining_time": 0.1003897719
                      },
                      {
                        "learn": [
                          0.07238571771
                        ],
                        "iteration": 503,
                        "passed_time": 0.101810104,
                        "remaining_time": 0.1001940706
                      },
                      {
                        "learn": [
                          0.07222196594
                        ],
                        "iteration": 504,
                        "passed_time": 0.1020120927,
                        "remaining_time": 0.09999205122
                      },
                      {
                        "learn": [
                          0.0720603327
                        ],
                        "iteration": 505,
                        "passed_time": 0.1022030841,
                        "remaining_time": 0.09977929551
                      },
                      {
                        "learn": [
                          0.07189941613
                        ],
                        "iteration": 506,
                        "passed_time": 0.1024004846,
                        "remaining_time": 0.09957285776
                      },
                      {
                        "learn": [
                          0.07171162695
                        ],
                        "iteration": 507,
                        "passed_time": 0.1026027768,
                        "remaining_time": 0.09937119333
                      },
                      {
                        "learn": [
                          0.07155220733
                        ],
                        "iteration": 508,
                        "passed_time": 0.1027923019,
                        "remaining_time": 0.09915721067
                      },
                      {
                        "learn": [
                          0.07136612955
                        ],
                        "iteration": 509,
                        "passed_time": 0.1029467279,
                        "remaining_time": 0.09890960135
                      },
                      {
                        "learn": [
                          0.07118097311
                        ],
                        "iteration": 510,
                        "passed_time": 0.1031384748,
                        "remaining_time": 0.09869807079
                      },
                      {
                        "learn": [
                          0.07099673136
                        ],
                        "iteration": 511,
                        "passed_time": 0.1032958017,
                        "remaining_time": 0.09845381102
                      },
                      {
                        "learn": [
                          0.07086572646
                        ],
                        "iteration": 512,
                        "passed_time": 0.1035420357,
                        "remaining_time": 0.09829429125
                      },
                      {
                        "learn": [
                          0.07068301611
                        ],
                        "iteration": 513,
                        "passed_time": 0.1037473408,
                        "remaining_time": 0.09809573465
                      },
                      {
                        "learn": [
                          0.07050120305
                        ],
                        "iteration": 514,
                        "passed_time": 0.1039729894,
                        "remaining_time": 0.09791631038
                      },
                      {
                        "learn": [
                          0.07034535707
                        ],
                        "iteration": 515,
                        "passed_time": 0.1041780244,
                        "remaining_time": 0.09771737171
                      },
                      {
                        "learn": [
                          0.07016518862
                        ],
                        "iteration": 516,
                        "passed_time": 0.1043893267,
                        "remaining_time": 0.09752426456
                      },
                      {
                        "learn": [
                          0.07001078043
                        ],
                        "iteration": 517,
                        "passed_time": 0.1046026271,
                        "remaining_time": 0.09733294647
                      },
                      {
                        "learn": [
                          0.06985705042
                        ],
                        "iteration": 518,
                        "passed_time": 0.1048054621,
                        "remaining_time": 0.09713184449
                      },
                      {
                        "learn": [
                          0.06973000267
                        ],
                        "iteration": 519,
                        "passed_time": 0.105054338,
                        "remaining_time": 0.09697323505
                      },
                      {
                        "learn": [
                          0.06957747768
                        ],
                        "iteration": 520,
                        "passed_time": 0.105244883,
                        "remaining_time": 0.0967606506
                      },
                      {
                        "learn": [
                          0.06942680076
                        ],
                        "iteration": 521,
                        "passed_time": 0.1054358281,
                        "remaining_time": 0.09654851688
                      },
                      {
                        "learn": [
                          0.06927677181
                        ],
                        "iteration": 522,
                        "passed_time": 0.1056428994,
                        "remaining_time": 0.09635117214
                      },
                      {
                        "learn": [
                          0.06910172177
                        ],
                        "iteration": 523,
                        "passed_time": 0.1058537181,
                        "remaining_time": 0.09615719428
                      },
                      {
                        "learn": [
                          0.06892751523
                        ],
                        "iteration": 524,
                        "passed_time": 0.1060457095,
                        "remaining_time": 0.0959461181
                      },
                      {
                        "learn": [
                          0.06877954443
                        ],
                        "iteration": 525,
                        "passed_time": 0.1062455645,
                        "remaining_time": 0.09574220072
                      },
                      {
                        "learn": [
                          0.06860687391
                        ],
                        "iteration": 526,
                        "passed_time": 0.1064411714,
                        "remaining_time": 0.09553448587
                      },
                      {
                        "learn": [
                          0.06846022962
                        ],
                        "iteration": 527,
                        "passed_time": 0.1066336264,
                        "remaining_time": 0.09532399936
                      },
                      {
                        "learn": [
                          0.068314208
                        ],
                        "iteration": 528,
                        "passed_time": 0.1068354851,
                        "remaining_time": 0.09512195362
                      },
                      {
                        "learn": [
                          0.0681673771
                        ],
                        "iteration": 529,
                        "passed_time": 0.1070276501,
                        "remaining_time": 0.09491131236
                      },
                      {
                        "learn": [
                          0.06799759976
                        ],
                        "iteration": 530,
                        "passed_time": 0.1072192361,
                        "remaining_time": 0.09470022922
                      },
                      {
                        "learn": [
                          0.06782862939
                        ],
                        "iteration": 531,
                        "passed_time": 0.1074339556,
                        "remaining_time": 0.09450956997
                      },
                      {
                        "learn": [
                          0.06770848293
                        ],
                        "iteration": 532,
                        "passed_time": 0.1076361434,
                        "remaining_time": 0.09430784042
                      },
                      {
                        "learn": [
                          0.06756548036
                        ],
                        "iteration": 533,
                        "passed_time": 0.107827732,
                        "remaining_time": 0.09409685979
                      },
                      {
                        "learn": [
                          0.06742169213
                        ],
                        "iteration": 534,
                        "passed_time": 0.1080315143,
                        "remaining_time": 0.09389654983
                      },
                      {
                        "learn": [
                          0.0672554093
                        ],
                        "iteration": 535,
                        "passed_time": 0.1082395802,
                        "remaining_time": 0.09369993514
                      },
                      {
                        "learn": [
                          0.067137203
                        ],
                        "iteration": 536,
                        "passed_time": 0.108444488,
                        "remaining_time": 0.09350055482
                      },
                      {
                        "learn": [
                          0.06697224075
                        ],
                        "iteration": 537,
                        "passed_time": 0.1086253676,
                        "remaining_time": 0.09328052013
                      },
                      {
                        "learn": [
                          0.06683216779
                        ],
                        "iteration": 538,
                        "passed_time": 0.1088479844,
                        "remaining_time": 0.09309632803
                      },
                      {
                        "learn": [
                          0.06669267755
                        ],
                        "iteration": 539,
                        "passed_time": 0.1091195429,
                        "remaining_time": 0.0929536847
                      },
                      {
                        "learn": [
                          0.06652977614
                        ],
                        "iteration": 540,
                        "passed_time": 0.1092763844,
                        "remaining_time": 0.09271323555
                      },
                      {
                        "learn": [
                          0.06636763496
                        ],
                        "iteration": 541,
                        "passed_time": 0.109524702,
                        "remaining_time": 0.09255039397
                      },
                      {
                        "learn": [
                          0.06625237032
                        ],
                        "iteration": 542,
                        "passed_time": 0.1097314216,
                        "remaining_time": 0.09235222775
                      },
                      {
                        "learn": [
                          0.06609150247
                        ],
                        "iteration": 543,
                        "passed_time": 0.1135494716,
                        "remaining_time": 0.09518117473
                      },
                      {
                        "learn": [
                          0.06597715696
                        ],
                        "iteration": 544,
                        "passed_time": 0.113825051,
                        "remaining_time": 0.09502825361
                      },
                      {
                        "learn": [
                          0.06581754798
                        ],
                        "iteration": 545,
                        "passed_time": 0.1139962352,
                        "remaining_time": 0.09478807835
                      },
                      {
                        "learn": [
                          0.06565867712
                        ],
                        "iteration": 546,
                        "passed_time": 0.1142014784,
                        "remaining_time": 0.09457636145
                      },
                      {
                        "learn": [
                          0.06550053939
                        ],
                        "iteration": 547,
                        "passed_time": 0.1143875616,
                        "remaining_time": 0.09434886471
                      },
                      {
                        "learn": [
                          0.06536496018
                        ],
                        "iteration": 548,
                        "passed_time": 0.1145797994,
                        "remaining_time": 0.09412657474
                      },
                      {
                        "learn": [
                          0.06522994332
                        ],
                        "iteration": 549,
                        "passed_time": 0.1147785981,
                        "remaining_time": 0.09390976206
                      },
                      {
                        "learn": [
                          0.0650737629
                        ],
                        "iteration": 550,
                        "passed_time": 0.1149667304,
                        "remaining_time": 0.09368432296
                      },
                      {
                        "learn": [
                          0.06491829763
                        ],
                        "iteration": 551,
                        "passed_time": 0.1151253637,
                        "remaining_time": 0.09343507778
                      },
                      {
                        "learn": [
                          0.06476354273
                        ],
                        "iteration": 552,
                        "passed_time": 0.1153386005,
                        "remaining_time": 0.09323029734
                      },
                      {
                        "learn": [
                          0.06463208166
                        ],
                        "iteration": 553,
                        "passed_time": 0.1155506128,
                        "remaining_time": 0.09302450054
                      },
                      {
                        "learn": [
                          0.06447862096
                        ],
                        "iteration": 554,
                        "passed_time": 0.1157524542,
                        "remaining_time": 0.09281052632
                      },
                      {
                        "learn": [
                          0.06432585734
                        ],
                        "iteration": 555,
                        "passed_time": 0.116074148,
                        "remaining_time": 0.09269230526
                      },
                      {
                        "learn": [
                          0.06419488908
                        ],
                        "iteration": 556,
                        "passed_time": 0.1162835703,
                        "remaining_time": 0.09248406041
                      },
                      {
                        "learn": [
                          0.06408665678
                        ],
                        "iteration": 557,
                        "passed_time": 0.1164862599,
                        "remaining_time": 0.09227047825
                      },
                      {
                        "learn": [
                          0.06395664505
                        ],
                        "iteration": 558,
                        "passed_time": 0.1166796576,
                        "remaining_time": 0.09204960469
                      },
                      {
                        "learn": [
                          0.06382716224
                        ],
                        "iteration": 559,
                        "passed_time": 0.1168754663,
                        "remaining_time": 0.09183072353
                      },
                      {
                        "learn": [
                          0.06367730698
                        ],
                        "iteration": 560,
                        "passed_time": 0.1170659132,
                        "remaining_time": 0.09160772885
                      },
                      {
                        "learn": [
                          0.06354892402
                        ],
                        "iteration": 561,
                        "passed_time": 0.1172551655,
                        "remaining_time": 0.09138391902
                      },
                      {
                        "learn": [
                          0.06340031172
                        ],
                        "iteration": 562,
                        "passed_time": 0.1174554796,
                        "remaining_time": 0.09116881811
                      },
                      {
                        "learn": [
                          0.06327397786
                        ],
                        "iteration": 563,
                        "passed_time": 0.1176621428,
                        "remaining_time": 0.09095867778
                      },
                      {
                        "learn": [
                          0.06314814637
                        ],
                        "iteration": 564,
                        "passed_time": 0.1178581978,
                        "remaining_time": 0.09074038241
                      },
                      {
                        "learn": [
                          0.06300130762
                        ],
                        "iteration": 565,
                        "passed_time": 0.1180469793,
                        "remaining_time": 0.09051658834
                      },
                      {
                        "learn": [
                          0.06285512278
                        ],
                        "iteration": 566,
                        "passed_time": 0.1182333025,
                        "remaining_time": 0.09029104053
                      },
                      {
                        "learn": [
                          0.0627095876
                        ],
                        "iteration": 567,
                        "passed_time": 0.118391044,
                        "remaining_time": 0.0900438926
                      },
                      {
                        "learn": [
                          0.06256469786
                        ],
                        "iteration": 568,
                        "passed_time": 0.1185808981,
                        "remaining_time": 0.08982138329
                      },
                      {
                        "learn": [
                          0.0624405238
                        ],
                        "iteration": 569,
                        "passed_time": 0.1187733441,
                        "remaining_time": 0.08960094377
                      },
                      {
                        "learn": [
                          0.06231684445
                        ],
                        "iteration": 570,
                        "passed_time": 0.11898522,
                        "remaining_time": 0.0893952003
                      },
                      {
                        "learn": [
                          0.0621736779
                        ],
                        "iteration": 571,
                        "passed_time": 0.1191750114,
                        "remaining_time": 0.08917291062
                      },
                      {
                        "learn": [
                          0.06207182409
                        ],
                        "iteration": 572,
                        "passed_time": 0.1194023855,
                        "remaining_time": 0.08897874099
                      },
                      {
                        "learn": [
                          0.06195046728
                        ],
                        "iteration": 573,
                        "passed_time": 0.1195966841,
                        "remaining_time": 0.08875990843
                      },
                      {
                        "learn": [
                          0.06180888844
                        ],
                        "iteration": 574,
                        "passed_time": 0.1197831265,
                        "remaining_time": 0.08853535434
                      },
                      {
                        "learn": [
                          0.06166792974
                        ],
                        "iteration": 575,
                        "passed_time": 0.1199775869,
                        "remaining_time": 0.08831683484
                      },
                      {
                        "learn": [
                          0.0615676524
                        ],
                        "iteration": 576,
                        "passed_time": 0.1201730293,
                        "remaining_time": 0.0880991185
                      },
                      {
                        "learn": [
                          0.06144725177
                        ],
                        "iteration": 577,
                        "passed_time": 0.1203579334,
                        "remaining_time": 0.08787378529
                      },
                      {
                        "learn": [
                          0.06132820697
                        ],
                        "iteration": 578,
                        "passed_time": 0.1205400776,
                        "remaining_time": 0.0876465849
                      },
                      {
                        "learn": [
                          0.06118931676
                        ],
                        "iteration": 579,
                        "passed_time": 0.1207513453,
                        "remaining_time": 0.08744062935
                      },
                      {
                        "learn": [
                          0.06107124086
                        ],
                        "iteration": 580,
                        "passed_time": 0.1209603821,
                        "remaining_time": 0.08723304666
                      },
                      {
                        "learn": [
                          0.06093345762
                        ],
                        "iteration": 581,
                        "passed_time": 0.1211453935,
                        "remaining_time": 0.08700820361
                      },
                      {
                        "learn": [
                          0.06081538805
                        ],
                        "iteration": 582,
                        "passed_time": 0.121339224,
                        "remaining_time": 0.08678980519
                      },
                      {
                        "learn": [
                          0.06071775317
                        ],
                        "iteration": 583,
                        "passed_time": 0.1215568554,
                        "remaining_time": 0.08658844493
                      },
                      {
                        "learn": [
                          0.06058147808
                        ],
                        "iteration": 584,
                        "passed_time": 0.1217489513,
                        "remaining_time": 0.0863689142
                      },
                      {
                        "learn": [
                          0.06044578976
                        ],
                        "iteration": 585,
                        "passed_time": 0.1219337382,
                        "remaining_time": 0.08614431335
                      },
                      {
                        "learn": [
                          0.06034928298
                        ],
                        "iteration": 586,
                        "passed_time": 0.1221719668,
                        "remaining_time": 0.08595744853
                      },
                      {
                        "learn": [
                          0.06023427448
                        ],
                        "iteration": 587,
                        "passed_time": 0.12237582,
                        "remaining_time": 0.08574632286
                      },
                      {
                        "learn": [
                          0.06010005503
                        ],
                        "iteration": 588,
                        "passed_time": 0.1225275279,
                        "remaining_time": 0.08549883523
                      },
                      {
                        "learn": [
                          0.05996640957
                        ],
                        "iteration": 589,
                        "passed_time": 0.1227159775,
                        "remaining_time": 0.08527720467
                      },
                      {
                        "learn": [
                          0.05983333452
                        ],
                        "iteration": 590,
                        "passed_time": 0.1229152452,
                        "remaining_time": 0.08506317308
                      },
                      {
                        "learn": [
                          0.0597008263
                        ],
                        "iteration": 591,
                        "passed_time": 0.1231019648,
                        "remaining_time": 0.08484054332
                      },
                      {
                        "learn": [
                          0.05956888139
                        ],
                        "iteration": 592,
                        "passed_time": 0.1232926426,
                        "remaining_time": 0.08462075132
                      },
                      {
                        "learn": [
                          0.05945669764
                        ],
                        "iteration": 593,
                        "passed_time": 0.1234786395,
                        "remaining_time": 0.08439785795
                      },
                      {
                        "learn": [
                          0.05932578021
                        ],
                        "iteration": 594,
                        "passed_time": 0.1236294464,
                        "remaining_time": 0.08415113579
                      },
                      {
                        "learn": [
                          0.05921356209
                        ],
                        "iteration": 595,
                        "passed_time": 0.1238181624,
                        "remaining_time": 0.08393043221
                      },
                      {
                        "learn": [
                          0.05910264867
                        ],
                        "iteration": 596,
                        "passed_time": 0.1240166301,
                        "remaining_time": 0.08371641866
                      },
                      {
                        "learn": [
                          0.05901017518
                        ],
                        "iteration": 597,
                        "passed_time": 0.1242866986,
                        "remaining_time": 0.08355059006
                      },
                      {
                        "learn": [
                          0.05890001049
                        ],
                        "iteration": 598,
                        "passed_time": 0.1244736619,
                        "remaining_time": 0.08332877865
                      },
                      {
                        "learn": [
                          0.05877140729
                        ],
                        "iteration": 599,
                        "passed_time": 0.1246709715,
                        "remaining_time": 0.08311398097
                      },
                      {
                        "learn": [
                          0.05864334348
                        ],
                        "iteration": 600,
                        "passed_time": 0.1248763365,
                        "remaining_time": 0.08290458944
                      },
                      {
                        "learn": [
                          0.05853449563
                        ],
                        "iteration": 601,
                        "passed_time": 0.1250824588,
                        "remaining_time": 0.08269571193
                      },
                      {
                        "learn": [
                          0.05840741555
                        ],
                        "iteration": 602,
                        "passed_time": 0.1252753474,
                        "remaining_time": 0.0824781309
                      },
                      {
                        "learn": [
                          0.05829941832
                        ],
                        "iteration": 603,
                        "passed_time": 0.1255114369,
                        "remaining_time": 0.08228895534
                      },
                      {
                        "learn": [
                          0.05817331089
                        ],
                        "iteration": 604,
                        "passed_time": 0.1257144092,
                        "remaining_time": 0.08207800271
                      },
                      {
                        "learn": [
                          0.05808358971
                        ],
                        "iteration": 605,
                        "passed_time": 0.1259515633,
                        "remaining_time": 0.0818893002
                      },
                      {
                        "learn": [
                          0.05797675175
                        ],
                        "iteration": 606,
                        "passed_time": 0.1261385783,
                        "remaining_time": 0.08166797575
                      },
                      {
                        "learn": [
                          0.05785196481
                        ],
                        "iteration": 607,
                        "passed_time": 0.1262982398,
                        "remaining_time": 0.08142912829
                      },
                      {
                        "learn": [
                          0.05774493883
                        ],
                        "iteration": 608,
                        "passed_time": 0.1264910494,
                        "remaining_time": 0.08121182316
                      },
                      {
                        "learn": [
                          0.05763928445
                        ],
                        "iteration": 609,
                        "passed_time": 0.1266778663,
                        "remaining_time": 0.08099076695
                      },
                      {
                        "learn": [
                          0.05753401741
                        ],
                        "iteration": 610,
                        "passed_time": 0.1268650431,
                        "remaining_time": 0.080770052
                      },
                      {
                        "learn": [
                          0.05741103934
                        ],
                        "iteration": 611,
                        "passed_time": 0.1270512482,
                        "remaining_time": 0.08054883055
                      },
                      {
                        "learn": [
                          0.05728856674
                        ],
                        "iteration": 612,
                        "passed_time": 0.1272460087,
                        "remaining_time": 0.08033312456
                      },
                      {
                        "learn": [
                          0.05716659655
                        ],
                        "iteration": 613,
                        "passed_time": 0.1275320608,
                        "remaining_time": 0.08017487861
                      },
                      {
                        "learn": [
                          0.05706298193
                        ],
                        "iteration": 614,
                        "passed_time": 0.1277171913,
                        "remaining_time": 0.07995303846
                      },
                      {
                        "learn": [
                          0.05694192784
                        ],
                        "iteration": 615,
                        "passed_time": 0.1279083473,
                        "remaining_time": 0.07973507361
                      },
                      {
                        "learn": [
                          0.05682136771
                        ],
                        "iteration": 616,
                        "passed_time": 0.1281030123,
                        "remaining_time": 0.07951937392
                      },
                      {
                        "learn": [
                          0.05670129858
                        ],
                        "iteration": 617,
                        "passed_time": 0.1283109391,
                        "remaining_time": 0.07931193972
                      },
                      {
                        "learn": [
                          0.05658171751
                        ],
                        "iteration": 618,
                        "passed_time": 0.1284590506,
                        "remaining_time": 0.07906768705
                      },
                      {
                        "learn": [
                          0.05646262161
                        ],
                        "iteration": 619,
                        "passed_time": 0.1286464839,
                        "remaining_time": 0.07884784494
                      },
                      {
                        "learn": [
                          0.05634400799
                        ],
                        "iteration": 620,
                        "passed_time": 0.1288341589,
                        "remaining_time": 0.07862825479
                      },
                      {
                        "learn": [
                          0.05622587378
                        ],
                        "iteration": 621,
                        "passed_time": 0.1290357694,
                        "remaining_time": 0.07841723606
                      },
                      {
                        "learn": [
                          0.05610821614
                        ],
                        "iteration": 622,
                        "passed_time": 0.1292561698,
                        "remaining_time": 0.07821761802
                      },
                      {
                        "learn": [
                          0.05600723274
                        ],
                        "iteration": 623,
                        "passed_time": 0.1294417058,
                        "remaining_time": 0.07799692529
                      },
                      {
                        "learn": [
                          0.05590757577
                        ],
                        "iteration": 624,
                        "passed_time": 0.1296330954,
                        "remaining_time": 0.07777985723
                      },
                      {
                        "learn": [
                          0.05579118735
                        ],
                        "iteration": 625,
                        "passed_time": 0.1298247368,
                        "remaining_time": 0.07756302166
                      },
                      {
                        "learn": [
                          0.05567526528
                        ],
                        "iteration": 626,
                        "passed_time": 0.1300091464,
                        "remaining_time": 0.07734196428
                      },
                      {
                        "learn": [
                          0.05559270811
                        ],
                        "iteration": 627,
                        "passed_time": 0.1301927696,
                        "remaining_time": 0.07712055781
                      },
                      {
                        "learn": [
                          0.05547756906
                        ],
                        "iteration": 628,
                        "passed_time": 0.1303431575,
                        "remaining_time": 0.07687966841
                      },
                      {
                        "learn": [
                          0.05536288909
                        ],
                        "iteration": 629,
                        "passed_time": 0.1304949899,
                        "remaining_time": 0.0766399147
                      },
                      {
                        "learn": [
                          0.05528121665
                        ],
                        "iteration": 630,
                        "passed_time": 0.1306817631,
                        "remaining_time": 0.07642087258
                      },
                      {
                        "learn": [
                          0.05516730755
                        ],
                        "iteration": 631,
                        "passed_time": 0.1308318828,
                        "remaining_time": 0.07618059
                      },
                      {
                        "learn": [
                          0.05505385039
                        ],
                        "iteration": 632,
                        "passed_time": 0.131022247,
                        "remaining_time": 0.07596392517
                      },
                      {
                        "learn": [
                          0.05494084256
                        ],
                        "iteration": 633,
                        "passed_time": 0.1312323592,
                        "remaining_time": 0.07575874366
                      },
                      {
                        "learn": [
                          0.05482828144
                        ],
                        "iteration": 634,
                        "passed_time": 0.1313974407,
                        "remaining_time": 0.07552766276
                      },
                      {
                        "learn": [
                          0.05473260009
                        ],
                        "iteration": 635,
                        "passed_time": 0.1315864485,
                        "remaining_time": 0.07531048309
                      },
                      {
                        "learn": [
                          0.05463628953
                        ],
                        "iteration": 636,
                        "passed_time": 0.1317752426,
                        "remaining_time": 0.07509327013
                      },
                      {
                        "learn": [
                          0.0545412487
                        ],
                        "iteration": 637,
                        "passed_time": 0.1319702895,
                        "remaining_time": 0.07487969403
                      },
                      {
                        "learn": [
                          0.05444558434
                        ],
                        "iteration": 638,
                        "passed_time": 0.1321604563,
                        "remaining_time": 0.074663419
                      },
                      {
                        "learn": [
                          0.05433495208
                        ],
                        "iteration": 639,
                        "passed_time": 0.1323109515,
                        "remaining_time": 0.0744249102
                      },
                      {
                        "learn": [
                          0.0542399969
                        ],
                        "iteration": 640,
                        "passed_time": 0.1324950593,
                        "remaining_time": 0.07420550121
                      },
                      {
                        "learn": [
                          0.05413016514
                        ],
                        "iteration": 641,
                        "passed_time": 0.132680697,
                        "remaining_time": 0.07398705536
                      },
                      {
                        "learn": [
                          0.05402076191
                        ],
                        "iteration": 642,
                        "passed_time": 0.132874313,
                        "remaining_time": 0.07377314112
                      },
                      {
                        "learn": [
                          0.05392687213
                        ],
                        "iteration": 643,
                        "passed_time": 0.1330633353,
                        "remaining_time": 0.07355675058
                      },
                      {
                        "learn": [
                          0.05381825633
                        ],
                        "iteration": 644,
                        "passed_time": 0.1332156468,
                        "remaining_time": 0.07332023972
                      },
                      {
                        "learn": [
                          0.05372505648
                        ],
                        "iteration": 645,
                        "passed_time": 0.1334220691,
                        "remaining_time": 0.07311364158
                      },
                      {
                        "learn": [
                          0.05363218293
                        ],
                        "iteration": 646,
                        "passed_time": 0.1337476839,
                        "remaining_time": 0.07297207481
                      },
                      {
                        "learn": [
                          0.05353963395
                        ],
                        "iteration": 647,
                        "passed_time": 0.1339955851,
                        "remaining_time": 0.07278772526
                      },
                      {
                        "learn": [
                          0.05343250675
                        ],
                        "iteration": 648,
                        "passed_time": 0.1341566175,
                        "remaining_time": 0.07255619838
                      },
                      {
                        "learn": [
                          0.05335619055
                        ],
                        "iteration": 649,
                        "passed_time": 0.134420937,
                        "remaining_time": 0.07238050452
                      },
                      {
                        "learn": [
                          0.05324976147
                        ],
                        "iteration": 650,
                        "passed_time": 0.1345748012,
                        "remaining_time": 0.07214532352
                      },
                      {
                        "learn": [
                          0.05315920174
                        ],
                        "iteration": 651,
                        "passed_time": 0.134769868,
                        "remaining_time": 0.07193238355
                      },
                      {
                        "learn": [
                          0.0530535244
                        ],
                        "iteration": 652,
                        "passed_time": 0.134934784,
                        "remaining_time": 0.07170347636
                      },
                      {
                        "learn": [
                          0.05296288261
                        ],
                        "iteration": 653,
                        "passed_time": 0.1351334227,
                        "remaining_time": 0.0714926059
                      },
                      {
                        "learn": [
                          0.0528878542
                        ],
                        "iteration": 654,
                        "passed_time": 0.1353184496,
                        "remaining_time": 0.07127460322
                      },
                      {
                        "learn": [
                          0.05279847126
                        ],
                        "iteration": 655,
                        "passed_time": 0.1355063255,
                        "remaining_time": 0.0710581951
                      },
                      {
                        "learn": [
                          0.05272390401
                        ],
                        "iteration": 656,
                        "passed_time": 0.1357233024,
                        "remaining_time": 0.07085706653
                      },
                      {
                        "learn": [
                          0.05263506866
                        ],
                        "iteration": 657,
                        "passed_time": 0.1359327528,
                        "remaining_time": 0.07065197791
                      },
                      {
                        "learn": [
                          0.05253136224
                        ],
                        "iteration": 658,
                        "passed_time": 0.1360877888,
                        "remaining_time": 0.07041871927
                      },
                      {
                        "learn": [
                          0.05244316006
                        ],
                        "iteration": 659,
                        "passed_time": 0.1362761166,
                        "remaining_time": 0.07020284796
                      },
                      {
                        "learn": [
                          0.05234017747
                        ],
                        "iteration": 660,
                        "passed_time": 0.1364354826,
                        "remaining_time": 0.06997220668
                      },
                      {
                        "learn": [
                          0.05225183638
                        ],
                        "iteration": 661,
                        "passed_time": 0.1380433892,
                        "remaining_time": 0.0704813679
                      },
                      {
                        "learn": [
                          0.05214957476
                        ],
                        "iteration": 662,
                        "passed_time": 0.1423636463,
                        "remaining_time": 0.07236281872
                      },
                      {
                        "learn": [
                          0.05204769936
                        ],
                        "iteration": 663,
                        "passed_time": 0.1429328706,
                        "remaining_time": 0.07232747667
                      },
                      {
                        "learn": [
                          0.05196104181
                        ],
                        "iteration": 664,
                        "passed_time": 0.143429274,
                        "remaining_time": 0.07225384482
                      },
                      {
                        "learn": [
                          0.05187467476
                        ],
                        "iteration": 665,
                        "passed_time": 0.1439384875,
                        "remaining_time": 0.07218536761
                      },
                      {
                        "learn": [
                          0.05177382426
                        ],
                        "iteration": 666,
                        "passed_time": 0.1444558819,
                        "remaining_time": 0.07211965316
                      },
                      {
                        "learn": [
                          0.05167335224
                        ],
                        "iteration": 667,
                        "passed_time": 0.1448927836,
                        "remaining_time": 0.07201258109
                      },
                      {
                        "learn": [
                          0.05158714388
                        ],
                        "iteration": 668,
                        "passed_time": 0.1453592036,
                        "remaining_time": 0.07191912762
                      },
                      {
                        "learn": [
                          0.05148736741
                        ],
                        "iteration": 669,
                        "passed_time": 0.1458250471,
                        "remaining_time": 0.07182427693
                      },
                      {
                        "learn": [
                          0.05140176837
                        ],
                        "iteration": 670,
                        "passed_time": 0.1460305148,
                        "remaining_time": 0.07160065482
                      },
                      {
                        "learn": [
                          0.05133093407
                        ],
                        "iteration": 671,
                        "passed_time": 0.1462400853,
                        "remaining_time": 0.07137908926
                      },
                      {
                        "learn": [
                          0.05124654856
                        ],
                        "iteration": 672,
                        "passed_time": 0.1464517876,
                        "remaining_time": 0.07115859515
                      },
                      {
                        "learn": [
                          0.05116244255
                        ],
                        "iteration": 673,
                        "passed_time": 0.1467430724,
                        "remaining_time": 0.07097661959
                      },
                      {
                        "learn": [
                          0.05109225681
                        ],
                        "iteration": 674,
                        "passed_time": 0.1469643274,
                        "remaining_time": 0.07076060208
                      },
                      {
                        "learn": [
                          0.05100790833
                        ],
                        "iteration": 675,
                        "passed_time": 0.1471714915,
                        "remaining_time": 0.07053781545
                      },
                      {
                        "learn": [
                          0.05092384204
                        ],
                        "iteration": 676,
                        "passed_time": 0.1473792947,
                        "remaining_time": 0.07031537989
                      },
                      {
                        "learn": [
                          0.05084073947
                        ],
                        "iteration": 677,
                        "passed_time": 0.1475743452,
                        "remaining_time": 0.0700869309
                      },
                      {
                        "learn": [
                          0.05074369516
                        ],
                        "iteration": 678,
                        "passed_time": 0.1477649457,
                        "remaining_time": 0.06985647653
                      },
                      {
                        "learn": [
                          0.05064700874
                        ],
                        "iteration": 679,
                        "passed_time": 0.1479209817,
                        "remaining_time": 0.06960987375
                      },
                      {
                        "learn": [
                          0.05055067827
                        ],
                        "iteration": 680,
                        "passed_time": 0.1481138758,
                        "remaining_time": 0.06938080234
                      },
                      {
                        "learn": [
                          0.05046805325
                        ],
                        "iteration": 681,
                        "passed_time": 0.1483452472,
                        "remaining_time": 0.069169778
                      },
                      {
                        "learn": [
                          0.05037237685
                        ],
                        "iteration": 682,
                        "passed_time": 0.1485290277,
                        "remaining_time": 0.06893660582
                      },
                      {
                        "learn": [
                          0.05027705096
                        ],
                        "iteration": 683,
                        "passed_time": 0.1487047982,
                        "remaining_time": 0.06869987754
                      },
                      {
                        "learn": [
                          0.05020917628
                        ],
                        "iteration": 684,
                        "passed_time": 0.1489406904,
                        "remaining_time": 0.06849097444
                      },
                      {
                        "learn": [
                          0.05012763579
                        ],
                        "iteration": 685,
                        "passed_time": 0.1491327291,
                        "remaining_time": 0.06826191974
                      },
                      {
                        "learn": [
                          0.05003319313
                        ],
                        "iteration": 686,
                        "passed_time": 0.1493233423,
                        "remaining_time": 0.06803232337
                      },
                      {
                        "learn": [
                          0.0499390944
                        ],
                        "iteration": 687,
                        "passed_time": 0.149513571,
                        "remaining_time": 0.06780266593
                      },
                      {
                        "learn": [
                          0.04985902748
                        ],
                        "iteration": 688,
                        "passed_time": 0.1497084188,
                        "remaining_time": 0.0675752079
                      },
                      {
                        "learn": [
                          0.04977857669
                        ],
                        "iteration": 689,
                        "passed_time": 0.1499118602,
                        "remaining_time": 0.0673517053
                      },
                      {
                        "learn": [
                          0.04969838914
                        ],
                        "iteration": 690,
                        "passed_time": 0.150114927,
                        "remaining_time": 0.06712809327
                      },
                      {
                        "learn": [
                          0.04960549455
                        ],
                        "iteration": 691,
                        "passed_time": 0.1503011748,
                        "remaining_time": 0.06689705468
                      },
                      {
                        "learn": [
                          0.04951293569
                        ],
                        "iteration": 692,
                        "passed_time": 0.1504519527,
                        "remaining_time": 0.06665043213
                      },
                      {
                        "learn": [
                          0.04943358103
                        ],
                        "iteration": 693,
                        "passed_time": 0.1506396568,
                        "remaining_time": 0.06642036741
                      },
                      {
                        "learn": [
                          0.04934163895
                        ],
                        "iteration": 694,
                        "passed_time": 0.1508033455,
                        "remaining_time": 0.06617988545
                      },
                      {
                        "learn": [
                          0.04926337391
                        ],
                        "iteration": 695,
                        "passed_time": 0.1509907606,
                        "remaining_time": 0.06594998739
                      },
                      {
                        "learn": [
                          0.04917203941
                        ],
                        "iteration": 696,
                        "passed_time": 0.1511424994,
                        "remaining_time": 0.06570470202
                      },
                      {
                        "learn": [
                          0.04909373213
                        ],
                        "iteration": 697,
                        "passed_time": 0.1513286608,
                        "remaining_time": 0.06547457816
                      },
                      {
                        "learn": [
                          0.04900300254
                        ],
                        "iteration": 698,
                        "passed_time": 0.1514884895,
                        "remaining_time": 0.06523324084
                      },
                      {
                        "learn": [
                          0.04892522469
                        ],
                        "iteration": 699,
                        "passed_time": 0.1516967091,
                        "remaining_time": 0.06501287532
                      },
                      {
                        "learn": [
                          0.04884769727
                        ],
                        "iteration": 700,
                        "passed_time": 0.1518965959,
                        "remaining_time": 0.06478899028
                      },
                      {
                        "learn": [
                          0.04875784001
                        ],
                        "iteration": 701,
                        "passed_time": 0.1520907028,
                        "remaining_time": 0.06456271999
                      },
                      {
                        "learn": [
                          0.04866830253
                        ],
                        "iteration": 702,
                        "passed_time": 0.1522529579,
                        "remaining_time": 0.06432308463
                      },
                      {
                        "learn": [
                          0.04859156779
                        ],
                        "iteration": 703,
                        "passed_time": 0.1524490111,
                        "remaining_time": 0.06409787967
                      },
                      {
                        "learn": [
                          0.0485150785
                        ],
                        "iteration": 704,
                        "passed_time": 0.1526851352,
                        "remaining_time": 0.06388952464
                      },
                      {
                        "learn": [
                          0.04845170041
                        ],
                        "iteration": 705,
                        "passed_time": 0.1529295837,
                        "remaining_time": 0.06368455753
                      },
                      {
                        "learn": [
                          0.04838849119
                        ],
                        "iteration": 706,
                        "passed_time": 0.1531237869,
                        "remaining_time": 0.06345865569
                      },
                      {
                        "learn": [
                          0.04831306034
                        ],
                        "iteration": 707,
                        "passed_time": 0.1533519228,
                        "remaining_time": 0.06324683822
                      },
                      {
                        "learn": [
                          0.0482250747
                        ],
                        "iteration": 708,
                        "passed_time": 0.1535648551,
                        "remaining_time": 0.0630287346
                      },
                      {
                        "learn": [
                          0.04813739921
                        ],
                        "iteration": 709,
                        "passed_time": 0.153756481,
                        "remaining_time": 0.06280194296
                      },
                      {
                        "learn": [
                          0.04805003225
                        ],
                        "iteration": 710,
                        "passed_time": 0.1539525543,
                        "remaining_time": 0.06257705792
                      },
                      {
                        "learn": [
                          0.04796297223
                        ],
                        "iteration": 711,
                        "passed_time": 0.1541415375,
                        "remaining_time": 0.06234938595
                      },
                      {
                        "learn": [
                          0.04787621757
                        ],
                        "iteration": 712,
                        "passed_time": 0.1543311371,
                        "remaining_time": 0.06212207061
                      },
                      {
                        "learn": [
                          0.04780231916
                        ],
                        "iteration": 713,
                        "passed_time": 0.1545224412,
                        "remaining_time": 0.06189554368
                      },
                      {
                        "learn": [
                          0.04771612291
                        ],
                        "iteration": 714,
                        "passed_time": 0.1547364744,
                        "remaining_time": 0.06167817511
                      },
                      {
                        "learn": [
                          0.04764225391
                        ],
                        "iteration": 715,
                        "passed_time": 0.1549278413,
                        "remaining_time": 0.06145182531
                      },
                      {
                        "learn": [
                          0.04755661329
                        ],
                        "iteration": 716,
                        "passed_time": 0.1550951445,
                        "remaining_time": 0.06121607518
                      },
                      {
                        "learn": [
                          0.04747127076
                        ],
                        "iteration": 717,
                        "passed_time": 0.155250306,
                        "remaining_time": 0.06097574694
                      },
                      {
                        "learn": [
                          0.04739814039
                        ],
                        "iteration": 718,
                        "passed_time": 0.1554413974,
                        "remaining_time": 0.06074969775
                      },
                      {
                        "learn": [
                          0.04731334538
                        ],
                        "iteration": 719,
                        "passed_time": 0.1556295498,
                        "remaining_time": 0.06052260269
                      },
                      {
                        "learn": [
                          0.04722884415
                        ],
                        "iteration": 720,
                        "passed_time": 0.1558370239,
                        "remaining_time": 0.06030309245
                      },
                      {
                        "learn": [
                          0.04714463519
                        ],
                        "iteration": 721,
                        "passed_time": 0.1559904054,
                        "remaining_time": 0.06006278766
                      },
                      {
                        "learn": [
                          0.04707287605
                        ],
                        "iteration": 722,
                        "passed_time": 0.156185044,
                        "remaining_time": 0.05983853001
                      },
                      {
                        "learn": [
                          0.04700133792
                        ],
                        "iteration": 723,
                        "passed_time": 0.1563813609,
                        "remaining_time": 0.05961499393
                      },
                      {
                        "learn": [
                          0.04691790648
                        ],
                        "iteration": 724,
                        "passed_time": 0.1565384033,
                        "remaining_time": 0.05937663572
                      },
                      {
                        "learn": [
                          0.04683476191
                        ],
                        "iteration": 725,
                        "passed_time": 0.1566927775,
                        "remaining_time": 0.05913749453
                      },
                      {
                        "learn": [
                          0.04675190277
                        ],
                        "iteration": 726,
                        "passed_time": 0.1568646744,
                        "remaining_time": 0.05890516659
                      },
                      {
                        "learn": [
                          0.04668087853
                        ],
                        "iteration": 727,
                        "passed_time": 0.1570541167,
                        "remaining_time": 0.05867956009
                      },
                      {
                        "learn": [
                          0.04661007352
                        ],
                        "iteration": 728,
                        "passed_time": 0.1572445318,
                        "remaining_time": 0.05845441441
                      },
                      {
                        "learn": [
                          0.04652797818
                        ],
                        "iteration": 729,
                        "passed_time": 0.1574025078,
                        "remaining_time": 0.05821736589
                      },
                      {
                        "learn": [
                          0.04644616299
                        ],
                        "iteration": 730,
                        "passed_time": 0.1576111419,
                        "remaining_time": 0.05799917533
                      },
                      {
                        "learn": [
                          0.04636462656
                        ],
                        "iteration": 731,
                        "passed_time": 0.157800196,
                        "remaining_time": 0.05777384226
                      },
                      {
                        "learn": [
                          0.04629512901
                        ],
                        "iteration": 732,
                        "passed_time": 0.158006312,
                        "remaining_time": 0.05755482304
                      },
                      {
                        "learn": [
                          0.04622584239
                        ],
                        "iteration": 733,
                        "passed_time": 0.1582000352,
                        "remaining_time": 0.0573313479
                      },
                      {
                        "learn": [
                          0.04615635064
                        ],
                        "iteration": 734,
                        "passed_time": 0.1584021811,
                        "remaining_time": 0.05711099047
                      },
                      {
                        "learn": [
                          0.04608707123
                        ],
                        "iteration": 735,
                        "passed_time": 0.1586024279,
                        "remaining_time": 0.05689000133
                      },
                      {
                        "learn": [
                          0.04601837419
                        ],
                        "iteration": 736,
                        "passed_time": 0.1588114011,
                        "remaining_time": 0.0566721825
                      },
                      {
                        "learn": [
                          0.04594988454
                        ],
                        "iteration": 737,
                        "passed_time": 0.159008478,
                        "remaining_time": 0.05645016427
                      },
                      {
                        "learn": [
                          0.04588160132
                        ],
                        "iteration": 738,
                        "passed_time": 0.1592080003,
                        "remaining_time": 0.05622907723
                      },
                      {
                        "learn": [
                          0.04580195496
                        ],
                        "iteration": 739,
                        "passed_time": 0.1593788045,
                        "remaining_time": 0.05599795833
                      },
                      {
                        "learn": [
                          0.04572257663
                        ],
                        "iteration": 740,
                        "passed_time": 0.1595326587,
                        "remaining_time": 0.05576107773
                      },
                      {
                        "learn": [
                          0.04565495011
                        ],
                        "iteration": 741,
                        "passed_time": 0.1597284392,
                        "remaining_time": 0.05553899907
                      },
                      {
                        "learn": [
                          0.04558752617
                        ],
                        "iteration": 742,
                        "passed_time": 0.1599180133,
                        "remaining_time": 0.05531484444
                      },
                      {
                        "learn": [
                          0.04551984522
                        ],
                        "iteration": 743,
                        "passed_time": 0.160125832,
                        "remaining_time": 0.05509706046
                      },
                      {
                        "learn": [
                          0.04545236868
                        ],
                        "iteration": 744,
                        "passed_time": 0.1603166934,
                        "remaining_time": 0.05487349907
                      },
                      {
                        "learn": [
                          0.04537415062
                        ],
                        "iteration": 745,
                        "passed_time": 0.1604811812,
                        "remaining_time": 0.05464104561
                      },
                      {
                        "learn": [
                          0.04530751362
                        ],
                        "iteration": 746,
                        "passed_time": 0.1607020562,
                        "remaining_time": 0.05442787177
                      },
                      {
                        "learn": [
                          0.04524064344
                        ],
                        "iteration": 747,
                        "passed_time": 0.1608907921,
                        "remaining_time": 0.05420384976
                      },
                      {
                        "learn": [
                          0.04517438445
                        ],
                        "iteration": 748,
                        "passed_time": 0.1610803717,
                        "remaining_time": 0.05398020468
                      },
                      {
                        "learn": [
                          0.04510832209
                        ],
                        "iteration": 749,
                        "passed_time": 0.1612689804,
                        "remaining_time": 0.05375632681
                      },
                      {
                        "learn": [
                          0.04504245547
                        ],
                        "iteration": 750,
                        "passed_time": 0.1614819154,
                        "remaining_time": 0.05354060844
                      },
                      {
                        "learn": [
                          0.04496558597
                        ],
                        "iteration": 751,
                        "passed_time": 0.1616541887,
                        "remaining_time": 0.05331148776
                      },
                      {
                        "learn": [
                          0.0449001288
                        ],
                        "iteration": 752,
                        "passed_time": 0.1618442647,
                        "remaining_time": 0.05308835773
                      },
                      {
                        "learn": [
                          0.04483438697
                        ],
                        "iteration": 753,
                        "passed_time": 0.1620389815,
                        "remaining_time": 0.05286682951
                      },
                      {
                        "learn": [
                          0.04475820005
                        ],
                        "iteration": 754,
                        "passed_time": 0.1622112702,
                        "remaining_time": 0.05263809431
                      },
                      {
                        "learn": [
                          0.04470392696
                        ],
                        "iteration": 755,
                        "passed_time": 0.1624205643,
                        "remaining_time": 0.05242145198
                      },
                      {
                        "learn": [
                          0.04462816461
                        ],
                        "iteration": 756,
                        "passed_time": 0.1625804158,
                        "remaining_time": 0.05218895778
                      },
                      {
                        "learn": [
                          0.04456365102
                        ],
                        "iteration": 757,
                        "passed_time": 0.1627974362,
                        "remaining_time": 0.05197490709
                      },
                      {
                        "learn": [
                          0.04448834661
                        ],
                        "iteration": 758,
                        "passed_time": 0.1629529805,
                        "remaining_time": 0.05174132845
                      },
                      {
                        "learn": [
                          0.0444242302
                        ],
                        "iteration": 759,
                        "passed_time": 0.1631672364,
                        "remaining_time": 0.05152649569
                      },
                      {
                        "learn": [
                          0.04435981901
                        ],
                        "iteration": 760,
                        "passed_time": 0.1633601714,
                        "remaining_time": 0.05130496842
                      },
                      {
                        "learn": [
                          0.04429605991
                        ],
                        "iteration": 761,
                        "passed_time": 0.1635498274,
                        "remaining_time": 0.05108249201
                      },
                      {
                        "learn": [
                          0.04422162309
                        ],
                        "iteration": 762,
                        "passed_time": 0.1637486333,
                        "remaining_time": 0.05086294377
                      },
                      {
                        "learn": [
                          0.04414742909
                        ],
                        "iteration": 763,
                        "passed_time": 0.1639296175,
                        "remaining_time": 0.05063794466
                      },
                      {
                        "learn": [
                          0.04407347674
                        ],
                        "iteration": 764,
                        "passed_time": 0.1641459206,
                        "remaining_time": 0.05042391026
                      },
                      {
                        "learn": [
                          0.04399976488
                        ],
                        "iteration": 765,
                        "passed_time": 0.1643213139,
                        "remaining_time": 0.05019737265
                      },
                      {
                        "learn": [
                          0.04392629235
                        ],
                        "iteration": 766,
                        "passed_time": 0.1645009744,
                        "remaining_time": 0.04997226472
                      },
                      {
                        "learn": [
                          0.0438632662
                        ],
                        "iteration": 767,
                        "passed_time": 0.1647048567,
                        "remaining_time": 0.04975459213
                      },
                      {
                        "learn": [
                          0.04380087105
                        ],
                        "iteration": 768,
                        "passed_time": 0.1649079636,
                        "remaining_time": 0.04953672247
                      },
                      {
                        "learn": [
                          0.04372803747
                        ],
                        "iteration": 769,
                        "passed_time": 0.1650722023,
                        "remaining_time": 0.0493072812
                      },
                      {
                        "learn": [
                          0.04367614166
                        ],
                        "iteration": 770,
                        "passed_time": 0.1652714491,
                        "remaining_time": 0.04908840707
                      },
                      {
                        "learn": [
                          0.04361426845
                        ],
                        "iteration": 771,
                        "passed_time": 0.1655134259,
                        "remaining_time": 0.0488822035
                      },
                      {
                        "learn": [
                          0.04355257301
                        ],
                        "iteration": 772,
                        "passed_time": 0.1657186018,
                        "remaining_time": 0.0486651004
                      },
                      {
                        "learn": [
                          0.0435010897
                        ],
                        "iteration": 773,
                        "passed_time": 0.1659131996,
                        "remaining_time": 0.04844493941
                      },
                      {
                        "learn": [
                          0.04343971325
                        ],
                        "iteration": 774,
                        "passed_time": 0.1661288982,
                        "remaining_time": 0.04823097045
                      },
                      {
                        "learn": [
                          0.04336802377
                        ],
                        "iteration": 775,
                        "passed_time": 0.1664589939,
                        "remaining_time": 0.04805001885
                      },
                      {
                        "learn": [
                          0.04329656411
                        ],
                        "iteration": 776,
                        "passed_time": 0.166712337,
                        "remaining_time": 0.04784665527
                      },
                      {
                        "learn": [
                          0.04322533318
                        ],
                        "iteration": 777,
                        "passed_time": 0.1668895893,
                        "remaining_time": 0.04762145093
                      },
                      {
                        "learn": [
                          0.04315432991
                        ],
                        "iteration": 778,
                        "passed_time": 0.1671207252,
                        "remaining_time": 0.04741165631
                      },
                      {
                        "learn": [
                          0.04309389788
                        ],
                        "iteration": 779,
                        "passed_time": 0.1673250557,
                        "remaining_time": 0.04719424647
                      },
                      {
                        "learn": [
                          0.04303363751
                        ],
                        "iteration": 780,
                        "passed_time": 0.167520238,
                        "remaining_time": 0.04697430488
                      },
                      {
                        "learn": [
                          0.0429833321
                        ],
                        "iteration": 781,
                        "passed_time": 0.1677365111,
                        "remaining_time": 0.04676030617
                      },
                      {
                        "learn": [
                          0.04292285663
                        ],
                        "iteration": 782,
                        "passed_time": 0.167933478,
                        "remaining_time": 0.04654095111
                      },
                      {
                        "learn": [
                          0.0428630593
                        ],
                        "iteration": 783,
                        "passed_time": 0.1681440503,
                        "remaining_time": 0.0463254016
                      },
                      {
                        "learn": [
                          0.04279319345
                        ],
                        "iteration": 784,
                        "passed_time": 0.168341458,
                        "remaining_time": 0.0461062592
                      },
                      {
                        "learn": [
                          0.04273375144
                        ],
                        "iteration": 785,
                        "passed_time": 0.1685387949,
                        "remaining_time": 0.0458871528
                      },
                      {
                        "learn": [
                          0.04267447695
                        ],
                        "iteration": 786,
                        "passed_time": 0.1687581026,
                        "remaining_time": 0.04567404809
                      },
                      {
                        "learn": [
                          0.04260520206
                        ],
                        "iteration": 787,
                        "passed_time": 0.1689200231,
                        "remaining_time": 0.04544548846
                      },
                      {
                        "learn": [
                          0.04254573521
                        ],
                        "iteration": 788,
                        "passed_time": 0.1691946026,
                        "remaining_time": 0.04524722578
                      },
                      {
                        "learn": [
                          0.04247686446
                        ],
                        "iteration": 789,
                        "passed_time": 0.1700200099,
                        "remaining_time": 0.0451951925
                      },
                      {
                        "learn": [
                          0.04241827418
                        ],
                        "iteration": 790,
                        "passed_time": 0.1703040966,
                        "remaining_time": 0.04499817469
                      },
                      {
                        "learn": [
                          0.04235984789
                        ],
                        "iteration": 791,
                        "passed_time": 0.1706512022,
                        "remaining_time": 0.04481748744
                      },
                      {
                        "learn": [
                          0.04230103438
                        ],
                        "iteration": 792,
                        "passed_time": 0.171008246,
                        "remaining_time": 0.04463897467
                      },
                      {
                        "learn": [
                          0.04224238759
                        ],
                        "iteration": 793,
                        "passed_time": 0.1712392391,
                        "remaining_time": 0.04442730888
                      },
                      {
                        "learn": [
                          0.04218442125
                        ],
                        "iteration": 794,
                        "passed_time": 0.1714442105,
                        "remaining_time": 0.04420888446
                      },
                      {
                        "learn": [
                          0.04211667207
                        ],
                        "iteration": 795,
                        "passed_time": 0.1716104656,
                        "remaining_time": 0.04398057158
                      },
                      {
                        "learn": [
                          0.04204913446
                        ],
                        "iteration": 796,
                        "passed_time": 0.171782267,
                        "remaining_time": 0.04375382711
                      },
                      {
                        "learn": [
                          0.04199168482
                        ],
                        "iteration": 797,
                        "passed_time": 0.1720018966,
                        "remaining_time": 0.0435393272
                      },
                      {
                        "learn": [
                          0.04193439451
                        ],
                        "iteration": 798,
                        "passed_time": 0.1722167652,
                        "remaining_time": 0.04332361677
                      },
                      {
                        "learn": [
                          0.04187726285
                        ],
                        "iteration": 799,
                        "passed_time": 0.1724162384,
                        "remaining_time": 0.0431040596
                      },
                      {
                        "learn": [
                          0.04181046228
                        ],
                        "iteration": 800,
                        "passed_time": 0.172573049,
                        "remaining_time": 0.04287395349
                      },
                      {
                        "learn": [
                          0.04174386896
                        ],
                        "iteration": 801,
                        "passed_time": 0.1729229228,
                        "remaining_time": 0.04269169415
                      },
                      {
                        "learn": [
                          0.04169644528
                        ],
                        "iteration": 802,
                        "passed_time": 0.1733453473,
                        "remaining_time": 0.04252681622
                      },
                      {
                        "learn": [
                          0.04163020063
                        ],
                        "iteration": 803,
                        "passed_time": 0.1735613759,
                        "remaining_time": 0.0423109822
                      },
                      {
                        "learn": [
                          0.04156416071
                        ],
                        "iteration": 804,
                        "passed_time": 0.1737983109,
                        "remaining_time": 0.04210021196
                      },
                      {
                        "learn": [
                          0.04149832459
                        ],
                        "iteration": 805,
                        "passed_time": 0.173975566,
                        "remaining_time": 0.04187501216
                      },
                      {
                        "learn": [
                          0.04144233869
                        ],
                        "iteration": 806,
                        "passed_time": 0.1741995209,
                        "remaining_time": 0.0416610998
                      },
                      {
                        "learn": [
                          0.04138650615
                        ],
                        "iteration": 807,
                        "passed_time": 0.1744002623,
                        "remaining_time": 0.04144164649
                      },
                      {
                        "learn": [
                          0.04132121151
                        ],
                        "iteration": 808,
                        "passed_time": 0.1745652538,
                        "remaining_time": 0.0412137991
                      },
                      {
                        "learn": [
                          0.04126570019
                        ],
                        "iteration": 809,
                        "passed_time": 0.1747913942,
                        "remaining_time": 0.0410004505
                      },
                      {
                        "learn": [
                          0.04120975448
                        ],
                        "iteration": 810,
                        "passed_time": 0.1749897565,
                        "remaining_time": 0.04078059677
                      },
                      {
                        "learn": [
                          0.04114499751
                        ],
                        "iteration": 811,
                        "passed_time": 0.1752215024,
                        "remaining_time": 0.04056852518
                      },
                      {
                        "learn": [
                          0.04108043856
                        ],
                        "iteration": 812,
                        "passed_time": 0.1754313219,
                        "remaining_time": 0.04035136187
                      },
                      {
                        "learn": [
                          0.04101607674
                        ],
                        "iteration": 813,
                        "passed_time": 0.1756267043,
                        "remaining_time": 0.04013091768
                      },
                      {
                        "learn": [
                          0.04096079143
                        ],
                        "iteration": 814,
                        "passed_time": 0.1758195929,
                        "remaining_time": 0.03990996895
                      },
                      {
                        "learn": [
                          0.04090620244
                        ],
                        "iteration": 815,
                        "passed_time": 0.1760384506,
                        "remaining_time": 0.03969494475
                      },
                      {
                        "learn": [
                          0.04084236708
                        ],
                        "iteration": 816,
                        "passed_time": 0.1762244848,
                        "remaining_time": 0.03947255902
                      },
                      {
                        "learn": [
                          0.04077872561
                        ],
                        "iteration": 817,
                        "passed_time": 0.1763815708,
                        "remaining_time": 0.03924382138
                      },
                      {
                        "learn": [
                          0.04072405842
                        ],
                        "iteration": 818,
                        "passed_time": 0.1765748559,
                        "remaining_time": 0.03902325874
                      },
                      {
                        "learn": [
                          0.04066077399
                        ],
                        "iteration": 819,
                        "passed_time": 0.1767515964,
                        "remaining_time": 0.03879913092
                      },
                      {
                        "learn": [
                          0.0406156918
                        ],
                        "iteration": 820,
                        "passed_time": 0.1769465642,
                        "remaining_time": 0.03857909255
                      },
                      {
                        "learn": [
                          0.04055273098
                        ],
                        "iteration": 821,
                        "passed_time": 0.1771021684,
                        "remaining_time": 0.0383505912
                      },
                      {
                        "learn": [
                          0.04048996016
                        ],
                        "iteration": 822,
                        "passed_time": 0.1772584044,
                        "remaining_time": 0.03812240289
                      },
                      {
                        "learn": [
                          0.0404360484
                        ],
                        "iteration": 823,
                        "passed_time": 0.1774800667,
                        "remaining_time": 0.03790836375
                      },
                      {
                        "learn": [
                          0.04038279354
                        ],
                        "iteration": 824,
                        "passed_time": 0.1776897926,
                        "remaining_time": 0.03769177418
                      },
                      {
                        "learn": [
                          0.04033830986
                        ],
                        "iteration": 825,
                        "passed_time": 0.1778846703,
                        "remaining_time": 0.03747207341
                      },
                      {
                        "learn": [
                          0.04028479101
                        ],
                        "iteration": 826,
                        "passed_time": 0.1780755972,
                        "remaining_time": 0.03725160619
                      },
                      {
                        "learn": [
                          0.04023141739
                        ],
                        "iteration": 827,
                        "passed_time": 0.178398342,
                        "remaining_time": 0.03705859277
                      },
                      {
                        "learn": [
                          0.0401696011
                        ],
                        "iteration": 828,
                        "passed_time": 0.1786246124,
                        "remaining_time": 0.03684536637
                      },
                      {
                        "learn": [
                          0.04010796976
                        ],
                        "iteration": 829,
                        "passed_time": 0.1787945157,
                        "remaining_time": 0.03662056345
                      },
                      {
                        "learn": [
                          0.04004652258
                        ],
                        "iteration": 830,
                        "passed_time": 0.1789546708,
                        "remaining_time": 0.03639391018
                      },
                      {
                        "learn": [
                          0.03998525873
                        ],
                        "iteration": 831,
                        "passed_time": 0.1791180631,
                        "remaining_time": 0.03616807044
                      },
                      {
                        "learn": [
                          0.0399241774
                        ],
                        "iteration": 832,
                        "passed_time": 0.1793338918,
                        "remaining_time": 0.03595289307
                      },
                      {
                        "learn": [
                          0.03987173116
                        ],
                        "iteration": 833,
                        "passed_time": 0.179560954,
                        "remaining_time": 0.03573995008
                      },
                      {
                        "learn": [
                          0.0398109859
                        ],
                        "iteration": 834,
                        "passed_time": 0.1797616381,
                        "remaining_time": 0.03552176083
                      },
                      {
                        "learn": [
                          0.03975042088
                        ],
                        "iteration": 835,
                        "passed_time": 0.1799891695,
                        "remaining_time": 0.03530888013
                      },
                      {
                        "learn": [
                          0.03970726867
                        ],
                        "iteration": 836,
                        "passed_time": 0.1801824163,
                        "remaining_time": 0.03508928777
                      },
                      {
                        "learn": [
                          0.03964700708
                        ],
                        "iteration": 837,
                        "passed_time": 0.1803543996,
                        "remaining_time": 0.03486564765
                      },
                      {
                        "learn": [
                          0.03959572711
                        ],
                        "iteration": 838,
                        "passed_time": 0.1805656891,
                        "remaining_time": 0.03464967336
                      },
                      {
                        "learn": [
                          0.03955290418
                        ],
                        "iteration": 839,
                        "passed_time": 0.1807554896,
                        "remaining_time": 0.03442961708
                      },
                      {
                        "learn": [
                          0.03950140151
                        ],
                        "iteration": 840,
                        "passed_time": 0.1809452947,
                        "remaining_time": 0.0342096336
                      },
                      {
                        "learn": [
                          0.03945003608
                        ],
                        "iteration": 841,
                        "passed_time": 0.1811499988,
                        "remaining_time": 0.03399251759
                      },
                      {
                        "learn": [
                          0.03939052436
                        ],
                        "iteration": 842,
                        "passed_time": 0.1813604584,
                        "remaining_time": 0.03377650292
                      },
                      {
                        "learn": [
                          0.03933944488
                        ],
                        "iteration": 843,
                        "passed_time": 0.1815551479,
                        "remaining_time": 0.03355758658
                      },
                      {
                        "learn": [
                          0.03928892073
                        ],
                        "iteration": 844,
                        "passed_time": 0.1817566811,
                        "remaining_time": 0.03333998293
                      },
                      {
                        "learn": [
                          0.03922987836
                        ],
                        "iteration": 845,
                        "passed_time": 0.181929869,
                        "remaining_time": 0.03311725747
                      },
                      {
                        "learn": [
                          0.03917963183
                        ],
                        "iteration": 846,
                        "passed_time": 0.1821329558,
                        "remaining_time": 0.03290004987
                      },
                      {
                        "learn": [
                          0.03912951627
                        ],
                        "iteration": 847,
                        "passed_time": 0.1823397953,
                        "remaining_time": 0.03268354822
                      },
                      {
                        "learn": [
                          0.03907093579
                        ],
                        "iteration": 848,
                        "passed_time": 0.1824963586,
                        "remaining_time": 0.03245812739
                      },
                      {
                        "learn": [
                          0.03902109453
                        ],
                        "iteration": 849,
                        "passed_time": 0.1827046091,
                        "remaining_time": 0.03224198984
                      },
                      {
                        "learn": [
                          0.03896282804
                        ],
                        "iteration": 850,
                        "passed_time": 0.1828770178,
                        "remaining_time": 0.03201959537
                      },
                      {
                        "learn": [
                          0.03891325886
                        ],
                        "iteration": 851,
                        "passed_time": 0.1830814719,
                        "remaining_time": 0.0318028848
                      },
                      {
                        "learn": [
                          0.03885530386
                        ],
                        "iteration": 852,
                        "passed_time": 0.1832413961,
                        "remaining_time": 0.031578529
                      },
                      {
                        "learn": [
                          0.03880600457
                        ],
                        "iteration": 853,
                        "passed_time": 0.1834631775,
                        "remaining_time": 0.0313648992
                      },
                      {
                        "learn": [
                          0.03874835859
                        ],
                        "iteration": 854,
                        "passed_time": 0.1836599389,
                        "remaining_time": 0.03114700718
                      },
                      {
                        "learn": [
                          0.03869932702
                        ],
                        "iteration": 855,
                        "passed_time": 0.1838535848,
                        "remaining_time": 0.03092864044
                      },
                      {
                        "learn": [
                          0.03865042171
                        ],
                        "iteration": 856,
                        "passed_time": 0.1840506244,
                        "remaining_time": 0.03071089766
                      },
                      {
                        "learn": [
                          0.03859322146
                        ],
                        "iteration": 857,
                        "passed_time": 0.184214425,
                        "remaining_time": 0.03048770204
                      },
                      {
                        "learn": [
                          0.03854408438
                        ],
                        "iteration": 858,
                        "passed_time": 0.1844441936,
                        "remaining_time": 0.03027547298
                      },
                      {
                        "learn": [
                          0.03849507547
                        ],
                        "iteration": 859,
                        "passed_time": 0.1846513531,
                        "remaining_time": 0.0300595226
                      },
                      {
                        "learn": [
                          0.03844666256
                        ],
                        "iteration": 860,
                        "passed_time": 0.1848412418,
                        "remaining_time": 0.02984080443
                      },
                      {
                        "learn": [
                          0.03839004448
                        ],
                        "iteration": 861,
                        "passed_time": 0.1850517541,
                        "remaining_time": 0.02962545483
                      },
                      {
                        "learn": [
                          0.03833358898
                        ],
                        "iteration": 862,
                        "passed_time": 0.1852034256,
                        "remaining_time": 0.02940077556
                      },
                      {
                        "learn": [
                          0.03828557291
                        ],
                        "iteration": 863,
                        "passed_time": 0.1853939288,
                        "remaining_time": 0.02918237768
                      },
                      {
                        "learn": [
                          0.0382371941
                        ],
                        "iteration": 864,
                        "passed_time": 0.1855846848,
                        "remaining_time": 0.02896408375
                      },
                      {
                        "learn": [
                          0.03818894055
                        ],
                        "iteration": 865,
                        "passed_time": 0.1857806971,
                        "remaining_time": 0.02874666675
                      },
                      {
                        "learn": [
                          0.03814126965
                        ],
                        "iteration": 866,
                        "passed_time": 0.1859679467,
                        "remaining_time": 0.02852795491
                      },
                      {
                        "learn": [
                          0.03809371992
                        ],
                        "iteration": 867,
                        "passed_time": 0.1861736962,
                        "remaining_time": 0.02831212892
                      },
                      {
                        "learn": [
                          0.038038103
                        ],
                        "iteration": 868,
                        "passed_time": 0.1863329268,
                        "remaining_time": 0.02808931348
                      },
                      {
                        "learn": [
                          0.03799033063
                        ],
                        "iteration": 869,
                        "passed_time": 0.1865281546,
                        "remaining_time": 0.0278720231
                      },
                      {
                        "learn": [
                          0.03794314429
                        ],
                        "iteration": 870,
                        "passed_time": 0.1867217814,
                        "remaining_time": 0.02765454627
                      },
                      {
                        "learn": [
                          0.0378879524
                        ],
                        "iteration": 871,
                        "passed_time": 0.1869106265,
                        "remaining_time": 0.02743642224
                      },
                      {
                        "learn": [
                          0.0378410171
                        ],
                        "iteration": 872,
                        "passed_time": 0.1870947661,
                        "remaining_time": 0.02721768075
                      },
                      {
                        "learn": [
                          0.03778611281
                        ],
                        "iteration": 873,
                        "passed_time": 0.1872774284,
                        "remaining_time": 0.02699880547
                      },
                      {
                        "learn": [
                          0.03773942658
                        ],
                        "iteration": 874,
                        "passed_time": 0.1874688926,
                        "remaining_time": 0.02678127036
                      },
                      {
                        "learn": [
                          0.03769285783
                        ],
                        "iteration": 875,
                        "passed_time": 0.1876643667,
                        "remaining_time": 0.02656436241
                      },
                      {
                        "learn": [
                          0.0376464061
                        ],
                        "iteration": 876,
                        "passed_time": 0.1878509217,
                        "remaining_time": 0.02634625242
                      },
                      {
                        "learn": [
                          0.0375920457
                        ],
                        "iteration": 877,
                        "passed_time": 0.1880148841,
                        "remaining_time": 0.02612507501
                      },
                      {
                        "learn": [
                          0.03754583923
                        ],
                        "iteration": 878,
                        "passed_time": 0.1882219291,
                        "remaining_time": 0.02590995839
                      },
                      {
                        "learn": [
                          0.03749923184
                        ],
                        "iteration": 879,
                        "passed_time": 0.1884770495,
                        "remaining_time": 0.02570141584
                      },
                      {
                        "learn": [
                          0.03744528245
                        ],
                        "iteration": 880,
                        "passed_time": 0.1886270355,
                        "remaining_time": 0.02547856666
                      },
                      {
                        "learn": [
                          0.03739148454
                        ],
                        "iteration": 881,
                        "passed_time": 0.188812317,
                        "remaining_time": 0.02526060476
                      },
                      {
                        "learn": [
                          0.03733783747
                        ],
                        "iteration": 882,
                        "passed_time": 0.1891395617,
                        "remaining_time": 0.02506152743
                      },
                      {
                        "learn": [
                          0.03728434062
                        ],
                        "iteration": 883,
                        "passed_time": 0.1893649876,
                        "remaining_time": 0.02484879928
                      },
                      {
                        "learn": [
                          0.03723836666
                        ],
                        "iteration": 884,
                        "passed_time": 0.1895809435,
                        "remaining_time": 0.02463481187
                      },
                      {
                        "learn": [
                          0.03718514665
                        ],
                        "iteration": 885,
                        "passed_time": 0.1897887385,
                        "remaining_time": 0.02441976997
                      },
                      {
                        "learn": [
                          0.03713207509
                        ],
                        "iteration": 886,
                        "passed_time": 0.1899927144,
                        "remaining_time": 0.02420425787
                      },
                      {
                        "learn": [
                          0.0370869483
                        ],
                        "iteration": 887,
                        "passed_time": 0.1902035322,
                        "remaining_time": 0.02398963469
                      },
                      {
                        "learn": [
                          0.03704193324
                        ],
                        "iteration": 888,
                        "passed_time": 0.1903945927,
                        "remaining_time": 0.02377255319
                      },
                      {
                        "learn": [
                          0.0369970295
                        ],
                        "iteration": 889,
                        "passed_time": 0.1905820668,
                        "remaining_time": 0.02355508691
                      },
                      {
                        "learn": [
                          0.03694447533
                        ],
                        "iteration": 890,
                        "passed_time": 0.19076915,
                        "remaining_time": 0.02333764013
                      },
                      {
                        "learn": [
                          0.0368920669
                        ],
                        "iteration": 891,
                        "passed_time": 0.1909239215,
                        "remaining_time": 0.02311634924
                      },
                      {
                        "learn": [
                          0.03683980361
                        ],
                        "iteration": 892,
                        "passed_time": 0.1911290875,
                        "remaining_time": 0.02290124564
                      },
                      {
                        "learn": [
                          0.03679487731
                        ],
                        "iteration": 893,
                        "passed_time": 0.1913286343,
                        "remaining_time": 0.02268549803
                      },
                      {
                        "learn": [
                          0.03675006346
                        ],
                        "iteration": 894,
                        "passed_time": 0.1915366257,
                        "remaining_time": 0.02247077731
                      },
                      {
                        "learn": [
                          0.03669819026
                        ],
                        "iteration": 895,
                        "passed_time": 0.1916941072,
                        "remaining_time": 0.02225020887
                      },
                      {
                        "learn": [
                          0.03665408306
                        ],
                        "iteration": 896,
                        "passed_time": 0.1918834567,
                        "remaining_time": 0.02203344041
                      },
                      {
                        "learn": [
                          0.03660247237
                        ],
                        "iteration": 897,
                        "passed_time": 0.1920363601,
                        "remaining_time": 0.02181259324
                      },
                      {
                        "learn": [
                          0.03655100357
                        ],
                        "iteration": 898,
                        "passed_time": 0.1922723923,
                        "remaining_time": 0.02160123651
                      },
                      {
                        "learn": [
                          0.03650724244
                        ],
                        "iteration": 899,
                        "passed_time": 0.19248599,
                        "remaining_time": 0.02138733222
                      },
                      {
                        "learn": [
                          0.03645603313
                        ],
                        "iteration": 900,
                        "passed_time": 0.1926400915,
                        "remaining_time": 0.0211668913
                      },
                      {
                        "learn": [
                          0.03641249667
                        ],
                        "iteration": 901,
                        "passed_time": 0.192849081,
                        "remaining_time": 0.02095256091
                      },
                      {
                        "learn": [
                          0.03636906619
                        ],
                        "iteration": 902,
                        "passed_time": 0.1931721804,
                        "remaining_time": 0.02075049999
                      },
                      {
                        "learn": [
                          0.03633274917
                        ],
                        "iteration": 903,
                        "passed_time": 0.1934106853,
                        "remaining_time": 0.02053918782
                      },
                      {
                        "learn": [
                          0.0362895093
                        ],
                        "iteration": 904,
                        "passed_time": 0.1936127912,
                        "remaining_time": 0.02032399466
                      },
                      {
                        "learn": [
                          0.03623888677
                        ],
                        "iteration": 905,
                        "passed_time": 0.193817739,
                        "remaining_time": 0.02010912524
                      },
                      {
                        "learn": [
                          0.03618840217
                        ],
                        "iteration": 906,
                        "passed_time": 0.1939740341,
                        "remaining_time": 0.01988928905
                      },
                      {
                        "learn": [
                          0.03613805495
                        ],
                        "iteration": 907,
                        "passed_time": 0.1941294447,
                        "remaining_time": 0.0196695032
                      },
                      {
                        "learn": [
                          0.03610218429
                        ],
                        "iteration": 908,
                        "passed_time": 0.1944031477,
                        "remaining_time": 0.01946170126
                      },
                      {
                        "learn": [
                          0.03605947891
                        ],
                        "iteration": 909,
                        "passed_time": 0.1946085946,
                        "remaining_time": 0.01924700386
                      },
                      {
                        "learn": [
                          0.03600947706
                        ],
                        "iteration": 910,
                        "passed_time": 0.1948007169,
                        "remaining_time": 0.01903102503
                      },
                      {
                        "learn": [
                          0.03597385747
                        ],
                        "iteration": 911,
                        "passed_time": 0.1950000237,
                        "remaining_time": 0.01881579176
                      },
                      {
                        "learn": [
                          0.03593094388
                        ],
                        "iteration": 912,
                        "passed_time": 0.1951971378,
                        "remaining_time": 0.01860038444
                      },
                      {
                        "learn": [
                          0.03588128608
                        ],
                        "iteration": 913,
                        "passed_time": 0.1953847383,
                        "remaining_time": 0.01838412199
                      },
                      {
                        "learn": [
                          0.03583908606
                        ],
                        "iteration": 914,
                        "passed_time": 0.1955720443,
                        "remaining_time": 0.01816789483
                      },
                      {
                        "learn": [
                          0.03578967439
                        ],
                        "iteration": 915,
                        "passed_time": 0.1957240458,
                        "remaining_time": 0.01794849328
                      },
                      {
                        "learn": [
                          0.03574718731
                        ],
                        "iteration": 916,
                        "passed_time": 0.1959290535,
                        "remaining_time": 0.01773403647
                      },
                      {
                        "learn": [
                          0.03570529234
                        ],
                        "iteration": 917,
                        "passed_time": 0.1961181341,
                        "remaining_time": 0.01751817755
                      },
                      {
                        "learn": [
                          0.03565623796
                        ],
                        "iteration": 918,
                        "passed_time": 0.1962806282,
                        "remaining_time": 0.01730003361
                      },
                      {
                        "learn": [
                          0.03560731529
                        ],
                        "iteration": 919,
                        "passed_time": 0.1964416624,
                        "remaining_time": 0.01708188369
                      },
                      {
                        "learn": [
                          0.03556574118
                        ],
                        "iteration": 920,
                        "passed_time": 0.1966674583,
                        "remaining_time": 0.01686941282
                      },
                      {
                        "learn": [
                          0.03551705928
                        ],
                        "iteration": 921,
                        "passed_time": 0.1968742343,
                        "remaining_time": 0.01665530398
                      },
                      {
                        "learn": [
                          0.03547519468
                        ],
                        "iteration": 922,
                        "passed_time": 0.1970833311,
                        "remaining_time": 0.01644140465
                      },
                      {
                        "learn": [
                          0.0354334315
                        ],
                        "iteration": 923,
                        "passed_time": 0.1972768961,
                        "remaining_time": 0.01622623821
                      },
                      {
                        "learn": [
                          0.03538510124
                        ],
                        "iteration": 924,
                        "passed_time": 0.1974327185,
                        "remaining_time": 0.01600805826
                      },
                      {
                        "learn": [
                          0.03534354933
                        ],
                        "iteration": 925,
                        "passed_time": 0.1977214297,
                        "remaining_time": 0.01580063261
                      },
                      {
                        "learn": [
                          0.03530256079
                        ],
                        "iteration": 926,
                        "passed_time": 0.1979143493,
                        "remaining_time": 0.01558548813
                      },
                      {
                        "learn": [
                          0.03526166922
                        ],
                        "iteration": 927,
                        "passed_time": 0.1981038371,
                        "remaining_time": 0.01537012529
                      },
                      {
                        "learn": [
                          0.03522087428
                        ],
                        "iteration": 928,
                        "passed_time": 0.1983709429,
                        "remaining_time": 0.01516075021
                      },
                      {
                        "learn": [
                          0.03517968823
                        ],
                        "iteration": 929,
                        "passed_time": 0.198627275,
                        "remaining_time": 0.01495044006
                      },
                      {
                        "learn": [
                          0.0351386012
                        ],
                        "iteration": 930,
                        "passed_time": 0.198826941,
                        "remaining_time": 0.01473583129
                      },
                      {
                        "learn": [
                          0.03509104653
                        ],
                        "iteration": 931,
                        "passed_time": 0.1989900052,
                        "remaining_time": 0.01451858407
                      },
                      {
                        "learn": [
                          0.03504361768
                        ],
                        "iteration": 932,
                        "passed_time": 0.1991488594,
                        "remaining_time": 0.01430115067
                      },
                      {
                        "learn": [
                          0.03500330557
                        ],
                        "iteration": 933,
                        "passed_time": 0.1993545353,
                        "remaining_time": 0.01408715132
                      },
                      {
                        "learn": [
                          0.03495610681
                        ],
                        "iteration": 934,
                        "passed_time": 0.1995161641,
                        "remaining_time": 0.01387010766
                      },
                      {
                        "learn": [
                          0.03491552636
                        ],
                        "iteration": 935,
                        "passed_time": 0.199732199,
                        "remaining_time": 0.0136569025
                      },
                      {
                        "learn": [
                          0.03486855797
                        ],
                        "iteration": 936,
                        "passed_time": 0.1998930051,
                        "remaining_time": 0.01343997793
                      },
                      {
                        "learn": [
                          0.03482818005
                        ],
                        "iteration": 937,
                        "passed_time": 0.200094151,
                        "remaining_time": 0.0132258394
                      },
                      {
                        "learn": [
                          0.03478789827
                        ],
                        "iteration": 938,
                        "passed_time": 0.2002884306,
                        "remaining_time": 0.0130112825
                      },
                      {
                        "learn": [
                          0.03474126336
                        ],
                        "iteration": 939,
                        "passed_time": 0.2004840283,
                        "remaining_time": 0.01279685287
                      },
                      {
                        "learn": [
                          0.03470161361
                        ],
                        "iteration": 940,
                        "passed_time": 0.2006886152,
                        "remaining_time": 0.01258302688
                      },
                      {
                        "learn": [
                          0.03466205624
                        ],
                        "iteration": 941,
                        "passed_time": 0.2008885648,
                        "remaining_time": 0.01236893498
                      },
                      {
                        "learn": [
                          0.03462259093
                        ],
                        "iteration": 942,
                        "passed_time": 0.2010820771,
                        "remaining_time": 0.01215448398
                      },
                      {
                        "learn": [
                          0.0345827623
                        ],
                        "iteration": 943,
                        "passed_time": 0.2012734867,
                        "remaining_time": 0.0119399526
                      },
                      {
                        "learn": [
                          0.03453665834
                        ],
                        "iteration": 944,
                        "passed_time": 0.2014278372,
                        "remaining_time": 0.01172331328
                      },
                      {
                        "learn": [
                          0.03449746948
                        ],
                        "iteration": 945,
                        "passed_time": 0.2016318504,
                        "remaining_time": 0.01150964051
                      },
                      {
                        "learn": [
                          0.03445158622
                        ],
                        "iteration": 946,
                        "passed_time": 0.2018174091,
                        "remaining_time": 0.01129495532
                      },
                      {
                        "learn": [
                          0.03440582234
                        ],
                        "iteration": 947,
                        "passed_time": 0.2020082042,
                        "remaining_time": 0.01108061879
                      },
                      {
                        "learn": [
                          0.03437322471
                        ],
                        "iteration": 948,
                        "passed_time": 0.2022744236,
                        "remaining_time": 0.01087038525
                      },
                      {
                        "learn": [
                          0.03432766189
                        ],
                        "iteration": 949,
                        "passed_time": 0.202476205,
                        "remaining_time": 0.01065664237
                      },
                      {
                        "learn": [
                          0.03428221722
                        ],
                        "iteration": 950,
                        "passed_time": 0.2026341637,
                        "remaining_time": 0.01044066669
                      },
                      {
                        "learn": [
                          0.03423689025
                        ],
                        "iteration": 951,
                        "passed_time": 0.2027977434,
                        "remaining_time": 0.01022509631
                      },
                      {
                        "learn": [
                          0.03419792106
                        ],
                        "iteration": 952,
                        "passed_time": 0.2030104284,
                        "remaining_time": 0.0100120568
                      },
                      {
                        "learn": [
                          0.03415281113
                        ],
                        "iteration": 953,
                        "passed_time": 0.2033362232,
                        "remaining_time": 0.009804471976
                      },
                      {
                        "learn": [
                          0.03412067634
                        ],
                        "iteration": 954,
                        "passed_time": 0.2035793645,
                        "remaining_time": 0.009592744922
                      },
                      {
                        "learn": [
                          0.03408239748
                        ],
                        "iteration": 955,
                        "passed_time": 0.2038514121,
                        "remaining_time": 0.009382282563
                      },
                      {
                        "learn": [
                          0.03404420632
                        ],
                        "iteration": 956,
                        "passed_time": 0.2040727834,
                        "remaining_time": 0.00916941451
                      },
                      {
                        "learn": [
                          0.03399948707
                        ],
                        "iteration": 957,
                        "passed_time": 0.2043371546,
                        "remaining_time": 0.008958413878
                      },
                      {
                        "learn": [
                          0.03396147984
                        ],
                        "iteration": 958,
                        "passed_time": 0.2045460269,
                        "remaining_time": 0.008744929201
                      },
                      {
                        "learn": [
                          0.03392355939
                        ],
                        "iteration": 959,
                        "passed_time": 0.2047336811,
                        "remaining_time": 0.008530570045
                      },
                      {
                        "learn": [
                          0.03387914688
                        ],
                        "iteration": 960,
                        "passed_time": 0.2048880626,
                        "remaining_time": 0.00831491617
                      },
                      {
                        "learn": [
                          0.03384140842
                        ],
                        "iteration": 961,
                        "passed_time": 0.2052245191,
                        "remaining_time": 0.008106581836
                      },
                      {
                        "learn": [
                          0.03380329543
                        ],
                        "iteration": 962,
                        "passed_time": 0.2054493432,
                        "remaining_time": 0.007893692313
                      },
                      {
                        "learn": [
                          0.03376572129
                        ],
                        "iteration": 963,
                        "passed_time": 0.2056512918,
                        "remaining_time": 0.007679923762
                      },
                      {
                        "learn": [
                          0.03372170869
                        ],
                        "iteration": 964,
                        "passed_time": 0.2058180151,
                        "remaining_time": 0.007464902103
                      },
                      {
                        "learn": [
                          0.03369036404
                        ],
                        "iteration": 965,
                        "passed_time": 0.2060563164,
                        "remaining_time": 0.00725249975
                      },
                      {
                        "learn": [
                          0.0336590797
                        ],
                        "iteration": 966,
                        "passed_time": 0.2063022114,
                        "remaining_time": 0.007040302973
                      },
                      {
                        "learn": [
                          0.03362785547
                        ],
                        "iteration": 967,
                        "passed_time": 0.2065596399,
                        "remaining_time": 0.006828417848
                      },
                      {
                        "learn": [
                          0.0335841872
                        ],
                        "iteration": 968,
                        "passed_time": 0.2067138423,
                        "remaining_time": 0.006613136337
                      },
                      {
                        "learn": [
                          0.03355310002
                        ],
                        "iteration": 969,
                        "passed_time": 0.2069029782,
                        "remaining_time": 0.006399061183
                      },
                      {
                        "learn": [
                          0.03351562077
                        ],
                        "iteration": 970,
                        "passed_time": 0.2070984224,
                        "remaining_time": 0.006185225797
                      },
                      {
                        "learn": [
                          0.03347822773
                        ],
                        "iteration": 971,
                        "passed_time": 0.2072897065,
                        "remaining_time": 0.005971308418
                      },
                      {
                        "learn": [
                          0.03344733678
                        ],
                        "iteration": 972,
                        "passed_time": 0.2074772234,
                        "remaining_time": 0.005757333023
                      },
                      {
                        "learn": [
                          0.03341650482
                        ],
                        "iteration": 973,
                        "passed_time": 0.2076655239,
                        "remaining_time": 0.005543432876
                      },
                      {
                        "learn": [
                          0.0333733641
                        ],
                        "iteration": 974,
                        "passed_time": 0.2078205254,
                        "remaining_time": 0.00532873142
                      },
                      {
                        "learn": [
                          0.03333033243
                        ],
                        "iteration": 975,
                        "passed_time": 0.2079757978,
                        "remaining_time": 0.005114158962
                      },
                      {
                        "learn": [
                          0.03329334701
                        ],
                        "iteration": 976,
                        "passed_time": 0.2081803446,
                        "remaining_time": 0.004900867887
                      },
                      {
                        "learn": [
                          0.03325686246
                        ],
                        "iteration": 977,
                        "passed_time": 0.2083804105,
                        "remaining_time": 0.004687493898
                      },
                      {
                        "learn": [
                          0.03322003636
                        ],
                        "iteration": 978,
                        "passed_time": 0.2085647511,
                        "remaining_time": 0.004473809778
                      },
                      {
                        "learn": [
                          0.03318961419
                        ],
                        "iteration": 979,
                        "passed_time": 0.2087515716,
                        "remaining_time": 0.004260236154
                      },
                      {
                        "learn": [
                          0.03314704025
                        ],
                        "iteration": 980,
                        "passed_time": 0.2089403193,
                        "remaining_time": 0.004046754401
                      },
                      {
                        "learn": [
                          0.03310457327
                        ],
                        "iteration": 981,
                        "passed_time": 0.2091008835,
                        "remaining_time": 0.003832806419
                      },
                      {
                        "learn": [
                          0.03306848978
                        ],
                        "iteration": 982,
                        "passed_time": 0.2093342421,
                        "remaining_time": 0.003620225958
                      },
                      {
                        "learn": [
                          0.0330324867
                        ],
                        "iteration": 983,
                        "passed_time": 0.2095419071,
                        "remaining_time": 0.003407185482
                      },
                      {
                        "learn": [
                          0.03299030404
                        ],
                        "iteration": 984,
                        "passed_time": 0.2097087759,
                        "remaining_time": 0.003193534658
                      },
                      {
                        "learn": [
                          0.03294822689
                        ],
                        "iteration": 985,
                        "passed_time": 0.2098788046,
                        "remaining_time": 0.002980023595
                      },
                      {
                        "learn": [
                          0.03290625487
                        ],
                        "iteration": 986,
                        "passed_time": 0.210047247,
                        "remaining_time": 0.002766579747
                      },
                      {
                        "learn": [
                          0.03287059657
                        ],
                        "iteration": 987,
                        "passed_time": 0.2102407075,
                        "remaining_time": 0.00255353086
                      },
                      {
                        "learn": [
                          0.03282881676
                        ],
                        "iteration": 988,
                        "passed_time": 0.2104147844,
                        "remaining_time": 0.002340305994
                      },
                      {
                        "learn": [
                          0.0327929014
                        ],
                        "iteration": 989,
                        "passed_time": 0.2106559539,
                        "remaining_time": 0.002127837918
                      },
                      {
                        "learn": [
                          0.03275131418
                        ],
                        "iteration": 990,
                        "passed_time": 0.2108449262,
                        "remaining_time": 0.001914837877
                      },
                      {
                        "learn": [
                          0.03270983028
                        ],
                        "iteration": 991,
                        "passed_time": 0.2110443985,
                        "remaining_time": 0.001701970955
                      },
                      {
                        "learn": [
                          0.03267458324
                        ],
                        "iteration": 992,
                        "passed_time": 0.2112431326,
                        "remaining_time": 0.001489125809
                      },
                      {
                        "learn": [
                          0.03263941386
                        ],
                        "iteration": 993,
                        "passed_time": 0.2114515676,
                        "remaining_time": 0.001276367611
                      },
                      {
                        "learn": [
                          0.03260389783
                        ],
                        "iteration": 994,
                        "passed_time": 0.2116770026,
                        "remaining_time": 0.001063703531
                      },
                      {
                        "learn": [
                          0.03256846144
                        ],
                        "iteration": 995,
                        "passed_time": 0.2118876158,
                        "remaining_time": 0.0008509542802
                      },
                      {
                        "learn": [
                          0.03253351063
                        ],
                        "iteration": 996,
                        "passed_time": 0.2120880208,
                        "remaining_time": 0.0006381785982
                      },
                      {
                        "learn": [
                          0.03249256025
                        ],
                        "iteration": 997,
                        "passed_time": 0.2122467932,
                        "remaining_time": 0.0004253442749
                      },
                      {
                        "learn": [
                          0.03245777089
                        ],
                        "iteration": 998,
                        "passed_time": 0.2124385282,
                        "remaining_time": 0.0002126511794
                      },
                      {
                        "learn": [
                          0.03241700587
                        ],
                        "iteration": 999,
                        "passed_time": 0.2125956243,
                        "remaining_time": 0
                      }
                    ],
                    "meta": {
                      "test_sets": [],
                      "test_metrics": [],
                      "learn_metrics": [
                        {
                          "best_value": "Min",
                          "name": "MultiClass"
                        }
                      ],
                      "launch_mode": "Train",
                      "parameters": "",
                      "iteration_count": 1000,
                      "learn_sets": [
                        "learn"
                      ],
                      "name": "experiment"
                    }
                  }
                }
              }
            },
            "layout": "IPY_MODEL_3b102c0dc01b416e89c71805237aa474"
          }
        }
      }
    }
  },
  "cells": [
    {
      "cell_type": "code",
      "source": [
        "from google.colab import drive\n",
        "drive.mount('/content/drive')"
      ],
      "metadata": {
        "colab": {
          "base_uri": "https://localhost:8080/"
        },
        "id": "_AOVrbEE0Xid",
        "outputId": "c2a9e665-1521-4d8a-f89f-1a750c5e634a"
      },
      "execution_count": null,
      "outputs": [
        {
          "output_type": "stream",
          "name": "stdout",
          "text": [
            "Mounted at /content/drive\n"
          ]
        }
      ]
    },
    {
      "cell_type": "markdown",
      "source": [
        "# **Load Libraries**"
      ],
      "metadata": {
        "id": "qPPIwSn7z7tC"
      }
    },
    {
      "cell_type": "code",
      "execution_count": null,
      "metadata": {
        "id": "kkT7AJ6czdm5"
      },
      "outputs": [],
      "source": [
        "#!pip install yahoofinancials\n",
        "#!pip install yfinance\n",
        "#!pip install vaderSentiment\n",
        "#!pip install --upgrade vaderSentiment\n",
        "#!pip install catboost\n",
        "\n",
        "\n",
        "import os\n",
        "import pandas as pd\n",
        "from pandas import option_context\n",
        "import numpy as np\n",
        "from pathlib import Path\n",
        "import xml.etree.ElementTree as ET\n",
        "import datetime\n",
        "from pandas.tseries.offsets import BDay\n",
        "\n",
        "import glob\n",
        "\n",
        "from io import StringIO\n",
        "import re\n",
        "import string\n",
        "from unidecode import unidecode\n",
        "from collections import Counter\n",
        "from string import digits\n",
        "from copy import deepcopy\n",
        "\n",
        "import torch\n",
        "from transformers import BertTokenizer, BertForSequenceClassification\n",
        "from yahoofinancials import YahooFinancials\n",
        "import yfinance as yf\n",
        "\n",
        "\n",
        "from vaderSentiment.vaderSentiment import SentimentIntensityAnalyzer\n",
        "from transformers import AutoTokenizer, AutoModelForSequenceClassification\n",
        "from sklearn.model_selection import train_test_split\n",
        "import catboost as ctb\n",
        "from sklearn.metrics import confusion_matrix, accuracy_score\n",
        "import pickle \n",
        "from sklearn.model_selection import GridSearchCV\n",
        "\n",
        "\n",
        "\n",
        "#Files pathes\n",
        "\n",
        "import_path='/content/drive/MyDrive/Seminar /Test Folder/sample'\n",
        "export_path='/content/drive/MyDrive/Seminar /Test Folder/output'\n",
        "export_path_body='/content/drive/MyDrive/Seminar /Test Folder/body'\n",
        "export_path_speakers='/content/drive/MyDrive/Seminar /Test Folder/speakers'"
      ]
    },
    {
      "cell_type": "markdown",
      "source": [
        "# **Extract Features from XML File**"
      ],
      "metadata": {
        "id": "wBJy2P1-3gC1"
      }
    },
    {
      "cell_type": "code",
      "source": [
        "def extract_file(import_path,export_path): \n",
        "    \n",
        "    os.chdir(import_path)\n",
        "    os.getcwd()\n",
        "    \n",
        "    files=[]\n",
        "    for child in Path('.').iterdir():\n",
        "        if child.is_file():\n",
        "            files.append(child.name)\n",
        "    texts=[]\n",
        "    for file in files:\n",
        "        tree = ET.parse(file)\n",
        "        root = tree.getroot()\n",
        "        for child in root:\n",
        "            texts.append(child.text)   \n",
        "\n",
        "    np_array=np.asarray(texts)\n",
        "    reshaped_array =np_array.transpose()\n",
        "    reshaped_array=reshaped_array.reshape(len(files),6 )\n",
        "\n",
        "\n",
        "    df = pd.DataFrame(reshaped_array , columns=[\n",
        "     'EventStory',\n",
        "     'eventTitle',\n",
        "     'city',\n",
        "     'companyName',\n",
        "     'companyTicker',\n",
        "     'startDate'])\n",
        "    #clean the column from newline symbol\n",
        "    df = df.replace(r'\\n',' ', regex=True) \n",
        "    df['FileNo']=files\n",
        "    df=df[['FileNo','companyName','companyTicker','startDate']]\n",
        "    os.chdir(export_path)\n",
        "    df.to_csv('general.csv', index=False)\n",
        " #  filename=os.path.basename(f'{Path(export_path).name}.csv')\n",
        "    filename = os.listdir()\n",
        "                              \n",
        "\n",
        "    return filename[0]"
      ],
      "metadata": {
        "id": "A3PN0sBv1H50"
      },
      "execution_count": null,
      "outputs": []
    },
    {
      "cell_type": "code",
      "source": [
        "filename=extract_file(import_path,export_path)\n",
        "filename"
      ],
      "metadata": {
        "colab": {
          "base_uri": "https://localhost:8080/",
          "height": 35
        },
        "id": "dJnbVL9SXRKM",
        "outputId": "2b20aa91-f445-447e-d599-f1e6b23c899b"
      },
      "execution_count": null,
      "outputs": [
        {
          "output_type": "execute_result",
          "data": {
            "text/plain": [
              "'general.csv'"
            ],
            "application/vnd.google.colaboratory.intrinsic+json": {
              "type": "string"
            }
          },
          "metadata": {},
          "execution_count": 236
        }
      ]
    },
    {
      "cell_type": "markdown",
      "source": [
        "# **Preprocess Tickers**"
      ],
      "metadata": {
        "id": "SggHH9_x3sk4"
      }
    },
    {
      "cell_type": "code",
      "source": [
        "def check_tickers(tickers_data_no_dups):\n",
        "\n",
        "    is_in_yf = list()\n",
        "\n",
        "    for row_ind in tickers_data_no_dups.index:\n",
        "        \n",
        "        print(row_ind)\n",
        "        ticker = tickers_data_no_dups.loc[row_ind, 'companyTicker']\n",
        "        start_date = str(tickers_data_no_dups.loc[row_ind, 'startDate']).split()[0]\n",
        "        end_date = str(tickers_data_no_dups.loc[row_ind, 'EndDate']).split()[0]\n",
        "        print(ticker)\n",
        "\n",
        "        try:\n",
        "            yahoo_financials = YahooFinancials(ticker)\n",
        "            historical_stock_prices = yahoo_financials.get_historical_price_data(f'{start_date}', f'{end_date}', 'daily')\n",
        "            print(historical_stock_prices[ticker])\n",
        "            stock_prices = historical_stock_prices[ticker]['prices']\n",
        "            is_in_yf.append(True)\n",
        "            \n",
        "        except:\n",
        "            \n",
        "            is_in_yf.append(False)\n",
        "            \n",
        "    return is_in_yf"
      ],
      "metadata": {
        "id": "vL6MuecG3sx0"
      },
      "execution_count": null,
      "outputs": []
    },
    {
      "cell_type": "code",
      "source": [
        "def extract_tickers(export_path,filename):\n",
        "    \n",
        "    os.chdir(export_path)\n",
        "    summary_df=pd.read_csv(filename)\n",
        "    summary_df=summary_df.reset_index()\n",
        "    #split the date from startdate column\n",
        "    date=summary_df['startDate'].str.split(expand=True)[0]\n",
        "    #change the format of the date '%Y-%m-%d'\n",
        "    summary_df['startDate']=pd.to_datetime(date,format='%d-%b-%y')\n",
        "    summary=summary_df[['FileNo','companyName','companyTicker','startDate']]\n",
        "    \n",
        "    \n",
        "    #add 5businessday BDay() to the start date to calculate the return \n",
        "    summary['EndDate']=summary['startDate']+ BDay(5)\n",
        "    #drop all the tickers with (.)\n",
        "    summary_files_usa = summary[summary['companyTicker'].str.contains('.', regex=False)==False]\n",
        "    #drop all the null values in companyTicker column\n",
        "    summary_files_usa = summary_files_usa.dropna(subset=['companyTicker'])\n",
        "    summary_files_usa = summary_files_usa[summary_files_usa['companyTicker']!='']\n",
        "    #drop duplicates\n",
        "    american_tickers_list = summary_files_usa['companyTicker'].drop_duplicates()\n",
        "    tickers_data_no_dups = summary_files_usa[['companyTicker', 'startDate']]\n",
        "    tickers_data_no_dups = summary_files_usa.drop_duplicates(subset=['companyTicker'])\n",
        "    \n",
        "    #check if the tickers exist in yahoo finance \n",
        "    is_in_yf=check_tickers(tickers_data_no_dups)\n",
        "    tickers_data_no_dups['is_in_yf']= np.array(is_in_yf)\n",
        "    tickers_data_no_dups.to_csv(f'{Path(export_path).name}_valid_tickers.csv', index=False)\n",
        "    tickers_filename=os.path.basename(f'{Path(export_path).name}_valid_tickers.csv')\n",
        "    \n",
        "    \n",
        "    df_relevant_tickers=pd.read_csv(tickers_filename,index_col=0)\n",
        "    \n",
        "    #to use only the tickers that we could find in yf\n",
        "    df_relevant_tickers = df_relevant_tickers[df_relevant_tickers['is_in_yf']==True]\n",
        "    df_relevant_tickers['ones'] = 1\n",
        "    df_relevant_tickers = df_relevant_tickers[['companyTicker', 'ones']]\n",
        "    df_relevant_tickers = df_relevant_tickers.merge(summary_df, left_on='companyTicker', right_on='companyTicker')\n",
        "    df_relevant_tickers.drop('ones', axis=1, inplace=True)\n",
        "    df_relevant_tickers['startDate']=df_relevant_tickers['startDate'].astype(str)\n",
        "    date=df_relevant_tickers['startDate'].str.split(expand=True)[0]\n",
        "    #change the format of the date '%Y-%m-%d'\n",
        "    df_relevant_tickers['startDate']=pd.to_datetime(date,format='%Y-%m-%d')\n",
        "    df_relevant_tickers['EndDate']=df_relevant_tickers['startDate']+ BDay(5)\n",
        "    \n",
        "    df_relevant_tickers.to_csv(f'{Path(export_path).name}_new.csv')\n",
        "    valid_tickers_filename=os.path.basename(f'{Path(export_path).name}_new.csv')    \n",
        "    \n",
        "    files=df_relevant_tickers['FileNo'].tolist()\n",
        "    \n",
        "    return files,valid_tickers_filename "
      ],
      "metadata": {
        "id": "a8ckts1y3yDN"
      },
      "execution_count": null,
      "outputs": []
    },
    {
      "cell_type": "code",
      "source": [
        "files,valid_tickers_filename =extract_tickers(export_path,filename)"
      ],
      "metadata": {
        "colab": {
          "base_uri": "https://localhost:8080/"
        },
        "id": "qYUdlr5ScD_U",
        "outputId": "e68174bf-a302-400b-8a46-e2dde3a6edd6"
      },
      "execution_count": null,
      "outputs": [
        {
          "output_type": "stream",
          "name": "stdout",
          "text": [
            "0\n",
            "BLK\n",
            "{'eventsData': {}, 'firstTradeDate': {'formatted_date': '1999-10-01', 'date': 938784600}, 'currency': 'USD', 'instrumentType': 'EQUITY', 'timeZone': {'gmtOffset': -14400}, 'prices': [{'date': 1589895000, 'high': 515.5800170898438, 'low': 498.8299865722656, 'open': 512.4600219726562, 'close': 501.20001220703125, 'volume': 2099700, 'adjclose': 476.2796936035156, 'formatted_date': '2020-05-19'}, {'date': 1589981400, 'high': 513.0, 'low': 503.4599914550781, 'open': 509.55999755859375, 'close': 508.739990234375, 'volume': 1496400, 'adjclose': 483.44476318359375, 'formatted_date': '2020-05-20'}, {'date': 1590067800, 'high': 509.6300048828125, 'low': 504.1499938964844, 'open': 508.0799865722656, 'close': 508.510009765625, 'volume': 1007600, 'adjclose': 483.2262268066406, 'formatted_date': '2020-05-21'}, {'date': 1590154200, 'high': 513.5700073242188, 'low': 503.0, 'open': 506.0, 'close': 513.2999877929688, 'volume': 632700, 'adjclose': 487.77801513671875, 'formatted_date': '2020-05-22'}]}\n",
            "1\n",
            "CCL\n",
            "{'eventsData': {}, 'firstTradeDate': {'formatted_date': '1987-07-24', 'date': 554131800}, 'currency': 'USD', 'instrumentType': 'EQUITY', 'timeZone': {'gmtOffset': -14400}, 'prices': [{'date': 1591623000, 'high': 25.280000686645508, 'low': 23.40999984741211, 'open': 24.56999969482422, 'close': 24.90999984741211, 'volume': 107262900, 'adjclose': 24.90999984741211, 'formatted_date': '2020-06-08'}, {'date': 1591709400, 'high': 23.899999618530273, 'low': 21.93000030517578, 'open': 23.8799991607666, 'close': 23.040000915527344, 'volume': 72547400, 'adjclose': 23.040000915527344, 'formatted_date': '2020-06-09'}, {'date': 1591795800, 'high': 22.469999313354492, 'low': 19.5, 'open': 22.200000762939453, 'close': 20.59000015258789, 'volume': 82883100, 'adjclose': 20.59000015258789, 'formatted_date': '2020-06-10'}, {'date': 1591882200, 'high': 18.989999771118164, 'low': 16.75, 'open': 17.290000915527344, 'close': 17.440000534057617, 'volume': 79106600, 'adjclose': 17.440000534057617, 'formatted_date': '2020-06-11'}, {'date': 1591968600, 'high': 20.200000762939453, 'low': 18.530000686645508, 'open': 19.809999465942383, 'close': 19.979999542236328, 'volume': 65140100, 'adjclose': 19.979999542236328, 'formatted_date': '2020-06-12'}]}\n",
            "3\n",
            "VRSK\n",
            "{'eventsData': {}, 'firstTradeDate': {'formatted_date': '2009-10-07', 'date': 1254922200}, 'currency': 'USD', 'instrumentType': 'EQUITY', 'timeZone': {'gmtOffset': -14400}, 'prices': [{'date': 1589981400, 'high': 161.0399932861328, 'low': 158.83999633789062, 'open': 158.83999633789062, 'close': 159.5399932861328, 'volume': 636100, 'adjclose': 157.28907775878906, 'formatted_date': '2020-05-20'}, {'date': 1590067800, 'high': 159.36000061035156, 'low': 156.52000427246094, 'open': 157.50999450683594, 'close': 156.83999633789062, 'volume': 553100, 'adjclose': 154.62718200683594, 'formatted_date': '2020-05-21'}, {'date': 1590154200, 'high': 158.3699951171875, 'low': 155.74000549316406, 'open': 155.80999755859375, 'close': 157.27999877929688, 'volume': 625700, 'adjclose': 155.0609588623047, 'formatted_date': '2020-05-22'}, {'date': 1590499800, 'high': 161.25999450683594, 'low': 157.16000366210938, 'open': 158.52000427246094, 'close': 160.4600067138672, 'volume': 1149400, 'adjclose': 158.19610595703125, 'formatted_date': '2020-05-26'}]}\n",
            "4\n",
            "IR\n",
            "{'eventsData': {}, 'firstTradeDate': {'formatted_date': '2017-05-12', 'date': 1494595800}, 'currency': 'USD', 'instrumentType': 'EQUITY', 'timeZone': {'gmtOffset': -14400}, 'prices': [{'date': 1550759400, 'high': 27.1299991607666, 'low': 26.530000686645508, 'open': 26.649999618530273, 'close': 27.049999237060547, 'volume': 1459000, 'adjclose': 27.01622200012207, 'formatted_date': '2019-02-21'}, {'date': 1550845800, 'high': 27.290000915527344, 'low': 26.670000076293945, 'open': 27.079999923706055, 'close': 26.739999771118164, 'volume': 1350500, 'adjclose': 26.706607818603516, 'formatted_date': '2019-02-22'}, {'date': 1551105000, 'high': 27.149999618530273, 'low': 26.729999542236328, 'open': 26.84000015258789, 'close': 27.059999465942383, 'volume': 1709700, 'adjclose': 27.02621078491211, 'formatted_date': '2019-02-25'}, {'date': 1551191400, 'high': 27.014999389648438, 'low': 26.579999923706055, 'open': 26.950000762939453, 'close': 26.65999984741211, 'volume': 1396600, 'adjclose': 26.626710891723633, 'formatted_date': '2019-02-26'}, {'date': 1551277800, 'high': 26.850000381469727, 'low': 26.43000030517578, 'open': 26.65999984741211, 'close': 26.649999618530273, 'volume': 973800, 'adjclose': 26.616722106933594, 'formatted_date': '2019-02-27'}]}\n",
            "5\n",
            "MAC\n",
            "{'eventsData': {}, 'firstTradeDate': {'formatted_date': '1994-03-10', 'date': 763309800}, 'currency': 'USD', 'instrumentType': 'EQUITY', 'timeZone': {'gmtOffset': -14400}, 'prices': [{'date': 1551796200, 'high': 43.43000030517578, 'low': 42.810001373291016, 'open': 42.880001068115234, 'close': 43.130001068115234, 'volume': 792200, 'adjclose': 34.643863677978516, 'formatted_date': '2019-03-05'}, {'date': 1551882600, 'high': 43.45000076293945, 'low': 42.849998474121094, 'open': 43.08000183105469, 'close': 42.91999816894531, 'volume': 745100, 'adjclose': 34.47517776489258, 'formatted_date': '2019-03-06'}, {'date': 1551969000, 'high': 43.119998931884766, 'low': 42.34000015258789, 'open': 42.93000030517578, 'close': 42.54999923706055, 'volume': 1009400, 'adjclose': 34.177982330322266, 'formatted_date': '2019-03-07'}, {'date': 1552055400, 'high': 42.709999084472656, 'low': 41.91999816894531, 'open': 42.439998626708984, 'close': 42.0, 'volume': 837300, 'adjclose': 33.736202239990234, 'formatted_date': '2019-03-08'}, {'date': 1552311000, 'high': 42.79999923706055, 'low': 41.939998626708984, 'open': 42.150001525878906, 'close': 42.790000915527344, 'volume': 927000, 'adjclose': 34.370750427246094, 'formatted_date': '2019-03-11'}]}\n",
            "6\n",
            "ECYT\n",
            "{'eventsData': {}, 'firstTradeDate': {'formatted_date': '2011-02-04', 'date': 1296829800}, 'currency': None, 'instrumentType': 'MUTUALFUND', 'timeZone': {'gmtOffset': -14400}, 'prices': [{'date': 1538487000, 'high': 17.850000381469727, 'low': 17.100000381469727, 'open': 17.770000457763672, 'close': 17.219999313354492, 'volume': 1008792, 'adjclose': 17.219999313354492, 'formatted_date': '2018-10-02'}, {'date': 1538573400, 'high': 17.420000076293945, 'low': 16.350000381469727, 'open': 17.190000534057617, 'close': 16.959999084472656, 'volume': 1371267, 'adjclose': 16.959999084472656, 'formatted_date': '2018-10-03'}, {'date': 1538659800, 'high': 16.889999389648438, 'low': 15.260000228881836, 'open': 16.68000030517578, 'close': 15.619999885559082, 'volume': 1907764, 'adjclose': 15.619999885559082, 'formatted_date': '2018-10-04'}, {'date': 1538746200, 'high': 16.06999969482422, 'low': 15.1225004196167, 'open': 15.699999809265137, 'close': 15.930000305175781, 'volume': 1548514, 'adjclose': 15.930000305175781, 'formatted_date': '2018-10-05'}, {'date': 1539005400, 'high': 16.079099655151367, 'low': 15.15999984741211, 'open': 15.680000305175781, 'close': 15.640000343322754, 'volume': 1028258, 'adjclose': 15.640000343322754, 'formatted_date': '2018-10-08'}]}\n",
            "7\n",
            "IDCC\n",
            "{'eventsData': {}, 'firstTradeDate': {'formatted_date': '1981-11-12', 'date': 374423400}, 'currency': 'USD', 'instrumentType': 'EQUITY', 'timeZone': {'gmtOffset': -14400}, 'prices': [{'date': 1516285800, 'high': 80.0, 'low': 78.9000015258789, 'open': 79.30000305175781, 'close': 79.5, 'volume': 222700, 'adjclose': 72.04486846923828, 'formatted_date': '2018-01-18'}, {'date': 1516372200, 'high': 80.19999694824219, 'low': 79.1500015258789, 'open': 79.4000015258789, 'close': 79.44999694824219, 'volume': 377500, 'adjclose': 71.99954986572266, 'formatted_date': '2018-01-19'}, {'date': 1516631400, 'high': 79.44999694824219, 'low': 78.44999694824219, 'open': 79.4000015258789, 'close': 78.94999694824219, 'volume': 351300, 'adjclose': 71.54644775390625, 'formatted_date': '2018-01-22'}, {'date': 1516717800, 'high': 79.44999694824219, 'low': 78.11000061035156, 'open': 78.80000305175781, 'close': 79.0, 'volume': 225200, 'adjclose': 71.59173583984375, 'formatted_date': '2018-01-23'}, {'date': 1516804200, 'high': 79.5, 'low': 78.19999694824219, 'open': 79.3499984741211, 'close': 78.75, 'volume': 400100, 'adjclose': 71.36518859863281, 'formatted_date': '2018-01-24'}]}\n"
          ]
        },
        {
          "output_type": "stream",
          "name": "stderr",
          "text": [
            "/usr/local/lib/python3.7/dist-packages/ipykernel_launcher.py:27: SettingWithCopyWarning: \n",
            "A value is trying to be set on a copy of a slice from a DataFrame.\n",
            "Try using .loc[row_indexer,col_indexer] = value instead\n",
            "\n",
            "See the caveats in the documentation: https://pandas.pydata.org/pandas-docs/stable/user_guide/indexing.html#returning-a-view-versus-a-copy\n"
          ]
        }
      ]
    },
    {
      "cell_type": "code",
      "source": [
        "valid_tickers_filename"
      ],
      "metadata": {
        "colab": {
          "base_uri": "https://localhost:8080/",
          "height": 35
        },
        "id": "Ppna1T3fICYp",
        "outputId": "c90fe3bb-a911-4ce9-923e-de30e86d2f41"
      },
      "execution_count": null,
      "outputs": [
        {
          "output_type": "execute_result",
          "data": {
            "text/plain": [
              "'Output_new.csv'"
            ],
            "application/vnd.google.colaboratory.intrinsic+json": {
              "type": "string"
            }
          },
          "metadata": {},
          "execution_count": 217
        }
      ]
    },
    {
      "cell_type": "markdown",
      "source": [
        "# **Obtain closing price from yf and calculate the return**"
      ],
      "metadata": {
        "id": "OGxS4RI44el_"
      }
    },
    {
      "cell_type": "code",
      "source": [
        "def get_return(export_path,valid_tickers_filename):\n",
        "    \n",
        "    os.chdir(export_path)\n",
        "    os.getcwd()\n",
        "    \n",
        "    df_relevant_tickers=pd.read_csv(valid_tickers_filename,index_col=0)\n",
        "    df_relevant_tickers=df_relevant_tickers.reset_index()\n",
        "    stock_dif = []\n",
        "\n",
        "    for row_ind in df_relevant_tickers.index:\n",
        "\n",
        "        print(row_ind)\n",
        "\n",
        "        ticker = df_relevant_tickers.loc[row_ind, 'companyTicker']\n",
        "        ticker = ticker.split('.')[0]\n",
        "        print(ticker)\n",
        "        start_date = str(df_relevant_tickers.loc[row_ind, 'startDate']).split()[0]\n",
        "        print(start_date)\n",
        "        end_date = str(df_relevant_tickers.loc[row_ind, 'EndDate']).split()[0]\n",
        "        print(end_date)\n",
        "        try:\n",
        "\n",
        "            yahoo_financials = YahooFinancials(ticker)\n",
        "            historical_stock_prices = yahoo_financials.get_historical_price_data(start_date, end_date, 'daily') \n",
        "            stock_prices = historical_stock_prices[ticker]['prices']\n",
        "            print(stock_prices)\n",
        "\n",
        "            try:\n",
        "\n",
        "                start_price = stock_prices[0]\n",
        "                end_price = stock_prices[1]\n",
        "                stock_dif.append((end_price['adjclose']-start_price['adjclose'])/(start_price['adjclose']))\n",
        "            except:\n",
        "\n",
        "                stock_dif.append(None)\n",
        "\n",
        "\n",
        "        except:\n",
        "            print('error')\n",
        "            stock_dif.append(None)\n",
        "            \n",
        "    df_relevant_tickers['return'] = np.array(stock_dif)\n",
        "    \n",
        "    df_relevant_tickers.to_csv(f'{Path(export_path).name}_return.csv')\n",
        "    \n",
        "    yield_filename=os.path.basename(f'{Path(export_path).name}_return.csv')\n",
        "\n",
        "    return  yield_filename\n"
      ],
      "metadata": {
        "id": "uysSkQjP30FZ"
      },
      "execution_count": null,
      "outputs": []
    },
    {
      "cell_type": "code",
      "source": [
        " yield_filename=get_return(export_path,valid_tickers_filename)"
      ],
      "metadata": {
        "colab": {
          "base_uri": "https://localhost:8080/"
        },
        "id": "ktLMbQEUoz7U",
        "outputId": "7a57d982-a65c-4872-b2a9-7eb7b8298e8c"
      },
      "execution_count": null,
      "outputs": [
        {
          "output_type": "stream",
          "name": "stdout",
          "text": [
            "0\n",
            "BLK\n",
            "2020-05-19\n",
            "2020-05-26\n",
            "[{'date': 1589895000, 'high': 515.5800170898438, 'low': 498.8299865722656, 'open': 512.4600219726562, 'close': 501.20001220703125, 'volume': 2099700, 'adjclose': 476.2796325683594, 'formatted_date': '2020-05-19'}, {'date': 1589981400, 'high': 513.0, 'low': 503.4599914550781, 'open': 509.55999755859375, 'close': 508.739990234375, 'volume': 1496400, 'adjclose': 483.4447326660156, 'formatted_date': '2020-05-20'}, {'date': 1590067800, 'high': 509.6300048828125, 'low': 504.1499938964844, 'open': 508.0799865722656, 'close': 508.510009765625, 'volume': 1007600, 'adjclose': 483.2262268066406, 'formatted_date': '2020-05-21'}, {'date': 1590154200, 'high': 513.5700073242188, 'low': 503.0, 'open': 506.0, 'close': 513.2999877929688, 'volume': 632700, 'adjclose': 487.77801513671875, 'formatted_date': '2020-05-22'}]\n",
            "1\n",
            "CCL\n",
            "2020-06-08\n",
            "2020-06-15\n",
            "[{'date': 1591623000, 'high': 25.280000686645508, 'low': 23.40999984741211, 'open': 24.56999969482422, 'close': 24.90999984741211, 'volume': 107262900, 'adjclose': 24.90999984741211, 'formatted_date': '2020-06-08'}, {'date': 1591709400, 'high': 23.899999618530273, 'low': 21.93000030517578, 'open': 23.8799991607666, 'close': 23.040000915527344, 'volume': 72547400, 'adjclose': 23.040000915527344, 'formatted_date': '2020-06-09'}, {'date': 1591795800, 'high': 22.469999313354492, 'low': 19.5, 'open': 22.200000762939453, 'close': 20.59000015258789, 'volume': 82883100, 'adjclose': 20.59000015258789, 'formatted_date': '2020-06-10'}, {'date': 1591882200, 'high': 18.989999771118164, 'low': 16.75, 'open': 17.290000915527344, 'close': 17.440000534057617, 'volume': 79106600, 'adjclose': 17.440000534057617, 'formatted_date': '2020-06-11'}, {'date': 1591968600, 'high': 20.200000762939453, 'low': 18.530000686645508, 'open': 19.809999465942383, 'close': 19.979999542236328, 'volume': 65140100, 'adjclose': 19.979999542236328, 'formatted_date': '2020-06-12'}]\n",
            "2\n",
            "CCL\n",
            "2019-12-20\n",
            "2019-12-27\n",
            "[{'date': 1576852200, 'high': 51.209999084472656, 'low': 48.2599983215332, 'open': 48.900001525878906, 'close': 50.209999084472656, 'volume': 15867400, 'adjclose': 49.63074493408203, 'formatted_date': '2019-12-20'}, {'date': 1577111400, 'high': 51.27000045776367, 'low': 50.150001525878906, 'open': 50.31999969482422, 'close': 51.2599983215332, 'volume': 5965400, 'adjclose': 50.66862869262695, 'formatted_date': '2019-12-23'}, {'date': 1577197800, 'high': 51.619998931884766, 'low': 50.7400016784668, 'open': 51.400001525878906, 'close': 50.939998626708984, 'volume': 2142300, 'adjclose': 50.35232162475586, 'formatted_date': '2019-12-24'}, {'date': 1577370600, 'high': 51.45000076293945, 'low': 50.7599983215332, 'open': 51.0, 'close': 51.33000183105469, 'volume': 3217100, 'adjclose': 50.737823486328125, 'formatted_date': '2019-12-26'}]\n",
            "3\n",
            "VRSK\n",
            "2020-05-20\n",
            "2020-05-27\n",
            "[{'date': 1589981400, 'high': 161.0399932861328, 'low': 158.83999633789062, 'open': 158.83999633789062, 'close': 159.5399932861328, 'volume': 636100, 'adjclose': 157.2891082763672, 'formatted_date': '2020-05-20'}, {'date': 1590067800, 'high': 159.36000061035156, 'low': 156.52000427246094, 'open': 157.50999450683594, 'close': 156.83999633789062, 'volume': 553100, 'adjclose': 154.627197265625, 'formatted_date': '2020-05-21'}, {'date': 1590154200, 'high': 158.3699951171875, 'low': 155.74000549316406, 'open': 155.80999755859375, 'close': 157.27999877929688, 'volume': 625700, 'adjclose': 155.0609893798828, 'formatted_date': '2020-05-22'}, {'date': 1590499800, 'high': 161.25999450683594, 'low': 157.16000366210938, 'open': 158.52000427246094, 'close': 160.4600067138672, 'volume': 1149400, 'adjclose': 158.19610595703125, 'formatted_date': '2020-05-26'}]\n",
            "4\n",
            "IR\n",
            "2019-02-21\n",
            "2019-02-28\n",
            "[{'date': 1550759400, 'high': 27.1299991607666, 'low': 26.530000686645508, 'open': 26.649999618530273, 'close': 27.049999237060547, 'volume': 1459000, 'adjclose': 27.01622200012207, 'formatted_date': '2019-02-21'}, {'date': 1550845800, 'high': 27.290000915527344, 'low': 26.670000076293945, 'open': 27.079999923706055, 'close': 26.739999771118164, 'volume': 1350500, 'adjclose': 26.70660972595215, 'formatted_date': '2019-02-22'}, {'date': 1551105000, 'high': 27.149999618530273, 'low': 26.729999542236328, 'open': 26.84000015258789, 'close': 27.059999465942383, 'volume': 1709700, 'adjclose': 27.026208877563477, 'formatted_date': '2019-02-25'}, {'date': 1551191400, 'high': 27.014999389648438, 'low': 26.579999923706055, 'open': 26.950000762939453, 'close': 26.65999984741211, 'volume': 1396600, 'adjclose': 26.626710891723633, 'formatted_date': '2019-02-26'}, {'date': 1551277800, 'high': 26.850000381469727, 'low': 26.43000030517578, 'open': 26.65999984741211, 'close': 26.649999618530273, 'volume': 973800, 'adjclose': 26.616724014282227, 'formatted_date': '2019-02-27'}]\n",
            "5\n",
            "MAC\n",
            "2019-03-05\n",
            "2019-03-12\n",
            "[{'date': 1551796200, 'high': 43.43000030517578, 'low': 42.810001373291016, 'open': 42.880001068115234, 'close': 43.130001068115234, 'volume': 792200, 'adjclose': 34.643863677978516, 'formatted_date': '2019-03-05'}, {'date': 1551882600, 'high': 43.45000076293945, 'low': 42.849998474121094, 'open': 43.08000183105469, 'close': 42.91999816894531, 'volume': 745100, 'adjclose': 34.47517395019531, 'formatted_date': '2019-03-06'}, {'date': 1551969000, 'high': 43.119998931884766, 'low': 42.34000015258789, 'open': 42.93000030517578, 'close': 42.54999923706055, 'volume': 1009400, 'adjclose': 34.1779899597168, 'formatted_date': '2019-03-07'}, {'date': 1552055400, 'high': 42.709999084472656, 'low': 41.91999816894531, 'open': 42.439998626708984, 'close': 42.0, 'volume': 837300, 'adjclose': 33.73619842529297, 'formatted_date': '2019-03-08'}, {'date': 1552311000, 'high': 42.79999923706055, 'low': 41.939998626708984, 'open': 42.150001525878906, 'close': 42.790000915527344, 'volume': 927000, 'adjclose': 34.370765686035156, 'formatted_date': '2019-03-11'}]\n",
            "6\n",
            "ECYT\n",
            "2018-10-02\n",
            "2018-10-09\n",
            "[{'date': 1538487000, 'high': 17.850000381469727, 'low': 17.100000381469727, 'open': 17.770000457763672, 'close': 17.219999313354492, 'volume': 1008792, 'adjclose': 17.219999313354492, 'formatted_date': '2018-10-02'}, {'date': 1538573400, 'high': 17.420000076293945, 'low': 16.350000381469727, 'open': 17.190000534057617, 'close': 16.959999084472656, 'volume': 1371267, 'adjclose': 16.959999084472656, 'formatted_date': '2018-10-03'}, {'date': 1538659800, 'high': 16.889999389648438, 'low': 15.260000228881836, 'open': 16.68000030517578, 'close': 15.619999885559082, 'volume': 1907764, 'adjclose': 15.619999885559082, 'formatted_date': '2018-10-04'}, {'date': 1538746200, 'high': 16.06999969482422, 'low': 15.1225004196167, 'open': 15.699999809265137, 'close': 15.930000305175781, 'volume': 1548514, 'adjclose': 15.930000305175781, 'formatted_date': '2018-10-05'}, {'date': 1539005400, 'high': 16.079099655151367, 'low': 15.15999984741211, 'open': 15.680000305175781, 'close': 15.640000343322754, 'volume': 1028258, 'adjclose': 15.640000343322754, 'formatted_date': '2018-10-08'}]\n",
            "7\n",
            "IDCC\n",
            "2018-01-18\n",
            "2018-01-25\n",
            "[{'date': 1516285800, 'high': 80.0, 'low': 78.9000015258789, 'open': 79.30000305175781, 'close': 79.5, 'volume': 222700, 'adjclose': 72.04486846923828, 'formatted_date': '2018-01-18'}, {'date': 1516372200, 'high': 80.19999694824219, 'low': 79.1500015258789, 'open': 79.4000015258789, 'close': 79.44999694824219, 'volume': 377500, 'adjclose': 71.99954986572266, 'formatted_date': '2018-01-19'}, {'date': 1516631400, 'high': 79.44999694824219, 'low': 78.44999694824219, 'open': 79.4000015258789, 'close': 78.94999694824219, 'volume': 351300, 'adjclose': 71.54644775390625, 'formatted_date': '2018-01-22'}, {'date': 1516717800, 'high': 79.44999694824219, 'low': 78.11000061035156, 'open': 78.80000305175781, 'close': 79.0, 'volume': 225200, 'adjclose': 71.59173583984375, 'formatted_date': '2018-01-23'}, {'date': 1516804200, 'high': 79.5, 'low': 78.19999694824219, 'open': 79.3499984741211, 'close': 78.75, 'volume': 400100, 'adjclose': 71.36518859863281, 'formatted_date': '2018-01-24'}]\n"
          ]
        }
      ]
    },
    {
      "cell_type": "markdown",
      "source": [
        "# **Sentiment Analysis Models: Vader and Finbert**"
      ],
      "metadata": {
        "id": "4bbuJ3Ru51L6"
      }
    },
    {
      "cell_type": "code",
      "source": [
        "def vader_senti(List):\n",
        "    vs={}\n",
        "    analyzer = SentimentIntensityAnalyzer()\n",
        "    for sentence in List :\n",
        "        vs[sentence]= analyzer.polarity_scores(sentence)\n",
        "    df = pd.DataFrame.from_dict(vs,orient ='index')\n",
        "    df = df.reset_index(False)\n",
        "    \n",
        "    score = df[\"compound\"].values\n",
        "    sentiment = []\n",
        "    for i in score:\n",
        "\n",
        "        if i > 0.20 :\n",
        "            sentiment.append('Positive')\n",
        "        elif i <= -0.2 :\n",
        "            sentiment.append('Negative')\n",
        "        else:\n",
        "            sentiment.append('Neutral')\n",
        "\n",
        "    df[\"Sentiment\"] = sentiment\n",
        "    \n",
        "       \n",
        "    return df[\"Sentiment\"]"
      ],
      "metadata": {
        "id": "y94IGfCa47m5"
      },
      "execution_count": null,
      "outputs": []
    },
    {
      "cell_type": "code",
      "source": [
        "finbert = BertForSequenceClassification.from_pretrained('yiyanghkust/finbert-tone',num_labels=3)\n",
        "tokenizer = BertTokenizer.from_pretrained('yiyanghkust/finbert-tone')\n",
        "labels = {0:'Neutral', 1:'Positive',2:'Negative'}\n",
        "\n",
        "\n",
        "\n",
        "def finbert_senti(X):\n",
        "    \n",
        "    sent_val = list()\n",
        "    for x in X:\n",
        "        inputs = tokenizer(x, return_tensors=\"pt\", padding=True)\n",
        "        outputs = finbert(**inputs)[0]\n",
        "        val = labels[np.argmax(outputs.detach().numpy())]\n",
        "        sent_val.append(val)\n",
        "        \n",
        "    return sent_val"
      ],
      "metadata": {
        "id": "0oX2Jppr49l5"
      },
      "execution_count": null,
      "outputs": []
    },
    {
      "cell_type": "markdown",
      "source": [
        "# **Cleaning and Splitting Text**"
      ],
      "metadata": {
        "id": "9uNj5bNE5-YS"
      }
    },
    {
      "cell_type": "code",
      "source": [
        "reSentenceSplitter = re.compile(\n",
        "    \"(?i:\\\\bYum!\\\\s*(?=Brands?\\\\b))|\" +\n",
        "    \"(?i:\\\\b(?:inc|corp|ltd)\\\\.\\\\s*\\\\()|\" +\n",
        "    \"(?i:\\\\b(?:mrs|messrs|sen|esq|adv|prof|rev|gov|gen|rep|hon|adj|oblig|tbk|dev|inv|invs|opn|constr|conces|(?-i:Med|Cap|Develop|Met))\\\\.\\\\s*(?=[A-Z'\\\"\\\\(]))|\" +\n",
        "    \"\\\\b(?i:[a-z][a-z][a-z]+(?:'t)?|\" +\n",
        "    \"(?-i:we|us|in|to|at|of|on|as|be|by|do|go|he|is|it|me|so|up|no|US|UK|EU|MW|)|\" +\n",
        "    \"'s|\" +\n",
        "    \"[A-Z]&(?:amp;)?[A-Z]+|\" +\n",
        "    \"\\\\s*\\\\([A-Z]+\\\\)|\" +\n",
        "    \"\\\\d+[%$sx]?|\" +\n",
        "    \"\\\\)(?=\\\\.)|\" +\n",
        "    \"[A-Z]+\\\\d+)\" +\n",
        "    \"[\\\"'\\\\)]*[!\\\\.\\\\?]+[\\\"'\\\\)]*( +)\" +\n",
        "    \"(?=\" + \"(?:<[^\\\\>][^>]*>)*\" +\n",
        "    \"(?:[\\\"']+(?:<[^\\\\>][^>]*>)*)?\" +\n",
        "    \"\\\\(?\" +\n",
        "    \"(?:[A-Z][a-z]|Q[1-4]|\\\\d+[A-Z]+ |[AI] |I'|U\\\\.S\\\\b|[A-Z]+\\\\b|(?:19|20)\\\\d\\\\d ))\") \n",
        "\n",
        "def NormalizeString(s, doUnescape=False):\n",
        " \n",
        "    filler_words=['Hello','hello','Thanks','Thank you','thank you','good morning', 'good morning','everyone','Good morning','Good day','good day',\n",
        "                  'bye','Bye','hey','Hi','welcome','Welcome','Good afternoon','Good evening','good afternoon','good evening','yea','yeah',\"We'll talk to you soon.\",\"We'll talk to you soon.\",\"ladies and gentlemen\",'Have a good day.','Have a nice day','Have a','Okay']\n",
        "    s = re.sub(r'\\[\\[.*?\\]\\]', '', s)\n",
        "    s = unidecode(s)\n",
        "    s = re.sub(r'[<{]', '[', s)\n",
        "    s = re.sub(r'[>}]', ']', s)\n",
        "    s = s.replace('(', '')\n",
        "    s = s.replace(')', '')\n",
        "    s = s.replace(' .', '.')\n",
        "    s = s.replace('*', '')\n",
        "    s = s.replace('=','')\n",
        "    s = s.replace('-','')    \n",
        "    s=re.sub(\"[\\(\\[].*?[\\)\\]]\", \"\", s)\n",
        "    s = s.replace('[]','')\n",
        "    for word in filler_words:\n",
        "         s = s.replace(word, '')\n",
        "    return re.sub(r'\\s+', ' ', s).strip()\n",
        "\n",
        "\n",
        "def GetSentences(text):\n",
        "    text = text.replace('\\n\\n', '\\n')\n",
        "    sentences = []\n",
        "    for paragraph in text.split('\\n'):\n",
        "        paragraph = paragraph.strip()\n",
        "        if not paragraph: continue\n",
        "        paragraph = NormalizeString(paragraph)\n",
        "        iAt = 0\n",
        "        for M in reSentenceSplitter.finditer(paragraph):\n",
        "            if not M.group(1): continue\n",
        "            sent = paragraph[iAt: M.start(1)].strip()\n",
        "            iAt = M.end(1)\n",
        "            if not sent: continue\n",
        "            sentences.append(sent)\n",
        "        sent = paragraph[iAt:].strip()\n",
        "        if not sent: continue\n",
        "        sentences.append(sent)\n",
        "    return sentences"
      ],
      "metadata": {
        "id": "oFPaIbgj5Bm1"
      },
      "execution_count": null,
      "outputs": []
    },
    {
      "cell_type": "markdown",
      "source": [
        "# **Divide each text to two parts: Presentation and Q&A**"
      ],
      "metadata": {
        "id": "t7rgVhr243or"
      }
    },
    {
      "cell_type": "code",
      "source": [
        "def text_divisions(df):  \n",
        "    \n",
        "\n",
        "    try:\n",
        "        \n",
        "        presentation=df[df['Text']=='Presentation'].index\n",
        "\n",
        "        try:\n",
        "            \n",
        "            QA=df[df['Text']=='Questions and Answers'].index\n",
        "            presentation_df=df.iloc[presentation[0]+1:QA[0]]\n",
        "            presentation_df.columns=['Presentation']\n",
        "            QA_df=df.iloc[QA[0]+1:]\n",
        "            QA_df.columns=['Questions and Answers']\n",
        "            presentation_df.reset_index(drop=True, inplace=True)\n",
        "            QA_df.reset_index(drop=True, inplace=True)\n",
        "            dfnew = pd.concat([presentation_df, QA_df],axis=1)\n",
        "            dfnew=dfnew[['Presentation','Questions and Answers']]\n",
        "\n",
        "        except:\n",
        "\n",
        "            presentation_df=df.iloc[presentation[0]+1:]\n",
        "            presentation_df.columns=['Presentation']\n",
        "            dfnew=presentation_df[['Presentation']]\n",
        "\n",
        "\n",
        "    except:\n",
        "\n",
        "        QA=df[df['Text']=='Questions and Answers'].index\n",
        "        QA_df=df.iloc[QA[0]+1:]\n",
        "        QA_df.columns=['Questions and Answers']\n",
        "        dfnew=QA_df[['Questions and Answers']]        \n",
        "\n",
        "\n",
        "    dfnew=dfnew.fillna(\"\")\n",
        "        \n",
        "    return dfnew"
      ],
      "metadata": {
        "id": "tEdmKv8B43yc"
      },
      "execution_count": null,
      "outputs": []
    },
    {
      "cell_type": "markdown",
      "source": [
        "# **Divide the text according to  participants: corporate and conference participants**"
      ],
      "metadata": {
        "id": "q1O8h0hS6FR5"
      }
    },
    {
      "cell_type": "code",
      "source": [
        "def speakers_lists(text,files):\n",
        "    \n",
        "    corp_idx = text.find('Corporate Participants')+len('Corporate Participants\\n')\n",
        "    corp_idx_end = text.find('\\nConference Call Participants')\n",
        "    conf_idx = text.find('Conference Call Participants') + len('Conference Call Participants\\n')\n",
        "    conf_idx_end = text.find('Presentation')\n",
        "    corp_txt = text[corp_idx:corp_idx_end].split('\\n')\n",
        "    comp_name=[]\n",
        "    for file in files:\n",
        "        tree = ET.parse(file)\n",
        "        root = tree.getroot()\n",
        "        for elem in root.iter('companyName'):\n",
        "            comp_name.append(elem.text)\n",
        "    comp_name=' '.join(comp_name)\n",
        "    \n",
        "    corp_name = [x.split(comp_name.split()[0])[0] for x in corp_txt]\n",
        "    corp_name = [x.strip() for x in corp_name if x.strip() != '']\n",
        "    corp_speaker1 = corp_name     # for cases where first name, initial. last name\n",
        "    corp_speaker2 = [x.split()[0] + ' ' + x.split()[-1] for x in corp_name]\n",
        "    corp_speaker3=['Unidentified Company Representative']\n",
        "    \n",
        "    \n",
        "    \n",
        "    conf_txt = text[conf_idx:conf_idx_end].split('\\n')\n",
        "    conf_speaker1 = [x.split()[0] + ' ' + x.split()[1] for x in conf_txt if len(x.split()) >= 2]\n",
        "    conf_speaker2 = [x.split()[0] + ' ' + x.split()[2] for x in conf_txt if len(x.split()) >= 3]    # accounts for speakers with middle name\n",
        "    conf_speaker3 = [x.split()[0] + ' ' + x.split()[1] + ' ' + x.split()[2] for x in conf_txt if len(x.split()) >=3]    # accounts for speakers with middle name\n",
        "    conf_speaker4= ['Unidentified Participant']+['Unidentified Analyst']+['Unidentified Audience Member']\n",
        "    \n",
        "    speaker_list = corp_speaker1 + corp_speaker2 + corp_speaker3+conf_speaker1 + conf_speaker2 + conf_speaker3 + conf_speaker4\n",
        "    \n",
        "    columns = ['corp_particip', 'conf_particip']\n",
        "    df_speaker = pd.DataFrame(columns=columns)\n",
        "    corp_list = corp_speaker1 + corp_speaker2  + corp_speaker3\n",
        "    conf_list = conf_speaker1 + conf_speaker2 + conf_speaker3 + conf_speaker4\n",
        "    \n",
        "\n",
        "    df_speaker['corp_particip'] = corp_list + (max(len(corp_list), len(conf_list)) -len(corp_list)) * ['']\n",
        "    df_speaker['conf_particip'] = conf_list + (max(len(corp_list), len(conf_list)) -len(conf_list)) * ['']\n",
        "        \n",
        "\n",
        "    list1=[NormalizeString(s, doUnescape=False) for s in df_speaker['corp_particip']]\n",
        "    list1=[ele for ele in list1 if ele.strip()]\n",
        "    list2=[NormalizeString(s, doUnescape=False) for s in df_speaker['conf_particip']]\n",
        "    list2=[ele for ele in list2 if ele.strip()]\n",
        "    \n",
        "    \n",
        "    list1[:] = (value for value in list1 if value != 'Unidentified Audience Member')\n",
        "    list1[:] = (value for value in list1 if value != 'Unidentified Analyst')\n",
        "    list1[:] = (value for value in list1 if value != 'Unidentified Participant')\n",
        "    \n",
        "            \n",
        "    return list1,list2"
      ],
      "metadata": {
        "id": "VzXx3Xw-5CWl"
      },
      "execution_count": null,
      "outputs": []
    },
    {
      "cell_type": "code",
      "source": [
        "def split_speakers(body,files):\n",
        "    \n",
        "    txt=' '.join(body)\n",
        "    \n",
        "    corp_particip,conf_particip=speakers_lists(txt,files)\n",
        "    \n",
        "    body = body[0]\n",
        "    body_separated_list = body.split('--------------------------------------------------------------------------------')\n",
        "\n",
        "    speakers_df = pd.DataFrame(index=list(range(len(body_separated_list)//2)), columns=['speaker', 'Text', 'position', 'is_corp'])\n",
        "\n",
        "    for i in range(1, len(body_separated_list), 2):\n",
        "        speakers_df.iloc[i//2]= np.array([body_separated_list[i], body_separated_list[i+1], False, '0x'])\n",
        "\n",
        "    speakers_df = speakers_df.replace(r'\\n',' ', regex=True) \n",
        "\n",
        "    \n",
        "    s_list_speaker = speakers_df['speaker'].tolist()\n",
        "    s_list_content = speakers_df['Text'].tolist()\n",
        "\n",
        "    res_speaker = [NormalizeString(s, doUnescape=False) for s in s_list_speaker]\n",
        "    res_content = [NormalizeString(s, doUnescape=False) for s in s_list_content]\n",
        "\n",
        "    speakers_df['speaker'] = np.array(res_speaker)\n",
        "    speakers_df['Text'] = np.array(res_content)\n",
        "    \n",
        "    speakers_df['speaker_name'] = speakers_df['speaker'].str.split(',', expand=True)[0]\n",
        "    speakers_df['is_corp'] = speakers_df['speaker_name'].isin(corp_particip)\n",
        "\n",
        "\n",
        "    try:\n",
        "        \n",
        "        speakers_df['position'] = speakers_df['speaker'].str.split(',', expand=True)[1]\n",
        "        \n",
        "    except:\n",
        "        \n",
        "        speakers_df['position']=''.join(['Unidentified'])\n",
        "\n",
        "    \n",
        "    speakers_df.columns=['speaker_details','Text','speaker_position','is_corp','speaker_name']\n",
        "    speakers_df = speakers_df[['speaker_details', 'speaker_name', 'speaker_position', 'is_corp','Text']]\n",
        "    \n",
        "    return speakers_df"
      ],
      "metadata": {
        "id": "6M3I8wft5EZd"
      },
      "execution_count": null,
      "outputs": []
    },
    {
      "cell_type": "code",
      "source": [
        "def split_speakers_text(df,filename):\n",
        "    \n",
        "        \n",
        "    df_sentences_speakers = pd.DataFrame(columns=list(df.columns))\n",
        "    \n",
        "    for speaker in df.index:\n",
        "\n",
        "        tmp = deepcopy(df.loc[speaker])\n",
        "    \n",
        "        try:\n",
        "            tmp_sents = GetSentences(tmp['Text'])\n",
        "            tmp_df = pd.DataFrame(columns=df_sentences_speakers.columns)\n",
        "            tmp_df['Text'] = tmp_sents\n",
        "            tmp_df['speaker_details'] = tmp['speaker_details']\n",
        "            tmp_df['speaker_name'] = tmp['speaker_name']\n",
        "            tmp_df['speaker_position'] = tmp['speaker_position']\n",
        "            tmp_df['is_corp'] = tmp['is_corp']\n",
        "            df_sentences_speakers = pd.concat([df_sentences_speakers, tmp_df])\n",
        "\n",
        "\n",
        "        except:\n",
        "\n",
        "            df_list=df_sentences_speakers['Text'].tolist()\n",
        "            df_sentences_speakers['Finbert'] = finbert_senti(df_list)\n",
        "            df_sentences_speakers['compound'] = vader_senti(df_list)\n",
        "            df_sentences_speakers.reset_index(drop=True, inplace=True)\n",
        "   \n",
        "\n",
        "\n",
        "\n",
        "\n",
        "    df_list=df_sentences_speakers['Text'].tolist()\n",
        "    df_sentences_speakers['Finbert'] = finbert_senti(df_list)\n",
        "    df_sentences_speakers['compound'] = vader_senti(df_list)\n",
        "    df_sentences_speakers.reset_index(drop=True, inplace=True)\n",
        "   \n",
        "\n",
        "    return df_sentences_speakers\n"
      ],
      "metadata": {
        "id": "rdPIkPoe5HuY"
      },
      "execution_count": null,
      "outputs": []
    },
    {
      "cell_type": "markdown",
      "source": [
        "# **Calling for  all the previous functions**"
      ],
      "metadata": {
        "id": "EXNvqBUc5mkA"
      }
    },
    {
      "cell_type": "code",
      "source": [
        "def split_clean_speakers_divisions_scores(import_path,export_path_body,export_path_speakers,files):\n",
        "\n",
        "    os.chdir(import_path)\n",
        "    os.getcwd()\n",
        "\n",
        "    \n",
        "#if all the ticker|s work, we can use the fellowing code, no need to pass a list of files \n",
        "\n",
        "#     files=[]\n",
        "#     for child in Path('.').iterdir():\n",
        "#         if child.is_file():\n",
        "#             files.append(child.name)\n",
        "\n",
        "    for file in files:\n",
        "        print(file,'start')\n",
        "        tree = ET.parse(file)\n",
        "        root = tree.getroot()\n",
        "        for elem in root.iter('Body'):\n",
        "            bname = os.path.basename(file).replace('.xml', '')\n",
        "            filename = os.path.join(f'{export_path_speakers}', bname)\n",
        "            speakers=split_speakers([elem.text],files)\n",
        "            df=split_speakers_text(speakers,filename)\n",
        "            df.to_csv(f'{filename}.csv')\n",
        "            \n",
        "            \n",
        "##############################################################################################\n",
        "\n",
        "            text=GetSentences(elem.text)\n",
        "            np_array=np.asarray(text)\n",
        "            reshaped_array=np_array.transpose()\n",
        "            filename = os.path.join(f'{export_path_body}', bname)\n",
        "            df = pd.DataFrame (reshaped_array, columns = ['Text'])\n",
        "            df=text_divisions(df)\n",
        "            \n",
        "            try:\n",
        "                pres_list=df['Presentation'].tolist()\n",
        "                \n",
        "                try:\n",
        "                    QA_list=df['Questions and Answers'].tolist()\n",
        "                    df['Pres_Vader']=vader_senti(pres_list)\n",
        "                    df['Pres_Finbert']=finbert_senti(pres_list)\n",
        "                    df['QA_Vader']=vader_senti(QA_list)\n",
        "                    df['QA_Finbert']=finbert_senti(QA_list)\n",
        "                    df=df[['Presentation','Pres_Vader','Pres_Finbert','Questions and Answers','QA_Vader','QA_Finbert']]\n",
        "                       \n",
        "                    \n",
        "                except:   \n",
        "                    \n",
        "                    df['Pres_Vader']=vader_senti(pres_list)\n",
        "                    df['Pres_Finbert']=finbert_senti(pres_list)\n",
        "                    df=df[['Presentation','Pres_Vader','Pres_Finbert']]\n",
        "                    \n",
        "            except:\n",
        "                \n",
        "                QA_list=df['Questions and Answers'].tolist()\n",
        "                df['QA_Vader']=vader_senti(QA_list)\n",
        "                df['QA_Finbert']=finbert_senti(QA_list)\n",
        "                df=df[['Questions and Answers','QA_Vader','QA_Finbert']]\n",
        "                             \n",
        "\n",
        "            \n",
        "            df.to_csv(f'{filename}.csv')\n",
        "            print(file,'end')\n",
        "            \n",
        "            "
      ],
      "metadata": {
        "id": "RUdCsepvq5kG"
      },
      "execution_count": null,
      "outputs": []
    },
    {
      "cell_type": "code",
      "source": [
        "split_clean_speakers_divisions_scores(import_path,export_path_body,export_path_speakers,files)"
      ],
      "metadata": {
        "colab": {
          "base_uri": "https://localhost:8080/"
        },
        "id": "CgGX9DoSrSU0",
        "outputId": "be6d2624-78e4-4a46-96f8-f95d81c39fa1"
      },
      "execution_count": null,
      "outputs": [
        {
          "output_type": "stream",
          "name": "stdout",
          "text": [
            "13105267_T.xml start\n",
            "13105267_T.xml end\n",
            "12958669_T.xml start\n",
            "12958669_T.xml end\n"
          ]
        }
      ]
    },
    {
      "cell_type": "markdown",
      "source": [
        "# **Participants Features**"
      ],
      "metadata": {
        "id": "oaD7sCfr6rkS"
      }
    },
    {
      "cell_type": "code",
      "source": [
        "def positive(val):\n",
        "    return val[val=='Positive'].sum()\n",
        "def negative(val):\n",
        "    return val[val=='Negative'].sum() "
      ],
      "metadata": {
        "id": "ukkoGPSO6rxK"
      },
      "execution_count": null,
      "outputs": []
    },
    {
      "cell_type": "code",
      "source": [
        "def speaker_features(export_path_speakers):\n",
        "\n",
        "\n",
        "    os.chdir(export_path_speakers)\n",
        "    file_name = os.listdir()\n",
        "    len(file_name)\n",
        "\n",
        "    df=None\n",
        "    features=[]\n",
        "\n",
        "    for file in file_name:\n",
        "        print(file)\n",
        "        files = glob.glob(file)\n",
        "        df_new = None\n",
        "        for i, f in enumerate (files):\n",
        "        #to add the file name as column    \n",
        "            if i == 0:\n",
        "                df_new = pd.read_csv(f,index_col=0) \n",
        "                file_name_noext=f.replace('.csv','.xml') \n",
        "                df_new['fname'] = file_name_noext\n",
        "            else:\n",
        "                tmp = read_csv(f)\n",
        "                tmp['fname'] = f\n",
        "                df_new = df_new.append(tmp)  \n",
        "\n",
        "            df=df_new\n",
        "\n",
        "\n",
        "            try:\n",
        "\n",
        "                groupRes=df.groupby(df['is_corp']).get_group(True)\n",
        "\n",
        "    #         #####################################################################################################\n",
        "\n",
        "                try:\n",
        "\n",
        "                    pos_v=groupRes[groupRes['compound']=='Positive']['compound'].count()\n",
        "                    neg_v=groupRes[groupRes['compound']=='Negative']['compound'].count()\n",
        "                    print('negatives:',neg_v,'\\npositives:',pos_v)\n",
        "                    # #new feature:\n",
        "                    corp_vader=(pos_v-neg_v)/(pos_v+neg_v+1)\n",
        "                    print('Corp Vader feature:',corp_vader)\n",
        "\n",
        "                    neg_f=groupRes[groupRes['Finbert']=='Negative']['Finbert'].count()\n",
        "                    pos_f=groupRes[groupRes['Finbert']=='Positive']['Finbert'].count()\n",
        "                    print('negatives:',neg_f,'\\npositives:',pos_f)\n",
        "\n",
        "                    #new feature:\n",
        "                    corp_finbert=(pos_f-neg_f)/(pos_f+neg_f+1)\n",
        "                    print('Corp Finbert feature:',corp_finbert)\n",
        "\n",
        "\n",
        "    ###############################################################################################                \n",
        "                    groupRes=df.groupby(df['is_corp']).get_group(False)\n",
        "\n",
        "                    neg_v1=groupRes[groupRes['compound']=='Positive']['compound'].count()\n",
        "                    pos_v1=groupRes[groupRes['compound']=='Negative']['compound'].count()\n",
        "                    print('negatives:',neg_v1,'\\npositives:',pos_v1)\n",
        "\n",
        "                    #new feature:\n",
        "                    conf_vader=(pos_v1-neg_v1)/(pos_v1+neg_v1+1)\n",
        "                    print('Conf Vader feature:',conf_vader)\n",
        "\n",
        "\n",
        "                    neg_f1=groupRes[groupRes['Finbert']=='Negative']['Finbert'].count()\n",
        "                    pos_f1=groupRes[groupRes['Finbert']=='Positive']['Finbert'].count()\n",
        "                    print('negatives:',neg_f1,'\\npositives:',pos_f1)\n",
        "\n",
        "                    #new feature:\n",
        "                    conf_finbert=(pos_f1-neg_f1)/(pos_f1+neg_f1+1)\n",
        "                    print('Conf Finbert feature:',conf_finbert)\n",
        "    #####################################################################################################            \n",
        "\n",
        "                    features_df_speakers=pd.DataFrame(columns=['FileNo','CV','CF','CNV','CNF'])\n",
        "                    features_df_speakers['FileNo']=df[['fname']].head(1)\n",
        "                    features_df_speakers['CV']=corp_vader\n",
        "                    features_df_speakers['CF']=corp_finbert\n",
        "                    features_df_speakers['CNV']=conf_vader\n",
        "                    features_df_speakers['CNF']=conf_finbert\n",
        "                    features.append(features_df_speakers)\n",
        "\n",
        "\n",
        "\n",
        "                except:\n",
        "\n",
        "\n",
        "                    pos_v=groupRes[groupRes['compound']=='Positive']['compound'].count()\n",
        "                    neg_v=groupRes[groupRes['compound']=='Negative']['compound'].count()\n",
        "                    print('negatives:',neg_v,'\\npositives:',pos_v)\n",
        "                    # #new feature:\n",
        "                    corp_vader=(pos_v-neg_v)/(pos_v+neg_v+1)\n",
        "                    print('Corp Vader feature:',corp_vader)\n",
        "\n",
        "                    neg_f=groupRes[groupRes['Finbert']=='Negative']['Finbert'].count()\n",
        "                    pos_f=groupRes[groupRes['Finbert']=='Positive']['Finbert'].count()\n",
        "                    print('negatives:',neg_f,'\\npositives:',pos_f)\n",
        "\n",
        "                    #new feature:\n",
        "                    corp_finbert=(pos_f-neg_f)/(pos_f+neg_f+1)\n",
        "                    print('Corp Finbert feature:',corp_finbert)\n",
        "\n",
        "                    features_df_speakers=pd.DataFrame(columns=['FileNo','CV','CF'])\n",
        "                    features_df_speakers['FileNo']=df[['fname']].head(1)\n",
        "                    features_df_speakers['CV']=corp_vader\n",
        "                    features_df_speakers['CF']=corp_finbert\n",
        "                    features.append(features_df_speakers)\n",
        "                    print('file:',file, ' dosent have conference participants')\n",
        "\n",
        "\n",
        "\n",
        "            except:\n",
        "\n",
        "                print('file:',file, ' dosent have corporate participants')\n",
        "\n",
        "                groupRes=df.groupby(df['is_corp']).get_group(False)\n",
        "\n",
        "                print('error')\n",
        "\n",
        "                neg_v1=groupRes[groupRes['compound']=='Positive']['compound'].count()\n",
        "                pos_v1=groupRes[groupRes['compound']=='Negative']['compound'].count()\n",
        "                print('negatives:',neg_v1,'\\npositives:',pos_v1)\n",
        "\n",
        "                #new feature:\n",
        "                conf_vader=(pos_v1-neg_v1)/(pos_v1+neg_v1+1)\n",
        "                print('Conf Vader feature:',conf_vader)\n",
        "\n",
        "\n",
        "                neg_f1=groupRes[groupRes['Finbert']=='Negative']['Finbert'].count()\n",
        "                pos_f1=groupRes[groupRes['Finbert']=='Positive']['Finbert'].count()\n",
        "                print('negatives:',neg_f1,'\\npositives:',pos_f1)\n",
        "\n",
        "                #new feature:\n",
        "                conf_finbert=(pos_f1-neg_f1)/(pos_f1+neg_f1+1)\n",
        "                print('Conf Finbert feature:',conf_finbert)\n",
        "\n",
        "                features_df_speakers=pd.DataFrame(columns=['FileNo','CNV','CNF'])\n",
        "                features_df_speakers['FileNo']=df[['fname']].head(1)\n",
        "                features_df_speakers['CNV']=conf_vader\n",
        "                features_df_speakers['CNF']=conf_finbert\n",
        "                features.append(features_df_speakers)\n",
        "\n",
        "\n",
        "\n",
        "\n",
        "\n",
        "\n",
        "\n",
        "\n",
        "\n",
        "\n",
        "    df = pd.concat(features)\n",
        "    os.chdir(export_path)\n",
        "    df.to_csv('Speakers_Features.csv')\n",
        "    \n",
        "    return df"
      ],
      "metadata": {
        "id": "LHsqwl917JoU"
      },
      "execution_count": null,
      "outputs": []
    },
    {
      "cell_type": "code",
      "source": [
        "df_speaker_features=speaker_features(export_path_speakers)"
      ],
      "metadata": {
        "colab": {
          "base_uri": "https://localhost:8080/"
        },
        "id": "oiHIXoGOvrBm",
        "outputId": "9e0a4cbe-73db-4b4b-9aae-7f7119a2421e"
      },
      "execution_count": null,
      "outputs": [
        {
          "output_type": "stream",
          "name": "stdout",
          "text": [
            "13197438_T.csv\n",
            "file: 13197438_T.csv  dosent have corporate participants\n",
            "error\n",
            "negatives: 245 \n",
            "positives: 55\n",
            "Conf Vader feature: -0.6312292358803987\n",
            "negatives: 80 \n",
            "positives: 103\n",
            "Conf Finbert feature: 0.125\n",
            "13215635_T.csv\n",
            "negatives: 8 \n",
            "positives: 90\n",
            "Corp Vader feature: 0.8282828282828283\n",
            "negatives: 11 \n",
            "positives: 20\n",
            "Corp Finbert feature: 0.28125\n",
            "negatives: 25 \n",
            "positives: 1\n",
            "Conf Vader feature: -0.8888888888888888\n",
            "negatives: 3 \n",
            "positives: 3\n",
            "Conf Finbert feature: 0.0\n",
            "12958669_T.csv\n",
            "negatives: 7 \n",
            "positives: 191\n",
            "Corp Vader feature: 0.9246231155778895\n",
            "negatives: 63 \n",
            "positives: 109\n",
            "Corp Finbert feature: 0.2658959537572254\n",
            "negatives: 54 \n",
            "positives: 0\n",
            "Conf Vader feature: -0.9818181818181818\n",
            "negatives: 14 \n",
            "positives: 14\n",
            "Conf Finbert feature: 0.0\n",
            "13105267_T.csv\n",
            "negatives: 0 \n",
            "positives: 31\n",
            "Corp Vader feature: 0.96875\n",
            "negatives: 1 \n",
            "positives: 0\n",
            "Corp Finbert feature: -0.5\n",
            "negatives: 0 \n",
            "positives: 31\n",
            "Corp Vader feature: 0.96875\n",
            "negatives: 1 \n",
            "positives: 0\n",
            "Corp Finbert feature: -0.5\n",
            "file: 13105267_T.csv  dosent have conference participants\n",
            "12302678_T.csv\n",
            "negatives: 0 \n",
            "positives: 78\n",
            "Corp Vader feature: 0.9873417721518988\n",
            "negatives: 2 \n",
            "positives: 67\n",
            "Corp Finbert feature: 0.9285714285714286\n",
            "negatives: 34 \n",
            "positives: 0\n",
            "Conf Vader feature: -0.9714285714285714\n",
            "negatives: 4 \n",
            "positives: 9\n",
            "Conf Finbert feature: 0.35714285714285715\n",
            "12357546_T.csv\n",
            "negatives: 0 \n",
            "positives: 84\n",
            "Corp Vader feature: 0.9882352941176471\n",
            "negatives: 14 \n",
            "positives: 26\n",
            "Corp Finbert feature: 0.2926829268292683\n",
            "negatives: 89 \n",
            "positives: 0\n",
            "Conf Vader feature: -0.9888888888888889\n",
            "negatives: 13 \n",
            "positives: 3\n",
            "Conf Finbert feature: -0.5882352941176471\n",
            "12002207_T.csv\n",
            "negatives: 12 \n",
            "positives: 84\n",
            "Corp Vader feature: 0.7422680412371134\n",
            "negatives: 2 \n",
            "positives: 44\n",
            "Corp Finbert feature: 0.8936170212765957\n",
            "negatives: 2 \n",
            "positives: 0\n",
            "Conf Vader feature: -0.6666666666666666\n",
            "negatives: 0 \n",
            "positives: 0\n",
            "Conf Finbert feature: 0.0\n",
            "11185539_T.csv\n",
            "negatives: 8 \n",
            "positives: 69\n",
            "Corp Vader feature: 0.782051282051282\n",
            "negatives: 6 \n",
            "positives: 33\n",
            "Corp Finbert feature: 0.675\n",
            "negatives: 0 \n",
            "positives: 0\n",
            "Conf Vader feature: 0.0\n",
            "negatives: 0 \n",
            "positives: 0\n",
            "Conf Finbert feature: 0.0\n"
          ]
        }
      ]
    },
    {
      "cell_type": "markdown",
      "source": [
        "# **Body Features**"
      ],
      "metadata": {
        "id": "Ynk00Xyn7ub_"
      }
    },
    {
      "cell_type": "code",
      "source": [
        "def body_features(export_path_body):\n",
        "    \n",
        "    os.chdir(export_path_body)\n",
        "    file_name = os.listdir()\n",
        "\n",
        "\n",
        "    df=None\n",
        "    features=[]\n",
        "\n",
        "    for file in file_name:\n",
        "        print(file)\n",
        "        files = glob.glob(file)\n",
        "\n",
        "        df_new = None\n",
        "\n",
        "        for i, f in enumerate (files):\n",
        "\n",
        "            if i == 0:\n",
        "\n",
        "                df_new = pd.read_csv(f,index_col=0)\n",
        "                file_name_noext=f.replace('.csv', '.xml') \n",
        "                df_new['fname'] = file_name_noext\n",
        "\n",
        "            else:\n",
        "                tmp = read_csv(f)\n",
        "                tmp['fname'] = f\n",
        "                df_new = df_new.append(tmp)  \n",
        "\n",
        "            df=df_new\n",
        "\n",
        "            try:\n",
        "\n",
        "                groupRes=df.groupby(df['Presentation'])\n",
        "\n",
        "\n",
        "                try:\n",
        "\n",
        "\n",
        "                    tmp=groupRes['Pres_Vader'].agg([('Vader_neg',negative),('Vader_pos',positive)])\n",
        "\n",
        "                    neg_v=tmp[tmp['Vader_neg']!=0]['Vader_neg'].count()\n",
        "                    pos_v=tmp[tmp['Vader_pos']!=0]['Vader_pos'].count()\n",
        "                    print('negatives:',neg_v,'\\npositives:',pos_v)\n",
        "\n",
        "                    #new feature:\n",
        "                    pres_vader=(pos_v-neg_v)/(pos_v+neg_v+1)\n",
        "                    print('Presentation Vader feature:',pres_vader)\n",
        "\n",
        "                    tmp=groupRes['Pres_Finbert'].agg([('finbert_neg',negative),('finbert_pos',positive)])\n",
        "\n",
        "                    neg_f=tmp[tmp['finbert_neg']!=0]['finbert_neg'].count()\n",
        "                    pos_f=tmp[tmp['finbert_pos']!=0]['finbert_pos'].count()\n",
        "                    print('negatives:',neg_f,'\\npositives:',pos_f)\n",
        "\n",
        "                    #new feature:\n",
        "                    pres_finbert=(pos_f-neg_f)/(pos_f+neg_f+1)\n",
        "                    print('Presentation Finbert feature:',pres_finbert)\n",
        "\n",
        "\n",
        "                    #################################################\n",
        "                    groupRes1=df.groupby(df['Questions and Answers'])\n",
        "                    tmp=groupRes['QA_Vader'].agg([('Vader_neg',negative),('Vader_pos',positive)])\n",
        "\n",
        "                    neg_v1=tmp[tmp['Vader_neg']!=0]['Vader_neg'].count()\n",
        "                    pos_v1=tmp[tmp['Vader_pos']!=0]['Vader_pos'].count()\n",
        "                    print('negatives:',neg_v1,'\\npositives:',pos_v1)\n",
        "                    #new feature:\n",
        "                    QA_vader=(pos_v1-neg_v1)/(pos_v1+neg_v1+1)\n",
        "                    print('Q&A Vader feature:',QA_vader)\n",
        "\n",
        "                    tmp=groupRes['QA_Finbert'].agg([('finbert_neg',negative),('finbert_pos',positive)])\n",
        "\n",
        "                    neg_f1=tmp[tmp['finbert_neg']!=0]['finbert_neg'].count()\n",
        "                    pos_f1=tmp[tmp['finbert_pos']!=0]['finbert_pos'].count()\n",
        "                    print('negatives:',neg_f1,'\\npositives:',pos_f1)\n",
        "                    #new feature:\n",
        "                    QA_finbert=(pos_f1-neg_f1)/(pos_f1+neg_f1+1)\n",
        "                    print('QA Finbert feature:',QA_finbert)\n",
        "\n",
        "\n",
        "                    features_df=pd.DataFrame(columns=['FileNo','PV','PF','QAV','QAF'])\n",
        "                    features_df['FileNo']= df[['fname']].head(1)\n",
        "                    features_df['PV']=pres_vader\n",
        "                    features_df['PF']=pres_finbert\n",
        "                    features_df['QAV']=QA_vader\n",
        "                    features_df['QAF']=QA_finbert\n",
        "\n",
        "\n",
        "                except:\n",
        "\n",
        "                    print('file:',file,'doesnt have Q&A part')\n",
        "\n",
        "                    tmp=groupRes['Pres_Vader'].agg([('Vader_neg',negative),('Vader_pos',positive)])\n",
        "\n",
        "                    neg_v=tmp[tmp['Vader_neg']!=0]['Vader_neg'].count()\n",
        "                    pos_v=tmp[tmp['Vader_pos']!=0]['Vader_pos'].count()\n",
        "                    print('negatives:',neg_v,'\\npositives:',pos_v)\n",
        "\n",
        "                    #new feature:\n",
        "                    pres_vader=(pos_v-neg_v)/(pos_v+neg_v+1)\n",
        "                    print('Presentation Vader feature:',pres_vader)\n",
        "\n",
        "                    tmp=groupRes['Pres_Finbert'].agg([('finbert_neg',negative),('finbert_pos',positive)])\n",
        "\n",
        "                    neg_f=tmp[tmp['finbert_neg']!=0]['finbert_neg'].count()\n",
        "                    pos_f=tmp[tmp['finbert_pos']!=0]['finbert_pos'].count()\n",
        "                    print('negatives:',neg_f,'\\npositives:',pos_f)\n",
        "\n",
        "                    #new feature:\n",
        "                    pres_finbert=(pos_f-neg_f)/(pos_f+neg_f+1)\n",
        "                    print('Presentation Finbert feature:',pres_finbert)\n",
        "\n",
        "\n",
        "\n",
        "                    features_df=pd.DataFrame(columns=['FileNo','PV','PF'])\n",
        "                    features_df['FileNo']= df[['fname']].head(1)\n",
        "                    features_df['PV']=pres_vader\n",
        "                    features_df['PF']=pres_finbert\n",
        "\n",
        "\n",
        "\n",
        "\n",
        "    # #         #######################################################################################\n",
        "\n",
        "            except:\n",
        "\n",
        "                print('file:',file,'doesnt have Presentation part')\n",
        "\n",
        "\n",
        "                groupRes=df.groupby(df['Questions and Answers'])\n",
        "                tmp=groupRes['QA_Vader'].agg([('Vader_neg',negative),('Vader_pos',positive)])\n",
        "\n",
        "                neg_v1=tmp[tmp['Vader_neg']!=0]['Vader_neg'].count()\n",
        "                pos_v1=tmp[tmp['Vader_pos']!=0]['Vader_pos'].count()\n",
        "                print('negatives:',neg_v1,'\\npositives:',pos_v1)\n",
        "                #new feature:\n",
        "                QA_vader=(pos_v1-neg_v1)/(pos_v1+neg_v1+1)\n",
        "                print('Q&A Vader feature:',QA_vader)\n",
        "\n",
        "                tmp=groupRes['QA_Finbert'].agg([('finbert_neg',negative),('finbert_pos',positive)])\n",
        "\n",
        "                neg_f1=tmp[tmp['finbert_neg']!=0]['finbert_neg'].count()\n",
        "                pos_f1=tmp[tmp['finbert_pos']!=0]['finbert_pos'].count()\n",
        "                print('negatives:',neg_f1,'\\npositives:',pos_f1)\n",
        "                #new feature:\n",
        "                QA_finbert=(pos_f1-neg_f1)/(pos_f1+neg_f1+1)\n",
        "                print('QA Finbert feature:',QA_finbert)\n",
        "\n",
        "\n",
        "                features_df=pd.DataFrame(columns=['FileNo','QAV','QAF'])\n",
        "                features_df['FileNo']= df[['fname']].head(1)\n",
        "                features_df['QAV']=QA_vader\n",
        "                features_df['QAF']=QA_finbert\n",
        "\n",
        "            features.append(features_df)\n",
        "\n",
        "\n",
        "\n",
        "    df = pd.concat(features)\n",
        "    os.chdir(export_path)\n",
        "    df.to_csv('Body_Features.csv')\n",
        "    \n",
        "    return df\n"
      ],
      "metadata": {
        "id": "zdge_hpo7L9k"
      },
      "execution_count": null,
      "outputs": []
    },
    {
      "cell_type": "code",
      "source": [
        "df_body_features=body_features(export_path_body)"
      ],
      "metadata": {
        "colab": {
          "base_uri": "https://localhost:8080/"
        },
        "id": "Eg8zPF0nv_cI",
        "outputId": "c92a7bfa-1e56-42a2-e3c8-e5c02ba170ad"
      },
      "execution_count": null,
      "outputs": [
        {
          "output_type": "stream",
          "name": "stdout",
          "text": [
            "13197438_T.csv\n",
            "negatives: 0 \n",
            "positives: 3\n",
            "Presentation Vader feature: 0.75\n",
            "negatives: 0 \n",
            "positives: 2\n",
            "Presentation Finbert feature: 0.6666666666666666\n",
            "negatives: 1 \n",
            "positives: 1\n",
            "Q&A Vader feature: 0.0\n",
            "negatives: 0 \n",
            "positives: 0\n",
            "QA Finbert feature: 0.0\n",
            "13215635_T.csv\n",
            "negatives: 0 \n",
            "positives: 2\n",
            "Presentation Vader feature: 0.6666666666666666\n",
            "negatives: 0 \n",
            "positives: 0\n",
            "Presentation Finbert feature: 0.0\n",
            "negatives: 0 \n",
            "positives: 0\n",
            "Q&A Vader feature: 0.0\n",
            "negatives: 0 \n",
            "positives: 0\n",
            "QA Finbert feature: 0.0\n",
            "12958669_T.csv\n",
            "negatives: 8 \n",
            "positives: 73\n",
            "Presentation Vader feature: 0.7926829268292683\n",
            "negatives: 35 \n",
            "positives: 60\n",
            "Presentation Finbert feature: 0.2604166666666667\n",
            "negatives: 6 \n",
            "positives: 65\n",
            "Q&A Vader feature: 0.8194444444444444\n",
            "negatives: 18 \n",
            "positives: 18\n",
            "QA Finbert feature: 0.0\n",
            "13105267_T.csv\n",
            "negatives: 1 \n",
            "positives: 22\n",
            "Presentation Vader feature: 0.875\n",
            "negatives: 1 \n",
            "positives: 0\n",
            "Presentation Finbert feature: -0.5\n",
            "file: 13105267_T.csv doesnt have Q&A part\n",
            "negatives: 1 \n",
            "positives: 22\n",
            "Presentation Vader feature: 0.875\n",
            "negatives: 1 \n",
            "positives: 0\n",
            "Presentation Finbert feature: -0.5\n",
            "12302678_T.csv\n",
            "file: 12302678_T.csv doesnt have Presentation part\n",
            "negatives: 6 \n",
            "positives: 86\n",
            "Q&A Vader feature: 0.8602150537634409\n",
            "negatives: 6 \n",
            "positives: 74\n",
            "QA Finbert feature: 0.8395061728395061\n",
            "12357546_T.csv\n",
            "negatives: 19 \n",
            "positives: 79\n",
            "Presentation Vader feature: 0.6060606060606061\n",
            "negatives: 27 \n",
            "positives: 29\n",
            "Presentation Finbert feature: 0.03508771929824561\n",
            "file: 12357546_T.csv doesnt have Q&A part\n",
            "negatives: 19 \n",
            "positives: 79\n",
            "Presentation Vader feature: 0.6060606060606061\n",
            "negatives: 27 \n",
            "positives: 29\n",
            "Presentation Finbert feature: 0.03508771929824561\n",
            "12002207_T.csv\n",
            "negatives: 11 \n",
            "positives: 79\n",
            "Presentation Vader feature: 0.7472527472527473\n",
            "negatives: 2 \n",
            "positives: 38\n",
            "Presentation Finbert feature: 0.8780487804878049\n",
            "negatives: 1 \n",
            "positives: 12\n",
            "Q&A Vader feature: 0.7857142857142857\n",
            "negatives: 0 \n",
            "positives: 6\n",
            "QA Finbert feature: 0.8571428571428571\n",
            "11185539_T.csv\n",
            "negatives: 5 \n",
            "positives: 44\n",
            "Presentation Vader feature: 0.78\n",
            "negatives: 2 \n",
            "positives: 25\n",
            "Presentation Finbert feature: 0.8214285714285714\n",
            "negatives: 7 \n",
            "positives: 46\n",
            "Q&A Vader feature: 0.7222222222222222\n",
            "negatives: 4 \n",
            "positives: 6\n",
            "QA Finbert feature: 0.18181818181818182\n"
          ]
        }
      ]
    },
    {
      "cell_type": "markdown",
      "source": [
        "# **Merge all the files (participant features,body features , return)**"
      ],
      "metadata": {
        "id": "q4A17xLb79N-"
      }
    },
    {
      "cell_type": "code",
      "source": [
        "def merge(export_path,df_body_features,df_speaker_features,yield_filename):\n",
        "\n",
        "  os.chdir(export_path)\n",
        "  # body=pd.read_csv('Body_Features2019.csv',index_col=0)\n",
        "  # speakers=pd.read_csv('Speakers_Features2019.csv',index_col=0)\n",
        "  Return=pd.read_csv(yield_filename,index_col=0)\n",
        "  features=pd.merge(df_body_features,df_speaker_features , on = \"FileNo\", how = \"right\")\n",
        "  final=pd.merge(features,Return , on = \"FileNo\", how = \"right\")\n",
        "  final=final[['FileNo','CV','CF','CNV','CNF','PV','PF','QAV','QAF','companyName','companyTicker','startDate','EndDate','return']]\n",
        "\n",
        "  return final"
      ],
      "metadata": {
        "id": "hkB1nOg-76cw"
      },
      "execution_count": null,
      "outputs": []
    },
    {
      "cell_type": "code",
      "source": [
        "final=merge(export_path,df_body_features,df_speaker_features,yield_filename)\n",
        "final.head()"
      ],
      "metadata": {
        "colab": {
          "base_uri": "https://localhost:8080/",
          "height": 206
        },
        "id": "cThSIJWHxMXt",
        "outputId": "2d585b39-d7e0-48ef-dc03-a91d70abaaa1"
      },
      "execution_count": null,
      "outputs": [
        {
          "output_type": "execute_result",
          "data": {
            "text/plain": [
              "           FileNo        CV        CF       CNV       CNF        PV        PF  \\\n",
              "0  13197438_T.xml       NaN       NaN -0.631229  0.125000  0.750000  0.666667   \n",
              "1  13215635_T.xml  0.828283  0.281250 -0.888889  0.000000  0.666667  0.000000   \n",
              "2  12958669_T.xml  0.924623  0.265896 -0.981818  0.000000  0.792683  0.260417   \n",
              "3  13105267_T.xml  0.968750 -0.500000       NaN       NaN  0.875000 -0.500000   \n",
              "4  12302678_T.xml  0.987342  0.928571 -0.971429  0.357143       NaN       NaN   \n",
              "\n",
              "        QAV       QAF           companyName companyTicker   startDate  \\\n",
              "0  0.000000  0.000000         BlackRock Inc           BLK  2020-05-19   \n",
              "1  0.000000  0.000000         Carnival Corp           CCL  2020-06-08   \n",
              "2  0.819444  0.000000         Carnival Corp           CCL  2019-12-20   \n",
              "3       NaN       NaN  Verisk Analytics Inc          VRSK  2020-05-20   \n",
              "4  0.860215  0.839506    Ingersoll-Rand PLC            IR  2019-02-21   \n",
              "\n",
              "      EndDate    return  \n",
              "0  2020-05-26  0.015044  \n",
              "1  2020-06-15 -0.075070  \n",
              "2  2019-12-27  0.020912  \n",
              "3  2020-05-27 -0.016924  \n",
              "4  2019-02-28 -0.011460  "
            ],
            "text/html": [
              "\n",
              "  <div id=\"df-9278b6c1-facf-41e6-83b4-a82a4d972b34\">\n",
              "    <div class=\"colab-df-container\">\n",
              "      <div>\n",
              "<style scoped>\n",
              "    .dataframe tbody tr th:only-of-type {\n",
              "        vertical-align: middle;\n",
              "    }\n",
              "\n",
              "    .dataframe tbody tr th {\n",
              "        vertical-align: top;\n",
              "    }\n",
              "\n",
              "    .dataframe thead th {\n",
              "        text-align: right;\n",
              "    }\n",
              "</style>\n",
              "<table border=\"1\" class=\"dataframe\">\n",
              "  <thead>\n",
              "    <tr style=\"text-align: right;\">\n",
              "      <th></th>\n",
              "      <th>FileNo</th>\n",
              "      <th>CV</th>\n",
              "      <th>CF</th>\n",
              "      <th>CNV</th>\n",
              "      <th>CNF</th>\n",
              "      <th>PV</th>\n",
              "      <th>PF</th>\n",
              "      <th>QAV</th>\n",
              "      <th>QAF</th>\n",
              "      <th>companyName</th>\n",
              "      <th>companyTicker</th>\n",
              "      <th>startDate</th>\n",
              "      <th>EndDate</th>\n",
              "      <th>return</th>\n",
              "    </tr>\n",
              "  </thead>\n",
              "  <tbody>\n",
              "    <tr>\n",
              "      <th>0</th>\n",
              "      <td>13197438_T.xml</td>\n",
              "      <td>NaN</td>\n",
              "      <td>NaN</td>\n",
              "      <td>-0.631229</td>\n",
              "      <td>0.125000</td>\n",
              "      <td>0.750000</td>\n",
              "      <td>0.666667</td>\n",
              "      <td>0.000000</td>\n",
              "      <td>0.000000</td>\n",
              "      <td>BlackRock Inc</td>\n",
              "      <td>BLK</td>\n",
              "      <td>2020-05-19</td>\n",
              "      <td>2020-05-26</td>\n",
              "      <td>0.015044</td>\n",
              "    </tr>\n",
              "    <tr>\n",
              "      <th>1</th>\n",
              "      <td>13215635_T.xml</td>\n",
              "      <td>0.828283</td>\n",
              "      <td>0.281250</td>\n",
              "      <td>-0.888889</td>\n",
              "      <td>0.000000</td>\n",
              "      <td>0.666667</td>\n",
              "      <td>0.000000</td>\n",
              "      <td>0.000000</td>\n",
              "      <td>0.000000</td>\n",
              "      <td>Carnival Corp</td>\n",
              "      <td>CCL</td>\n",
              "      <td>2020-06-08</td>\n",
              "      <td>2020-06-15</td>\n",
              "      <td>-0.075070</td>\n",
              "    </tr>\n",
              "    <tr>\n",
              "      <th>2</th>\n",
              "      <td>12958669_T.xml</td>\n",
              "      <td>0.924623</td>\n",
              "      <td>0.265896</td>\n",
              "      <td>-0.981818</td>\n",
              "      <td>0.000000</td>\n",
              "      <td>0.792683</td>\n",
              "      <td>0.260417</td>\n",
              "      <td>0.819444</td>\n",
              "      <td>0.000000</td>\n",
              "      <td>Carnival Corp</td>\n",
              "      <td>CCL</td>\n",
              "      <td>2019-12-20</td>\n",
              "      <td>2019-12-27</td>\n",
              "      <td>0.020912</td>\n",
              "    </tr>\n",
              "    <tr>\n",
              "      <th>3</th>\n",
              "      <td>13105267_T.xml</td>\n",
              "      <td>0.968750</td>\n",
              "      <td>-0.500000</td>\n",
              "      <td>NaN</td>\n",
              "      <td>NaN</td>\n",
              "      <td>0.875000</td>\n",
              "      <td>-0.500000</td>\n",
              "      <td>NaN</td>\n",
              "      <td>NaN</td>\n",
              "      <td>Verisk Analytics Inc</td>\n",
              "      <td>VRSK</td>\n",
              "      <td>2020-05-20</td>\n",
              "      <td>2020-05-27</td>\n",
              "      <td>-0.016924</td>\n",
              "    </tr>\n",
              "    <tr>\n",
              "      <th>4</th>\n",
              "      <td>12302678_T.xml</td>\n",
              "      <td>0.987342</td>\n",
              "      <td>0.928571</td>\n",
              "      <td>-0.971429</td>\n",
              "      <td>0.357143</td>\n",
              "      <td>NaN</td>\n",
              "      <td>NaN</td>\n",
              "      <td>0.860215</td>\n",
              "      <td>0.839506</td>\n",
              "      <td>Ingersoll-Rand PLC</td>\n",
              "      <td>IR</td>\n",
              "      <td>2019-02-21</td>\n",
              "      <td>2019-02-28</td>\n",
              "      <td>-0.011460</td>\n",
              "    </tr>\n",
              "  </tbody>\n",
              "</table>\n",
              "</div>\n",
              "      <button class=\"colab-df-convert\" onclick=\"convertToInteractive('df-9278b6c1-facf-41e6-83b4-a82a4d972b34')\"\n",
              "              title=\"Convert this dataframe to an interactive table.\"\n",
              "              style=\"display:none;\">\n",
              "        \n",
              "  <svg xmlns=\"http://www.w3.org/2000/svg\" height=\"24px\"viewBox=\"0 0 24 24\"\n",
              "       width=\"24px\">\n",
              "    <path d=\"M0 0h24v24H0V0z\" fill=\"none\"/>\n",
              "    <path d=\"M18.56 5.44l.94 2.06.94-2.06 2.06-.94-2.06-.94-.94-2.06-.94 2.06-2.06.94zm-11 1L8.5 8.5l.94-2.06 2.06-.94-2.06-.94L8.5 2.5l-.94 2.06-2.06.94zm10 10l.94 2.06.94-2.06 2.06-.94-2.06-.94-.94-2.06-.94 2.06-2.06.94z\"/><path d=\"M17.41 7.96l-1.37-1.37c-.4-.4-.92-.59-1.43-.59-.52 0-1.04.2-1.43.59L10.3 9.45l-7.72 7.72c-.78.78-.78 2.05 0 2.83L4 21.41c.39.39.9.59 1.41.59.51 0 1.02-.2 1.41-.59l7.78-7.78 2.81-2.81c.8-.78.8-2.07 0-2.86zM5.41 20L4 18.59l7.72-7.72 1.47 1.35L5.41 20z\"/>\n",
              "  </svg>\n",
              "      </button>\n",
              "      \n",
              "  <style>\n",
              "    .colab-df-container {\n",
              "      display:flex;\n",
              "      flex-wrap:wrap;\n",
              "      gap: 12px;\n",
              "    }\n",
              "\n",
              "    .colab-df-convert {\n",
              "      background-color: #E8F0FE;\n",
              "      border: none;\n",
              "      border-radius: 50%;\n",
              "      cursor: pointer;\n",
              "      display: none;\n",
              "      fill: #1967D2;\n",
              "      height: 32px;\n",
              "      padding: 0 0 0 0;\n",
              "      width: 32px;\n",
              "    }\n",
              "\n",
              "    .colab-df-convert:hover {\n",
              "      background-color: #E2EBFA;\n",
              "      box-shadow: 0px 1px 2px rgba(60, 64, 67, 0.3), 0px 1px 3px 1px rgba(60, 64, 67, 0.15);\n",
              "      fill: #174EA6;\n",
              "    }\n",
              "\n",
              "    [theme=dark] .colab-df-convert {\n",
              "      background-color: #3B4455;\n",
              "      fill: #D2E3FC;\n",
              "    }\n",
              "\n",
              "    [theme=dark] .colab-df-convert:hover {\n",
              "      background-color: #434B5C;\n",
              "      box-shadow: 0px 1px 3px 1px rgba(0, 0, 0, 0.15);\n",
              "      filter: drop-shadow(0px 1px 2px rgba(0, 0, 0, 0.3));\n",
              "      fill: #FFFFFF;\n",
              "    }\n",
              "  </style>\n",
              "\n",
              "      <script>\n",
              "        const buttonEl =\n",
              "          document.querySelector('#df-9278b6c1-facf-41e6-83b4-a82a4d972b34 button.colab-df-convert');\n",
              "        buttonEl.style.display =\n",
              "          google.colab.kernel.accessAllowed ? 'block' : 'none';\n",
              "\n",
              "        async function convertToInteractive(key) {\n",
              "          const element = document.querySelector('#df-9278b6c1-facf-41e6-83b4-a82a4d972b34');\n",
              "          const dataTable =\n",
              "            await google.colab.kernel.invokeFunction('convertToInteractive',\n",
              "                                                     [key], {});\n",
              "          if (!dataTable) return;\n",
              "\n",
              "          const docLinkHtml = 'Like what you see? Visit the ' +\n",
              "            '<a target=\"_blank\" href=https://colab.research.google.com/notebooks/data_table.ipynb>data table notebook</a>'\n",
              "            + ' to learn more about interactive tables.';\n",
              "          element.innerHTML = '';\n",
              "          dataTable['output_type'] = 'display_data';\n",
              "          await google.colab.output.renderOutput(dataTable, element);\n",
              "          const docLink = document.createElement('div');\n",
              "          docLink.innerHTML = docLinkHtml;\n",
              "          element.appendChild(docLink);\n",
              "        }\n",
              "      </script>\n",
              "    </div>\n",
              "  </div>\n",
              "  "
            ]
          },
          "metadata": {},
          "execution_count": 257
        }
      ]
    },
    {
      "cell_type": "markdown",
      "source": [
        "# **label the future change in return to classes**"
      ],
      "metadata": {
        "id": "BZNQDISy8bej"
      }
    },
    {
      "cell_type": "code",
      "source": [
        " def map_return_to_classes(export_path,final):\n",
        "   \n",
        "  os.chdir(export_path)\n",
        "  score =final[\"return\"].values\n",
        "  sentiment = []\n",
        "  for i in score:\n",
        "      \n",
        "      \n",
        "      if i >= 0.03 :\n",
        "          sentiment.append('Large Increase')\n",
        "      elif i <= -0.03 :\n",
        "          sentiment.append('Large Decrease')\n",
        "      elif 0.015<=i<=0.03:\n",
        "          sentiment.append('Increase')\n",
        "      elif -0.015>=i>=-0.03:\n",
        "          sentiment.append('Decrease')\n",
        "          \n",
        "      else:\n",
        "          sentiment.append('No Change')\n",
        "\n",
        "          \n",
        "  final['Sentiment']=sentiment\n",
        "  final.to_csv('final.csv')\n",
        "\n",
        "  return   final \n"
      ],
      "metadata": {
        "id": "wznrdclu8bqj"
      },
      "execution_count": null,
      "outputs": []
    },
    {
      "cell_type": "code",
      "source": [
        "final=map_return_to_classes(export_path,final)\n",
        "final.head()"
      ],
      "metadata": {
        "colab": {
          "base_uri": "https://localhost:8080/",
          "height": 206
        },
        "id": "LTI-OQcay0kx",
        "outputId": "894c4d92-ce73-49eb-e4b5-9194e2adb3ba"
      },
      "execution_count": null,
      "outputs": [
        {
          "output_type": "execute_result",
          "data": {
            "text/plain": [
              "           FileNo        CV        CF       CNV       CNF        PV        PF  \\\n",
              "0  13197438_T.xml       NaN       NaN -0.631229  0.125000  0.750000  0.666667   \n",
              "1  13215635_T.xml  0.828283  0.281250 -0.888889  0.000000  0.666667  0.000000   \n",
              "2  12958669_T.xml  0.924623  0.265896 -0.981818  0.000000  0.792683  0.260417   \n",
              "3  13105267_T.xml  0.968750 -0.500000       NaN       NaN  0.875000 -0.500000   \n",
              "4  12302678_T.xml  0.987342  0.928571 -0.971429  0.357143       NaN       NaN   \n",
              "\n",
              "        QAV       QAF           companyName companyTicker   startDate  \\\n",
              "0  0.000000  0.000000         BlackRock Inc           BLK  2020-05-19   \n",
              "1  0.000000  0.000000         Carnival Corp           CCL  2020-06-08   \n",
              "2  0.819444  0.000000         Carnival Corp           CCL  2019-12-20   \n",
              "3       NaN       NaN  Verisk Analytics Inc          VRSK  2020-05-20   \n",
              "4  0.860215  0.839506    Ingersoll-Rand PLC            IR  2019-02-21   \n",
              "\n",
              "      EndDate    return       Sentiment  \n",
              "0  2020-05-26  0.015044        Increase  \n",
              "1  2020-06-15 -0.075070  Large Decrease  \n",
              "2  2019-12-27  0.020912        Increase  \n",
              "3  2020-05-27 -0.016924        Decrease  \n",
              "4  2019-02-28 -0.011460       No Change  "
            ],
            "text/html": [
              "\n",
              "  <div id=\"df-31ae7f88-ae02-41ee-b520-bb8d6a71296b\">\n",
              "    <div class=\"colab-df-container\">\n",
              "      <div>\n",
              "<style scoped>\n",
              "    .dataframe tbody tr th:only-of-type {\n",
              "        vertical-align: middle;\n",
              "    }\n",
              "\n",
              "    .dataframe tbody tr th {\n",
              "        vertical-align: top;\n",
              "    }\n",
              "\n",
              "    .dataframe thead th {\n",
              "        text-align: right;\n",
              "    }\n",
              "</style>\n",
              "<table border=\"1\" class=\"dataframe\">\n",
              "  <thead>\n",
              "    <tr style=\"text-align: right;\">\n",
              "      <th></th>\n",
              "      <th>FileNo</th>\n",
              "      <th>CV</th>\n",
              "      <th>CF</th>\n",
              "      <th>CNV</th>\n",
              "      <th>CNF</th>\n",
              "      <th>PV</th>\n",
              "      <th>PF</th>\n",
              "      <th>QAV</th>\n",
              "      <th>QAF</th>\n",
              "      <th>companyName</th>\n",
              "      <th>companyTicker</th>\n",
              "      <th>startDate</th>\n",
              "      <th>EndDate</th>\n",
              "      <th>return</th>\n",
              "      <th>Sentiment</th>\n",
              "    </tr>\n",
              "  </thead>\n",
              "  <tbody>\n",
              "    <tr>\n",
              "      <th>0</th>\n",
              "      <td>13197438_T.xml</td>\n",
              "      <td>NaN</td>\n",
              "      <td>NaN</td>\n",
              "      <td>-0.631229</td>\n",
              "      <td>0.125000</td>\n",
              "      <td>0.750000</td>\n",
              "      <td>0.666667</td>\n",
              "      <td>0.000000</td>\n",
              "      <td>0.000000</td>\n",
              "      <td>BlackRock Inc</td>\n",
              "      <td>BLK</td>\n",
              "      <td>2020-05-19</td>\n",
              "      <td>2020-05-26</td>\n",
              "      <td>0.015044</td>\n",
              "      <td>Increase</td>\n",
              "    </tr>\n",
              "    <tr>\n",
              "      <th>1</th>\n",
              "      <td>13215635_T.xml</td>\n",
              "      <td>0.828283</td>\n",
              "      <td>0.281250</td>\n",
              "      <td>-0.888889</td>\n",
              "      <td>0.000000</td>\n",
              "      <td>0.666667</td>\n",
              "      <td>0.000000</td>\n",
              "      <td>0.000000</td>\n",
              "      <td>0.000000</td>\n",
              "      <td>Carnival Corp</td>\n",
              "      <td>CCL</td>\n",
              "      <td>2020-06-08</td>\n",
              "      <td>2020-06-15</td>\n",
              "      <td>-0.075070</td>\n",
              "      <td>Large Decrease</td>\n",
              "    </tr>\n",
              "    <tr>\n",
              "      <th>2</th>\n",
              "      <td>12958669_T.xml</td>\n",
              "      <td>0.924623</td>\n",
              "      <td>0.265896</td>\n",
              "      <td>-0.981818</td>\n",
              "      <td>0.000000</td>\n",
              "      <td>0.792683</td>\n",
              "      <td>0.260417</td>\n",
              "      <td>0.819444</td>\n",
              "      <td>0.000000</td>\n",
              "      <td>Carnival Corp</td>\n",
              "      <td>CCL</td>\n",
              "      <td>2019-12-20</td>\n",
              "      <td>2019-12-27</td>\n",
              "      <td>0.020912</td>\n",
              "      <td>Increase</td>\n",
              "    </tr>\n",
              "    <tr>\n",
              "      <th>3</th>\n",
              "      <td>13105267_T.xml</td>\n",
              "      <td>0.968750</td>\n",
              "      <td>-0.500000</td>\n",
              "      <td>NaN</td>\n",
              "      <td>NaN</td>\n",
              "      <td>0.875000</td>\n",
              "      <td>-0.500000</td>\n",
              "      <td>NaN</td>\n",
              "      <td>NaN</td>\n",
              "      <td>Verisk Analytics Inc</td>\n",
              "      <td>VRSK</td>\n",
              "      <td>2020-05-20</td>\n",
              "      <td>2020-05-27</td>\n",
              "      <td>-0.016924</td>\n",
              "      <td>Decrease</td>\n",
              "    </tr>\n",
              "    <tr>\n",
              "      <th>4</th>\n",
              "      <td>12302678_T.xml</td>\n",
              "      <td>0.987342</td>\n",
              "      <td>0.928571</td>\n",
              "      <td>-0.971429</td>\n",
              "      <td>0.357143</td>\n",
              "      <td>NaN</td>\n",
              "      <td>NaN</td>\n",
              "      <td>0.860215</td>\n",
              "      <td>0.839506</td>\n",
              "      <td>Ingersoll-Rand PLC</td>\n",
              "      <td>IR</td>\n",
              "      <td>2019-02-21</td>\n",
              "      <td>2019-02-28</td>\n",
              "      <td>-0.011460</td>\n",
              "      <td>No Change</td>\n",
              "    </tr>\n",
              "  </tbody>\n",
              "</table>\n",
              "</div>\n",
              "      <button class=\"colab-df-convert\" onclick=\"convertToInteractive('df-31ae7f88-ae02-41ee-b520-bb8d6a71296b')\"\n",
              "              title=\"Convert this dataframe to an interactive table.\"\n",
              "              style=\"display:none;\">\n",
              "        \n",
              "  <svg xmlns=\"http://www.w3.org/2000/svg\" height=\"24px\"viewBox=\"0 0 24 24\"\n",
              "       width=\"24px\">\n",
              "    <path d=\"M0 0h24v24H0V0z\" fill=\"none\"/>\n",
              "    <path d=\"M18.56 5.44l.94 2.06.94-2.06 2.06-.94-2.06-.94-.94-2.06-.94 2.06-2.06.94zm-11 1L8.5 8.5l.94-2.06 2.06-.94-2.06-.94L8.5 2.5l-.94 2.06-2.06.94zm10 10l.94 2.06.94-2.06 2.06-.94-2.06-.94-.94-2.06-.94 2.06-2.06.94z\"/><path d=\"M17.41 7.96l-1.37-1.37c-.4-.4-.92-.59-1.43-.59-.52 0-1.04.2-1.43.59L10.3 9.45l-7.72 7.72c-.78.78-.78 2.05 0 2.83L4 21.41c.39.39.9.59 1.41.59.51 0 1.02-.2 1.41-.59l7.78-7.78 2.81-2.81c.8-.78.8-2.07 0-2.86zM5.41 20L4 18.59l7.72-7.72 1.47 1.35L5.41 20z\"/>\n",
              "  </svg>\n",
              "      </button>\n",
              "      \n",
              "  <style>\n",
              "    .colab-df-container {\n",
              "      display:flex;\n",
              "      flex-wrap:wrap;\n",
              "      gap: 12px;\n",
              "    }\n",
              "\n",
              "    .colab-df-convert {\n",
              "      background-color: #E8F0FE;\n",
              "      border: none;\n",
              "      border-radius: 50%;\n",
              "      cursor: pointer;\n",
              "      display: none;\n",
              "      fill: #1967D2;\n",
              "      height: 32px;\n",
              "      padding: 0 0 0 0;\n",
              "      width: 32px;\n",
              "    }\n",
              "\n",
              "    .colab-df-convert:hover {\n",
              "      background-color: #E2EBFA;\n",
              "      box-shadow: 0px 1px 2px rgba(60, 64, 67, 0.3), 0px 1px 3px 1px rgba(60, 64, 67, 0.15);\n",
              "      fill: #174EA6;\n",
              "    }\n",
              "\n",
              "    [theme=dark] .colab-df-convert {\n",
              "      background-color: #3B4455;\n",
              "      fill: #D2E3FC;\n",
              "    }\n",
              "\n",
              "    [theme=dark] .colab-df-convert:hover {\n",
              "      background-color: #434B5C;\n",
              "      box-shadow: 0px 1px 3px 1px rgba(0, 0, 0, 0.15);\n",
              "      filter: drop-shadow(0px 1px 2px rgba(0, 0, 0, 0.3));\n",
              "      fill: #FFFFFF;\n",
              "    }\n",
              "  </style>\n",
              "\n",
              "      <script>\n",
              "        const buttonEl =\n",
              "          document.querySelector('#df-31ae7f88-ae02-41ee-b520-bb8d6a71296b button.colab-df-convert');\n",
              "        buttonEl.style.display =\n",
              "          google.colab.kernel.accessAllowed ? 'block' : 'none';\n",
              "\n",
              "        async function convertToInteractive(key) {\n",
              "          const element = document.querySelector('#df-31ae7f88-ae02-41ee-b520-bb8d6a71296b');\n",
              "          const dataTable =\n",
              "            await google.colab.kernel.invokeFunction('convertToInteractive',\n",
              "                                                     [key], {});\n",
              "          if (!dataTable) return;\n",
              "\n",
              "          const docLinkHtml = 'Like what you see? Visit the ' +\n",
              "            '<a target=\"_blank\" href=https://colab.research.google.com/notebooks/data_table.ipynb>data table notebook</a>'\n",
              "            + ' to learn more about interactive tables.';\n",
              "          element.innerHTML = '';\n",
              "          dataTable['output_type'] = 'display_data';\n",
              "          await google.colab.output.renderOutput(dataTable, element);\n",
              "          const docLink = document.createElement('div');\n",
              "          docLink.innerHTML = docLinkHtml;\n",
              "          element.appendChild(docLink);\n",
              "        }\n",
              "      </script>\n",
              "    </div>\n",
              "  </div>\n",
              "  "
            ]
          },
          "metadata": {},
          "execution_count": 259
        }
      ]
    },
    {
      "cell_type": "markdown",
      "source": [
        "# **Build Catboost Model**"
      ],
      "metadata": {
        "id": "P9dDH9Ei81_d"
      }
    },
    {
      "cell_type": "code",
      "source": [
        "def build_catboost_model(final):\n",
        "  labels = final.loc[:, ['Sentiment']]\n",
        "  veryfinal=final.drop(['FileNo','companyName','companyTicker','startDate','EndDate','return','Sentiment'], axis=1)\n",
        "  X_train, X_test, y_train, y_test = train_test_split(veryfinal, labels, test_size=0.2)\n",
        "  model_CBC = ctb.CatBoostClassifier()\n",
        "  model_CBC.fit(X_train, y_train,plot=True)\n",
        "  print(model_CBC)\n",
        "  expected_y  = y_test\n",
        "  predicted_y = model_CBC.predict(X_test)\n",
        "  X_test['Sentiment']=y_test\n",
        "  X_test['predicted_y']=predicted_y\n",
        "\n",
        "  return X_test,y_test,predicted_y,model_CBC\n"
      ],
      "metadata": {
        "id": "1VE7Trcr0U0S"
      },
      "execution_count": null,
      "outputs": []
    },
    {
      "cell_type": "code",
      "source": [
        "X_test,y_test,predicted_y,model_CBC=build_catboost_model(final)"
      ],
      "metadata": {
        "colab": {
          "base_uri": "https://localhost:8080/",
          "height": 1000,
          "referenced_widgets": [
            "4313d127f6d14a408d3426db95204448"
          ]
        },
        "id": "nlNAgyTN15OD",
        "outputId": "6c5b182c-4f28-4b70-cffe-06e92f5bf0a6"
      },
      "execution_count": null,
      "outputs": [
        {
          "output_type": "display_data",
          "data": {
            "text/plain": [
              "MetricVisualizer(layout=Layout(align_self='stretch', height='500px'))"
            ],
            "application/vnd.jupyter.widget-view+json": {
              "version_major": 2,
              "version_minor": 0,
              "model_id": "4313d127f6d14a408d3426db95204448"
            }
          },
          "metadata": {}
        },
        {
          "output_type": "stream",
          "name": "stdout",
          "text": [
            "Learning rate set to 0.060955\n",
            "0:\tlearn: 1.0864585\ttotal: 391us\tremaining: 392ms\n",
            "1:\tlearn: 1.0744604\ttotal: 862us\tremaining: 430ms\n",
            "2:\tlearn: 1.0647700\ttotal: 1.08ms\tremaining: 360ms\n",
            "3:\tlearn: 1.0551748\ttotal: 1.3ms\tremaining: 324ms\n",
            "4:\tlearn: 1.0457175\ttotal: 1.53ms\tremaining: 304ms\n",
            "5:\tlearn: 1.0363963\ttotal: 1.76ms\tremaining: 292ms\n",
            "6:\tlearn: 1.0228736\ttotal: 1.93ms\tremaining: 273ms\n",
            "7:\tlearn: 1.0137321\ttotal: 2.11ms\tremaining: 261ms\n",
            "8:\tlearn: 1.0026768\ttotal: 2.33ms\tremaining: 256ms\n",
            "9:\tlearn: 0.9917664\ttotal: 2.62ms\tremaining: 259ms\n",
            "10:\tlearn: 0.9809995\ttotal: 2.86ms\tremaining: 257ms\n",
            "11:\tlearn: 0.9703747\ttotal: 3.1ms\tremaining: 255ms\n",
            "12:\tlearn: 0.9618229\ttotal: 3.29ms\tremaining: 249ms\n",
            "13:\tlearn: 0.9487067\ttotal: 3.47ms\tremaining: 244ms\n",
            "14:\tlearn: 0.9385097\ttotal: 3.7ms\tremaining: 243ms\n",
            "15:\tlearn: 0.9258104\ttotal: 3.93ms\tremaining: 242ms\n",
            "16:\tlearn: 0.9177251\ttotal: 4.12ms\tremaining: 239ms\n",
            "17:\tlearn: 0.9097515\ttotal: 4.36ms\tremaining: 238ms\n",
            "18:\tlearn: 0.9009093\ttotal: 4.54ms\tremaining: 234ms\n",
            "19:\tlearn: 0.8913501\ttotal: 4.72ms\tremaining: 231ms\n",
            "20:\tlearn: 0.8836178\ttotal: 4.94ms\tremaining: 230ms\n",
            "21:\tlearn: 0.8692626\ttotal: 5.09ms\tremaining: 226ms\n",
            "22:\tlearn: 0.8617907\ttotal: 7.47ms\tremaining: 317ms\n",
            "23:\tlearn: 0.8545048\ttotal: 8.59ms\tremaining: 349ms\n",
            "24:\tlearn: 0.8432669\ttotal: 9.68ms\tremaining: 377ms\n",
            "25:\tlearn: 0.8329077\ttotal: 9.88ms\tremaining: 370ms\n",
            "26:\tlearn: 0.8242641\ttotal: 10.2ms\tremaining: 369ms\n",
            "27:\tlearn: 0.8142121\ttotal: 10.4ms\tremaining: 361ms\n",
            "28:\tlearn: 0.8058217\ttotal: 10.6ms\tremaining: 356ms\n",
            "29:\tlearn: 0.7975449\ttotal: 10.8ms\tremaining: 349ms\n",
            "30:\tlearn: 0.7888020\ttotal: 10.9ms\tremaining: 342ms\n",
            "31:\tlearn: 0.7787390\ttotal: 11.1ms\tremaining: 336ms\n",
            "32:\tlearn: 0.7738244\ttotal: 11.3ms\tremaining: 331ms\n",
            "33:\tlearn: 0.7675147\ttotal: 11.5ms\tremaining: 326ms\n",
            "34:\tlearn: 0.7597560\ttotal: 11.7ms\tremaining: 322ms\n",
            "35:\tlearn: 0.7521023\ttotal: 11.9ms\tremaining: 318ms\n",
            "36:\tlearn: 0.7445524\ttotal: 12.1ms\tremaining: 314ms\n",
            "37:\tlearn: 0.7371048\ttotal: 12.3ms\tremaining: 311ms\n",
            "38:\tlearn: 0.7297581\ttotal: 12.5ms\tremaining: 308ms\n",
            "39:\tlearn: 0.7238325\ttotal: 12.7ms\tremaining: 306ms\n",
            "40:\tlearn: 0.7148798\ttotal: 12.9ms\tremaining: 302ms\n",
            "41:\tlearn: 0.7061038\ttotal: 13.1ms\tremaining: 299ms\n",
            "42:\tlearn: 0.6988634\ttotal: 13.3ms\tremaining: 295ms\n",
            "43:\tlearn: 0.6944427\ttotal: 13.4ms\tremaining: 291ms\n",
            "44:\tlearn: 0.6872582\ttotal: 13.6ms\tremaining: 288ms\n",
            "45:\tlearn: 0.6789560\ttotal: 13.7ms\tremaining: 285ms\n",
            "46:\tlearn: 0.6689725\ttotal: 13.9ms\tremaining: 282ms\n",
            "47:\tlearn: 0.6609970\ttotal: 14.1ms\tremaining: 279ms\n",
            "48:\tlearn: 0.6542836\ttotal: 14.2ms\tremaining: 276ms\n",
            "49:\tlearn: 0.6421532\ttotal: 14.4ms\tremaining: 274ms\n",
            "50:\tlearn: 0.6329465\ttotal: 14.6ms\tremaining: 271ms\n",
            "51:\tlearn: 0.6253434\ttotal: 14.7ms\tremaining: 269ms\n",
            "52:\tlearn: 0.6181053\ttotal: 14.9ms\tremaining: 266ms\n",
            "53:\tlearn: 0.6134137\ttotal: 15.1ms\tremaining: 264ms\n",
            "54:\tlearn: 0.6068601\ttotal: 15.2ms\tremaining: 262ms\n",
            "55:\tlearn: 0.5997114\ttotal: 15.4ms\tremaining: 260ms\n",
            "56:\tlearn: 0.5928952\ttotal: 15.6ms\tremaining: 259ms\n",
            "57:\tlearn: 0.5866587\ttotal: 15.8ms\tremaining: 256ms\n",
            "58:\tlearn: 0.5799416\ttotal: 16ms\tremaining: 254ms\n",
            "59:\tlearn: 0.5746972\ttotal: 16.1ms\tremaining: 253ms\n",
            "60:\tlearn: 0.5699728\ttotal: 16.3ms\tremaining: 251ms\n",
            "61:\tlearn: 0.5634518\ttotal: 16.5ms\tremaining: 249ms\n",
            "62:\tlearn: 0.5570489\ttotal: 16.7ms\tremaining: 248ms\n",
            "63:\tlearn: 0.5494682\ttotal: 16.8ms\tremaining: 246ms\n",
            "64:\tlearn: 0.5433588\ttotal: 17ms\tremaining: 245ms\n",
            "65:\tlearn: 0.5372971\ttotal: 17.2ms\tremaining: 243ms\n",
            "66:\tlearn: 0.5302148\ttotal: 17.3ms\tremaining: 242ms\n",
            "67:\tlearn: 0.5252713\ttotal: 17.5ms\tremaining: 240ms\n",
            "68:\tlearn: 0.5181183\ttotal: 17.6ms\tremaining: 238ms\n",
            "69:\tlearn: 0.5124701\ttotal: 17.8ms\tremaining: 237ms\n",
            "70:\tlearn: 0.5069213\ttotal: 18ms\tremaining: 236ms\n",
            "71:\tlearn: 0.5016013\ttotal: 18.2ms\tremaining: 234ms\n",
            "72:\tlearn: 0.4973707\ttotal: 18.4ms\tremaining: 234ms\n",
            "73:\tlearn: 0.4922059\ttotal: 18.6ms\tremaining: 233ms\n",
            "74:\tlearn: 0.4860159\ttotal: 18.7ms\tremaining: 231ms\n",
            "75:\tlearn: 0.4781990\ttotal: 18.9ms\tremaining: 230ms\n",
            "76:\tlearn: 0.4721781\ttotal: 19ms\tremaining: 228ms\n",
            "77:\tlearn: 0.4662776\ttotal: 19.2ms\tremaining: 227ms\n",
            "78:\tlearn: 0.4614729\ttotal: 19.4ms\tremaining: 226ms\n",
            "79:\tlearn: 0.4558607\ttotal: 19.5ms\tremaining: 225ms\n",
            "80:\tlearn: 0.4522025\ttotal: 19.7ms\tremaining: 224ms\n",
            "81:\tlearn: 0.4467728\ttotal: 19.9ms\tremaining: 223ms\n",
            "82:\tlearn: 0.4399003\ttotal: 20ms\tremaining: 221ms\n",
            "83:\tlearn: 0.4368158\ttotal: 20.2ms\tremaining: 220ms\n",
            "84:\tlearn: 0.4301892\ttotal: 20.3ms\tremaining: 219ms\n",
            "85:\tlearn: 0.4251627\ttotal: 20.5ms\tremaining: 218ms\n",
            "86:\tlearn: 0.4202375\ttotal: 20.6ms\tremaining: 217ms\n",
            "87:\tlearn: 0.4153953\ttotal: 20.8ms\tremaining: 215ms\n",
            "88:\tlearn: 0.4092725\ttotal: 20.9ms\tremaining: 214ms\n",
            "89:\tlearn: 0.4053571\ttotal: 21.1ms\tremaining: 213ms\n",
            "90:\tlearn: 0.4007926\ttotal: 21.2ms\tremaining: 212ms\n",
            "91:\tlearn: 0.3963121\ttotal: 21.4ms\tremaining: 211ms\n",
            "92:\tlearn: 0.3918288\ttotal: 21.5ms\tremaining: 210ms\n",
            "93:\tlearn: 0.3875085\ttotal: 21.7ms\tremaining: 209ms\n",
            "94:\tlearn: 0.3832664\ttotal: 21.8ms\tremaining: 208ms\n",
            "95:\tlearn: 0.3797427\ttotal: 22.1ms\tremaining: 208ms\n",
            "96:\tlearn: 0.3755570\ttotal: 22.2ms\tremaining: 207ms\n",
            "97:\tlearn: 0.3715214\ttotal: 22.4ms\tremaining: 206ms\n",
            "98:\tlearn: 0.3675395\ttotal: 22.6ms\tremaining: 205ms\n",
            "99:\tlearn: 0.3636282\ttotal: 22.7ms\tremaining: 205ms\n",
            "100:\tlearn: 0.3593282\ttotal: 22.9ms\tremaining: 204ms\n",
            "101:\tlearn: 0.3554972\ttotal: 23ms\tremaining: 203ms\n",
            "102:\tlearn: 0.3507160\ttotal: 23.2ms\tremaining: 202ms\n",
            "103:\tlearn: 0.3460417\ttotal: 23.3ms\tremaining: 201ms\n",
            "104:\tlearn: 0.3425049\ttotal: 23.5ms\tremaining: 200ms\n",
            "105:\tlearn: 0.3380091\ttotal: 23.6ms\tremaining: 199ms\n",
            "106:\tlearn: 0.3336120\ttotal: 23.8ms\tremaining: 199ms\n",
            "107:\tlearn: 0.3298958\ttotal: 24ms\tremaining: 198ms\n",
            "108:\tlearn: 0.3265613\ttotal: 24.2ms\tremaining: 198ms\n",
            "109:\tlearn: 0.3233304\ttotal: 24.3ms\tremaining: 197ms\n",
            "110:\tlearn: 0.3201534\ttotal: 24.5ms\tremaining: 196ms\n",
            "111:\tlearn: 0.3175129\ttotal: 24.7ms\tremaining: 196ms\n",
            "112:\tlearn: 0.3135439\ttotal: 24.8ms\tremaining: 195ms\n",
            "113:\tlearn: 0.3104779\ttotal: 25ms\tremaining: 194ms\n",
            "114:\tlearn: 0.3074628\ttotal: 25.1ms\tremaining: 193ms\n",
            "115:\tlearn: 0.3036993\ttotal: 25.3ms\tremaining: 193ms\n",
            "116:\tlearn: 0.3000141\ttotal: 25.4ms\tremaining: 192ms\n",
            "117:\tlearn: 0.2971666\ttotal: 25.6ms\tremaining: 191ms\n",
            "118:\tlearn: 0.2944032\ttotal: 25.7ms\tremaining: 191ms\n",
            "119:\tlearn: 0.2909035\ttotal: 25.9ms\tremaining: 190ms\n",
            "120:\tlearn: 0.2881993\ttotal: 26ms\tremaining: 189ms\n",
            "121:\tlearn: 0.2848227\ttotal: 26.2ms\tremaining: 188ms\n",
            "122:\tlearn: 0.2815138\ttotal: 26.3ms\tremaining: 188ms\n",
            "123:\tlearn: 0.2789547\ttotal: 26.5ms\tremaining: 187ms\n",
            "124:\tlearn: 0.2764680\ttotal: 26.6ms\tremaining: 186ms\n",
            "125:\tlearn: 0.2733201\ttotal: 26.8ms\tremaining: 186ms\n",
            "126:\tlearn: 0.2706542\ttotal: 27ms\tremaining: 186ms\n",
            "127:\tlearn: 0.2682941\ttotal: 27.1ms\tremaining: 185ms\n",
            "128:\tlearn: 0.2659645\ttotal: 27.3ms\tremaining: 184ms\n",
            "129:\tlearn: 0.2640184\ttotal: 27.5ms\tremaining: 184ms\n",
            "130:\tlearn: 0.2617524\ttotal: 27.6ms\tremaining: 183ms\n",
            "131:\tlearn: 0.2595229\ttotal: 27.8ms\tremaining: 183ms\n",
            "132:\tlearn: 0.2566915\ttotal: 27.9ms\tremaining: 182ms\n",
            "133:\tlearn: 0.2539137\ttotal: 28.1ms\tremaining: 181ms\n",
            "134:\tlearn: 0.2517965\ttotal: 28.2ms\tremaining: 181ms\n",
            "135:\tlearn: 0.2497101\ttotal: 28.4ms\tremaining: 180ms\n",
            "136:\tlearn: 0.2470592\ttotal: 28.5ms\tremaining: 180ms\n",
            "137:\tlearn: 0.2444573\ttotal: 28.7ms\tremaining: 179ms\n",
            "138:\tlearn: 0.2424385\ttotal: 28.8ms\tremaining: 179ms\n",
            "139:\tlearn: 0.2404771\ttotal: 29ms\tremaining: 178ms\n",
            "140:\tlearn: 0.2379922\ttotal: 29.1ms\tremaining: 178ms\n",
            "141:\tlearn: 0.2360641\ttotal: 29.3ms\tremaining: 177ms\n",
            "142:\tlearn: 0.2339836\ttotal: 29.5ms\tremaining: 177ms\n",
            "143:\tlearn: 0.2316146\ttotal: 29.7ms\tremaining: 176ms\n",
            "144:\tlearn: 0.2300926\ttotal: 29.8ms\tremaining: 176ms\n",
            "145:\tlearn: 0.2277917\ttotal: 30ms\tremaining: 175ms\n",
            "146:\tlearn: 0.2255311\ttotal: 30.1ms\tremaining: 175ms\n",
            "147:\tlearn: 0.2233101\ttotal: 30.3ms\tremaining: 174ms\n",
            "148:\tlearn: 0.2211276\ttotal: 30.4ms\tremaining: 174ms\n",
            "149:\tlearn: 0.2194537\ttotal: 30.6ms\tremaining: 173ms\n",
            "150:\tlearn: 0.2173360\ttotal: 30.8ms\tremaining: 173ms\n",
            "151:\tlearn: 0.2159961\ttotal: 30.9ms\tremaining: 173ms\n",
            "152:\tlearn: 0.2143847\ttotal: 31.1ms\tremaining: 172ms\n",
            "153:\tlearn: 0.2123509\ttotal: 31.2ms\tremaining: 172ms\n",
            "154:\tlearn: 0.2103514\ttotal: 31.4ms\tremaining: 171ms\n",
            "155:\tlearn: 0.2083851\ttotal: 31.5ms\tremaining: 171ms\n",
            "156:\tlearn: 0.2068708\ttotal: 31.7ms\tremaining: 170ms\n",
            "157:\tlearn: 0.2052270\ttotal: 31.9ms\tremaining: 170ms\n",
            "158:\tlearn: 0.2040160\ttotal: 32ms\tremaining: 169ms\n",
            "159:\tlearn: 0.2025574\ttotal: 32.2ms\tremaining: 169ms\n",
            "160:\tlearn: 0.2007166\ttotal: 32.3ms\tremaining: 169ms\n",
            "161:\tlearn: 0.1989055\ttotal: 32.5ms\tremaining: 168ms\n",
            "162:\tlearn: 0.1975082\ttotal: 32.8ms\tremaining: 169ms\n",
            "163:\tlearn: 0.1957475\ttotal: 33ms\tremaining: 168ms\n",
            "164:\tlearn: 0.1940147\ttotal: 33.2ms\tremaining: 168ms\n",
            "165:\tlearn: 0.1923094\ttotal: 33.3ms\tremaining: 168ms\n",
            "166:\tlearn: 0.1909918\ttotal: 33.5ms\tremaining: 167ms\n",
            "167:\tlearn: 0.1896912\ttotal: 33.7ms\tremaining: 167ms\n",
            "168:\tlearn: 0.1880516\ttotal: 33.9ms\tremaining: 166ms\n",
            "169:\tlearn: 0.1870126\ttotal: 34ms\tremaining: 166ms\n",
            "170:\tlearn: 0.1854136\ttotal: 34.2ms\tremaining: 166ms\n",
            "171:\tlearn: 0.1838392\ttotal: 34.4ms\tremaining: 166ms\n",
            "172:\tlearn: 0.1826215\ttotal: 34.5ms\tremaining: 165ms\n",
            "173:\tlearn: 0.1814184\ttotal: 34.8ms\tremaining: 165ms\n",
            "174:\tlearn: 0.1802085\ttotal: 35ms\tremaining: 165ms\n",
            "175:\tlearn: 0.1787104\ttotal: 35.1ms\tremaining: 165ms\n",
            "176:\tlearn: 0.1774430\ttotal: 35.4ms\tremaining: 165ms\n",
            "177:\tlearn: 0.1762988\ttotal: 35.6ms\tremaining: 164ms\n",
            "178:\tlearn: 0.1751673\ttotal: 35.8ms\tremaining: 164ms\n",
            "179:\tlearn: 0.1740296\ttotal: 35.9ms\tremaining: 164ms\n",
            "180:\tlearn: 0.1729053\ttotal: 36.2ms\tremaining: 164ms\n",
            "181:\tlearn: 0.1715123\ttotal: 36.4ms\tremaining: 163ms\n",
            "182:\tlearn: 0.1706108\ttotal: 36.6ms\tremaining: 163ms\n",
            "183:\tlearn: 0.1695255\ttotal: 36.7ms\tremaining: 163ms\n",
            "184:\tlearn: 0.1681804\ttotal: 36.9ms\tremaining: 163ms\n",
            "185:\tlearn: 0.1668546\ttotal: 37.1ms\tremaining: 162ms\n",
            "186:\tlearn: 0.1655477\ttotal: 37.2ms\tremaining: 162ms\n",
            "187:\tlearn: 0.1646752\ttotal: 37.4ms\tremaining: 162ms\n",
            "188:\tlearn: 0.1633981\ttotal: 37.6ms\tremaining: 161ms\n",
            "189:\tlearn: 0.1621390\ttotal: 37.7ms\tremaining: 161ms\n",
            "190:\tlearn: 0.1608975\ttotal: 37.9ms\tremaining: 161ms\n",
            "191:\tlearn: 0.1599192\ttotal: 38.1ms\tremaining: 160ms\n",
            "192:\tlearn: 0.1587079\ttotal: 38.2ms\tremaining: 160ms\n",
            "193:\tlearn: 0.1577534\ttotal: 38.4ms\tremaining: 160ms\n",
            "194:\tlearn: 0.1567389\ttotal: 38.6ms\tremaining: 159ms\n",
            "195:\tlearn: 0.1555708\ttotal: 38.7ms\tremaining: 159ms\n",
            "196:\tlearn: 0.1546494\ttotal: 38.9ms\tremaining: 159ms\n",
            "197:\tlearn: 0.1537508\ttotal: 39.1ms\tremaining: 158ms\n",
            "198:\tlearn: 0.1526219\ttotal: 39.2ms\tremaining: 158ms\n",
            "199:\tlearn: 0.1515081\ttotal: 39.4ms\tremaining: 158ms\n",
            "200:\tlearn: 0.1505660\ttotal: 39.7ms\tremaining: 158ms\n",
            "201:\tlearn: 0.1497087\ttotal: 39.9ms\tremaining: 158ms\n",
            "202:\tlearn: 0.1486332\ttotal: 40.1ms\tremaining: 157ms\n",
            "203:\tlearn: 0.1477956\ttotal: 40.3ms\tremaining: 157ms\n",
            "204:\tlearn: 0.1469544\ttotal: 41.5ms\tremaining: 161ms\n",
            "205:\tlearn: 0.1461340\ttotal: 42ms\tremaining: 162ms\n",
            "206:\tlearn: 0.1451036\ttotal: 42.4ms\tremaining: 163ms\n",
            "207:\tlearn: 0.1444351\ttotal: 42.9ms\tremaining: 163ms\n",
            "208:\tlearn: 0.1436280\ttotal: 43.4ms\tremaining: 164ms\n",
            "209:\tlearn: 0.1429476\ttotal: 44ms\tremaining: 165ms\n",
            "210:\tlearn: 0.1423073\ttotal: 44.1ms\tremaining: 165ms\n",
            "211:\tlearn: 0.1416725\ttotal: 44.6ms\tremaining: 166ms\n",
            "212:\tlearn: 0.1408366\ttotal: 44.7ms\tremaining: 165ms\n",
            "213:\tlearn: 0.1398720\ttotal: 45.1ms\tremaining: 166ms\n",
            "214:\tlearn: 0.1389195\ttotal: 45.2ms\tremaining: 165ms\n",
            "215:\tlearn: 0.1379790\ttotal: 45.4ms\tremaining: 165ms\n",
            "216:\tlearn: 0.1372450\ttotal: 45.5ms\tremaining: 164ms\n",
            "217:\tlearn: 0.1365183\ttotal: 45.8ms\tremaining: 164ms\n",
            "218:\tlearn: 0.1356066\ttotal: 46ms\tremaining: 164ms\n",
            "219:\tlearn: 0.1350251\ttotal: 46.2ms\tremaining: 164ms\n",
            "220:\tlearn: 0.1342603\ttotal: 46.9ms\tremaining: 165ms\n",
            "221:\tlearn: 0.1335514\ttotal: 47.4ms\tremaining: 166ms\n",
            "222:\tlearn: 0.1326754\ttotal: 47.6ms\tremaining: 166ms\n",
            "223:\tlearn: 0.1318101\ttotal: 47.7ms\tremaining: 165ms\n",
            "224:\tlearn: 0.1311244\ttotal: 47.9ms\tremaining: 165ms\n",
            "225:\tlearn: 0.1302773\ttotal: 48.1ms\tremaining: 165ms\n",
            "226:\tlearn: 0.1296150\ttotal: 48.3ms\tremaining: 164ms\n",
            "227:\tlearn: 0.1289590\ttotal: 48.4ms\tremaining: 164ms\n",
            "228:\tlearn: 0.1281369\ttotal: 48.6ms\tremaining: 164ms\n",
            "229:\tlearn: 0.1273245\ttotal: 48.8ms\tremaining: 163ms\n",
            "230:\tlearn: 0.1265217\ttotal: 48.9ms\tremaining: 163ms\n",
            "231:\tlearn: 0.1257282\ttotal: 49.1ms\tremaining: 163ms\n",
            "232:\tlearn: 0.1249438\ttotal: 49.3ms\tremaining: 162ms\n",
            "233:\tlearn: 0.1243295\ttotal: 49.7ms\tremaining: 163ms\n",
            "234:\tlearn: 0.1238016\ttotal: 49.9ms\tremaining: 162ms\n",
            "235:\tlearn: 0.1232781\ttotal: 50.1ms\tremaining: 162ms\n",
            "236:\tlearn: 0.1225207\ttotal: 50.5ms\tremaining: 162ms\n",
            "237:\tlearn: 0.1219283\ttotal: 50.9ms\tremaining: 163ms\n",
            "238:\tlearn: 0.1213413\ttotal: 51.3ms\tremaining: 163ms\n",
            "239:\tlearn: 0.1208654\ttotal: 51.8ms\tremaining: 164ms\n",
            "240:\tlearn: 0.1203646\ttotal: 52.4ms\tremaining: 165ms\n",
            "241:\tlearn: 0.1197431\ttotal: 53.2ms\tremaining: 167ms\n",
            "242:\tlearn: 0.1191666\ttotal: 53.6ms\tremaining: 167ms\n",
            "243:\tlearn: 0.1184541\ttotal: 54.1ms\tremaining: 167ms\n",
            "244:\tlearn: 0.1177496\ttotal: 54.5ms\tremaining: 168ms\n",
            "245:\tlearn: 0.1172991\ttotal: 55ms\tremaining: 169ms\n",
            "246:\tlearn: 0.1166071\ttotal: 55.4ms\tremaining: 169ms\n",
            "247:\tlearn: 0.1160651\ttotal: 55.9ms\tremaining: 170ms\n",
            "248:\tlearn: 0.1155203\ttotal: 56.4ms\tremaining: 170ms\n",
            "249:\tlearn: 0.1149875\ttotal: 56.8ms\tremaining: 170ms\n",
            "250:\tlearn: 0.1144598\ttotal: 57.3ms\tremaining: 171ms\n",
            "251:\tlearn: 0.1139367\ttotal: 57.7ms\tremaining: 171ms\n",
            "252:\tlearn: 0.1134174\ttotal: 58.2ms\tremaining: 172ms\n",
            "253:\tlearn: 0.1127661\ttotal: 58.6ms\tremaining: 172ms\n",
            "254:\tlearn: 0.1123496\ttotal: 59.1ms\tremaining: 173ms\n",
            "255:\tlearn: 0.1118361\ttotal: 59.6ms\tremaining: 173ms\n",
            "256:\tlearn: 0.1114012\ttotal: 60.1ms\tremaining: 174ms\n",
            "257:\tlearn: 0.1109938\ttotal: 60.6ms\tremaining: 174ms\n",
            "258:\tlearn: 0.1103674\ttotal: 61.1ms\tremaining: 175ms\n",
            "259:\tlearn: 0.1097475\ttotal: 61.5ms\tremaining: 175ms\n",
            "260:\tlearn: 0.1092625\ttotal: 62ms\tremaining: 176ms\n",
            "261:\tlearn: 0.1086540\ttotal: 62.5ms\tremaining: 176ms\n",
            "262:\tlearn: 0.1081784\ttotal: 63ms\tremaining: 177ms\n",
            "263:\tlearn: 0.1075810\ttotal: 63.5ms\tremaining: 177ms\n",
            "264:\tlearn: 0.1071067\ttotal: 63.9ms\tremaining: 177ms\n",
            "265:\tlearn: 0.1066363\ttotal: 64.4ms\tremaining: 178ms\n",
            "266:\tlearn: 0.1061377\ttotal: 64.9ms\tremaining: 178ms\n",
            "267:\tlearn: 0.1058248\ttotal: 65.4ms\tremaining: 179ms\n",
            "268:\tlearn: 0.1053716\ttotal: 65.9ms\tremaining: 179ms\n",
            "269:\tlearn: 0.1048839\ttotal: 66.4ms\tremaining: 179ms\n",
            "270:\tlearn: 0.1044379\ttotal: 66.8ms\tremaining: 180ms\n",
            "271:\tlearn: 0.1039584\ttotal: 67.3ms\tremaining: 180ms\n",
            "272:\tlearn: 0.1035196\ttotal: 67.8ms\tremaining: 181ms\n",
            "273:\tlearn: 0.1030843\ttotal: 68.2ms\tremaining: 181ms\n",
            "274:\tlearn: 0.1026524\ttotal: 68.7ms\tremaining: 181ms\n",
            "275:\tlearn: 0.1022171\ttotal: 69.2ms\tremaining: 181ms\n",
            "276:\tlearn: 0.1016785\ttotal: 69.6ms\tremaining: 182ms\n",
            "277:\tlearn: 0.1011452\ttotal: 70.1ms\tremaining: 182ms\n",
            "278:\tlearn: 0.1006932\ttotal: 70.6ms\tremaining: 182ms\n",
            "279:\tlearn: 0.1001697\ttotal: 71ms\tremaining: 183ms\n",
            "280:\tlearn: 0.0996513\ttotal: 71.5ms\tremaining: 183ms\n",
            "281:\tlearn: 0.0991379\ttotal: 71.9ms\tremaining: 183ms\n",
            "282:\tlearn: 0.0988094\ttotal: 72.6ms\tremaining: 184ms\n",
            "283:\tlearn: 0.0983041\ttotal: 73.1ms\tremaining: 184ms\n",
            "284:\tlearn: 0.0979069\ttotal: 73.5ms\tremaining: 185ms\n",
            "285:\tlearn: 0.0974821\ttotal: 74.1ms\tremaining: 185ms\n",
            "286:\tlearn: 0.0970921\ttotal: 74.5ms\tremaining: 185ms\n",
            "287:\tlearn: 0.0966029\ttotal: 75ms\tremaining: 185ms\n",
            "288:\tlearn: 0.0961184\ttotal: 75.5ms\tremaining: 186ms\n",
            "289:\tlearn: 0.0957321\ttotal: 75.9ms\tremaining: 186ms\n",
            "290:\tlearn: 0.0953549\ttotal: 76.4ms\tremaining: 186ms\n",
            "291:\tlearn: 0.0949805\ttotal: 76.9ms\tremaining: 186ms\n",
            "292:\tlearn: 0.0946089\ttotal: 77.4ms\tremaining: 187ms\n",
            "293:\tlearn: 0.0942100\ttotal: 77.9ms\tremaining: 187ms\n",
            "294:\tlearn: 0.0937474\ttotal: 78.4ms\tremaining: 187ms\n",
            "295:\tlearn: 0.0932890\ttotal: 78.8ms\tremaining: 187ms\n",
            "296:\tlearn: 0.0929234\ttotal: 79.4ms\tremaining: 188ms\n",
            "297:\tlearn: 0.0925652\ttotal: 79.9ms\tremaining: 188ms\n",
            "298:\tlearn: 0.0922747\ttotal: 80.4ms\tremaining: 189ms\n",
            "299:\tlearn: 0.0918295\ttotal: 80.9ms\tremaining: 189ms\n",
            "300:\tlearn: 0.0915444\ttotal: 81.4ms\tremaining: 189ms\n",
            "301:\tlearn: 0.0911971\ttotal: 81.9ms\tremaining: 189ms\n",
            "302:\tlearn: 0.0908465\ttotal: 82.3ms\tremaining: 189ms\n",
            "303:\tlearn: 0.0905030\ttotal: 82.8ms\tremaining: 189ms\n",
            "304:\tlearn: 0.0901357\ttotal: 83.3ms\tremaining: 190ms\n",
            "305:\tlearn: 0.0897094\ttotal: 83.7ms\tremaining: 190ms\n",
            "306:\tlearn: 0.0893485\ttotal: 84.2ms\tremaining: 190ms\n",
            "307:\tlearn: 0.0889293\ttotal: 84.7ms\tremaining: 190ms\n",
            "308:\tlearn: 0.0885138\ttotal: 85.1ms\tremaining: 190ms\n",
            "309:\tlearn: 0.0881872\ttotal: 85.6ms\tremaining: 190ms\n",
            "310:\tlearn: 0.0877782\ttotal: 86ms\tremaining: 191ms\n",
            "311:\tlearn: 0.0874973\ttotal: 86.5ms\tremaining: 191ms\n",
            "312:\tlearn: 0.0870941\ttotal: 87ms\tremaining: 191ms\n",
            "313:\tlearn: 0.0866944\ttotal: 87.7ms\tremaining: 192ms\n",
            "314:\tlearn: 0.0862982\ttotal: 88.2ms\tremaining: 192ms\n",
            "315:\tlearn: 0.0859054\ttotal: 88.7ms\tremaining: 192ms\n",
            "316:\tlearn: 0.0855160\ttotal: 89.2ms\tremaining: 192ms\n",
            "317:\tlearn: 0.0852046\ttotal: 93.5ms\tremaining: 201ms\n",
            "318:\tlearn: 0.0848992\ttotal: 94.1ms\tremaining: 201ms\n",
            "319:\tlearn: 0.0845182\ttotal: 94.5ms\tremaining: 201ms\n",
            "320:\tlearn: 0.0841405\ttotal: 94.9ms\tremaining: 201ms\n",
            "321:\tlearn: 0.0838422\ttotal: 95.3ms\tremaining: 201ms\n",
            "322:\tlearn: 0.0835420\ttotal: 95.7ms\tremaining: 201ms\n",
            "323:\tlearn: 0.0831723\ttotal: 96.2ms\tremaining: 201ms\n",
            "324:\tlearn: 0.0828766\ttotal: 96.7ms\tremaining: 201ms\n",
            "325:\tlearn: 0.0825124\ttotal: 97.1ms\tremaining: 201ms\n",
            "326:\tlearn: 0.0821512\ttotal: 97.5ms\tremaining: 201ms\n",
            "327:\tlearn: 0.0817930\ttotal: 98ms\tremaining: 201ms\n",
            "328:\tlearn: 0.0814898\ttotal: 98.5ms\tremaining: 201ms\n",
            "329:\tlearn: 0.0811371\ttotal: 99ms\tremaining: 201ms\n",
            "330:\tlearn: 0.0808387\ttotal: 99.4ms\tremaining: 201ms\n",
            "331:\tlearn: 0.0805625\ttotal: 99.9ms\tremaining: 201ms\n",
            "332:\tlearn: 0.0802872\ttotal: 101ms\tremaining: 203ms\n",
            "333:\tlearn: 0.0800101\ttotal: 102ms\tremaining: 203ms\n",
            "334:\tlearn: 0.0797392\ttotal: 102ms\tremaining: 203ms\n",
            "335:\tlearn: 0.0795198\ttotal: 103ms\tremaining: 203ms\n",
            "336:\tlearn: 0.0792855\ttotal: 103ms\tremaining: 203ms\n",
            "337:\tlearn: 0.0790527\ttotal: 104ms\tremaining: 204ms\n",
            "338:\tlearn: 0.0787191\ttotal: 104ms\tremaining: 204ms\n",
            "339:\tlearn: 0.0783883\ttotal: 105ms\tremaining: 203ms\n",
            "340:\tlearn: 0.0781758\ttotal: 105ms\tremaining: 203ms\n",
            "341:\tlearn: 0.0779156\ttotal: 106ms\tremaining: 203ms\n",
            "342:\tlearn: 0.0775910\ttotal: 106ms\tremaining: 203ms\n",
            "343:\tlearn: 0.0772690\ttotal: 106ms\tremaining: 203ms\n",
            "344:\tlearn: 0.0769964\ttotal: 107ms\tremaining: 203ms\n",
            "345:\tlearn: 0.0767401\ttotal: 107ms\tremaining: 203ms\n",
            "346:\tlearn: 0.0764887\ttotal: 108ms\tremaining: 203ms\n",
            "347:\tlearn: 0.0762213\ttotal: 108ms\tremaining: 203ms\n",
            "348:\tlearn: 0.0759099\ttotal: 109ms\tremaining: 203ms\n",
            "349:\tlearn: 0.0756010\ttotal: 109ms\tremaining: 203ms\n",
            "350:\tlearn: 0.0753397\ttotal: 110ms\tremaining: 203ms\n",
            "351:\tlearn: 0.0750802\ttotal: 110ms\tremaining: 203ms\n",
            "352:\tlearn: 0.0748226\ttotal: 111ms\tremaining: 204ms\n",
            "353:\tlearn: 0.0745222\ttotal: 112ms\tremaining: 204ms\n",
            "354:\tlearn: 0.0742839\ttotal: 112ms\tremaining: 204ms\n",
            "355:\tlearn: 0.0739875\ttotal: 113ms\tremaining: 204ms\n",
            "356:\tlearn: 0.0737968\ttotal: 113ms\tremaining: 204ms\n",
            "357:\tlearn: 0.0735629\ttotal: 114ms\tremaining: 204ms\n",
            "358:\tlearn: 0.0732718\ttotal: 114ms\tremaining: 204ms\n",
            "359:\tlearn: 0.0730809\ttotal: 115ms\tremaining: 204ms\n",
            "360:\tlearn: 0.0728940\ttotal: 115ms\tremaining: 204ms\n",
            "361:\tlearn: 0.0726654\ttotal: 116ms\tremaining: 204ms\n",
            "362:\tlearn: 0.0723809\ttotal: 116ms\tremaining: 204ms\n",
            "363:\tlearn: 0.0721559\ttotal: 117ms\tremaining: 204ms\n",
            "364:\tlearn: 0.0719740\ttotal: 119ms\tremaining: 208ms\n",
            "365:\tlearn: 0.0716946\ttotal: 120ms\tremaining: 207ms\n",
            "366:\tlearn: 0.0714730\ttotal: 120ms\tremaining: 208ms\n",
            "367:\tlearn: 0.0712533\ttotal: 121ms\tremaining: 208ms\n",
            "368:\tlearn: 0.0710343\ttotal: 121ms\tremaining: 208ms\n",
            "369:\tlearn: 0.0708439\ttotal: 122ms\tremaining: 208ms\n",
            "370:\tlearn: 0.0705726\ttotal: 122ms\tremaining: 208ms\n",
            "371:\tlearn: 0.0703546\ttotal: 123ms\tremaining: 207ms\n",
            "372:\tlearn: 0.0700868\ttotal: 123ms\tremaining: 207ms\n",
            "373:\tlearn: 0.0698716\ttotal: 124ms\tremaining: 207ms\n",
            "374:\tlearn: 0.0696464\ttotal: 124ms\tremaining: 207ms\n",
            "375:\tlearn: 0.0694338\ttotal: 125ms\tremaining: 207ms\n",
            "376:\tlearn: 0.0691726\ttotal: 125ms\tremaining: 207ms\n",
            "377:\tlearn: 0.0689132\ttotal: 126ms\tremaining: 207ms\n",
            "378:\tlearn: 0.0687333\ttotal: 126ms\tremaining: 207ms\n",
            "379:\tlearn: 0.0684770\ttotal: 126ms\tremaining: 206ms\n",
            "380:\tlearn: 0.0683121\ttotal: 127ms\tremaining: 206ms\n",
            "381:\tlearn: 0.0681351\ttotal: 127ms\tremaining: 206ms\n",
            "382:\tlearn: 0.0678830\ttotal: 128ms\tremaining: 206ms\n",
            "383:\tlearn: 0.0676326\ttotal: 128ms\tremaining: 205ms\n",
            "384:\tlearn: 0.0673840\ttotal: 129ms\tremaining: 206ms\n",
            "385:\tlearn: 0.0671842\ttotal: 129ms\tremaining: 206ms\n",
            "386:\tlearn: 0.0669751\ttotal: 130ms\tremaining: 206ms\n",
            "387:\tlearn: 0.0668045\ttotal: 131ms\tremaining: 206ms\n",
            "388:\tlearn: 0.0666105\ttotal: 131ms\tremaining: 206ms\n",
            "389:\tlearn: 0.0664776\ttotal: 132ms\tremaining: 206ms\n",
            "390:\tlearn: 0.0662368\ttotal: 132ms\tremaining: 206ms\n",
            "391:\tlearn: 0.0659978\ttotal: 133ms\tremaining: 206ms\n",
            "392:\tlearn: 0.0658081\ttotal: 133ms\tremaining: 206ms\n",
            "393:\tlearn: 0.0656070\ttotal: 134ms\tremaining: 206ms\n",
            "394:\tlearn: 0.0654072\ttotal: 134ms\tremaining: 206ms\n",
            "395:\tlearn: 0.0652212\ttotal: 135ms\tremaining: 206ms\n",
            "396:\tlearn: 0.0649890\ttotal: 135ms\tremaining: 205ms\n",
            "397:\tlearn: 0.0648023\ttotal: 136ms\tremaining: 206ms\n",
            "398:\tlearn: 0.0646071\ttotal: 137ms\tremaining: 206ms\n",
            "399:\tlearn: 0.0644253\ttotal: 137ms\tremaining: 206ms\n",
            "400:\tlearn: 0.0642446\ttotal: 138ms\tremaining: 205ms\n",
            "401:\tlearn: 0.0640648\ttotal: 138ms\tremaining: 205ms\n",
            "402:\tlearn: 0.0638860\ttotal: 138ms\tremaining: 205ms\n",
            "403:\tlearn: 0.0637052\ttotal: 139ms\tremaining: 205ms\n",
            "404:\tlearn: 0.0634831\ttotal: 139ms\tremaining: 205ms\n",
            "405:\tlearn: 0.0632625\ttotal: 140ms\tremaining: 205ms\n",
            "406:\tlearn: 0.0630873\ttotal: 140ms\tremaining: 204ms\n",
            "407:\tlearn: 0.0628693\ttotal: 141ms\tremaining: 204ms\n",
            "408:\tlearn: 0.0626849\ttotal: 141ms\tremaining: 204ms\n",
            "409:\tlearn: 0.0625132\ttotal: 142ms\tremaining: 204ms\n",
            "410:\tlearn: 0.0623419\ttotal: 142ms\tremaining: 204ms\n",
            "411:\tlearn: 0.0621929\ttotal: 143ms\tremaining: 204ms\n",
            "412:\tlearn: 0.0620211\ttotal: 143ms\tremaining: 204ms\n",
            "413:\tlearn: 0.0618736\ttotal: 144ms\tremaining: 204ms\n",
            "414:\tlearn: 0.0617062\ttotal: 144ms\tremaining: 204ms\n",
            "415:\tlearn: 0.0615371\ttotal: 145ms\tremaining: 204ms\n",
            "416:\tlearn: 0.0613289\ttotal: 146ms\tremaining: 204ms\n",
            "417:\tlearn: 0.0611944\ttotal: 146ms\tremaining: 204ms\n",
            "418:\tlearn: 0.0609885\ttotal: 147ms\tremaining: 203ms\n",
            "419:\tlearn: 0.0607838\ttotal: 147ms\tremaining: 203ms\n",
            "420:\tlearn: 0.0606107\ttotal: 148ms\tremaining: 203ms\n",
            "421:\tlearn: 0.0604085\ttotal: 148ms\tremaining: 203ms\n",
            "422:\tlearn: 0.0602459\ttotal: 149ms\tremaining: 203ms\n",
            "423:\tlearn: 0.0600867\ttotal: 149ms\tremaining: 203ms\n",
            "424:\tlearn: 0.0599258\ttotal: 150ms\tremaining: 202ms\n",
            "425:\tlearn: 0.0597280\ttotal: 150ms\tremaining: 202ms\n",
            "426:\tlearn: 0.0595313\ttotal: 151ms\tremaining: 202ms\n",
            "427:\tlearn: 0.0593359\ttotal: 151ms\tremaining: 202ms\n",
            "428:\tlearn: 0.0591813\ttotal: 152ms\tremaining: 202ms\n",
            "429:\tlearn: 0.0590274\ttotal: 152ms\tremaining: 201ms\n",
            "430:\tlearn: 0.0588738\ttotal: 152ms\tremaining: 201ms\n",
            "431:\tlearn: 0.0587190\ttotal: 153ms\tremaining: 201ms\n",
            "432:\tlearn: 0.0585670\ttotal: 153ms\tremaining: 201ms\n",
            "433:\tlearn: 0.0584162\ttotal: 154ms\tremaining: 201ms\n",
            "434:\tlearn: 0.0582846\ttotal: 154ms\tremaining: 200ms\n",
            "435:\tlearn: 0.0580967\ttotal: 155ms\tremaining: 200ms\n",
            "436:\tlearn: 0.0579101\ttotal: 155ms\tremaining: 200ms\n",
            "437:\tlearn: 0.0578080\ttotal: 156ms\tremaining: 200ms\n",
            "438:\tlearn: 0.0577062\ttotal: 156ms\tremaining: 200ms\n",
            "439:\tlearn: 0.0575863\ttotal: 157ms\tremaining: 199ms\n",
            "440:\tlearn: 0.0574583\ttotal: 157ms\tremaining: 199ms\n",
            "441:\tlearn: 0.0572754\ttotal: 157ms\tremaining: 199ms\n",
            "442:\tlearn: 0.0571286\ttotal: 158ms\tremaining: 199ms\n",
            "443:\tlearn: 0.0569477\ttotal: 158ms\tremaining: 198ms\n",
            "444:\tlearn: 0.0567944\ttotal: 159ms\tremaining: 198ms\n",
            "445:\tlearn: 0.0566517\ttotal: 159ms\tremaining: 197ms\n",
            "446:\tlearn: 0.0565101\ttotal: 159ms\tremaining: 197ms\n",
            "447:\tlearn: 0.0563866\ttotal: 160ms\tremaining: 197ms\n",
            "448:\tlearn: 0.0562459\ttotal: 160ms\tremaining: 196ms\n",
            "449:\tlearn: 0.0560702\ttotal: 161ms\tremaining: 196ms\n",
            "450:\tlearn: 0.0559214\ttotal: 161ms\tremaining: 196ms\n",
            "451:\tlearn: 0.0557477\ttotal: 162ms\tremaining: 196ms\n",
            "452:\tlearn: 0.0556354\ttotal: 162ms\tremaining: 196ms\n",
            "453:\tlearn: 0.0554889\ttotal: 163ms\tremaining: 196ms\n",
            "454:\tlearn: 0.0553505\ttotal: 163ms\tremaining: 195ms\n",
            "455:\tlearn: 0.0552054\ttotal: 164ms\tremaining: 195ms\n",
            "456:\tlearn: 0.0550360\ttotal: 164ms\tremaining: 195ms\n",
            "457:\tlearn: 0.0548676\ttotal: 165ms\tremaining: 195ms\n",
            "458:\tlearn: 0.0547343\ttotal: 165ms\tremaining: 194ms\n",
            "459:\tlearn: 0.0546012\ttotal: 165ms\tremaining: 194ms\n",
            "460:\tlearn: 0.0544353\ttotal: 166ms\tremaining: 194ms\n",
            "461:\tlearn: 0.0542704\ttotal: 166ms\tremaining: 193ms\n",
            "462:\tlearn: 0.0541064\ttotal: 166ms\tremaining: 193ms\n",
            "463:\tlearn: 0.0539766\ttotal: 167ms\tremaining: 193ms\n",
            "464:\tlearn: 0.0538470\ttotal: 167ms\tremaining: 192ms\n",
            "465:\tlearn: 0.0536855\ttotal: 168ms\tremaining: 192ms\n",
            "466:\tlearn: 0.0535249\ttotal: 168ms\tremaining: 192ms\n",
            "467:\tlearn: 0.0534214\ttotal: 169ms\tremaining: 192ms\n",
            "468:\tlearn: 0.0532943\ttotal: 169ms\tremaining: 191ms\n",
            "469:\tlearn: 0.0531594\ttotal: 170ms\tremaining: 191ms\n",
            "470:\tlearn: 0.0530338\ttotal: 170ms\tremaining: 191ms\n",
            "471:\tlearn: 0.0529085\ttotal: 170ms\tremaining: 191ms\n",
            "472:\tlearn: 0.0527523\ttotal: 171ms\tremaining: 190ms\n",
            "473:\tlearn: 0.0526200\ttotal: 171ms\tremaining: 190ms\n",
            "474:\tlearn: 0.0524654\ttotal: 172ms\tremaining: 190ms\n",
            "475:\tlearn: 0.0523118\ttotal: 172ms\tremaining: 190ms\n",
            "476:\tlearn: 0.0521900\ttotal: 173ms\tremaining: 190ms\n",
            "477:\tlearn: 0.0520684\ttotal: 173ms\tremaining: 189ms\n",
            "478:\tlearn: 0.0519169\ttotal: 174ms\tremaining: 189ms\n",
            "479:\tlearn: 0.0517969\ttotal: 174ms\tremaining: 189ms\n",
            "480:\tlearn: 0.0516469\ttotal: 175ms\tremaining: 188ms\n",
            "481:\tlearn: 0.0514978\ttotal: 175ms\tremaining: 188ms\n",
            "482:\tlearn: 0.0513495\ttotal: 176ms\tremaining: 188ms\n",
            "483:\tlearn: 0.0512319\ttotal: 176ms\tremaining: 188ms\n",
            "484:\tlearn: 0.0511130\ttotal: 177ms\tremaining: 187ms\n",
            "485:\tlearn: 0.0509668\ttotal: 177ms\tremaining: 187ms\n",
            "486:\tlearn: 0.0508505\ttotal: 177ms\tremaining: 187ms\n",
            "487:\tlearn: 0.0507058\ttotal: 178ms\tremaining: 187ms\n",
            "488:\tlearn: 0.0505618\ttotal: 178ms\tremaining: 186ms\n",
            "489:\tlearn: 0.0504615\ttotal: 179ms\tremaining: 186ms\n",
            "490:\tlearn: 0.0503188\ttotal: 179ms\tremaining: 186ms\n",
            "491:\tlearn: 0.0502195\ttotal: 180ms\tremaining: 185ms\n",
            "492:\tlearn: 0.0501205\ttotal: 180ms\tremaining: 185ms\n",
            "493:\tlearn: 0.0499796\ttotal: 180ms\tremaining: 184ms\n",
            "494:\tlearn: 0.0498396\ttotal: 181ms\tremaining: 184ms\n",
            "495:\tlearn: 0.0497002\ttotal: 181ms\tremaining: 184ms\n",
            "496:\tlearn: 0.0495616\ttotal: 181ms\tremaining: 183ms\n",
            "497:\tlearn: 0.0494518\ttotal: 181ms\tremaining: 183ms\n",
            "498:\tlearn: 0.0493146\ttotal: 181ms\tremaining: 182ms\n",
            "499:\tlearn: 0.0491780\ttotal: 181ms\tremaining: 181ms\n",
            "500:\tlearn: 0.0490881\ttotal: 182ms\tremaining: 181ms\n",
            "501:\tlearn: 0.0489528\ttotal: 182ms\tremaining: 180ms\n",
            "502:\tlearn: 0.0488182\ttotal: 182ms\tremaining: 180ms\n",
            "503:\tlearn: 0.0486844\ttotal: 182ms\tremaining: 179ms\n",
            "504:\tlearn: 0.0485512\ttotal: 182ms\tremaining: 179ms\n",
            "505:\tlearn: 0.0484780\ttotal: 183ms\tremaining: 178ms\n",
            "506:\tlearn: 0.0483459\ttotal: 183ms\tremaining: 178ms\n",
            "507:\tlearn: 0.0482145\ttotal: 183ms\tremaining: 177ms\n",
            "508:\tlearn: 0.0480838\ttotal: 183ms\tremaining: 177ms\n",
            "509:\tlearn: 0.0479538\ttotal: 183ms\tremaining: 176ms\n",
            "510:\tlearn: 0.0478630\ttotal: 183ms\tremaining: 176ms\n",
            "511:\tlearn: 0.0477602\ttotal: 184ms\tremaining: 175ms\n",
            "512:\tlearn: 0.0476561\ttotal: 184ms\tremaining: 175ms\n",
            "513:\tlearn: 0.0475283\ttotal: 184ms\tremaining: 174ms\n",
            "514:\tlearn: 0.0474252\ttotal: 185ms\tremaining: 174ms\n",
            "515:\tlearn: 0.0473226\ttotal: 185ms\tremaining: 173ms\n",
            "516:\tlearn: 0.0471965\ttotal: 185ms\tremaining: 173ms\n",
            "517:\tlearn: 0.0470710\ttotal: 185ms\tremaining: 172ms\n",
            "518:\tlearn: 0.0469698\ttotal: 186ms\tremaining: 172ms\n",
            "519:\tlearn: 0.0468826\ttotal: 186ms\tremaining: 171ms\n",
            "520:\tlearn: 0.0468019\ttotal: 186ms\tremaining: 171ms\n",
            "521:\tlearn: 0.0466784\ttotal: 186ms\tremaining: 170ms\n",
            "522:\tlearn: 0.0465983\ttotal: 186ms\tremaining: 170ms\n",
            "523:\tlearn: 0.0464758\ttotal: 186ms\tremaining: 169ms\n",
            "524:\tlearn: 0.0463786\ttotal: 187ms\tremaining: 169ms\n",
            "525:\tlearn: 0.0462819\ttotal: 187ms\tremaining: 168ms\n",
            "526:\tlearn: 0.0462018\ttotal: 187ms\tremaining: 168ms\n",
            "527:\tlearn: 0.0461055\ttotal: 187ms\tremaining: 167ms\n",
            "528:\tlearn: 0.0460098\ttotal: 187ms\tremaining: 167ms\n",
            "529:\tlearn: 0.0459145\ttotal: 187ms\tremaining: 166ms\n",
            "530:\tlearn: 0.0458311\ttotal: 188ms\tremaining: 166ms\n",
            "531:\tlearn: 0.0457299\ttotal: 188ms\tremaining: 165ms\n",
            "532:\tlearn: 0.0456358\ttotal: 188ms\tremaining: 165ms\n",
            "533:\tlearn: 0.0455180\ttotal: 188ms\tremaining: 164ms\n",
            "534:\tlearn: 0.0454421\ttotal: 188ms\tremaining: 164ms\n",
            "535:\tlearn: 0.0453426\ttotal: 188ms\tremaining: 163ms\n",
            "536:\tlearn: 0.0452672\ttotal: 189ms\tremaining: 163ms\n",
            "537:\tlearn: 0.0451745\ttotal: 189ms\tremaining: 162ms\n",
            "538:\tlearn: 0.0450590\ttotal: 189ms\tremaining: 162ms\n",
            "539:\tlearn: 0.0449442\ttotal: 189ms\tremaining: 161ms\n",
            "540:\tlearn: 0.0448531\ttotal: 189ms\tremaining: 161ms\n",
            "541:\tlearn: 0.0447620\ttotal: 189ms\tremaining: 160ms\n",
            "542:\tlearn: 0.0446486\ttotal: 190ms\tremaining: 160ms\n",
            "543:\tlearn: 0.0445587\ttotal: 190ms\tremaining: 159ms\n",
            "544:\tlearn: 0.0444691\ttotal: 190ms\tremaining: 159ms\n",
            "545:\tlearn: 0.0443736\ttotal: 190ms\tremaining: 158ms\n",
            "546:\tlearn: 0.0443013\ttotal: 190ms\tremaining: 158ms\n",
            "547:\tlearn: 0.0441901\ttotal: 190ms\tremaining: 157ms\n",
            "548:\tlearn: 0.0441184\ttotal: 191ms\tremaining: 157ms\n",
            "549:\tlearn: 0.0440081\ttotal: 191ms\tremaining: 156ms\n",
            "550:\tlearn: 0.0439191\ttotal: 191ms\tremaining: 156ms\n",
            "551:\tlearn: 0.0438097\ttotal: 191ms\tremaining: 155ms\n",
            "552:\tlearn: 0.0437230\ttotal: 191ms\tremaining: 155ms\n",
            "553:\tlearn: 0.0436146\ttotal: 191ms\tremaining: 154ms\n",
            "554:\tlearn: 0.0435067\ttotal: 192ms\tremaining: 154ms\n",
            "555:\tlearn: 0.0433993\ttotal: 192ms\tremaining: 153ms\n",
            "556:\tlearn: 0.0432924\ttotal: 192ms\tremaining: 153ms\n",
            "557:\tlearn: 0.0432178\ttotal: 192ms\tremaining: 152ms\n",
            "558:\tlearn: 0.0431333\ttotal: 192ms\tremaining: 152ms\n",
            "559:\tlearn: 0.0430277\ttotal: 192ms\tremaining: 151ms\n",
            "560:\tlearn: 0.0429226\ttotal: 192ms\tremaining: 151ms\n",
            "561:\tlearn: 0.0428180\ttotal: 193ms\tremaining: 150ms\n",
            "562:\tlearn: 0.0427350\ttotal: 193ms\tremaining: 150ms\n",
            "563:\tlearn: 0.0426519\ttotal: 193ms\tremaining: 149ms\n",
            "564:\tlearn: 0.0425696\ttotal: 193ms\tremaining: 149ms\n",
            "565:\tlearn: 0.0424666\ttotal: 193ms\tremaining: 148ms\n",
            "566:\tlearn: 0.0423846\ttotal: 193ms\tremaining: 148ms\n",
            "567:\tlearn: 0.0422824\ttotal: 194ms\tremaining: 147ms\n",
            "568:\tlearn: 0.0421808\ttotal: 194ms\tremaining: 147ms\n",
            "569:\tlearn: 0.0420998\ttotal: 194ms\tremaining: 146ms\n",
            "570:\tlearn: 0.0420140\ttotal: 194ms\tremaining: 146ms\n",
            "571:\tlearn: 0.0419326\ttotal: 194ms\tremaining: 145ms\n",
            "572:\tlearn: 0.0418325\ttotal: 194ms\tremaining: 145ms\n",
            "573:\tlearn: 0.0417477\ttotal: 195ms\tremaining: 144ms\n",
            "574:\tlearn: 0.0416687\ttotal: 195ms\tremaining: 144ms\n",
            "575:\tlearn: 0.0415699\ttotal: 195ms\tremaining: 143ms\n",
            "576:\tlearn: 0.0414911\ttotal: 195ms\tremaining: 143ms\n",
            "577:\tlearn: 0.0413931\ttotal: 195ms\tremaining: 143ms\n",
            "578:\tlearn: 0.0413285\ttotal: 195ms\tremaining: 142ms\n",
            "579:\tlearn: 0.0412506\ttotal: 196ms\tremaining: 142ms\n",
            "580:\tlearn: 0.0411537\ttotal: 196ms\tremaining: 141ms\n",
            "581:\tlearn: 0.0410572\ttotal: 196ms\tremaining: 141ms\n",
            "582:\tlearn: 0.0409804\ttotal: 196ms\tremaining: 140ms\n",
            "583:\tlearn: 0.0409027\ttotal: 196ms\tremaining: 140ms\n",
            "584:\tlearn: 0.0408074\ttotal: 196ms\tremaining: 139ms\n",
            "585:\tlearn: 0.0407266\ttotal: 197ms\tremaining: 139ms\n",
            "586:\tlearn: 0.0406512\ttotal: 197ms\tremaining: 138ms\n",
            "587:\tlearn: 0.0405570\ttotal: 197ms\tremaining: 138ms\n",
            "588:\tlearn: 0.0404961\ttotal: 197ms\tremaining: 138ms\n",
            "589:\tlearn: 0.0404215\ttotal: 197ms\tremaining: 137ms\n",
            "590:\tlearn: 0.0403472\ttotal: 198ms\tremaining: 137ms\n",
            "591:\tlearn: 0.0402731\ttotal: 198ms\tremaining: 136ms\n",
            "592:\tlearn: 0.0402131\ttotal: 198ms\tremaining: 136ms\n",
            "593:\tlearn: 0.0401208\ttotal: 198ms\tremaining: 135ms\n",
            "594:\tlearn: 0.0400290\ttotal: 198ms\tremaining: 135ms\n",
            "595:\tlearn: 0.0399647\ttotal: 199ms\tremaining: 135ms\n",
            "596:\tlearn: 0.0399056\ttotal: 199ms\tremaining: 134ms\n",
            "597:\tlearn: 0.0398328\ttotal: 199ms\tremaining: 134ms\n",
            "598:\tlearn: 0.0397422\ttotal: 199ms\tremaining: 133ms\n",
            "599:\tlearn: 0.0396520\ttotal: 199ms\tremaining: 133ms\n",
            "600:\tlearn: 0.0395804\ttotal: 199ms\tremaining: 132ms\n",
            "601:\tlearn: 0.0395220\ttotal: 200ms\tremaining: 132ms\n",
            "602:\tlearn: 0.0394328\ttotal: 200ms\tremaining: 132ms\n",
            "603:\tlearn: 0.0393751\ttotal: 200ms\tremaining: 131ms\n",
            "604:\tlearn: 0.0393042\ttotal: 200ms\tremaining: 131ms\n",
            "605:\tlearn: 0.0392325\ttotal: 200ms\tremaining: 130ms\n",
            "606:\tlearn: 0.0391624\ttotal: 201ms\tremaining: 130ms\n",
            "607:\tlearn: 0.0390913\ttotal: 201ms\tremaining: 129ms\n",
            "608:\tlearn: 0.0390299\ttotal: 201ms\tremaining: 129ms\n",
            "609:\tlearn: 0.0389734\ttotal: 201ms\tremaining: 129ms\n",
            "610:\tlearn: 0.0388865\ttotal: 201ms\tremaining: 128ms\n",
            "611:\tlearn: 0.0388176\ttotal: 201ms\tremaining: 128ms\n",
            "612:\tlearn: 0.0387477\ttotal: 202ms\tremaining: 127ms\n",
            "613:\tlearn: 0.0386789\ttotal: 202ms\tremaining: 127ms\n",
            "614:\tlearn: 0.0386231\ttotal: 202ms\tremaining: 126ms\n",
            "615:\tlearn: 0.0385551\ttotal: 202ms\tremaining: 126ms\n",
            "616:\tlearn: 0.0384873\ttotal: 202ms\tremaining: 126ms\n",
            "617:\tlearn: 0.0384278\ttotal: 202ms\tremaining: 125ms\n",
            "618:\tlearn: 0.0383557\ttotal: 203ms\tremaining: 125ms\n",
            "619:\tlearn: 0.0382714\ttotal: 203ms\tremaining: 124ms\n",
            "620:\tlearn: 0.0382046\ttotal: 203ms\tremaining: 124ms\n",
            "621:\tlearn: 0.0381209\ttotal: 203ms\tremaining: 123ms\n",
            "622:\tlearn: 0.0380500\ttotal: 203ms\tremaining: 123ms\n",
            "623:\tlearn: 0.0379839\ttotal: 203ms\tremaining: 123ms\n",
            "624:\tlearn: 0.0379303\ttotal: 204ms\tremaining: 122ms\n",
            "625:\tlearn: 0.0378478\ttotal: 204ms\tremaining: 122ms\n",
            "626:\tlearn: 0.0377821\ttotal: 204ms\tremaining: 121ms\n",
            "627:\tlearn: 0.0377157\ttotal: 204ms\tremaining: 121ms\n",
            "628:\tlearn: 0.0376341\ttotal: 204ms\tremaining: 120ms\n",
            "629:\tlearn: 0.0375682\ttotal: 204ms\tremaining: 120ms\n",
            "630:\tlearn: 0.0374872\ttotal: 205ms\tremaining: 120ms\n",
            "631:\tlearn: 0.0374218\ttotal: 205ms\tremaining: 119ms\n",
            "632:\tlearn: 0.0373567\ttotal: 205ms\tremaining: 119ms\n",
            "633:\tlearn: 0.0372918\ttotal: 205ms\tremaining: 118ms\n",
            "634:\tlearn: 0.0372237\ttotal: 205ms\tremaining: 118ms\n",
            "635:\tlearn: 0.0371722\ttotal: 205ms\tremaining: 118ms\n",
            "636:\tlearn: 0.0371087\ttotal: 206ms\tremaining: 117ms\n",
            "637:\tlearn: 0.0370296\ttotal: 206ms\tremaining: 117ms\n",
            "638:\tlearn: 0.0369509\ttotal: 206ms\tremaining: 116ms\n",
            "639:\tlearn: 0.0368724\ttotal: 206ms\tremaining: 116ms\n",
            "640:\tlearn: 0.0367943\ttotal: 206ms\tremaining: 115ms\n",
            "641:\tlearn: 0.0367312\ttotal: 206ms\tremaining: 115ms\n",
            "642:\tlearn: 0.0366692\ttotal: 207ms\tremaining: 115ms\n",
            "643:\tlearn: 0.0366077\ttotal: 207ms\tremaining: 114ms\n",
            "644:\tlearn: 0.0365537\ttotal: 207ms\tremaining: 114ms\n",
            "645:\tlearn: 0.0364768\ttotal: 207ms\tremaining: 113ms\n",
            "646:\tlearn: 0.0364262\ttotal: 207ms\tremaining: 113ms\n",
            "647:\tlearn: 0.0363612\ttotal: 207ms\tremaining: 113ms\n",
            "648:\tlearn: 0.0362851\ttotal: 208ms\tremaining: 112ms\n",
            "649:\tlearn: 0.0362360\ttotal: 208ms\tremaining: 112ms\n",
            "650:\tlearn: 0.0361605\ttotal: 208ms\tremaining: 111ms\n",
            "651:\tlearn: 0.0360995\ttotal: 208ms\tremaining: 111ms\n",
            "652:\tlearn: 0.0360388\ttotal: 208ms\tremaining: 111ms\n",
            "653:\tlearn: 0.0359640\ttotal: 208ms\tremaining: 110ms\n",
            "654:\tlearn: 0.0358896\ttotal: 209ms\tremaining: 110ms\n",
            "655:\tlearn: 0.0358295\ttotal: 209ms\tremaining: 109ms\n",
            "656:\tlearn: 0.0357556\ttotal: 209ms\tremaining: 109ms\n",
            "657:\tlearn: 0.0356967\ttotal: 209ms\tremaining: 109ms\n",
            "658:\tlearn: 0.0356372\ttotal: 209ms\tremaining: 108ms\n",
            "659:\tlearn: 0.0355641\ttotal: 209ms\tremaining: 108ms\n",
            "660:\tlearn: 0.0355020\ttotal: 210ms\tremaining: 107ms\n",
            "661:\tlearn: 0.0354294\ttotal: 210ms\tremaining: 107ms\n",
            "662:\tlearn: 0.0353787\ttotal: 210ms\tremaining: 107ms\n",
            "663:\tlearn: 0.0353210\ttotal: 210ms\tremaining: 106ms\n",
            "664:\tlearn: 0.0352491\ttotal: 210ms\tremaining: 106ms\n",
            "665:\tlearn: 0.0351921\ttotal: 210ms\tremaining: 105ms\n",
            "666:\tlearn: 0.0351207\ttotal: 211ms\tremaining: 105ms\n",
            "667:\tlearn: 0.0350601\ttotal: 211ms\tremaining: 105ms\n",
            "668:\tlearn: 0.0350132\ttotal: 211ms\tremaining: 104ms\n",
            "669:\tlearn: 0.0349425\ttotal: 211ms\tremaining: 104ms\n",
            "670:\tlearn: 0.0348862\ttotal: 211ms\tremaining: 104ms\n",
            "671:\tlearn: 0.0348160\ttotal: 212ms\tremaining: 103ms\n",
            "672:\tlearn: 0.0347603\ttotal: 212ms\tremaining: 103ms\n",
            "673:\tlearn: 0.0347114\ttotal: 212ms\tremaining: 102ms\n",
            "674:\tlearn: 0.0346419\ttotal: 212ms\tremaining: 102ms\n",
            "675:\tlearn: 0.0345727\ttotal: 212ms\tremaining: 102ms\n",
            "676:\tlearn: 0.0345177\ttotal: 212ms\tremaining: 101ms\n",
            "677:\tlearn: 0.0344592\ttotal: 213ms\tremaining: 101ms\n",
            "678:\tlearn: 0.0344043\ttotal: 213ms\tremaining: 101ms\n",
            "679:\tlearn: 0.0343489\ttotal: 213ms\tremaining: 100ms\n",
            "680:\tlearn: 0.0342947\ttotal: 213ms\tremaining: 99.8ms\n",
            "681:\tlearn: 0.0342268\ttotal: 213ms\tremaining: 99.4ms\n",
            "682:\tlearn: 0.0341591\ttotal: 213ms\tremaining: 99ms\n",
            "683:\tlearn: 0.0341045\ttotal: 213ms\tremaining: 98.6ms\n",
            "684:\tlearn: 0.0340473\ttotal: 214ms\tremaining: 98.3ms\n",
            "685:\tlearn: 0.0339804\ttotal: 214ms\tremaining: 97.9ms\n",
            "686:\tlearn: 0.0339137\ttotal: 214ms\tremaining: 97.5ms\n",
            "687:\tlearn: 0.0338697\ttotal: 214ms\tremaining: 97.1ms\n",
            "688:\tlearn: 0.0338265\ttotal: 214ms\tremaining: 96.7ms\n",
            "689:\tlearn: 0.0337738\ttotal: 214ms\tremaining: 96.4ms\n",
            "690:\tlearn: 0.0337204\ttotal: 215ms\tremaining: 96ms\n",
            "691:\tlearn: 0.0336778\ttotal: 215ms\tremaining: 95.6ms\n",
            "692:\tlearn: 0.0336122\ttotal: 215ms\tremaining: 95.2ms\n",
            "693:\tlearn: 0.0335600\ttotal: 215ms\tremaining: 94.9ms\n",
            "694:\tlearn: 0.0334949\ttotal: 215ms\tremaining: 94.5ms\n",
            "695:\tlearn: 0.0334300\ttotal: 215ms\tremaining: 94.1ms\n",
            "696:\tlearn: 0.0333654\ttotal: 216ms\tremaining: 93.7ms\n",
            "697:\tlearn: 0.0333010\ttotal: 216ms\tremaining: 93.3ms\n",
            "698:\tlearn: 0.0332586\ttotal: 216ms\tremaining: 93ms\n",
            "699:\tlearn: 0.0332067\ttotal: 216ms\tremaining: 92.6ms\n",
            "700:\tlearn: 0.0331556\ttotal: 216ms\tremaining: 92.3ms\n",
            "701:\tlearn: 0.0331047\ttotal: 216ms\tremaining: 91.9ms\n",
            "702:\tlearn: 0.0330542\ttotal: 217ms\tremaining: 91.5ms\n",
            "703:\tlearn: 0.0330036\ttotal: 217ms\tremaining: 91.1ms\n",
            "704:\tlearn: 0.0329534\ttotal: 217ms\tremaining: 90.8ms\n",
            "705:\tlearn: 0.0329024\ttotal: 217ms\tremaining: 90.4ms\n",
            "706:\tlearn: 0.0328397\ttotal: 217ms\tremaining: 90ms\n",
            "707:\tlearn: 0.0327900\ttotal: 217ms\tremaining: 89.7ms\n",
            "708:\tlearn: 0.0327278\ttotal: 218ms\tremaining: 89.3ms\n",
            "709:\tlearn: 0.0326657\ttotal: 218ms\tremaining: 88.9ms\n",
            "710:\tlearn: 0.0326163\ttotal: 218ms\tremaining: 88.5ms\n",
            "711:\tlearn: 0.0325547\ttotal: 218ms\tremaining: 88.2ms\n",
            "712:\tlearn: 0.0324933\ttotal: 218ms\tremaining: 87.8ms\n",
            "713:\tlearn: 0.0324443\ttotal: 218ms\tremaining: 87.4ms\n",
            "714:\tlearn: 0.0323834\ttotal: 218ms\tremaining: 87.1ms\n",
            "715:\tlearn: 0.0323226\ttotal: 219ms\tremaining: 86.7ms\n",
            "716:\tlearn: 0.0322621\ttotal: 219ms\tremaining: 86.3ms\n",
            "717:\tlearn: 0.0322132\ttotal: 219ms\tremaining: 86ms\n",
            "718:\tlearn: 0.0321644\ttotal: 219ms\tremaining: 85.6ms\n",
            "719:\tlearn: 0.0321164\ttotal: 219ms\tremaining: 85.2ms\n",
            "720:\tlearn: 0.0320688\ttotal: 219ms\tremaining: 84.9ms\n",
            "721:\tlearn: 0.0320092\ttotal: 220ms\tremaining: 84.5ms\n",
            "722:\tlearn: 0.0319498\ttotal: 220ms\tremaining: 84.2ms\n",
            "723:\tlearn: 0.0319018\ttotal: 220ms\tremaining: 83.8ms\n",
            "724:\tlearn: 0.0318546\ttotal: 220ms\tremaining: 83.5ms\n",
            "725:\tlearn: 0.0317957\ttotal: 220ms\tremaining: 83.1ms\n",
            "726:\tlearn: 0.0317458\ttotal: 220ms\tremaining: 82.8ms\n",
            "727:\tlearn: 0.0316992\ttotal: 221ms\tremaining: 82.4ms\n",
            "728:\tlearn: 0.0316409\ttotal: 221ms\tremaining: 82ms\n",
            "729:\tlearn: 0.0316032\ttotal: 221ms\tremaining: 81.7ms\n",
            "730:\tlearn: 0.0315625\ttotal: 221ms\tremaining: 81.4ms\n",
            "731:\tlearn: 0.0315165\ttotal: 221ms\tremaining: 81ms\n",
            "732:\tlearn: 0.0314588\ttotal: 221ms\tremaining: 80.6ms\n",
            "733:\tlearn: 0.0314129\ttotal: 222ms\tremaining: 80.3ms\n",
            "734:\tlearn: 0.0313670\ttotal: 222ms\tremaining: 79.9ms\n",
            "735:\tlearn: 0.0313270\ttotal: 222ms\tremaining: 79.6ms\n",
            "736:\tlearn: 0.0312700\ttotal: 222ms\tremaining: 79.2ms\n",
            "737:\tlearn: 0.0312248\ttotal: 222ms\tremaining: 78.9ms\n",
            "738:\tlearn: 0.0311795\ttotal: 222ms\tremaining: 78.5ms\n",
            "739:\tlearn: 0.0311230\ttotal: 223ms\tremaining: 78.2ms\n",
            "740:\tlearn: 0.0310780\ttotal: 223ms\tremaining: 77.9ms\n",
            "741:\tlearn: 0.0310219\ttotal: 223ms\tremaining: 77.5ms\n",
            "742:\tlearn: 0.0309774\ttotal: 223ms\tremaining: 77.2ms\n",
            "743:\tlearn: 0.0309322\ttotal: 223ms\tremaining: 76.8ms\n",
            "744:\tlearn: 0.0308879\ttotal: 223ms\tremaining: 76.5ms\n",
            "745:\tlearn: 0.0308436\ttotal: 224ms\tremaining: 76.1ms\n",
            "746:\tlearn: 0.0307964\ttotal: 224ms\tremaining: 75.8ms\n",
            "747:\tlearn: 0.0307524\ttotal: 224ms\tremaining: 75.4ms\n",
            "748:\tlearn: 0.0306974\ttotal: 224ms\tremaining: 75.1ms\n",
            "749:\tlearn: 0.0306538\ttotal: 224ms\tremaining: 74.7ms\n",
            "750:\tlearn: 0.0306103\ttotal: 224ms\tremaining: 74.4ms\n",
            "751:\tlearn: 0.0305667\ttotal: 224ms\tremaining: 74ms\n",
            "752:\tlearn: 0.0305235\ttotal: 225ms\tremaining: 73.7ms\n",
            "753:\tlearn: 0.0304693\ttotal: 225ms\tremaining: 73.3ms\n",
            "754:\tlearn: 0.0304255\ttotal: 225ms\tremaining: 73ms\n",
            "755:\tlearn: 0.0303717\ttotal: 225ms\tremaining: 72.6ms\n",
            "756:\tlearn: 0.0303180\ttotal: 225ms\tremaining: 72.3ms\n",
            "757:\tlearn: 0.0302645\ttotal: 225ms\tremaining: 72ms\n",
            "758:\tlearn: 0.0302190\ttotal: 226ms\tremaining: 71.6ms\n",
            "759:\tlearn: 0.0301766\ttotal: 226ms\tremaining: 71.3ms\n",
            "760:\tlearn: 0.0301236\ttotal: 226ms\tremaining: 70.9ms\n",
            "761:\tlearn: 0.0300865\ttotal: 226ms\tremaining: 70.6ms\n",
            "762:\tlearn: 0.0300496\ttotal: 226ms\tremaining: 70.3ms\n",
            "763:\tlearn: 0.0300128\ttotal: 227ms\tremaining: 70ms\n",
            "764:\tlearn: 0.0299708\ttotal: 227ms\tremaining: 69.6ms\n",
            "765:\tlearn: 0.0299291\ttotal: 227ms\tremaining: 69.3ms\n",
            "766:\tlearn: 0.0298769\ttotal: 227ms\tremaining: 69ms\n",
            "767:\tlearn: 0.0298249\ttotal: 227ms\tremaining: 68.6ms\n",
            "768:\tlearn: 0.0297837\ttotal: 227ms\tremaining: 68.3ms\n",
            "769:\tlearn: 0.0297320\ttotal: 227ms\tremaining: 67.9ms\n",
            "770:\tlearn: 0.0296805\ttotal: 228ms\tremaining: 67.6ms\n",
            "771:\tlearn: 0.0296389\ttotal: 228ms\tremaining: 67.3ms\n",
            "772:\tlearn: 0.0296050\ttotal: 228ms\tremaining: 67ms\n",
            "773:\tlearn: 0.0295644\ttotal: 228ms\tremaining: 66.6ms\n",
            "774:\tlearn: 0.0295238\ttotal: 228ms\tremaining: 66.3ms\n",
            "775:\tlearn: 0.0294730\ttotal: 229ms\tremaining: 66ms\n",
            "776:\tlearn: 0.0294326\ttotal: 229ms\tremaining: 65.6ms\n",
            "777:\tlearn: 0.0293917\ttotal: 229ms\tremaining: 65.3ms\n",
            "778:\tlearn: 0.0293516\ttotal: 229ms\tremaining: 65ms\n",
            "779:\tlearn: 0.0293014\ttotal: 229ms\tremaining: 64.6ms\n",
            "780:\tlearn: 0.0292616\ttotal: 229ms\tremaining: 64.3ms\n",
            "781:\tlearn: 0.0292339\ttotal: 229ms\tremaining: 64ms\n",
            "782:\tlearn: 0.0292016\ttotal: 230ms\tremaining: 63.6ms\n",
            "783:\tlearn: 0.0291619\ttotal: 230ms\tremaining: 63.3ms\n",
            "784:\tlearn: 0.0291123\ttotal: 230ms\tremaining: 63ms\n",
            "785:\tlearn: 0.0290722\ttotal: 230ms\tremaining: 62.7ms\n",
            "786:\tlearn: 0.0290403\ttotal: 230ms\tremaining: 62.3ms\n",
            "787:\tlearn: 0.0289911\ttotal: 230ms\tremaining: 62ms\n",
            "788:\tlearn: 0.0289519\ttotal: 231ms\tremaining: 61.7ms\n",
            "789:\tlearn: 0.0289130\ttotal: 231ms\tremaining: 61.3ms\n",
            "790:\tlearn: 0.0288742\ttotal: 231ms\tremaining: 61ms\n",
            "791:\tlearn: 0.0288255\ttotal: 231ms\tremaining: 60.7ms\n",
            "792:\tlearn: 0.0287987\ttotal: 231ms\tremaining: 60.4ms\n",
            "793:\tlearn: 0.0287503\ttotal: 231ms\tremaining: 60.1ms\n",
            "794:\tlearn: 0.0287091\ttotal: 232ms\tremaining: 59.7ms\n",
            "795:\tlearn: 0.0286609\ttotal: 232ms\tremaining: 59.4ms\n",
            "796:\tlearn: 0.0286221\ttotal: 232ms\tremaining: 59.1ms\n",
            "797:\tlearn: 0.0285886\ttotal: 232ms\tremaining: 58.8ms\n",
            "798:\tlearn: 0.0285507\ttotal: 232ms\tremaining: 58.5ms\n",
            "799:\tlearn: 0.0285129\ttotal: 239ms\tremaining: 59.7ms\n",
            "800:\tlearn: 0.0284744\ttotal: 245ms\tremaining: 60.8ms\n",
            "801:\tlearn: 0.0284366\ttotal: 246ms\tremaining: 60.6ms\n",
            "802:\tlearn: 0.0283991\ttotal: 246ms\tremaining: 60.4ms\n",
            "803:\tlearn: 0.0283519\ttotal: 246ms\tremaining: 60.1ms\n",
            "804:\tlearn: 0.0283146\ttotal: 247ms\tremaining: 59.8ms\n",
            "805:\tlearn: 0.0282767\ttotal: 248ms\tremaining: 59.6ms\n",
            "806:\tlearn: 0.0282300\ttotal: 248ms\tremaining: 59.3ms\n",
            "807:\tlearn: 0.0281928\ttotal: 248ms\tremaining: 59ms\n",
            "808:\tlearn: 0.0281531\ttotal: 249ms\tremaining: 58.7ms\n",
            "809:\tlearn: 0.0281224\ttotal: 249ms\tremaining: 58.4ms\n",
            "810:\tlearn: 0.0280924\ttotal: 249ms\tremaining: 58.1ms\n",
            "811:\tlearn: 0.0280556\ttotal: 250ms\tremaining: 57.8ms\n",
            "812:\tlearn: 0.0280163\ttotal: 250ms\tremaining: 57.5ms\n",
            "813:\tlearn: 0.0279792\ttotal: 250ms\tremaining: 57.1ms\n",
            "814:\tlearn: 0.0279334\ttotal: 250ms\tremaining: 56.8ms\n",
            "815:\tlearn: 0.0278877\ttotal: 250ms\tremaining: 56.4ms\n",
            "816:\tlearn: 0.0278422\ttotal: 250ms\tremaining: 56.1ms\n",
            "817:\tlearn: 0.0277969\ttotal: 251ms\tremaining: 55.8ms\n",
            "818:\tlearn: 0.0277517\ttotal: 251ms\tremaining: 55.4ms\n",
            "819:\tlearn: 0.0277066\ttotal: 251ms\tremaining: 55.1ms\n",
            "820:\tlearn: 0.0276617\ttotal: 251ms\tremaining: 54.8ms\n",
            "821:\tlearn: 0.0276169\ttotal: 251ms\tremaining: 54.4ms\n",
            "822:\tlearn: 0.0275857\ttotal: 251ms\tremaining: 54.1ms\n",
            "823:\tlearn: 0.0275411\ttotal: 252ms\tremaining: 53.7ms\n",
            "824:\tlearn: 0.0274967\ttotal: 252ms\tremaining: 53.4ms\n",
            "825:\tlearn: 0.0274525\ttotal: 252ms\tremaining: 53.1ms\n",
            "826:\tlearn: 0.0274084\ttotal: 252ms\tremaining: 52.7ms\n",
            "827:\tlearn: 0.0273644\ttotal: 253ms\tremaining: 52.5ms\n",
            "828:\tlearn: 0.0273206\ttotal: 253ms\tremaining: 52.1ms\n",
            "829:\tlearn: 0.0272852\ttotal: 253ms\tremaining: 51.8ms\n",
            "830:\tlearn: 0.0272499\ttotal: 253ms\tremaining: 51.4ms\n",
            "831:\tlearn: 0.0272147\ttotal: 253ms\tremaining: 51.1ms\n",
            "832:\tlearn: 0.0271714\ttotal: 253ms\tremaining: 50.8ms\n",
            "833:\tlearn: 0.0271368\ttotal: 253ms\tremaining: 50.4ms\n",
            "834:\tlearn: 0.0271024\ttotal: 254ms\tremaining: 50.1ms\n",
            "835:\tlearn: 0.0270743\ttotal: 254ms\tremaining: 49.8ms\n",
            "836:\tlearn: 0.0270396\ttotal: 254ms\tremaining: 49.5ms\n",
            "837:\tlearn: 0.0270055\ttotal: 254ms\tremaining: 49.2ms\n",
            "838:\tlearn: 0.0269690\ttotal: 254ms\tremaining: 48.8ms\n",
            "839:\tlearn: 0.0269264\ttotal: 255ms\tremaining: 48.5ms\n",
            "840:\tlearn: 0.0268839\ttotal: 255ms\tremaining: 48.2ms\n",
            "841:\tlearn: 0.0268501\ttotal: 255ms\tremaining: 47.9ms\n",
            "842:\tlearn: 0.0268164\ttotal: 256ms\tremaining: 47.6ms\n",
            "843:\tlearn: 0.0267823\ttotal: 256ms\tremaining: 47.3ms\n",
            "844:\tlearn: 0.0267487\ttotal: 256ms\tremaining: 47ms\n",
            "845:\tlearn: 0.0267147\ttotal: 256ms\tremaining: 46.7ms\n",
            "846:\tlearn: 0.0266916\ttotal: 257ms\tremaining: 46.4ms\n",
            "847:\tlearn: 0.0266583\ttotal: 257ms\tremaining: 46.1ms\n",
            "848:\tlearn: 0.0266166\ttotal: 257ms\tremaining: 45.7ms\n",
            "849:\tlearn: 0.0265830\ttotal: 258ms\tremaining: 45.5ms\n",
            "850:\tlearn: 0.0265415\ttotal: 258ms\tremaining: 45.1ms\n",
            "851:\tlearn: 0.0265063\ttotal: 258ms\tremaining: 44.8ms\n",
            "852:\tlearn: 0.0264651\ttotal: 258ms\tremaining: 44.5ms\n",
            "853:\tlearn: 0.0264240\ttotal: 258ms\tremaining: 44.1ms\n",
            "854:\tlearn: 0.0263831\ttotal: 258ms\tremaining: 43.8ms\n",
            "855:\tlearn: 0.0263422\ttotal: 259ms\tremaining: 43.5ms\n",
            "856:\tlearn: 0.0263158\ttotal: 259ms\tremaining: 43.2ms\n",
            "857:\tlearn: 0.0262812\ttotal: 259ms\tremaining: 42.8ms\n",
            "858:\tlearn: 0.0262407\ttotal: 259ms\tremaining: 42.5ms\n",
            "859:\tlearn: 0.0262085\ttotal: 259ms\tremaining: 42.2ms\n",
            "860:\tlearn: 0.0261682\ttotal: 259ms\tremaining: 41.9ms\n",
            "861:\tlearn: 0.0261281\ttotal: 259ms\tremaining: 41.5ms\n",
            "862:\tlearn: 0.0260956\ttotal: 260ms\tremaining: 41.2ms\n",
            "863:\tlearn: 0.0260557\ttotal: 260ms\tremaining: 40.9ms\n",
            "864:\tlearn: 0.0260240\ttotal: 260ms\tremaining: 40.6ms\n",
            "865:\tlearn: 0.0259922\ttotal: 260ms\tremaining: 40.3ms\n",
            "866:\tlearn: 0.0259703\ttotal: 260ms\tremaining: 39.9ms\n",
            "867:\tlearn: 0.0259365\ttotal: 261ms\tremaining: 39.6ms\n",
            "868:\tlearn: 0.0259051\ttotal: 261ms\tremaining: 39.3ms\n",
            "869:\tlearn: 0.0258715\ttotal: 261ms\tremaining: 39ms\n",
            "870:\tlearn: 0.0258402\ttotal: 261ms\tremaining: 38.7ms\n",
            "871:\tlearn: 0.0258010\ttotal: 261ms\tremaining: 38.3ms\n",
            "872:\tlearn: 0.0257699\ttotal: 261ms\tremaining: 38ms\n",
            "873:\tlearn: 0.0257309\ttotal: 261ms\tremaining: 37.7ms\n",
            "874:\tlearn: 0.0256921\ttotal: 262ms\tremaining: 37.4ms\n",
            "875:\tlearn: 0.0256611\ttotal: 262ms\tremaining: 37.1ms\n",
            "876:\tlearn: 0.0256224\ttotal: 262ms\tremaining: 36.7ms\n",
            "877:\tlearn: 0.0255916\ttotal: 262ms\tremaining: 36.4ms\n",
            "878:\tlearn: 0.0255531\ttotal: 262ms\tremaining: 36.1ms\n",
            "879:\tlearn: 0.0255148\ttotal: 262ms\tremaining: 35.8ms\n",
            "880:\tlearn: 0.0254842\ttotal: 263ms\tremaining: 35.5ms\n",
            "881:\tlearn: 0.0254539\ttotal: 263ms\tremaining: 35.2ms\n",
            "882:\tlearn: 0.0254236\ttotal: 263ms\tremaining: 34.8ms\n",
            "883:\tlearn: 0.0253912\ttotal: 263ms\tremaining: 34.5ms\n",
            "884:\tlearn: 0.0253589\ttotal: 263ms\tremaining: 34.2ms\n",
            "885:\tlearn: 0.0253287\ttotal: 263ms\tremaining: 33.9ms\n",
            "886:\tlearn: 0.0253042\ttotal: 264ms\tremaining: 33.6ms\n",
            "887:\tlearn: 0.0252666\ttotal: 264ms\tremaining: 33.3ms\n",
            "888:\tlearn: 0.0252362\ttotal: 264ms\tremaining: 33ms\n",
            "889:\tlearn: 0.0252059\ttotal: 264ms\tremaining: 32.6ms\n",
            "890:\tlearn: 0.0251686\ttotal: 264ms\tremaining: 32.3ms\n",
            "891:\tlearn: 0.0251390\ttotal: 264ms\tremaining: 32ms\n",
            "892:\tlearn: 0.0251094\ttotal: 265ms\tremaining: 31.7ms\n",
            "893:\tlearn: 0.0250723\ttotal: 265ms\tremaining: 31.4ms\n",
            "894:\tlearn: 0.0250429\ttotal: 265ms\tremaining: 31.1ms\n",
            "895:\tlearn: 0.0250131\ttotal: 265ms\tremaining: 30.8ms\n",
            "896:\tlearn: 0.0249892\ttotal: 265ms\tremaining: 30.5ms\n",
            "897:\tlearn: 0.0249525\ttotal: 265ms\tremaining: 30.1ms\n",
            "898:\tlearn: 0.0249159\ttotal: 266ms\tremaining: 29.8ms\n",
            "899:\tlearn: 0.0248863\ttotal: 266ms\tremaining: 29.5ms\n",
            "900:\tlearn: 0.0248622\ttotal: 266ms\tremaining: 29.2ms\n",
            "901:\tlearn: 0.0248333\ttotal: 266ms\tremaining: 28.9ms\n",
            "902:\tlearn: 0.0247970\ttotal: 266ms\tremaining: 28.6ms\n",
            "903:\tlearn: 0.0247681\ttotal: 267ms\tremaining: 28.3ms\n",
            "904:\tlearn: 0.0247320\ttotal: 267ms\tremaining: 28ms\n",
            "905:\tlearn: 0.0247087\ttotal: 267ms\tremaining: 27.7ms\n",
            "906:\tlearn: 0.0246854\ttotal: 267ms\tremaining: 27.4ms\n",
            "907:\tlearn: 0.0246569\ttotal: 267ms\tremaining: 27.1ms\n",
            "908:\tlearn: 0.0246211\ttotal: 267ms\tremaining: 26.8ms\n",
            "909:\tlearn: 0.0245854\ttotal: 268ms\tremaining: 26.5ms\n",
            "910:\tlearn: 0.0245566\ttotal: 268ms\tremaining: 26.2ms\n",
            "911:\tlearn: 0.0245264\ttotal: 268ms\tremaining: 25.9ms\n",
            "912:\tlearn: 0.0244910\ttotal: 268ms\tremaining: 25.5ms\n",
            "913:\tlearn: 0.0244627\ttotal: 268ms\tremaining: 25.2ms\n",
            "914:\tlearn: 0.0244275\ttotal: 268ms\tremaining: 24.9ms\n",
            "915:\tlearn: 0.0243976\ttotal: 269ms\tremaining: 24.6ms\n",
            "916:\tlearn: 0.0243625\ttotal: 269ms\tremaining: 24.3ms\n",
            "917:\tlearn: 0.0243398\ttotal: 269ms\tremaining: 24ms\n",
            "918:\tlearn: 0.0243100\ttotal: 269ms\tremaining: 23.7ms\n",
            "919:\tlearn: 0.0242822\ttotal: 269ms\tremaining: 23.4ms\n",
            "920:\tlearn: 0.0242544\ttotal: 270ms\tremaining: 23.1ms\n",
            "921:\tlearn: 0.0242264\ttotal: 270ms\tremaining: 22.8ms\n",
            "922:\tlearn: 0.0241918\ttotal: 270ms\tremaining: 22.5ms\n",
            "923:\tlearn: 0.0241574\ttotal: 270ms\tremaining: 22.2ms\n",
            "924:\tlearn: 0.0241295\ttotal: 270ms\tremaining: 21.9ms\n",
            "925:\tlearn: 0.0241018\ttotal: 270ms\tremaining: 21.6ms\n",
            "926:\tlearn: 0.0240675\ttotal: 271ms\tremaining: 21.3ms\n",
            "927:\tlearn: 0.0240436\ttotal: 271ms\tremaining: 21ms\n",
            "928:\tlearn: 0.0240164\ttotal: 271ms\tremaining: 20.7ms\n",
            "929:\tlearn: 0.0239824\ttotal: 271ms\tremaining: 20.4ms\n",
            "930:\tlearn: 0.0239550\ttotal: 271ms\tremaining: 20.1ms\n",
            "931:\tlearn: 0.0239276\ttotal: 272ms\tremaining: 19.8ms\n",
            "932:\tlearn: 0.0239006\ttotal: 272ms\tremaining: 19.5ms\n",
            "933:\tlearn: 0.0238670\ttotal: 272ms\tremaining: 19.2ms\n",
            "934:\tlearn: 0.0238334\ttotal: 272ms\tremaining: 18.9ms\n",
            "935:\tlearn: 0.0238068\ttotal: 272ms\tremaining: 18.6ms\n",
            "936:\tlearn: 0.0237833\ttotal: 272ms\tremaining: 18.3ms\n",
            "937:\tlearn: 0.0237500\ttotal: 273ms\tremaining: 18ms\n",
            "938:\tlearn: 0.0237235\ttotal: 273ms\tremaining: 17.7ms\n",
            "939:\tlearn: 0.0236904\ttotal: 273ms\tremaining: 17.4ms\n",
            "940:\tlearn: 0.0236573\ttotal: 273ms\tremaining: 17.1ms\n",
            "941:\tlearn: 0.0236306\ttotal: 273ms\tremaining: 16.8ms\n",
            "942:\tlearn: 0.0236042\ttotal: 273ms\tremaining: 16.5ms\n",
            "943:\tlearn: 0.0235714\ttotal: 274ms\tremaining: 16.2ms\n",
            "944:\tlearn: 0.0235449\ttotal: 274ms\tremaining: 15.9ms\n",
            "945:\tlearn: 0.0235189\ttotal: 274ms\tremaining: 15.6ms\n",
            "946:\tlearn: 0.0234928\ttotal: 274ms\tremaining: 15.3ms\n",
            "947:\tlearn: 0.0234650\ttotal: 274ms\tremaining: 15ms\n",
            "948:\tlearn: 0.0234391\ttotal: 274ms\tremaining: 14.8ms\n",
            "949:\tlearn: 0.0234176\ttotal: 275ms\tremaining: 14.5ms\n",
            "950:\tlearn: 0.0233919\ttotal: 275ms\tremaining: 14.2ms\n",
            "951:\tlearn: 0.0233596\ttotal: 275ms\tremaining: 13.9ms\n",
            "952:\tlearn: 0.0233340\ttotal: 275ms\tremaining: 13.6ms\n",
            "953:\tlearn: 0.0233080\ttotal: 275ms\tremaining: 13.3ms\n",
            "954:\tlearn: 0.0232821\ttotal: 276ms\tremaining: 13ms\n",
            "955:\tlearn: 0.0232501\ttotal: 276ms\tremaining: 12.7ms\n",
            "956:\tlearn: 0.0232246\ttotal: 276ms\tremaining: 12.4ms\n",
            "957:\tlearn: 0.0231927\ttotal: 276ms\tremaining: 12.1ms\n",
            "958:\tlearn: 0.0231722\ttotal: 276ms\tremaining: 11.8ms\n",
            "959:\tlearn: 0.0231405\ttotal: 276ms\tremaining: 11.5ms\n",
            "960:\tlearn: 0.0231135\ttotal: 277ms\tremaining: 11.2ms\n",
            "961:\tlearn: 0.0230820\ttotal: 277ms\tremaining: 10.9ms\n",
            "962:\tlearn: 0.0230505\ttotal: 277ms\tremaining: 10.6ms\n",
            "963:\tlearn: 0.0230286\ttotal: 277ms\tremaining: 10.3ms\n",
            "964:\tlearn: 0.0230037\ttotal: 277ms\tremaining: 10.1ms\n",
            "965:\tlearn: 0.0229724\ttotal: 277ms\tremaining: 9.76ms\n",
            "966:\tlearn: 0.0229413\ttotal: 278ms\tremaining: 9.47ms\n",
            "967:\tlearn: 0.0229241\ttotal: 278ms\tremaining: 9.18ms\n",
            "968:\tlearn: 0.0229035\ttotal: 278ms\tremaining: 8.89ms\n",
            "969:\tlearn: 0.0228725\ttotal: 278ms\tremaining: 8.6ms\n",
            "970:\tlearn: 0.0228416\ttotal: 278ms\tremaining: 8.31ms\n",
            "971:\tlearn: 0.0228167\ttotal: 279ms\tremaining: 8.02ms\n",
            "972:\tlearn: 0.0227860\ttotal: 279ms\tremaining: 7.73ms\n",
            "973:\tlearn: 0.0227690\ttotal: 279ms\tremaining: 7.44ms\n",
            "974:\tlearn: 0.0227442\ttotal: 279ms\tremaining: 7.16ms\n",
            "975:\tlearn: 0.0227137\ttotal: 279ms\tremaining: 6.87ms\n",
            "976:\tlearn: 0.0226968\ttotal: 279ms\tremaining: 6.58ms\n",
            "977:\tlearn: 0.0226664\ttotal: 280ms\tremaining: 6.29ms\n",
            "978:\tlearn: 0.0226418\ttotal: 280ms\tremaining: 6ms\n",
            "979:\tlearn: 0.0226176\ttotal: 280ms\tremaining: 5.71ms\n",
            "980:\tlearn: 0.0225918\ttotal: 280ms\tremaining: 5.42ms\n",
            "981:\tlearn: 0.0225617\ttotal: 280ms\tremaining: 5.14ms\n",
            "982:\tlearn: 0.0225406\ttotal: 280ms\tremaining: 4.85ms\n",
            "983:\tlearn: 0.0225163\ttotal: 281ms\tremaining: 4.56ms\n",
            "984:\tlearn: 0.0224923\ttotal: 281ms\tremaining: 4.28ms\n",
            "985:\tlearn: 0.0224686\ttotal: 281ms\tremaining: 3.99ms\n",
            "986:\tlearn: 0.0224387\ttotal: 281ms\tremaining: 3.7ms\n",
            "987:\tlearn: 0.0224090\ttotal: 281ms\tremaining: 3.42ms\n",
            "988:\tlearn: 0.0223849\ttotal: 281ms\tremaining: 3.13ms\n",
            "989:\tlearn: 0.0223657\ttotal: 282ms\tremaining: 2.84ms\n",
            "990:\tlearn: 0.0223450\ttotal: 282ms\tremaining: 2.56ms\n",
            "991:\tlearn: 0.0223243\ttotal: 282ms\tremaining: 2.27ms\n",
            "992:\tlearn: 0.0223009\ttotal: 282ms\tremaining: 1.99ms\n",
            "993:\tlearn: 0.0222715\ttotal: 282ms\tremaining: 1.7ms\n",
            "994:\tlearn: 0.0222481\ttotal: 283ms\tremaining: 1.42ms\n",
            "995:\tlearn: 0.0222276\ttotal: 283ms\tremaining: 1.14ms\n",
            "996:\tlearn: 0.0221983\ttotal: 283ms\tremaining: 851us\n",
            "997:\tlearn: 0.0221692\ttotal: 283ms\tremaining: 567us\n",
            "998:\tlearn: 0.0221457\ttotal: 283ms\tremaining: 283us\n",
            "999:\tlearn: 0.0221225\ttotal: 283ms\tremaining: 0us\n",
            "<catboost.core.CatBoostClassifier object at 0x7f753970fa50>\n"
          ]
        }
      ]
    },
    {
      "cell_type": "markdown",
      "source": [
        "# **Confusion Matrix for CatBoost**"
      ],
      "metadata": {
        "id": "NVW_R9CT9t3Y"
      }
    },
    {
      "cell_type": "code",
      "source": [
        "#Making the Confusion Matrix for CatBoost\n",
        "def confusion_matrix(y_test,predicted_y):\n",
        "\n",
        "  confusion_matrix = pd.crosstab(X_test['Sentiment'], X_test['predicted_y'], rownames=['Actual'], colnames=['Predicted'])\n",
        "  print (confusion_matrix)\n",
        "  print(\"\\naccuracy_score:\")\n",
        "  accuracy_score(y_test, predicted_y)\n",
        "  print(\"\\nprediction probability:\")\n",
        "  pred_probs = model_CBC.predict_proba(X_test.drop(['Sentiment', 'predicted_y'], axis=1))\n",
        "  print(pred_probs)\n"
      ],
      "metadata": {
        "id": "JqETazd69PSc"
      },
      "execution_count": null,
      "outputs": []
    },
    {
      "cell_type": "code",
      "source": [
        "confusion_matrix(y_test,predicted_y)"
      ],
      "metadata": {
        "colab": {
          "base_uri": "https://localhost:8080/"
        },
        "id": "fPoU8Lv_3o4U",
        "outputId": "2723d7f5-8dbc-4440-bac0-cbba7182195f"
      },
      "execution_count": null,
      "outputs": [
        {
          "output_type": "stream",
          "name": "stdout",
          "text": [
            "Predicted       No Change\n",
            "Actual                   \n",
            "Decrease                1\n",
            "Large Decrease          1\n",
            "\n",
            "accuracy_score:\n",
            "\n",
            "prediction probability:\n",
            "[[0.01121592 0.01390391 0.97488018]\n",
            " [0.01282354 0.01938792 0.96778855]]\n"
          ]
        }
      ]
    },
    {
      "cell_type": "markdown",
      "source": [
        "# **Prediction Probability**"
      ],
      "metadata": {
        "id": "rz9ue8mj4D6q"
      }
    },
    {
      "cell_type": "code",
      "source": [
        "pred_probs = model_CBC.predict_proba(X_test.drop(['Sentiment', 'predicted_y'], axis=1))\n",
        "pred_probs"
      ],
      "metadata": {
        "id": "-tixBk7e9WzV",
        "colab": {
          "base_uri": "https://localhost:8080/"
        },
        "outputId": "f1a6a2c2-4e43-4bff-e20d-fc675ad50fa8"
      },
      "execution_count": null,
      "outputs": [
        {
          "output_type": "execute_result",
          "data": {
            "text/plain": [
              "array([[0.01121592, 0.01390391, 0.97488018],\n",
              "       [0.01282354, 0.01938792, 0.96778855]])"
            ]
          },
          "metadata": {},
          "execution_count": 264
        }
      ]
    },
    {
      "cell_type": "markdown",
      "source": [
        "# **Save the Model**"
      ],
      "metadata": {
        "id": "6di5Hy4z9yy_"
      }
    },
    {
      "cell_type": "code",
      "source": [
        "def save_model(model_CBC):\n",
        "  pickle_out = open(\"classifier_example.pkl\", mode = \"wb\") \n",
        "  pickle.dump(model_CBC, pickle_out) \n",
        "  pickle_out.close()"
      ],
      "metadata": {
        "id": "cxSWe1Jn9TDJ"
      },
      "execution_count": null,
      "outputs": []
    },
    {
      "cell_type": "code",
      "source": [
        "save_model(model_CBC)"
      ],
      "metadata": {
        "id": "It-CerVp7fiH"
      },
      "execution_count": null,
      "outputs": []
    },
    {
      "cell_type": "markdown",
      "source": [
        "# **Optimal parameters for CatBoost using GridSearchCV**"
      ],
      "metadata": {
        "id": "mrCaZyjE91n0"
      }
    },
    {
      "cell_type": "code",
      "source": [
        " def optimal_parameters(final):\n",
        "\n",
        "  data = final[['CV', 'CF','CNV','CNF','PV','PF','QAV','QAF', 'return', 'Sentiment']]\n",
        "  data = data[data['return'].isnull()==False]\n",
        "  data.reset_index(drop=True, inplace=True)\n",
        "\n",
        "  labels = data.loc[:, ['Sentiment']]\n",
        "  veryfinal=data.drop(['Sentiment','return'], axis=1)\n",
        "  X_train, X_test, y_train, y_test = train_test_split(veryfinal, labels, test_size=0.2)\n",
        "\n",
        "  model_CBC = ctb.CatBoostClassifier()\n",
        "\n",
        "  parameters = {'depth'         : [5,6,7],\n",
        "                'n_estimators'  : [100, 200, 300, 500, 700],\n",
        "                'learning_rate' : [0.01, 0.05, 0.1, 0.15, 0.2],\n",
        "                'l2_leaf_reg'   : [3,5,10,30]\n",
        "              }\n",
        "\n",
        "  grid = GridSearchCV(estimator=model_CBC, param_grid = parameters, cv = 5, n_jobs=-1)\n",
        "  grid.fit(X_train, y_train)\n",
        "\n",
        "  print(\" Results from Grid Search \" )\n",
        "  print(\"\\n The best estimator across ALL searched params:\\n\", grid.best_estimator_)\n",
        "  print(\"\\n The best score across ALL searched params:\\n\", grid.best_score_)\n",
        "  print(\"\\n The best parameters across ALL searched params:\\n\", grid.best_params_)\n",
        "\n",
        "  final_CB_w_parameters = ctb.CatBoostClassifier(depth=7, l2_leaf_reg=3, learning_rate= 0.05, n_estimators=100)\n",
        "  final_CB_w_parameters.fit(pd.concat([X_train, X_test]), pd.concat([y_train, y_test]))\n",
        "\n",
        "  y_test_pred = final_CB_w_parameters.predict(X_test)\n",
        "\n",
        "  return y_test_pred,y_tes,X_testt"
      ],
      "metadata": {
        "id": "b1rzZxcw9ab3"
      },
      "execution_count": null,
      "outputs": []
    },
    {
      "cell_type": "markdown",
      "source": [
        "# **Main  Function**"
      ],
      "metadata": {
        "id": "Uir5vgbP97kF"
      }
    },
    {
      "cell_type": "code",
      "source": [
        "def execute(import_path,export_path,export_path_body,export_path_speakers):\n",
        "    \n",
        "\n",
        "  filename=extract_file(import_path,export_path)\n",
        "  files,valid_tickers_filename =extract_tickers(export_path,filename)\n",
        "  yield_filename=get_return(export_path,valid_tickers_filename)\n",
        "\n",
        "  split_clean_speakers_divisions_scores(import_path,export_path_body,export_path_speakers,files)\n",
        "  df_speaker_features=speaker_features(export_path_speakers)   \n",
        "  df_body_features=body_features(export_path_body)\n",
        "  final=merge(export_path,df_body_features,df_speaker_features,yield_filename)\n",
        "  final=map_return_to_classes(export_path,final)\n",
        "  X_test,y_test,predicted_y,model_CBC=build_catboost_model(final)\n",
        "  confusion_matrix(y_test,predicted_y)\n",
        "  save_model(model_CBC)\n",
        "\n",
        "  return print('Done!')"
      ],
      "metadata": {
        "id": "jq5cLPYC9rDj"
      },
      "execution_count": null,
      "outputs": []
    },
    {
      "cell_type": "code",
      "source": [
        "execute(import_path,export_path,export_path_body,export_path_speakers)"
      ],
      "metadata": {
        "colab": {
          "base_uri": "https://localhost:8080/",
          "height": 1000,
          "referenced_widgets": [
            "0ef1bab5bb394efea81afe0ba5ce3ad8"
          ]
        },
        "id": "51LyH2_-7P-n",
        "outputId": "4365e4bc-0ac7-4e1d-82cd-670a28fd78e2"
      },
      "execution_count": null,
      "outputs": [
        {
          "metadata": {
            "tags": null
          },
          "name": "stdout",
          "output_type": "stream",
          "text": [
            "0\n",
            "BLK\n",
            "{'eventsData': {}, 'firstTradeDate': {'formatted_date': '1999-10-01', 'date': 938784600}, 'currency': 'USD', 'instrumentType': 'EQUITY', 'timeZone': {'gmtOffset': -14400}, 'prices': [{'date': 1589895000, 'high': 515.5800170898438, 'low': 498.8299865722656, 'open': 512.4600219726562, 'close': 501.20001220703125, 'volume': 2099700, 'adjclose': 476.27960205078125, 'formatted_date': '2020-05-19'}, {'date': 1589981400, 'high': 513.0, 'low': 503.4599914550781, 'open': 509.55999755859375, 'close': 508.739990234375, 'volume': 1496400, 'adjclose': 483.4447326660156, 'formatted_date': '2020-05-20'}, {'date': 1590067800, 'high': 509.6300048828125, 'low': 504.1499938964844, 'open': 508.0799865722656, 'close': 508.510009765625, 'volume': 1007600, 'adjclose': 483.2261657714844, 'formatted_date': '2020-05-21'}, {'date': 1590154200, 'high': 513.5700073242188, 'low': 503.0, 'open': 506.0, 'close': 513.2999877929688, 'volume': 632700, 'adjclose': 487.77801513671875, 'formatted_date': '2020-05-22'}]}\n",
            "1\n",
            "CCL\n",
            "{'eventsData': {}, 'firstTradeDate': {'formatted_date': '1987-07-24', 'date': 554131800}, 'currency': 'USD', 'instrumentType': 'EQUITY', 'timeZone': {'gmtOffset': -14400}, 'prices': [{'date': 1591623000, 'high': 25.280000686645508, 'low': 23.40999984741211, 'open': 24.56999969482422, 'close': 24.90999984741211, 'volume': 107262900, 'adjclose': 24.90999984741211, 'formatted_date': '2020-06-08'}, {'date': 1591709400, 'high': 23.899999618530273, 'low': 21.93000030517578, 'open': 23.8799991607666, 'close': 23.040000915527344, 'volume': 72547400, 'adjclose': 23.040000915527344, 'formatted_date': '2020-06-09'}, {'date': 1591795800, 'high': 22.469999313354492, 'low': 19.5, 'open': 22.200000762939453, 'close': 20.59000015258789, 'volume': 82883100, 'adjclose': 20.59000015258789, 'formatted_date': '2020-06-10'}, {'date': 1591882200, 'high': 18.989999771118164, 'low': 16.75, 'open': 17.290000915527344, 'close': 17.440000534057617, 'volume': 79106600, 'adjclose': 17.440000534057617, 'formatted_date': '2020-06-11'}, {'date': 1591968600, 'high': 20.200000762939453, 'low': 18.530000686645508, 'open': 19.809999465942383, 'close': 19.979999542236328, 'volume': 65140100, 'adjclose': 19.979999542236328, 'formatted_date': '2020-06-12'}]}\n",
            "3\n",
            "VRSK\n",
            "{'eventsData': {}, 'firstTradeDate': {'formatted_date': '2009-10-07', 'date': 1254922200}, 'currency': 'USD', 'instrumentType': 'EQUITY', 'timeZone': {'gmtOffset': -14400}, 'prices': [{'date': 1589981400, 'high': 161.0399932861328, 'low': 158.83999633789062, 'open': 158.83999633789062, 'close': 159.5399932861328, 'volume': 636100, 'adjclose': 157.28907775878906, 'formatted_date': '2020-05-20'}, {'date': 1590067800, 'high': 159.36000061035156, 'low': 156.52000427246094, 'open': 157.50999450683594, 'close': 156.83999633789062, 'volume': 553100, 'adjclose': 154.62718200683594, 'formatted_date': '2020-05-21'}, {'date': 1590154200, 'high': 158.3699951171875, 'low': 155.74000549316406, 'open': 155.80999755859375, 'close': 157.27999877929688, 'volume': 625700, 'adjclose': 155.0609893798828, 'formatted_date': '2020-05-22'}, {'date': 1590499800, 'high': 161.25999450683594, 'low': 157.16000366210938, 'open': 158.52000427246094, 'close': 160.4600067138672, 'volume': 1149400, 'adjclose': 158.1961212158203, 'formatted_date': '2020-05-26'}]}\n",
            "4\n",
            "IR\n",
            "{'eventsData': {}, 'firstTradeDate': {'formatted_date': '2017-05-12', 'date': 1494595800}, 'currency': 'USD', 'instrumentType': 'EQUITY', 'timeZone': {'gmtOffset': -14400}, 'prices': [{'date': 1550759400, 'high': 27.1299991607666, 'low': 26.530000686645508, 'open': 26.649999618530273, 'close': 27.049999237060547, 'volume': 1459000, 'adjclose': 27.01622200012207, 'formatted_date': '2019-02-21'}, {'date': 1550845800, 'high': 27.290000915527344, 'low': 26.670000076293945, 'open': 27.079999923706055, 'close': 26.739999771118164, 'volume': 1350500, 'adjclose': 26.70660972595215, 'formatted_date': '2019-02-22'}, {'date': 1551105000, 'high': 27.149999618530273, 'low': 26.729999542236328, 'open': 26.84000015258789, 'close': 27.059999465942383, 'volume': 1709700, 'adjclose': 27.026208877563477, 'formatted_date': '2019-02-25'}, {'date': 1551191400, 'high': 27.014999389648438, 'low': 26.579999923706055, 'open': 26.950000762939453, 'close': 26.65999984741211, 'volume': 1396600, 'adjclose': 26.626710891723633, 'formatted_date': '2019-02-26'}, {'date': 1551277800, 'high': 26.850000381469727, 'low': 26.43000030517578, 'open': 26.65999984741211, 'close': 26.649999618530273, 'volume': 973800, 'adjclose': 26.616724014282227, 'formatted_date': '2019-02-27'}]}\n",
            "5\n",
            "MAC\n",
            "{'eventsData': {}, 'firstTradeDate': {'formatted_date': '1994-03-10', 'date': 763309800}, 'currency': 'USD', 'instrumentType': 'EQUITY', 'timeZone': {'gmtOffset': -14400}, 'prices': [{'date': 1551796200, 'high': 43.43000030517578, 'low': 42.810001373291016, 'open': 42.880001068115234, 'close': 43.130001068115234, 'volume': 792200, 'adjclose': 34.643863677978516, 'formatted_date': '2019-03-05'}, {'date': 1551882600, 'high': 43.45000076293945, 'low': 42.849998474121094, 'open': 43.08000183105469, 'close': 42.91999816894531, 'volume': 745100, 'adjclose': 34.475181579589844, 'formatted_date': '2019-03-06'}, {'date': 1551969000, 'high': 43.119998931884766, 'low': 42.34000015258789, 'open': 42.93000030517578, 'close': 42.54999923706055, 'volume': 1009400, 'adjclose': 34.17798614501953, 'formatted_date': '2019-03-07'}, {'date': 1552055400, 'high': 42.709999084472656, 'low': 41.91999816894531, 'open': 42.439998626708984, 'close': 42.0, 'volume': 837300, 'adjclose': 33.73619842529297, 'formatted_date': '2019-03-08'}, {'date': 1552311000, 'high': 42.79999923706055, 'low': 41.939998626708984, 'open': 42.150001525878906, 'close': 42.790000915527344, 'volume': 927000, 'adjclose': 34.370765686035156, 'formatted_date': '2019-03-11'}]}\n",
            "6\n",
            "ECYT\n",
            "{'eventsData': {}, 'firstTradeDate': {'formatted_date': '2011-02-04', 'date': 1296829800}, 'currency': None, 'instrumentType': 'MUTUALFUND', 'timeZone': {'gmtOffset': -14400}, 'prices': [{'date': 1538487000, 'high': 17.850000381469727, 'low': 17.100000381469727, 'open': 17.770000457763672, 'close': 17.219999313354492, 'volume': 1008792, 'adjclose': 17.219999313354492, 'formatted_date': '2018-10-02'}, {'date': 1538573400, 'high': 17.420000076293945, 'low': 16.350000381469727, 'open': 17.190000534057617, 'close': 16.959999084472656, 'volume': 1371267, 'adjclose': 16.959999084472656, 'formatted_date': '2018-10-03'}, {'date': 1538659800, 'high': 16.889999389648438, 'low': 15.260000228881836, 'open': 16.68000030517578, 'close': 15.619999885559082, 'volume': 1907764, 'adjclose': 15.619999885559082, 'formatted_date': '2018-10-04'}, {'date': 1538746200, 'high': 16.06999969482422, 'low': 15.1225004196167, 'open': 15.699999809265137, 'close': 15.930000305175781, 'volume': 1548514, 'adjclose': 15.930000305175781, 'formatted_date': '2018-10-05'}, {'date': 1539005400, 'high': 16.079099655151367, 'low': 15.15999984741211, 'open': 15.680000305175781, 'close': 15.640000343322754, 'volume': 1028258, 'adjclose': 15.640000343322754, 'formatted_date': '2018-10-08'}]}\n",
            "7\n",
            "IDCC\n",
            "{'eventsData': {}, 'firstTradeDate': {'formatted_date': '1981-11-12', 'date': 374423400}, 'currency': 'USD', 'instrumentType': 'EQUITY', 'timeZone': {'gmtOffset': -14400}, 'prices': [{'date': 1516285800, 'high': 80.0, 'low': 78.9000015258789, 'open': 79.30000305175781, 'close': 79.5, 'volume': 222700, 'adjclose': 72.04486846923828, 'formatted_date': '2018-01-18'}, {'date': 1516372200, 'high': 80.19999694824219, 'low': 79.1500015258789, 'open': 79.4000015258789, 'close': 79.44999694824219, 'volume': 377500, 'adjclose': 71.9995346069336, 'formatted_date': '2018-01-19'}, {'date': 1516631400, 'high': 79.44999694824219, 'low': 78.44999694824219, 'open': 79.4000015258789, 'close': 78.94999694824219, 'volume': 351300, 'adjclose': 71.54645538330078, 'formatted_date': '2018-01-22'}, {'date': 1516717800, 'high': 79.44999694824219, 'low': 78.11000061035156, 'open': 78.80000305175781, 'close': 79.0, 'volume': 225200, 'adjclose': 71.59174346923828, 'formatted_date': '2018-01-23'}, {'date': 1516804200, 'high': 79.5, 'low': 78.19999694824219, 'open': 79.3499984741211, 'close': 78.75, 'volume': 400100, 'adjclose': 71.36518859863281, 'formatted_date': '2018-01-24'}]}\n"
          ]
        },
        {
          "metadata": {
            "tags": null
          },
          "name": "stderr",
          "output_type": "stream",
          "text": [
            "/usr/local/lib/python3.7/dist-packages/ipykernel_launcher.py:27: SettingWithCopyWarning: \n",
            "A value is trying to be set on a copy of a slice from a DataFrame.\n",
            "Try using .loc[row_indexer,col_indexer] = value instead\n",
            "\n",
            "See the caveats in the documentation: https://pandas.pydata.org/pandas-docs/stable/user_guide/indexing.html#returning-a-view-versus-a-copy\n"
          ]
        },
        {
          "output_type": "stream",
          "name": "stdout",
          "text": [
            "0\n",
            "BLK\n",
            "2020-05-19\n",
            "2020-05-26\n",
            "[{'date': 1589895000, 'high': 515.5800170898438, 'low': 498.8299865722656, 'open': 512.4600219726562, 'close': 501.20001220703125, 'volume': 2099700, 'adjclose': 476.2796325683594, 'formatted_date': '2020-05-19'}, {'date': 1589981400, 'high': 513.0, 'low': 503.4599914550781, 'open': 509.55999755859375, 'close': 508.739990234375, 'volume': 1496400, 'adjclose': 483.44476318359375, 'formatted_date': '2020-05-20'}, {'date': 1590067800, 'high': 509.6300048828125, 'low': 504.1499938964844, 'open': 508.0799865722656, 'close': 508.510009765625, 'volume': 1007600, 'adjclose': 483.2261962890625, 'formatted_date': '2020-05-21'}, {'date': 1590154200, 'high': 513.5700073242188, 'low': 503.0, 'open': 506.0, 'close': 513.2999877929688, 'volume': 632700, 'adjclose': 487.77801513671875, 'formatted_date': '2020-05-22'}]\n",
            "1\n",
            "CCL\n",
            "2020-06-08\n",
            "2020-06-15\n",
            "[{'date': 1591623000, 'high': 25.280000686645508, 'low': 23.40999984741211, 'open': 24.56999969482422, 'close': 24.90999984741211, 'volume': 107262900, 'adjclose': 24.90999984741211, 'formatted_date': '2020-06-08'}, {'date': 1591709400, 'high': 23.899999618530273, 'low': 21.93000030517578, 'open': 23.8799991607666, 'close': 23.040000915527344, 'volume': 72547400, 'adjclose': 23.040000915527344, 'formatted_date': '2020-06-09'}, {'date': 1591795800, 'high': 22.469999313354492, 'low': 19.5, 'open': 22.200000762939453, 'close': 20.59000015258789, 'volume': 82883100, 'adjclose': 20.59000015258789, 'formatted_date': '2020-06-10'}, {'date': 1591882200, 'high': 18.989999771118164, 'low': 16.75, 'open': 17.290000915527344, 'close': 17.440000534057617, 'volume': 79106600, 'adjclose': 17.440000534057617, 'formatted_date': '2020-06-11'}, {'date': 1591968600, 'high': 20.200000762939453, 'low': 18.530000686645508, 'open': 19.809999465942383, 'close': 19.979999542236328, 'volume': 65140100, 'adjclose': 19.979999542236328, 'formatted_date': '2020-06-12'}]\n",
            "2\n",
            "CCL\n",
            "2019-12-20\n",
            "2019-12-27\n",
            "[{'date': 1576852200, 'high': 51.209999084472656, 'low': 48.2599983215332, 'open': 48.900001525878906, 'close': 50.209999084472656, 'volume': 15867400, 'adjclose': 49.63074493408203, 'formatted_date': '2019-12-20'}, {'date': 1577111400, 'high': 51.27000045776367, 'low': 50.150001525878906, 'open': 50.31999969482422, 'close': 51.2599983215332, 'volume': 5965400, 'adjclose': 50.66862869262695, 'formatted_date': '2019-12-23'}, {'date': 1577197800, 'high': 51.619998931884766, 'low': 50.7400016784668, 'open': 51.400001525878906, 'close': 50.939998626708984, 'volume': 2142300, 'adjclose': 50.35232162475586, 'formatted_date': '2019-12-24'}, {'date': 1577370600, 'high': 51.45000076293945, 'low': 50.7599983215332, 'open': 51.0, 'close': 51.33000183105469, 'volume': 3217100, 'adjclose': 50.737823486328125, 'formatted_date': '2019-12-26'}]\n",
            "3\n",
            "VRSK\n",
            "2020-05-20\n",
            "2020-05-27\n",
            "[{'date': 1589981400, 'high': 161.0399932861328, 'low': 158.83999633789062, 'open': 158.83999633789062, 'close': 159.5399932861328, 'volume': 636100, 'adjclose': 157.28909301757812, 'formatted_date': '2020-05-20'}, {'date': 1590067800, 'high': 159.36000061035156, 'low': 156.52000427246094, 'open': 157.50999450683594, 'close': 156.83999633789062, 'volume': 553100, 'adjclose': 154.627197265625, 'formatted_date': '2020-05-21'}, {'date': 1590154200, 'high': 158.3699951171875, 'low': 155.74000549316406, 'open': 155.80999755859375, 'close': 157.27999877929688, 'volume': 625700, 'adjclose': 155.0609893798828, 'formatted_date': '2020-05-22'}, {'date': 1590499800, 'high': 161.25999450683594, 'low': 157.16000366210938, 'open': 158.52000427246094, 'close': 160.4600067138672, 'volume': 1149400, 'adjclose': 158.1961212158203, 'formatted_date': '2020-05-26'}]\n",
            "4\n",
            "IR\n",
            "2019-02-21\n",
            "2019-02-28\n",
            "[{'date': 1550759400, 'high': 27.1299991607666, 'low': 26.530000686645508, 'open': 26.649999618530273, 'close': 27.049999237060547, 'volume': 1459000, 'adjclose': 27.01622200012207, 'formatted_date': '2019-02-21'}, {'date': 1550845800, 'high': 27.290000915527344, 'low': 26.670000076293945, 'open': 27.079999923706055, 'close': 26.739999771118164, 'volume': 1350500, 'adjclose': 26.70660972595215, 'formatted_date': '2019-02-22'}, {'date': 1551105000, 'high': 27.149999618530273, 'low': 26.729999542236328, 'open': 26.84000015258789, 'close': 27.059999465942383, 'volume': 1709700, 'adjclose': 27.02621078491211, 'formatted_date': '2019-02-25'}, {'date': 1551191400, 'high': 27.014999389648438, 'low': 26.579999923706055, 'open': 26.950000762939453, 'close': 26.65999984741211, 'volume': 1396600, 'adjclose': 26.626710891723633, 'formatted_date': '2019-02-26'}, {'date': 1551277800, 'high': 26.850000381469727, 'low': 26.43000030517578, 'open': 26.65999984741211, 'close': 26.649999618530273, 'volume': 973800, 'adjclose': 26.616722106933594, 'formatted_date': '2019-02-27'}]\n",
            "5\n",
            "MAC\n",
            "2019-03-05\n",
            "2019-03-12\n",
            "[{'date': 1551796200, 'high': 43.43000030517578, 'low': 42.810001373291016, 'open': 42.880001068115234, 'close': 43.130001068115234, 'volume': 792200, 'adjclose': 34.64385986328125, 'formatted_date': '2019-03-05'}, {'date': 1551882600, 'high': 43.45000076293945, 'low': 42.849998474121094, 'open': 43.08000183105469, 'close': 42.91999816894531, 'volume': 745100, 'adjclose': 34.47518539428711, 'formatted_date': '2019-03-06'}, {'date': 1551969000, 'high': 43.119998931884766, 'low': 42.34000015258789, 'open': 42.93000030517578, 'close': 42.54999923706055, 'volume': 1009400, 'adjclose': 34.17798614501953, 'formatted_date': '2019-03-07'}, {'date': 1552055400, 'high': 42.709999084472656, 'low': 41.91999816894531, 'open': 42.439998626708984, 'close': 42.0, 'volume': 837300, 'adjclose': 33.736202239990234, 'formatted_date': '2019-03-08'}, {'date': 1552311000, 'high': 42.79999923706055, 'low': 41.939998626708984, 'open': 42.150001525878906, 'close': 42.790000915527344, 'volume': 927000, 'adjclose': 34.370765686035156, 'formatted_date': '2019-03-11'}]\n",
            "6\n",
            "ECYT\n",
            "2018-10-02\n",
            "2018-10-09\n",
            "[{'date': 1538487000, 'high': 17.850000381469727, 'low': 17.100000381469727, 'open': 17.770000457763672, 'close': 17.219999313354492, 'volume': 1008792, 'adjclose': 17.219999313354492, 'formatted_date': '2018-10-02'}, {'date': 1538573400, 'high': 17.420000076293945, 'low': 16.350000381469727, 'open': 17.190000534057617, 'close': 16.959999084472656, 'volume': 1371267, 'adjclose': 16.959999084472656, 'formatted_date': '2018-10-03'}, {'date': 1538659800, 'high': 16.889999389648438, 'low': 15.260000228881836, 'open': 16.68000030517578, 'close': 15.619999885559082, 'volume': 1907764, 'adjclose': 15.619999885559082, 'formatted_date': '2018-10-04'}, {'date': 1538746200, 'high': 16.06999969482422, 'low': 15.1225004196167, 'open': 15.699999809265137, 'close': 15.930000305175781, 'volume': 1548514, 'adjclose': 15.930000305175781, 'formatted_date': '2018-10-05'}, {'date': 1539005400, 'high': 16.079099655151367, 'low': 15.15999984741211, 'open': 15.680000305175781, 'close': 15.640000343322754, 'volume': 1028258, 'adjclose': 15.640000343322754, 'formatted_date': '2018-10-08'}]\n",
            "7\n",
            "IDCC\n",
            "2018-01-18\n",
            "2018-01-25\n",
            "[{'date': 1516285800, 'high': 80.0, 'low': 78.9000015258789, 'open': 79.30000305175781, 'close': 79.5, 'volume': 222700, 'adjclose': 72.04486083984375, 'formatted_date': '2018-01-18'}, {'date': 1516372200, 'high': 80.19999694824219, 'low': 79.1500015258789, 'open': 79.4000015258789, 'close': 79.44999694824219, 'volume': 377500, 'adjclose': 71.99954223632812, 'formatted_date': '2018-01-19'}, {'date': 1516631400, 'high': 79.44999694824219, 'low': 78.44999694824219, 'open': 79.4000015258789, 'close': 78.94999694824219, 'volume': 351300, 'adjclose': 71.54644012451172, 'formatted_date': '2018-01-22'}, {'date': 1516717800, 'high': 79.44999694824219, 'low': 78.11000061035156, 'open': 78.80000305175781, 'close': 79.0, 'volume': 225200, 'adjclose': 71.59175872802734, 'formatted_date': '2018-01-23'}, {'date': 1516804200, 'high': 79.5, 'low': 78.19999694824219, 'open': 79.3499984741211, 'close': 78.75, 'volume': 400100, 'adjclose': 71.36519622802734, 'formatted_date': '2018-01-24'}]\n",
            "13197438_T.xml start\n",
            "13197438_T.xml end\n",
            "13215635_T.xml start\n",
            "13215635_T.xml end\n",
            "12958669_T.xml start\n",
            "12958669_T.xml end\n",
            "13105267_T.xml start\n",
            "13105267_T.xml end\n",
            "12302678_T.xml start\n",
            "12302678_T.xml end\n",
            "12357546_T.xml start\n",
            "12357546_T.xml end\n",
            "12002207_T.xml start\n",
            "12002207_T.xml end\n",
            "11185539_T.xml start\n",
            "11185539_T.xml end\n",
            "13197438_T.csv\n",
            "file: 13197438_T.csv  dosent have corporate participants\n",
            "error\n",
            "negatives: 245 \n",
            "positives: 55\n",
            "Conf Vader feature: -0.6312292358803987\n",
            "negatives: 80 \n",
            "positives: 103\n",
            "Conf Finbert feature: 0.125\n",
            "13215635_T.csv\n",
            "negatives: 8 \n",
            "positives: 90\n",
            "Corp Vader feature: 0.8282828282828283\n",
            "negatives: 11 \n",
            "positives: 20\n",
            "Corp Finbert feature: 0.28125\n",
            "negatives: 25 \n",
            "positives: 1\n",
            "Conf Vader feature: -0.8888888888888888\n",
            "negatives: 3 \n",
            "positives: 3\n",
            "Conf Finbert feature: 0.0\n",
            "12958669_T.csv\n",
            "negatives: 7 \n",
            "positives: 191\n",
            "Corp Vader feature: 0.9246231155778895\n",
            "negatives: 63 \n",
            "positives: 109\n",
            "Corp Finbert feature: 0.2658959537572254\n",
            "negatives: 54 \n",
            "positives: 0\n",
            "Conf Vader feature: -0.9818181818181818\n",
            "negatives: 14 \n",
            "positives: 14\n",
            "Conf Finbert feature: 0.0\n",
            "13105267_T.csv\n",
            "negatives: 0 \n",
            "positives: 31\n",
            "Corp Vader feature: 0.96875\n",
            "negatives: 1 \n",
            "positives: 0\n",
            "Corp Finbert feature: -0.5\n",
            "negatives: 0 \n",
            "positives: 31\n",
            "Corp Vader feature: 0.96875\n",
            "negatives: 1 \n",
            "positives: 0\n",
            "Corp Finbert feature: -0.5\n",
            "file: 13105267_T.csv  dosent have conference participants\n",
            "12302678_T.csv\n",
            "negatives: 0 \n",
            "positives: 78\n",
            "Corp Vader feature: 0.9873417721518988\n",
            "negatives: 2 \n",
            "positives: 67\n",
            "Corp Finbert feature: 0.9285714285714286\n",
            "negatives: 34 \n",
            "positives: 0\n",
            "Conf Vader feature: -0.9714285714285714\n",
            "negatives: 4 \n",
            "positives: 9\n",
            "Conf Finbert feature: 0.35714285714285715\n",
            "12357546_T.csv\n",
            "negatives: 0 \n",
            "positives: 84\n",
            "Corp Vader feature: 0.9882352941176471\n",
            "negatives: 14 \n",
            "positives: 26\n",
            "Corp Finbert feature: 0.2926829268292683\n",
            "negatives: 89 \n",
            "positives: 0\n",
            "Conf Vader feature: -0.9888888888888889\n",
            "negatives: 13 \n",
            "positives: 3\n",
            "Conf Finbert feature: -0.5882352941176471\n",
            "12002207_T.csv\n",
            "negatives: 12 \n",
            "positives: 84\n",
            "Corp Vader feature: 0.7422680412371134\n",
            "negatives: 2 \n",
            "positives: 44\n",
            "Corp Finbert feature: 0.8936170212765957\n",
            "negatives: 2 \n",
            "positives: 0\n",
            "Conf Vader feature: -0.6666666666666666\n",
            "negatives: 0 \n",
            "positives: 0\n",
            "Conf Finbert feature: 0.0\n",
            "11185539_T.csv\n",
            "negatives: 8 \n",
            "positives: 69\n",
            "Corp Vader feature: 0.782051282051282\n",
            "negatives: 6 \n",
            "positives: 33\n",
            "Corp Finbert feature: 0.675\n",
            "negatives: 0 \n",
            "positives: 0\n",
            "Conf Vader feature: 0.0\n",
            "negatives: 0 \n",
            "positives: 0\n",
            "Conf Finbert feature: 0.0\n",
            "13197438_T.csv\n",
            "negatives: 0 \n",
            "positives: 3\n",
            "Presentation Vader feature: 0.75\n",
            "negatives: 0 \n",
            "positives: 2\n",
            "Presentation Finbert feature: 0.6666666666666666\n",
            "negatives: 1 \n",
            "positives: 1\n",
            "Q&A Vader feature: 0.0\n",
            "negatives: 0 \n",
            "positives: 0\n",
            "QA Finbert feature: 0.0\n",
            "13215635_T.csv\n",
            "negatives: 0 \n",
            "positives: 2\n",
            "Presentation Vader feature: 0.6666666666666666\n",
            "negatives: 0 \n",
            "positives: 0\n",
            "Presentation Finbert feature: 0.0\n",
            "negatives: 0 \n",
            "positives: 0\n",
            "Q&A Vader feature: 0.0\n",
            "negatives: 0 \n",
            "positives: 0\n",
            "QA Finbert feature: 0.0\n",
            "12958669_T.csv\n",
            "negatives: 8 \n",
            "positives: 73\n",
            "Presentation Vader feature: 0.7926829268292683\n",
            "negatives: 35 \n",
            "positives: 60\n",
            "Presentation Finbert feature: 0.2604166666666667\n",
            "negatives: 6 \n",
            "positives: 65\n",
            "Q&A Vader feature: 0.8194444444444444\n",
            "negatives: 18 \n",
            "positives: 18\n",
            "QA Finbert feature: 0.0\n",
            "13105267_T.csv\n",
            "negatives: 1 \n",
            "positives: 22\n",
            "Presentation Vader feature: 0.875\n",
            "negatives: 1 \n",
            "positives: 0\n",
            "Presentation Finbert feature: -0.5\n",
            "file: 13105267_T.csv doesnt have Q&A part\n",
            "negatives: 1 \n",
            "positives: 22\n",
            "Presentation Vader feature: 0.875\n",
            "negatives: 1 \n",
            "positives: 0\n",
            "Presentation Finbert feature: -0.5\n",
            "12302678_T.csv\n",
            "file: 12302678_T.csv doesnt have Presentation part\n",
            "negatives: 6 \n",
            "positives: 86\n",
            "Q&A Vader feature: 0.8602150537634409\n",
            "negatives: 6 \n",
            "positives: 74\n",
            "QA Finbert feature: 0.8395061728395061\n",
            "12357546_T.csv\n",
            "negatives: 19 \n",
            "positives: 79\n",
            "Presentation Vader feature: 0.6060606060606061\n",
            "negatives: 27 \n",
            "positives: 29\n",
            "Presentation Finbert feature: 0.03508771929824561\n",
            "file: 12357546_T.csv doesnt have Q&A part\n",
            "negatives: 19 \n",
            "positives: 79\n",
            "Presentation Vader feature: 0.6060606060606061\n",
            "negatives: 27 \n",
            "positives: 29\n",
            "Presentation Finbert feature: 0.03508771929824561\n",
            "12002207_T.csv\n",
            "negatives: 11 \n",
            "positives: 79\n",
            "Presentation Vader feature: 0.7472527472527473\n",
            "negatives: 2 \n",
            "positives: 38\n",
            "Presentation Finbert feature: 0.8780487804878049\n",
            "negatives: 1 \n",
            "positives: 12\n",
            "Q&A Vader feature: 0.7857142857142857\n",
            "negatives: 0 \n",
            "positives: 6\n",
            "QA Finbert feature: 0.8571428571428571\n",
            "11185539_T.csv\n",
            "negatives: 5 \n",
            "positives: 44\n",
            "Presentation Vader feature: 0.78\n",
            "negatives: 2 \n",
            "positives: 25\n",
            "Presentation Finbert feature: 0.8214285714285714\n",
            "negatives: 7 \n",
            "positives: 46\n",
            "Q&A Vader feature: 0.7222222222222222\n",
            "negatives: 4 \n",
            "positives: 6\n",
            "QA Finbert feature: 0.18181818181818182\n"
          ]
        },
        {
          "output_type": "display_data",
          "data": {
            "text/plain": [
              "MetricVisualizer(layout=Layout(align_self='stretch', height='500px'))"
            ],
            "application/vnd.jupyter.widget-view+json": {
              "version_major": 2,
              "version_minor": 0,
              "model_id": "0ef1bab5bb394efea81afe0ba5ce3ad8"
            }
          },
          "metadata": {}
        },
        {
          "output_type": "stream",
          "name": "stdout",
          "text": [
            "Learning rate set to 0.060955\n",
            "0:\tlearn: 1.3722609\ttotal: 422us\tremaining: 422ms\n",
            "1:\tlearn: 1.3601372\ttotal: 702us\tremaining: 351ms\n",
            "2:\tlearn: 1.3442035\ttotal: 916us\tremaining: 305ms\n",
            "3:\tlearn: 1.3305995\ttotal: 1.14ms\tremaining: 283ms\n",
            "4:\tlearn: 1.3133558\ttotal: 1.34ms\tremaining: 266ms\n",
            "5:\tlearn: 1.2963741\ttotal: 1.53ms\tremaining: 253ms\n",
            "6:\tlearn: 1.2832696\ttotal: 1.77ms\tremaining: 251ms\n",
            "7:\tlearn: 1.2749076\ttotal: 1.98ms\tremaining: 245ms\n",
            "8:\tlearn: 1.2600469\ttotal: 2.19ms\tremaining: 242ms\n",
            "9:\tlearn: 1.2534809\ttotal: 2.35ms\tremaining: 232ms\n",
            "10:\tlearn: 1.2408332\ttotal: 2.59ms\tremaining: 233ms\n",
            "11:\tlearn: 1.2328518\ttotal: 2.75ms\tremaining: 227ms\n",
            "12:\tlearn: 1.2202707\ttotal: 2.92ms\tremaining: 221ms\n",
            "13:\tlearn: 1.2061979\ttotal: 3.07ms\tremaining: 216ms\n",
            "14:\tlearn: 1.1940643\ttotal: 3.44ms\tremaining: 226ms\n",
            "15:\tlearn: 1.1863375\ttotal: 3.62ms\tremaining: 222ms\n",
            "16:\tlearn: 1.1743526\ttotal: 3.77ms\tremaining: 218ms\n",
            "17:\tlearn: 1.1594215\ttotal: 3.97ms\tremaining: 217ms\n",
            "18:\tlearn: 1.1492184\ttotal: 4.18ms\tremaining: 216ms\n",
            "19:\tlearn: 1.1405391\ttotal: 4.33ms\tremaining: 212ms\n",
            "20:\tlearn: 1.1259449\ttotal: 4.52ms\tremaining: 211ms\n",
            "21:\tlearn: 1.1147070\ttotal: 4.71ms\tremaining: 209ms\n",
            "22:\tlearn: 1.1050519\ttotal: 4.9ms\tremaining: 208ms\n",
            "23:\tlearn: 1.0940510\ttotal: 5.16ms\tremaining: 210ms\n",
            "24:\tlearn: 1.0802978\ttotal: 5.46ms\tremaining: 213ms\n",
            "25:\tlearn: 1.0696183\ttotal: 5.63ms\tremaining: 211ms\n",
            "26:\tlearn: 1.0590240\ttotal: 5.89ms\tremaining: 212ms\n",
            "27:\tlearn: 1.0485522\ttotal: 6.14ms\tremaining: 213ms\n",
            "28:\tlearn: 1.0355061\ttotal: 6.37ms\tremaining: 213ms\n",
            "29:\tlearn: 1.0253078\ttotal: 6.61ms\tremaining: 214ms\n",
            "30:\tlearn: 1.0152286\ttotal: 6.8ms\tremaining: 212ms\n",
            "31:\tlearn: 1.0052673\ttotal: 7.06ms\tremaining: 214ms\n",
            "32:\tlearn: 0.9966622\ttotal: 7.32ms\tremaining: 215ms\n",
            "33:\tlearn: 0.9869194\ttotal: 7.51ms\tremaining: 213ms\n",
            "34:\tlearn: 0.9785260\ttotal: 7.7ms\tremaining: 212ms\n",
            "35:\tlearn: 0.9676342\ttotal: 7.89ms\tremaining: 211ms\n",
            "36:\tlearn: 0.9582344\ttotal: 8.13ms\tremaining: 212ms\n",
            "37:\tlearn: 0.9465582\ttotal: 8.31ms\tremaining: 210ms\n",
            "38:\tlearn: 0.9361728\ttotal: 8.5ms\tremaining: 210ms\n",
            "39:\tlearn: 0.9271476\ttotal: 8.71ms\tremaining: 209ms\n",
            "40:\tlearn: 0.9182303\ttotal: 8.89ms\tremaining: 208ms\n",
            "41:\tlearn: 0.9082313\ttotal: 9.08ms\tremaining: 207ms\n",
            "42:\tlearn: 0.8984229\ttotal: 9.27ms\tremaining: 206ms\n",
            "43:\tlearn: 0.8908940\ttotal: 9.45ms\tremaining: 205ms\n",
            "44:\tlearn: 0.8835806\ttotal: 9.64ms\tremaining: 205ms\n",
            "45:\tlearn: 0.8781796\ttotal: 9.79ms\tremaining: 203ms\n",
            "46:\tlearn: 0.8710269\ttotal: 9.98ms\tremaining: 202ms\n",
            "47:\tlearn: 0.8639366\ttotal: 10.2ms\tremaining: 203ms\n",
            "48:\tlearn: 0.8544905\ttotal: 10.4ms\tremaining: 202ms\n",
            "49:\tlearn: 0.8464476\ttotal: 10.6ms\tremaining: 202ms\n",
            "50:\tlearn: 0.8394714\ttotal: 10.8ms\tremaining: 201ms\n",
            "51:\tlearn: 0.8327233\ttotal: 11ms\tremaining: 201ms\n",
            "52:\tlearn: 0.8249442\ttotal: 11.2ms\tremaining: 200ms\n",
            "53:\tlearn: 0.8153006\ttotal: 11.4ms\tremaining: 200ms\n",
            "54:\tlearn: 0.8038126\ttotal: 11.6ms\tremaining: 199ms\n",
            "55:\tlearn: 0.7963851\ttotal: 11.9ms\tremaining: 201ms\n",
            "56:\tlearn: 0.7915550\ttotal: 12.1ms\tremaining: 200ms\n",
            "57:\tlearn: 0.7824504\ttotal: 12.3ms\tremaining: 199ms\n",
            "58:\tlearn: 0.7734975\ttotal: 12.4ms\tremaining: 198ms\n",
            "59:\tlearn: 0.7646933\ttotal: 12.7ms\tremaining: 198ms\n",
            "60:\tlearn: 0.7585034\ttotal: 12.9ms\tremaining: 198ms\n",
            "61:\tlearn: 0.7497965\ttotal: 13ms\tremaining: 197ms\n",
            "62:\tlearn: 0.7432309\ttotal: 13.2ms\tremaining: 197ms\n",
            "63:\tlearn: 0.7365398\ttotal: 13.5ms\tremaining: 198ms\n",
            "64:\tlearn: 0.7301664\ttotal: 13.7ms\tremaining: 197ms\n",
            "65:\tlearn: 0.7203132\ttotal: 13.9ms\tremaining: 197ms\n",
            "66:\tlearn: 0.7122137\ttotal: 14.1ms\tremaining: 197ms\n",
            "67:\tlearn: 0.7043573\ttotal: 14.3ms\tremaining: 197ms\n",
            "68:\tlearn: 0.6966300\ttotal: 14.6ms\tremaining: 197ms\n",
            "69:\tlearn: 0.6905047\ttotal: 14.8ms\tremaining: 197ms\n",
            "70:\tlearn: 0.6829959\ttotal: 15ms\tremaining: 197ms\n",
            "71:\tlearn: 0.6740387\ttotal: 15.2ms\tremaining: 196ms\n",
            "72:\tlearn: 0.6666506\ttotal: 15.5ms\tremaining: 196ms\n",
            "73:\tlearn: 0.6593855\ttotal: 15.7ms\tremaining: 196ms\n",
            "74:\tlearn: 0.6522407\ttotal: 15.8ms\tremaining: 195ms\n",
            "75:\tlearn: 0.6466526\ttotal: 16.1ms\tremaining: 196ms\n",
            "76:\tlearn: 0.6383793\ttotal: 16.3ms\tremaining: 195ms\n",
            "77:\tlearn: 0.6316553\ttotal: 16.5ms\tremaining: 195ms\n",
            "78:\tlearn: 0.6250396\ttotal: 16.7ms\tremaining: 194ms\n",
            "79:\tlearn: 0.6191946\ttotal: 16.8ms\tremaining: 194ms\n",
            "80:\tlearn: 0.6127655\ttotal: 17.1ms\tremaining: 194ms\n",
            "81:\tlearn: 0.6064392\ttotal: 17.4ms\tremaining: 195ms\n",
            "82:\tlearn: 0.6002135\ttotal: 17.6ms\tremaining: 194ms\n",
            "83:\tlearn: 0.5939649\ttotal: 17.8ms\tremaining: 194ms\n",
            "84:\tlearn: 0.5866693\ttotal: 17.9ms\tremaining: 193ms\n",
            "85:\tlearn: 0.5807401\ttotal: 18.1ms\tremaining: 193ms\n",
            "86:\tlearn: 0.5760059\ttotal: 18.3ms\tremaining: 192ms\n",
            "87:\tlearn: 0.5702385\ttotal: 18.5ms\tremaining: 192ms\n",
            "88:\tlearn: 0.5644403\ttotal: 18.7ms\tremaining: 191ms\n",
            "89:\tlearn: 0.5576800\ttotal: 18.9ms\tremaining: 191ms\n",
            "90:\tlearn: 0.5510442\ttotal: 19.1ms\tremaining: 190ms\n",
            "91:\tlearn: 0.5445303\ttotal: 19.2ms\tremaining: 190ms\n",
            "92:\tlearn: 0.5391282\ttotal: 19.4ms\tremaining: 189ms\n",
            "93:\tlearn: 0.5339004\ttotal: 19.6ms\tremaining: 189ms\n",
            "94:\tlearn: 0.5287165\ttotal: 19.7ms\tremaining: 188ms\n",
            "95:\tlearn: 0.5226056\ttotal: 19.9ms\tremaining: 188ms\n",
            "96:\tlearn: 0.5166047\ttotal: 20.1ms\tremaining: 187ms\n",
            "97:\tlearn: 0.5107114\ttotal: 20.3ms\tremaining: 187ms\n",
            "98:\tlearn: 0.5049233\ttotal: 20.4ms\tremaining: 186ms\n",
            "99:\tlearn: 0.4992381\ttotal: 20.6ms\tremaining: 186ms\n",
            "100:\tlearn: 0.4936535\ttotal: 20.8ms\tremaining: 185ms\n",
            "101:\tlearn: 0.4890907\ttotal: 21ms\tremaining: 185ms\n",
            "102:\tlearn: 0.4836822\ttotal: 21.2ms\tremaining: 185ms\n",
            "103:\tlearn: 0.4792637\ttotal: 21.4ms\tremaining: 184ms\n",
            "104:\tlearn: 0.4740243\ttotal: 21.6ms\tremaining: 184ms\n",
            "105:\tlearn: 0.4696517\ttotal: 21.7ms\tremaining: 183ms\n",
            "106:\tlearn: 0.4645769\ttotal: 21.9ms\tremaining: 183ms\n",
            "107:\tlearn: 0.4595893\ttotal: 22.1ms\tremaining: 183ms\n",
            "108:\tlearn: 0.4546871\ttotal: 22.3ms\tremaining: 183ms\n",
            "109:\tlearn: 0.4498683\ttotal: 22.5ms\tremaining: 182ms\n",
            "110:\tlearn: 0.4451312\ttotal: 22.7ms\tremaining: 182ms\n",
            "111:\tlearn: 0.4411735\ttotal: 22.9ms\tremaining: 182ms\n",
            "112:\tlearn: 0.4365813\ttotal: 23.1ms\tremaining: 181ms\n",
            "113:\tlearn: 0.4320659\ttotal: 23.4ms\tremaining: 182ms\n",
            "114:\tlearn: 0.4276257\ttotal: 23.7ms\tremaining: 182ms\n",
            "115:\tlearn: 0.4232589\ttotal: 23.9ms\tremaining: 182ms\n",
            "116:\tlearn: 0.4189642\ttotal: 24.1ms\tremaining: 182ms\n",
            "117:\tlearn: 0.4160638\ttotal: 24.3ms\tremaining: 181ms\n",
            "118:\tlearn: 0.4118840\ttotal: 24.4ms\tremaining: 181ms\n",
            "119:\tlearn: 0.4083872\ttotal: 24.6ms\tremaining: 181ms\n",
            "120:\tlearn: 0.4056003\ttotal: 24.8ms\tremaining: 180ms\n",
            "121:\tlearn: 0.4015863\ttotal: 25ms\tremaining: 180ms\n",
            "122:\tlearn: 0.3976370\ttotal: 25.2ms\tremaining: 180ms\n",
            "123:\tlearn: 0.3937510\ttotal: 25.4ms\tremaining: 179ms\n",
            "124:\tlearn: 0.3906577\ttotal: 25.6ms\tremaining: 179ms\n",
            "125:\tlearn: 0.3868833\ttotal: 25.8ms\tremaining: 179ms\n",
            "126:\tlearn: 0.3831686\ttotal: 26ms\tremaining: 179ms\n",
            "127:\tlearn: 0.3800996\ttotal: 26.3ms\tremaining: 179ms\n",
            "128:\tlearn: 0.3764900\ttotal: 26.5ms\tremaining: 179ms\n",
            "129:\tlearn: 0.3729366\ttotal: 26.7ms\tremaining: 179ms\n",
            "130:\tlearn: 0.3694384\ttotal: 26.9ms\tremaining: 178ms\n",
            "131:\tlearn: 0.3665042\ttotal: 27.1ms\tremaining: 178ms\n",
            "132:\tlearn: 0.3636095\ttotal: 27.3ms\tremaining: 178ms\n",
            "133:\tlearn: 0.3602528\ttotal: 27.5ms\tremaining: 178ms\n",
            "134:\tlearn: 0.3569473\ttotal: 27.7ms\tremaining: 178ms\n",
            "135:\tlearn: 0.3541763\ttotal: 27.9ms\tremaining: 177ms\n",
            "136:\tlearn: 0.3509619\ttotal: 28.1ms\tremaining: 177ms\n",
            "137:\tlearn: 0.3482944\ttotal: 28.4ms\tremaining: 178ms\n",
            "138:\tlearn: 0.3451672\ttotal: 28.6ms\tremaining: 177ms\n",
            "139:\tlearn: 0.3425726\ttotal: 28.8ms\tremaining: 177ms\n",
            "140:\tlearn: 0.3399791\ttotal: 29ms\tremaining: 177ms\n",
            "141:\tlearn: 0.3374193\ttotal: 29.2ms\tremaining: 177ms\n",
            "142:\tlearn: 0.3344508\ttotal: 29.4ms\tremaining: 176ms\n",
            "143:\tlearn: 0.3319605\ttotal: 29.6ms\tremaining: 176ms\n",
            "144:\tlearn: 0.3295221\ttotal: 29.8ms\tremaining: 176ms\n",
            "145:\tlearn: 0.3270915\ttotal: 30ms\tremaining: 175ms\n",
            "146:\tlearn: 0.3246917\ttotal: 30.2ms\tremaining: 175ms\n",
            "147:\tlearn: 0.3223224\ttotal: 30.4ms\tremaining: 175ms\n",
            "148:\tlearn: 0.3195694\ttotal: 30.6ms\tremaining: 175ms\n",
            "149:\tlearn: 0.3172629\ttotal: 30.8ms\tremaining: 174ms\n",
            "150:\tlearn: 0.3149851\ttotal: 31ms\tremaining: 174ms\n",
            "151:\tlearn: 0.3123354\ttotal: 31.3ms\tremaining: 174ms\n",
            "152:\tlearn: 0.3097233\ttotal: 31.5ms\tremaining: 174ms\n",
            "153:\tlearn: 0.3075359\ttotal: 31.7ms\tremaining: 174ms\n",
            "154:\tlearn: 0.3049905\ttotal: 32ms\tremaining: 174ms\n",
            "155:\tlearn: 0.3028624\ttotal: 32.2ms\tremaining: 174ms\n",
            "156:\tlearn: 0.3003816\ttotal: 32.4ms\tremaining: 174ms\n",
            "157:\tlearn: 0.2979351\ttotal: 32.6ms\tremaining: 174ms\n",
            "158:\tlearn: 0.2958841\ttotal: 32.8ms\tremaining: 173ms\n",
            "159:\tlearn: 0.2938605\ttotal: 33ms\tremaining: 173ms\n",
            "160:\tlearn: 0.2918610\ttotal: 33.2ms\tremaining: 173ms\n",
            "161:\tlearn: 0.2898777\ttotal: 33.4ms\tremaining: 173ms\n",
            "162:\tlearn: 0.2879179\ttotal: 33.6ms\tremaining: 172ms\n",
            "163:\tlearn: 0.2859839\ttotal: 33.8ms\tremaining: 172ms\n",
            "164:\tlearn: 0.2837301\ttotal: 33.9ms\tremaining: 172ms\n",
            "165:\tlearn: 0.2818392\ttotal: 34.1ms\tremaining: 171ms\n",
            "166:\tlearn: 0.2796403\ttotal: 34.3ms\tremaining: 171ms\n",
            "167:\tlearn: 0.2777961\ttotal: 34.5ms\tremaining: 171ms\n",
            "168:\tlearn: 0.2759732\ttotal: 34.7ms\tremaining: 170ms\n",
            "169:\tlearn: 0.2741714\ttotal: 34.9ms\tremaining: 170ms\n",
            "170:\tlearn: 0.2720723\ttotal: 35.1ms\tremaining: 170ms\n",
            "171:\tlearn: 0.2706234\ttotal: 35.2ms\tremaining: 170ms\n",
            "172:\tlearn: 0.2688766\ttotal: 35.5ms\tremaining: 170ms\n",
            "173:\tlearn: 0.2671498\ttotal: 35.6ms\tremaining: 169ms\n",
            "174:\tlearn: 0.2654425\ttotal: 35.9ms\tremaining: 169ms\n",
            "175:\tlearn: 0.2634546\ttotal: 36.1ms\tremaining: 169ms\n",
            "176:\tlearn: 0.2614923\ttotal: 36.3ms\tremaining: 169ms\n",
            "177:\tlearn: 0.2595552\ttotal: 36.4ms\tremaining: 168ms\n",
            "178:\tlearn: 0.2576427\ttotal: 36.6ms\tremaining: 168ms\n",
            "179:\tlearn: 0.2557545\ttotal: 36.8ms\tremaining: 168ms\n",
            "180:\tlearn: 0.2544475\ttotal: 37ms\tremaining: 167ms\n",
            "181:\tlearn: 0.2525988\ttotal: 37.2ms\tremaining: 167ms\n",
            "182:\tlearn: 0.2507732\ttotal: 37.4ms\tremaining: 167ms\n",
            "183:\tlearn: 0.2495086\ttotal: 37.6ms\tremaining: 167ms\n",
            "184:\tlearn: 0.2479887\ttotal: 37.8ms\tremaining: 167ms\n",
            "185:\tlearn: 0.2464853\ttotal: 38.2ms\tremaining: 167ms\n",
            "186:\tlearn: 0.2449981\ttotal: 38.5ms\tremaining: 167ms\n",
            "187:\tlearn: 0.2437827\ttotal: 38.8ms\tremaining: 168ms\n",
            "188:\tlearn: 0.2423174\ttotal: 39ms\tremaining: 167ms\n",
            "189:\tlearn: 0.2408726\ttotal: 39.2ms\tremaining: 167ms\n",
            "190:\tlearn: 0.2391882\ttotal: 39.4ms\tremaining: 167ms\n",
            "191:\tlearn: 0.2375242\ttotal: 39.5ms\tremaining: 166ms\n",
            "192:\tlearn: 0.2358804\ttotal: 39.7ms\tremaining: 166ms\n",
            "193:\tlearn: 0.2342564\ttotal: 39.9ms\tremaining: 166ms\n",
            "194:\tlearn: 0.2326519\ttotal: 40.1ms\tremaining: 165ms\n",
            "195:\tlearn: 0.2312994\ttotal: 40.3ms\tremaining: 165ms\n",
            "196:\tlearn: 0.2301966\ttotal: 40.5ms\tremaining: 165ms\n",
            "197:\tlearn: 0.2286393\ttotal: 40.7ms\tremaining: 165ms\n",
            "198:\tlearn: 0.2271005\ttotal: 40.9ms\tremaining: 165ms\n",
            "199:\tlearn: 0.2255797\ttotal: 41.1ms\tremaining: 164ms\n",
            "200:\tlearn: 0.2242978\ttotal: 41.3ms\tremaining: 164ms\n",
            "201:\tlearn: 0.2230291\ttotal: 41.5ms\tremaining: 164ms\n",
            "202:\tlearn: 0.2215552\ttotal: 41.7ms\tremaining: 164ms\n",
            "203:\tlearn: 0.2203148\ttotal: 41.9ms\tremaining: 164ms\n",
            "204:\tlearn: 0.2188720\ttotal: 42.1ms\tremaining: 163ms\n",
            "205:\tlearn: 0.2176557\ttotal: 42.3ms\tremaining: 163ms\n",
            "206:\tlearn: 0.2162431\ttotal: 42.5ms\tremaining: 163ms\n",
            "207:\tlearn: 0.2150536\ttotal: 42.7ms\tremaining: 163ms\n",
            "208:\tlearn: 0.2138761\ttotal: 42.9ms\tremaining: 162ms\n",
            "209:\tlearn: 0.2125058\ttotal: 43.1ms\tremaining: 162ms\n",
            "210:\tlearn: 0.2113528\ttotal: 43.3ms\tremaining: 162ms\n",
            "211:\tlearn: 0.2100106\ttotal: 43.5ms\tremaining: 162ms\n",
            "212:\tlearn: 0.2088815\ttotal: 43.6ms\tremaining: 161ms\n",
            "213:\tlearn: 0.2075666\ttotal: 43.8ms\tremaining: 161ms\n",
            "214:\tlearn: 0.2062663\ttotal: 44ms\tremaining: 161ms\n",
            "215:\tlearn: 0.2049804\ttotal: 44.2ms\tremaining: 160ms\n",
            "216:\tlearn: 0.2037086\ttotal: 44.4ms\tremaining: 160ms\n",
            "217:\tlearn: 0.2026331\ttotal: 44.6ms\tremaining: 160ms\n",
            "218:\tlearn: 0.2015721\ttotal: 44.8ms\tremaining: 160ms\n",
            "219:\tlearn: 0.2003370\ttotal: 45ms\tremaining: 160ms\n",
            "220:\tlearn: 0.1992973\ttotal: 45.2ms\tremaining: 159ms\n",
            "221:\tlearn: 0.1982674\ttotal: 45.4ms\tremaining: 159ms\n",
            "222:\tlearn: 0.1972405\ttotal: 45.7ms\tremaining: 159ms\n",
            "223:\tlearn: 0.1960514\ttotal: 45.9ms\tremaining: 159ms\n",
            "224:\tlearn: 0.1948751\ttotal: 46.1ms\tremaining: 159ms\n",
            "225:\tlearn: 0.1937112\ttotal: 46.4ms\tremaining: 159ms\n",
            "226:\tlearn: 0.1927258\ttotal: 46.6ms\tremaining: 159ms\n",
            "227:\tlearn: 0.1917540\ttotal: 46.8ms\tremaining: 158ms\n",
            "228:\tlearn: 0.1906227\ttotal: 47ms\tremaining: 158ms\n",
            "229:\tlearn: 0.1896646\ttotal: 47.2ms\tremaining: 158ms\n",
            "230:\tlearn: 0.1887154\ttotal: 47.5ms\tremaining: 158ms\n",
            "231:\tlearn: 0.1877782\ttotal: 47.7ms\tremaining: 158ms\n",
            "232:\tlearn: 0.1868455\ttotal: 47.9ms\tremaining: 158ms\n",
            "233:\tlearn: 0.1860812\ttotal: 48.1ms\tremaining: 158ms\n",
            "234:\tlearn: 0.1851669\ttotal: 48.3ms\tremaining: 157ms\n",
            "235:\tlearn: 0.1842567\ttotal: 48.6ms\tremaining: 157ms\n",
            "236:\tlearn: 0.1833580\ttotal: 48.8ms\tremaining: 157ms\n",
            "237:\tlearn: 0.1826189\ttotal: 49ms\tremaining: 157ms\n",
            "238:\tlearn: 0.1815800\ttotal: 49.2ms\tremaining: 157ms\n",
            "239:\tlearn: 0.1805517\ttotal: 49.4ms\tremaining: 156ms\n",
            "240:\tlearn: 0.1795338\ttotal: 49.6ms\tremaining: 156ms\n",
            "241:\tlearn: 0.1786719\ttotal: 49.8ms\tremaining: 156ms\n",
            "242:\tlearn: 0.1778176\ttotal: 50ms\tremaining: 156ms\n",
            "243:\tlearn: 0.1769709\ttotal: 50.2ms\tremaining: 156ms\n",
            "244:\tlearn: 0.1761317\ttotal: 50.4ms\tremaining: 155ms\n",
            "245:\tlearn: 0.1753004\ttotal: 50.6ms\tremaining: 155ms\n",
            "246:\tlearn: 0.1746174\ttotal: 50.8ms\tremaining: 155ms\n",
            "247:\tlearn: 0.1736576\ttotal: 51ms\tremaining: 155ms\n",
            "248:\tlearn: 0.1728459\ttotal: 51.2ms\tremaining: 155ms\n",
            "249:\tlearn: 0.1721797\ttotal: 51.5ms\tremaining: 154ms\n",
            "250:\tlearn: 0.1715182\ttotal: 51.8ms\tremaining: 154ms\n",
            "251:\tlearn: 0.1707250\ttotal: 51.9ms\tremaining: 154ms\n",
            "252:\tlearn: 0.1698025\ttotal: 52.1ms\tremaining: 154ms\n",
            "253:\tlearn: 0.1688890\ttotal: 52.3ms\tremaining: 154ms\n",
            "254:\tlearn: 0.1681163\ttotal: 52.5ms\tremaining: 153ms\n",
            "255:\tlearn: 0.1674821\ttotal: 52.7ms\tremaining: 153ms\n",
            "256:\tlearn: 0.1667217\ttotal: 53ms\tremaining: 153ms\n",
            "257:\tlearn: 0.1659666\ttotal: 53.1ms\tremaining: 153ms\n",
            "258:\tlearn: 0.1650892\ttotal: 53.3ms\tremaining: 153ms\n",
            "259:\tlearn: 0.1643475\ttotal: 53.5ms\tremaining: 152ms\n",
            "260:\tlearn: 0.1636118\ttotal: 53.7ms\tremaining: 152ms\n",
            "261:\tlearn: 0.1628824\ttotal: 53.9ms\tremaining: 152ms\n",
            "262:\tlearn: 0.1620339\ttotal: 54.1ms\tremaining: 152ms\n",
            "263:\tlearn: 0.1611934\ttotal: 54.4ms\tremaining: 152ms\n",
            "264:\tlearn: 0.1604822\ttotal: 54.6ms\tremaining: 152ms\n",
            "265:\tlearn: 0.1596561\ttotal: 54.8ms\tremaining: 151ms\n",
            "266:\tlearn: 0.1588376\ttotal: 55ms\tremaining: 151ms\n",
            "267:\tlearn: 0.1581452\ttotal: 55.2ms\tremaining: 151ms\n",
            "268:\tlearn: 0.1573406\ttotal: 55.4ms\tremaining: 151ms\n",
            "269:\tlearn: 0.1566600\ttotal: 55.6ms\tremaining: 150ms\n",
            "270:\tlearn: 0.1559844\ttotal: 55.8ms\tremaining: 150ms\n",
            "271:\tlearn: 0.1553143\ttotal: 56ms\tremaining: 150ms\n",
            "272:\tlearn: 0.1545353\ttotal: 56.2ms\tremaining: 150ms\n",
            "273:\tlearn: 0.1537634\ttotal: 56.4ms\tremaining: 149ms\n",
            "274:\tlearn: 0.1531099\ttotal: 56.5ms\tremaining: 149ms\n",
            "275:\tlearn: 0.1523508\ttotal: 56.7ms\tremaining: 149ms\n",
            "276:\tlearn: 0.1517082\ttotal: 57ms\tremaining: 149ms\n",
            "277:\tlearn: 0.1509616\ttotal: 57.1ms\tremaining: 148ms\n",
            "278:\tlearn: 0.1503297\ttotal: 57.3ms\tremaining: 148ms\n",
            "279:\tlearn: 0.1495953\ttotal: 57.5ms\tremaining: 148ms\n",
            "280:\tlearn: 0.1490796\ttotal: 57.7ms\tremaining: 148ms\n",
            "281:\tlearn: 0.1483560\ttotal: 57.9ms\tremaining: 147ms\n",
            "282:\tlearn: 0.1476388\ttotal: 58.1ms\tremaining: 147ms\n",
            "283:\tlearn: 0.1469280\ttotal: 58.2ms\tremaining: 147ms\n",
            "284:\tlearn: 0.1463263\ttotal: 58.4ms\tremaining: 147ms\n",
            "285:\tlearn: 0.1456268\ttotal: 58.6ms\tremaining: 146ms\n",
            "286:\tlearn: 0.1449334\ttotal: 58.8ms\tremaining: 146ms\n",
            "287:\tlearn: 0.1442460\ttotal: 59ms\tremaining: 146ms\n",
            "288:\tlearn: 0.1435646\ttotal: 59.2ms\tremaining: 146ms\n",
            "289:\tlearn: 0.1428890\ttotal: 59.4ms\tremaining: 145ms\n",
            "290:\tlearn: 0.1424136\ttotal: 59.6ms\tremaining: 145ms\n",
            "291:\tlearn: 0.1417476\ttotal: 59.7ms\tremaining: 145ms\n",
            "292:\tlearn: 0.1411838\ttotal: 59.9ms\tremaining: 145ms\n",
            "293:\tlearn: 0.1405283\ttotal: 60.1ms\tremaining: 144ms\n",
            "294:\tlearn: 0.1400669\ttotal: 60.3ms\tremaining: 144ms\n",
            "295:\tlearn: 0.1395138\ttotal: 60.5ms\tremaining: 144ms\n",
            "296:\tlearn: 0.1389659\ttotal: 60.7ms\tremaining: 144ms\n",
            "297:\tlearn: 0.1383287\ttotal: 60.9ms\tremaining: 143ms\n",
            "298:\tlearn: 0.1376969\ttotal: 61.1ms\tremaining: 143ms\n",
            "299:\tlearn: 0.1371621\ttotal: 61.3ms\tremaining: 143ms\n",
            "300:\tlearn: 0.1366292\ttotal: 61.5ms\tremaining: 143ms\n",
            "301:\tlearn: 0.1360114\ttotal: 61.7ms\tremaining: 143ms\n",
            "302:\tlearn: 0.1354883\ttotal: 61.9ms\tremaining: 142ms\n",
            "303:\tlearn: 0.1349690\ttotal: 62ms\tremaining: 142ms\n",
            "304:\tlearn: 0.1344535\ttotal: 62.2ms\tremaining: 142ms\n",
            "305:\tlearn: 0.1338534\ttotal: 62.4ms\tremaining: 141ms\n",
            "306:\tlearn: 0.1333457\ttotal: 62.6ms\tremaining: 141ms\n",
            "307:\tlearn: 0.1328389\ttotal: 62.8ms\tremaining: 141ms\n",
            "308:\tlearn: 0.1322518\ttotal: 63ms\tremaining: 141ms\n",
            "309:\tlearn: 0.1316695\ttotal: 63.1ms\tremaining: 141ms\n",
            "310:\tlearn: 0.1310919\ttotal: 63.5ms\tremaining: 141ms\n",
            "311:\tlearn: 0.1306007\ttotal: 63.7ms\tremaining: 141ms\n",
            "312:\tlearn: 0.1300316\ttotal: 64ms\tremaining: 140ms\n",
            "313:\tlearn: 0.1295497\ttotal: 64.2ms\tremaining: 140ms\n",
            "314:\tlearn: 0.1289889\ttotal: 64.4ms\tremaining: 140ms\n",
            "315:\tlearn: 0.1284326\ttotal: 64.6ms\tremaining: 140ms\n",
            "316:\tlearn: 0.1278807\ttotal: 64.8ms\tremaining: 140ms\n",
            "317:\tlearn: 0.1274111\ttotal: 65ms\tremaining: 139ms\n",
            "318:\tlearn: 0.1268672\ttotal: 65.2ms\tremaining: 139ms\n",
            "319:\tlearn: 0.1264064\ttotal: 65.4ms\tremaining: 139ms\n",
            "320:\tlearn: 0.1258703\ttotal: 65.6ms\tremaining: 139ms\n",
            "321:\tlearn: 0.1254162\ttotal: 65.8ms\tremaining: 138ms\n",
            "322:\tlearn: 0.1248878\ttotal: 66ms\tremaining: 138ms\n",
            "323:\tlearn: 0.1245147\ttotal: 66.2ms\tremaining: 138ms\n",
            "324:\tlearn: 0.1240672\ttotal: 66.4ms\tremaining: 138ms\n",
            "325:\tlearn: 0.1236249\ttotal: 66.6ms\tremaining: 138ms\n",
            "326:\tlearn: 0.1231101\ttotal: 66.8ms\tremaining: 137ms\n",
            "327:\tlearn: 0.1226741\ttotal: 67ms\tremaining: 137ms\n",
            "328:\tlearn: 0.1222385\ttotal: 67.2ms\tremaining: 137ms\n",
            "329:\tlearn: 0.1218081\ttotal: 67.4ms\tremaining: 137ms\n",
            "330:\tlearn: 0.1213070\ttotal: 67.6ms\tremaining: 137ms\n",
            "331:\tlearn: 0.1208802\ttotal: 67.8ms\tremaining: 136ms\n",
            "332:\tlearn: 0.1205288\ttotal: 68ms\tremaining: 136ms\n",
            "333:\tlearn: 0.1200372\ttotal: 68.2ms\tremaining: 136ms\n",
            "334:\tlearn: 0.1196187\ttotal: 68.4ms\tremaining: 136ms\n",
            "335:\tlearn: 0.1192740\ttotal: 68.6ms\tremaining: 136ms\n",
            "336:\tlearn: 0.1188623\ttotal: 68.9ms\tremaining: 135ms\n",
            "337:\tlearn: 0.1184534\ttotal: 69.1ms\tremaining: 135ms\n",
            "338:\tlearn: 0.1180448\ttotal: 69.2ms\tremaining: 135ms\n",
            "339:\tlearn: 0.1177084\ttotal: 69.5ms\tremaining: 135ms\n",
            "340:\tlearn: 0.1173047\ttotal: 69.7ms\tremaining: 135ms\n",
            "341:\tlearn: 0.1168367\ttotal: 69.9ms\tremaining: 134ms\n",
            "342:\tlearn: 0.1164403\ttotal: 70.1ms\tremaining: 134ms\n",
            "343:\tlearn: 0.1160445\ttotal: 70.3ms\tremaining: 134ms\n",
            "344:\tlearn: 0.1155858\ttotal: 70.4ms\tremaining: 134ms\n",
            "345:\tlearn: 0.1151304\ttotal: 70.6ms\tremaining: 133ms\n",
            "346:\tlearn: 0.1146783\ttotal: 70.8ms\tremaining: 133ms\n",
            "347:\tlearn: 0.1142952\ttotal: 71ms\tremaining: 133ms\n",
            "348:\tlearn: 0.1138491\ttotal: 71.3ms\tremaining: 133ms\n",
            "349:\tlearn: 0.1134712\ttotal: 71.5ms\tremaining: 133ms\n",
            "350:\tlearn: 0.1130957\ttotal: 71.7ms\tremaining: 133ms\n",
            "351:\tlearn: 0.1127202\ttotal: 71.9ms\tremaining: 132ms\n",
            "352:\tlearn: 0.1123472\ttotal: 72.1ms\tremaining: 132ms\n",
            "353:\tlearn: 0.1119766\ttotal: 72.3ms\tremaining: 132ms\n",
            "354:\tlearn: 0.1116083\ttotal: 72.5ms\tremaining: 132ms\n",
            "355:\tlearn: 0.1112424\ttotal: 72.7ms\tremaining: 131ms\n",
            "356:\tlearn: 0.1108798\ttotal: 72.9ms\tremaining: 131ms\n",
            "357:\tlearn: 0.1104579\ttotal: 73.1ms\tremaining: 131ms\n",
            "358:\tlearn: 0.1100390\ttotal: 73.3ms\tremaining: 131ms\n",
            "359:\tlearn: 0.1096230\ttotal: 73.5ms\tremaining: 131ms\n",
            "360:\tlearn: 0.1093292\ttotal: 73.8ms\tremaining: 131ms\n",
            "361:\tlearn: 0.1089769\ttotal: 74ms\tremaining: 130ms\n",
            "362:\tlearn: 0.1086278\ttotal: 74.1ms\tremaining: 130ms\n",
            "363:\tlearn: 0.1082797\ttotal: 74.3ms\tremaining: 130ms\n",
            "364:\tlearn: 0.1078758\ttotal: 74.5ms\tremaining: 130ms\n",
            "365:\tlearn: 0.1074747\ttotal: 74.7ms\tremaining: 129ms\n",
            "366:\tlearn: 0.1071334\ttotal: 74.9ms\tremaining: 129ms\n",
            "367:\tlearn: 0.1067943\ttotal: 75.1ms\tremaining: 129ms\n",
            "368:\tlearn: 0.1064578\ttotal: 75.3ms\tremaining: 129ms\n",
            "369:\tlearn: 0.1060663\ttotal: 75.5ms\tremaining: 129ms\n",
            "370:\tlearn: 0.1056776\ttotal: 75.7ms\tremaining: 128ms\n",
            "371:\tlearn: 0.1052915\ttotal: 75.9ms\tremaining: 128ms\n",
            "372:\tlearn: 0.1049081\ttotal: 76.1ms\tremaining: 128ms\n",
            "373:\tlearn: 0.1045825\ttotal: 76.3ms\tremaining: 128ms\n",
            "374:\tlearn: 0.1042589\ttotal: 76.5ms\tremaining: 127ms\n",
            "375:\tlearn: 0.1038823\ttotal: 76.7ms\tremaining: 127ms\n",
            "376:\tlearn: 0.1035083\ttotal: 76.8ms\tremaining: 127ms\n",
            "377:\tlearn: 0.1031909\ttotal: 77ms\tremaining: 127ms\n",
            "378:\tlearn: 0.1028215\ttotal: 77.2ms\tremaining: 127ms\n",
            "379:\tlearn: 0.1024546\ttotal: 77.4ms\tremaining: 126ms\n",
            "380:\tlearn: 0.1021951\ttotal: 77.7ms\tremaining: 126ms\n",
            "381:\tlearn: 0.1018323\ttotal: 77.9ms\tremaining: 126ms\n",
            "382:\tlearn: 0.1014719\ttotal: 78ms\tremaining: 126ms\n",
            "383:\tlearn: 0.1011138\ttotal: 78.2ms\tremaining: 125ms\n",
            "384:\tlearn: 0.1007581\ttotal: 78.4ms\tremaining: 125ms\n",
            "385:\tlearn: 0.1004048\ttotal: 78.6ms\tremaining: 125ms\n",
            "386:\tlearn: 0.1001037\ttotal: 78.8ms\tremaining: 125ms\n",
            "387:\tlearn: 0.0997546\ttotal: 79ms\tremaining: 125ms\n",
            "388:\tlearn: 0.0994078\ttotal: 79.2ms\tremaining: 124ms\n",
            "389:\tlearn: 0.0990632\ttotal: 79.4ms\tremaining: 124ms\n",
            "390:\tlearn: 0.0987209\ttotal: 79.6ms\tremaining: 124ms\n",
            "391:\tlearn: 0.0983808\ttotal: 79.8ms\tremaining: 124ms\n",
            "392:\tlearn: 0.0981398\ttotal: 80ms\tremaining: 124ms\n",
            "393:\tlearn: 0.0978034\ttotal: 80.2ms\tremaining: 123ms\n",
            "394:\tlearn: 0.0974691\ttotal: 80.4ms\tremaining: 123ms\n",
            "395:\tlearn: 0.0971851\ttotal: 80.6ms\tremaining: 123ms\n",
            "396:\tlearn: 0.0968547\ttotal: 80.8ms\tremaining: 123ms\n",
            "397:\tlearn: 0.0965265\ttotal: 81ms\tremaining: 122ms\n",
            "398:\tlearn: 0.0962003\ttotal: 81.2ms\tremaining: 122ms\n",
            "399:\tlearn: 0.0959221\ttotal: 81.4ms\tremaining: 122ms\n",
            "400:\tlearn: 0.0956464\ttotal: 81.6ms\tremaining: 122ms\n",
            "401:\tlearn: 0.0953257\ttotal: 81.7ms\tremaining: 122ms\n",
            "402:\tlearn: 0.0950071\ttotal: 81.9ms\tremaining: 121ms\n",
            "403:\tlearn: 0.0947363\ttotal: 82.1ms\tremaining: 121ms\n",
            "404:\tlearn: 0.0944658\ttotal: 82.3ms\tremaining: 121ms\n",
            "405:\tlearn: 0.0941979\ttotal: 82.5ms\tremaining: 121ms\n",
            "406:\tlearn: 0.0938862\ttotal: 82.7ms\tremaining: 120ms\n",
            "407:\tlearn: 0.0936652\ttotal: 82.9ms\tremaining: 120ms\n",
            "408:\tlearn: 0.0933567\ttotal: 83.1ms\tremaining: 120ms\n",
            "409:\tlearn: 0.0930947\ttotal: 83.3ms\tremaining: 120ms\n",
            "410:\tlearn: 0.0928340\ttotal: 83.5ms\tremaining: 120ms\n",
            "411:\tlearn: 0.0925307\ttotal: 83.7ms\tremaining: 119ms\n",
            "412:\tlearn: 0.0922292\ttotal: 83.9ms\tremaining: 119ms\n",
            "413:\tlearn: 0.0919731\ttotal: 84.1ms\tremaining: 119ms\n",
            "414:\tlearn: 0.0917604\ttotal: 84.3ms\tremaining: 119ms\n",
            "415:\tlearn: 0.0915068\ttotal: 84.5ms\tremaining: 119ms\n",
            "416:\tlearn: 0.0912546\ttotal: 84.7ms\tremaining: 118ms\n",
            "417:\tlearn: 0.0910037\ttotal: 84.9ms\tremaining: 118ms\n",
            "418:\tlearn: 0.0907114\ttotal: 85.1ms\tremaining: 118ms\n",
            "419:\tlearn: 0.0904633\ttotal: 85.2ms\tremaining: 118ms\n",
            "420:\tlearn: 0.0902166\ttotal: 85.5ms\tremaining: 118ms\n",
            "421:\tlearn: 0.0899713\ttotal: 85.7ms\tremaining: 117ms\n",
            "422:\tlearn: 0.0897272\ttotal: 85.9ms\tremaining: 117ms\n",
            "423:\tlearn: 0.0894821\ttotal: 86.1ms\tremaining: 117ms\n",
            "424:\tlearn: 0.0892405\ttotal: 86.3ms\tremaining: 117ms\n",
            "425:\tlearn: 0.0890002\ttotal: 86.5ms\tremaining: 116ms\n",
            "426:\tlearn: 0.0887197\ttotal: 86.7ms\tremaining: 116ms\n",
            "427:\tlearn: 0.0884820\ttotal: 86.9ms\tremaining: 116ms\n",
            "428:\tlearn: 0.0882045\ttotal: 87.1ms\tremaining: 116ms\n",
            "429:\tlearn: 0.0879695\ttotal: 87.3ms\tremaining: 116ms\n",
            "430:\tlearn: 0.0876950\ttotal: 87.4ms\tremaining: 115ms\n",
            "431:\tlearn: 0.0874600\ttotal: 87.7ms\tremaining: 115ms\n",
            "432:\tlearn: 0.0871886\ttotal: 87.8ms\tremaining: 115ms\n",
            "433:\tlearn: 0.0869187\ttotal: 88ms\tremaining: 115ms\n",
            "434:\tlearn: 0.0867272\ttotal: 88.2ms\tremaining: 115ms\n",
            "435:\tlearn: 0.0864600\ttotal: 88.4ms\tremaining: 114ms\n",
            "436:\tlearn: 0.0861943\ttotal: 88.6ms\tremaining: 114ms\n",
            "437:\tlearn: 0.0859669\ttotal: 88.8ms\tremaining: 114ms\n",
            "438:\tlearn: 0.0857794\ttotal: 89ms\tremaining: 114ms\n",
            "439:\tlearn: 0.0855176\ttotal: 89.2ms\tremaining: 114ms\n",
            "440:\tlearn: 0.0852572\ttotal: 89.4ms\tremaining: 113ms\n",
            "441:\tlearn: 0.0850345\ttotal: 89.6ms\tremaining: 113ms\n",
            "442:\tlearn: 0.0848148\ttotal: 89.8ms\tremaining: 113ms\n",
            "443:\tlearn: 0.0845942\ttotal: 90ms\tremaining: 113ms\n",
            "444:\tlearn: 0.0843392\ttotal: 90.1ms\tremaining: 112ms\n",
            "445:\tlearn: 0.0841210\ttotal: 90.3ms\tremaining: 112ms\n",
            "446:\tlearn: 0.0838686\ttotal: 90.5ms\tremaining: 112ms\n",
            "447:\tlearn: 0.0836176\ttotal: 90.7ms\tremaining: 112ms\n",
            "448:\tlearn: 0.0834047\ttotal: 90.9ms\tremaining: 112ms\n",
            "449:\tlearn: 0.0831928\ttotal: 91.1ms\tremaining: 111ms\n",
            "450:\tlearn: 0.0829820\ttotal: 91.3ms\tremaining: 111ms\n",
            "451:\tlearn: 0.0827702\ttotal: 91.5ms\tremaining: 111ms\n",
            "452:\tlearn: 0.0825254\ttotal: 91.7ms\tremaining: 111ms\n",
            "453:\tlearn: 0.0823177\ttotal: 91.9ms\tremaining: 110ms\n",
            "454:\tlearn: 0.0821091\ttotal: 92.1ms\tremaining: 110ms\n",
            "455:\tlearn: 0.0819015\ttotal: 92.3ms\tremaining: 110ms\n",
            "456:\tlearn: 0.0816615\ttotal: 92.5ms\tremaining: 110ms\n",
            "457:\tlearn: 0.0814227\ttotal: 92.6ms\tremaining: 110ms\n",
            "458:\tlearn: 0.0812202\ttotal: 92.8ms\tremaining: 109ms\n",
            "459:\tlearn: 0.0809839\ttotal: 93ms\tremaining: 109ms\n",
            "460:\tlearn: 0.0807816\ttotal: 93.2ms\tremaining: 109ms\n",
            "461:\tlearn: 0.0805477\ttotal: 93.4ms\tremaining: 109ms\n",
            "462:\tlearn: 0.0803151\ttotal: 93.5ms\tremaining: 108ms\n",
            "463:\tlearn: 0.0800837\ttotal: 93.7ms\tremaining: 108ms\n",
            "464:\tlearn: 0.0798873\ttotal: 93.9ms\tremaining: 108ms\n",
            "465:\tlearn: 0.0796583\ttotal: 94.1ms\tremaining: 108ms\n",
            "466:\tlearn: 0.0794305\ttotal: 94.3ms\tremaining: 108ms\n",
            "467:\tlearn: 0.0792039\ttotal: 94.5ms\tremaining: 107ms\n",
            "468:\tlearn: 0.0790116\ttotal: 94.7ms\tremaining: 107ms\n",
            "469:\tlearn: 0.0788202\ttotal: 94.9ms\tremaining: 107ms\n",
            "470:\tlearn: 0.0785969\ttotal: 95.1ms\tremaining: 107ms\n",
            "471:\tlearn: 0.0784075\ttotal: 95.3ms\tremaining: 107ms\n",
            "472:\tlearn: 0.0782189\ttotal: 95.5ms\tremaining: 106ms\n",
            "473:\tlearn: 0.0780313\ttotal: 95.7ms\tremaining: 106ms\n",
            "474:\tlearn: 0.0778424\ttotal: 95.9ms\tremaining: 106ms\n",
            "475:\tlearn: 0.0776565\ttotal: 96.1ms\tremaining: 106ms\n",
            "476:\tlearn: 0.0774693\ttotal: 96.3ms\tremaining: 106ms\n",
            "477:\tlearn: 0.0772831\ttotal: 96.7ms\tremaining: 106ms\n",
            "478:\tlearn: 0.0770679\ttotal: 96.9ms\tremaining: 105ms\n",
            "479:\tlearn: 0.0768835\ttotal: 97.1ms\tremaining: 105ms\n",
            "480:\tlearn: 0.0766704\ttotal: 97.3ms\tremaining: 105ms\n",
            "481:\tlearn: 0.0764878\ttotal: 97.5ms\tremaining: 105ms\n",
            "482:\tlearn: 0.0763078\ttotal: 97.7ms\tremaining: 105ms\n",
            "483:\tlearn: 0.0760977\ttotal: 97.9ms\tremaining: 104ms\n",
            "484:\tlearn: 0.0758886\ttotal: 98.1ms\tremaining: 104ms\n",
            "485:\tlearn: 0.0757096\ttotal: 98.2ms\tremaining: 104ms\n",
            "486:\tlearn: 0.0755314\ttotal: 98.4ms\tremaining: 104ms\n",
            "487:\tlearn: 0.0753253\ttotal: 98.7ms\tremaining: 104ms\n",
            "488:\tlearn: 0.0751789\ttotal: 98.9ms\tremaining: 103ms\n",
            "489:\tlearn: 0.0749746\ttotal: 99.1ms\tremaining: 103ms\n",
            "490:\tlearn: 0.0747713\ttotal: 99.3ms\tremaining: 103ms\n",
            "491:\tlearn: 0.0745987\ttotal: 99.5ms\tremaining: 103ms\n",
            "492:\tlearn: 0.0743974\ttotal: 99.7ms\tremaining: 102ms\n",
            "493:\tlearn: 0.0741971\ttotal: 99.9ms\tremaining: 102ms\n",
            "494:\tlearn: 0.0740270\ttotal: 100ms\tremaining: 102ms\n",
            "495:\tlearn: 0.0738853\ttotal: 100ms\tremaining: 102ms\n",
            "496:\tlearn: 0.0736876\ttotal: 100ms\tremaining: 102ms\n",
            "497:\tlearn: 0.0734909\ttotal: 101ms\tremaining: 101ms\n",
            "498:\tlearn: 0.0732952\ttotal: 101ms\tremaining: 101ms\n",
            "499:\tlearn: 0.0731275\ttotal: 101ms\tremaining: 101ms\n",
            "500:\tlearn: 0.0729620\ttotal: 101ms\tremaining: 101ms\n",
            "501:\tlearn: 0.0727690\ttotal: 101ms\tremaining: 101ms\n",
            "502:\tlearn: 0.0725769\ttotal: 102ms\tremaining: 100ms\n",
            "503:\tlearn: 0.0723857\ttotal: 102ms\tremaining: 100ms\n",
            "504:\tlearn: 0.0722220\ttotal: 102ms\tremaining: 100ms\n",
            "505:\tlearn: 0.0720603\ttotal: 102ms\tremaining: 99.8ms\n",
            "506:\tlearn: 0.0718994\ttotal: 102ms\tremaining: 99.6ms\n",
            "507:\tlearn: 0.0717116\ttotal: 103ms\tremaining: 99.4ms\n",
            "508:\tlearn: 0.0715522\ttotal: 103ms\tremaining: 99.2ms\n",
            "509:\tlearn: 0.0713661\ttotal: 103ms\tremaining: 98.9ms\n",
            "510:\tlearn: 0.0711810\ttotal: 103ms\tremaining: 98.7ms\n",
            "511:\tlearn: 0.0709967\ttotal: 103ms\tremaining: 98.5ms\n",
            "512:\tlearn: 0.0708657\ttotal: 104ms\tremaining: 98.3ms\n",
            "513:\tlearn: 0.0706830\ttotal: 104ms\tremaining: 98.1ms\n",
            "514:\tlearn: 0.0705012\ttotal: 104ms\tremaining: 97.9ms\n",
            "515:\tlearn: 0.0703454\ttotal: 104ms\tremaining: 97.7ms\n",
            "516:\tlearn: 0.0701652\ttotal: 104ms\tremaining: 97.5ms\n",
            "517:\tlearn: 0.0700108\ttotal: 105ms\tremaining: 97.3ms\n",
            "518:\tlearn: 0.0698571\ttotal: 105ms\tremaining: 97.1ms\n",
            "519:\tlearn: 0.0697300\ttotal: 105ms\tremaining: 97ms\n",
            "520:\tlearn: 0.0695775\ttotal: 105ms\tremaining: 96.8ms\n",
            "521:\tlearn: 0.0694268\ttotal: 105ms\tremaining: 96.5ms\n",
            "522:\tlearn: 0.0692768\ttotal: 106ms\tremaining: 96.4ms\n",
            "523:\tlearn: 0.0691017\ttotal: 106ms\tremaining: 96.2ms\n",
            "524:\tlearn: 0.0689275\ttotal: 106ms\tremaining: 95.9ms\n",
            "525:\tlearn: 0.0687795\ttotal: 106ms\tremaining: 95.7ms\n",
            "526:\tlearn: 0.0686069\ttotal: 106ms\tremaining: 95.5ms\n",
            "527:\tlearn: 0.0684602\ttotal: 107ms\tremaining: 95.3ms\n",
            "528:\tlearn: 0.0683142\ttotal: 107ms\tremaining: 95.1ms\n",
            "529:\tlearn: 0.0681674\ttotal: 107ms\tremaining: 94.9ms\n",
            "530:\tlearn: 0.0679976\ttotal: 107ms\tremaining: 94.7ms\n",
            "531:\tlearn: 0.0678286\ttotal: 107ms\tremaining: 94.5ms\n",
            "532:\tlearn: 0.0677085\ttotal: 108ms\tremaining: 94.3ms\n",
            "533:\tlearn: 0.0675655\ttotal: 108ms\tremaining: 94.1ms\n",
            "534:\tlearn: 0.0674217\ttotal: 108ms\tremaining: 93.9ms\n",
            "535:\tlearn: 0.0672554\ttotal: 108ms\tremaining: 93.7ms\n",
            "536:\tlearn: 0.0671372\ttotal: 108ms\tremaining: 93.5ms\n",
            "537:\tlearn: 0.0669722\ttotal: 109ms\tremaining: 93.3ms\n",
            "538:\tlearn: 0.0668322\ttotal: 109ms\tremaining: 93.1ms\n",
            "539:\tlearn: 0.0666927\ttotal: 109ms\tremaining: 93ms\n",
            "540:\tlearn: 0.0665298\ttotal: 109ms\tremaining: 92.7ms\n",
            "541:\tlearn: 0.0663676\ttotal: 110ms\tremaining: 92.5ms\n",
            "542:\tlearn: 0.0662524\ttotal: 110ms\tremaining: 92.4ms\n",
            "543:\tlearn: 0.0660915\ttotal: 114ms\tremaining: 95.2ms\n",
            "544:\tlearn: 0.0659772\ttotal: 114ms\tremaining: 95ms\n",
            "545:\tlearn: 0.0658175\ttotal: 114ms\tremaining: 94.8ms\n",
            "546:\tlearn: 0.0656587\ttotal: 114ms\tremaining: 94.6ms\n",
            "547:\tlearn: 0.0655005\ttotal: 114ms\tremaining: 94.3ms\n",
            "548:\tlearn: 0.0653650\ttotal: 115ms\tremaining: 94.1ms\n",
            "549:\tlearn: 0.0652299\ttotal: 115ms\tremaining: 93.9ms\n",
            "550:\tlearn: 0.0650738\ttotal: 115ms\tremaining: 93.7ms\n",
            "551:\tlearn: 0.0649183\ttotal: 115ms\tremaining: 93.4ms\n",
            "552:\tlearn: 0.0647635\ttotal: 115ms\tremaining: 93.2ms\n",
            "553:\tlearn: 0.0646321\ttotal: 116ms\tremaining: 93ms\n",
            "554:\tlearn: 0.0644786\ttotal: 116ms\tremaining: 92.8ms\n",
            "555:\tlearn: 0.0643259\ttotal: 116ms\tremaining: 92.7ms\n",
            "556:\tlearn: 0.0641949\ttotal: 116ms\tremaining: 92.5ms\n",
            "557:\tlearn: 0.0640867\ttotal: 116ms\tremaining: 92.3ms\n",
            "558:\tlearn: 0.0639566\ttotal: 117ms\tremaining: 92ms\n",
            "559:\tlearn: 0.0638272\ttotal: 117ms\tremaining: 91.8ms\n",
            "560:\tlearn: 0.0636773\ttotal: 117ms\tremaining: 91.6ms\n",
            "561:\tlearn: 0.0635489\ttotal: 117ms\tremaining: 91.4ms\n",
            "562:\tlearn: 0.0634003\ttotal: 117ms\tremaining: 91.2ms\n",
            "563:\tlearn: 0.0632740\ttotal: 118ms\tremaining: 91ms\n",
            "564:\tlearn: 0.0631481\ttotal: 118ms\tremaining: 90.7ms\n",
            "565:\tlearn: 0.0630013\ttotal: 118ms\tremaining: 90.5ms\n",
            "566:\tlearn: 0.0628551\ttotal: 118ms\tremaining: 90.3ms\n",
            "567:\tlearn: 0.0627096\ttotal: 118ms\tremaining: 90ms\n",
            "568:\tlearn: 0.0625647\ttotal: 119ms\tremaining: 89.8ms\n",
            "569:\tlearn: 0.0624405\ttotal: 119ms\tremaining: 89.6ms\n",
            "570:\tlearn: 0.0623168\ttotal: 119ms\tremaining: 89.4ms\n",
            "571:\tlearn: 0.0621737\ttotal: 119ms\tremaining: 89.2ms\n",
            "572:\tlearn: 0.0620718\ttotal: 119ms\tremaining: 89ms\n",
            "573:\tlearn: 0.0619505\ttotal: 120ms\tremaining: 88.8ms\n",
            "574:\tlearn: 0.0618089\ttotal: 120ms\tremaining: 88.5ms\n",
            "575:\tlearn: 0.0616679\ttotal: 120ms\tremaining: 88.3ms\n",
            "576:\tlearn: 0.0615677\ttotal: 120ms\tremaining: 88.1ms\n",
            "577:\tlearn: 0.0614473\ttotal: 120ms\tremaining: 87.9ms\n",
            "578:\tlearn: 0.0613282\ttotal: 121ms\tremaining: 87.6ms\n",
            "579:\tlearn: 0.0611893\ttotal: 121ms\tremaining: 87.4ms\n",
            "580:\tlearn: 0.0610712\ttotal: 121ms\tremaining: 87.2ms\n",
            "581:\tlearn: 0.0609335\ttotal: 121ms\tremaining: 87ms\n",
            "582:\tlearn: 0.0608154\ttotal: 121ms\tremaining: 86.8ms\n",
            "583:\tlearn: 0.0607178\ttotal: 122ms\tremaining: 86.6ms\n",
            "584:\tlearn: 0.0605815\ttotal: 122ms\tremaining: 86.4ms\n",
            "585:\tlearn: 0.0604458\ttotal: 122ms\tremaining: 86.1ms\n",
            "586:\tlearn: 0.0603493\ttotal: 122ms\tremaining: 86ms\n",
            "587:\tlearn: 0.0602343\ttotal: 122ms\tremaining: 85.7ms\n",
            "588:\tlearn: 0.0601001\ttotal: 123ms\tremaining: 85.5ms\n",
            "589:\tlearn: 0.0599664\ttotal: 123ms\tremaining: 85.3ms\n",
            "590:\tlearn: 0.0598333\ttotal: 123ms\tremaining: 85.1ms\n",
            "591:\tlearn: 0.0597008\ttotal: 123ms\tremaining: 84.8ms\n",
            "592:\tlearn: 0.0595689\ttotal: 123ms\tremaining: 84.6ms\n",
            "593:\tlearn: 0.0594567\ttotal: 123ms\tremaining: 84.4ms\n",
            "594:\tlearn: 0.0593258\ttotal: 124ms\tremaining: 84.2ms\n",
            "595:\tlearn: 0.0592136\ttotal: 124ms\tremaining: 83.9ms\n",
            "596:\tlearn: 0.0591026\ttotal: 124ms\tremaining: 83.7ms\n",
            "597:\tlearn: 0.0590102\ttotal: 124ms\tremaining: 83.5ms\n",
            "598:\tlearn: 0.0589000\ttotal: 124ms\tremaining: 83.3ms\n",
            "599:\tlearn: 0.0587714\ttotal: 125ms\tremaining: 83.1ms\n",
            "600:\tlearn: 0.0586433\ttotal: 125ms\tremaining: 82.9ms\n",
            "601:\tlearn: 0.0585345\ttotal: 125ms\tremaining: 82.7ms\n",
            "602:\tlearn: 0.0584074\ttotal: 125ms\tremaining: 82.5ms\n",
            "603:\tlearn: 0.0582994\ttotal: 126ms\tremaining: 82.3ms\n",
            "604:\tlearn: 0.0581733\ttotal: 126ms\tremaining: 82.1ms\n",
            "605:\tlearn: 0.0580836\ttotal: 126ms\tremaining: 81.9ms\n",
            "606:\tlearn: 0.0579768\ttotal: 126ms\tremaining: 81.7ms\n",
            "607:\tlearn: 0.0578520\ttotal: 126ms\tremaining: 81.4ms\n",
            "608:\tlearn: 0.0577449\ttotal: 126ms\tremaining: 81.2ms\n",
            "609:\tlearn: 0.0576393\ttotal: 127ms\tremaining: 81ms\n",
            "610:\tlearn: 0.0575340\ttotal: 127ms\tremaining: 80.8ms\n",
            "611:\tlearn: 0.0574110\ttotal: 127ms\tremaining: 80.5ms\n",
            "612:\tlearn: 0.0572886\ttotal: 127ms\tremaining: 80.3ms\n",
            "613:\tlearn: 0.0571666\ttotal: 128ms\tremaining: 80.2ms\n",
            "614:\tlearn: 0.0570630\ttotal: 128ms\tremaining: 80ms\n",
            "615:\tlearn: 0.0569419\ttotal: 128ms\tremaining: 79.7ms\n",
            "616:\tlearn: 0.0568214\ttotal: 128ms\tremaining: 79.5ms\n",
            "617:\tlearn: 0.0567013\ttotal: 128ms\tremaining: 79.3ms\n",
            "618:\tlearn: 0.0565817\ttotal: 128ms\tremaining: 79.1ms\n",
            "619:\tlearn: 0.0564626\ttotal: 129ms\tremaining: 78.8ms\n",
            "620:\tlearn: 0.0563440\ttotal: 129ms\tremaining: 78.6ms\n",
            "621:\tlearn: 0.0562259\ttotal: 129ms\tremaining: 78.4ms\n",
            "622:\tlearn: 0.0561082\ttotal: 129ms\tremaining: 78.2ms\n",
            "623:\tlearn: 0.0560072\ttotal: 129ms\tremaining: 78ms\n",
            "624:\tlearn: 0.0559076\ttotal: 130ms\tremaining: 77.8ms\n",
            "625:\tlearn: 0.0557912\ttotal: 130ms\tremaining: 77.6ms\n",
            "626:\tlearn: 0.0556753\ttotal: 130ms\tremaining: 77.3ms\n",
            "627:\tlearn: 0.0555927\ttotal: 130ms\tremaining: 77.1ms\n",
            "628:\tlearn: 0.0554776\ttotal: 130ms\tremaining: 76.9ms\n",
            "629:\tlearn: 0.0553629\ttotal: 130ms\tremaining: 76.6ms\n",
            "630:\tlearn: 0.0552812\ttotal: 131ms\tremaining: 76.4ms\n",
            "631:\tlearn: 0.0551673\ttotal: 131ms\tremaining: 76.2ms\n",
            "632:\tlearn: 0.0550539\ttotal: 131ms\tremaining: 76ms\n",
            "633:\tlearn: 0.0549408\ttotal: 131ms\tremaining: 75.8ms\n",
            "634:\tlearn: 0.0548283\ttotal: 131ms\tremaining: 75.5ms\n",
            "635:\tlearn: 0.0547326\ttotal: 132ms\tremaining: 75.3ms\n",
            "636:\tlearn: 0.0546363\ttotal: 132ms\tremaining: 75.1ms\n",
            "637:\tlearn: 0.0545412\ttotal: 132ms\tremaining: 74.9ms\n",
            "638:\tlearn: 0.0544456\ttotal: 132ms\tremaining: 74.7ms\n",
            "639:\tlearn: 0.0543350\ttotal: 132ms\tremaining: 74.4ms\n",
            "640:\tlearn: 0.0542400\ttotal: 132ms\tremaining: 74.2ms\n",
            "641:\tlearn: 0.0541302\ttotal: 133ms\tremaining: 74ms\n",
            "642:\tlearn: 0.0540208\ttotal: 133ms\tremaining: 73.8ms\n",
            "643:\tlearn: 0.0539269\ttotal: 133ms\tremaining: 73.6ms\n",
            "644:\tlearn: 0.0538183\ttotal: 133ms\tremaining: 73.3ms\n",
            "645:\tlearn: 0.0537251\ttotal: 133ms\tremaining: 73.1ms\n",
            "646:\tlearn: 0.0536322\ttotal: 134ms\tremaining: 73ms\n",
            "647:\tlearn: 0.0535396\ttotal: 134ms\tremaining: 72.8ms\n",
            "648:\tlearn: 0.0534325\ttotal: 134ms\tremaining: 72.6ms\n",
            "649:\tlearn: 0.0533562\ttotal: 134ms\tremaining: 72.4ms\n",
            "650:\tlearn: 0.0532498\ttotal: 135ms\tremaining: 72.1ms\n",
            "651:\tlearn: 0.0531592\ttotal: 135ms\tremaining: 71.9ms\n",
            "652:\tlearn: 0.0530535\ttotal: 135ms\tremaining: 71.7ms\n",
            "653:\tlearn: 0.0529629\ttotal: 135ms\tremaining: 71.5ms\n",
            "654:\tlearn: 0.0528879\ttotal: 135ms\tremaining: 71.3ms\n",
            "655:\tlearn: 0.0527985\ttotal: 136ms\tremaining: 71.1ms\n",
            "656:\tlearn: 0.0527239\ttotal: 136ms\tremaining: 70.9ms\n",
            "657:\tlearn: 0.0526351\ttotal: 136ms\tremaining: 70.7ms\n",
            "658:\tlearn: 0.0525314\ttotal: 136ms\tremaining: 70.4ms\n",
            "659:\tlearn: 0.0524432\ttotal: 136ms\tremaining: 70.2ms\n",
            "660:\tlearn: 0.0523402\ttotal: 136ms\tremaining: 70ms\n",
            "661:\tlearn: 0.0522518\ttotal: 138ms\tremaining: 70.5ms\n",
            "662:\tlearn: 0.0521496\ttotal: 142ms\tremaining: 72.4ms\n",
            "663:\tlearn: 0.0520477\ttotal: 143ms\tremaining: 72.3ms\n",
            "664:\tlearn: 0.0519610\ttotal: 143ms\tremaining: 72.3ms\n",
            "665:\tlearn: 0.0518747\ttotal: 144ms\tremaining: 72.2ms\n",
            "666:\tlearn: 0.0517738\ttotal: 144ms\tremaining: 72.1ms\n",
            "667:\tlearn: 0.0516734\ttotal: 145ms\tremaining: 72ms\n",
            "668:\tlearn: 0.0515871\ttotal: 145ms\tremaining: 71.9ms\n",
            "669:\tlearn: 0.0514874\ttotal: 146ms\tremaining: 71.8ms\n",
            "670:\tlearn: 0.0514018\ttotal: 146ms\tremaining: 71.6ms\n",
            "671:\tlearn: 0.0513309\ttotal: 146ms\tremaining: 71.4ms\n",
            "672:\tlearn: 0.0512465\ttotal: 146ms\tremaining: 71.2ms\n",
            "673:\tlearn: 0.0511624\ttotal: 147ms\tremaining: 71ms\n",
            "674:\tlearn: 0.0510923\ttotal: 147ms\tremaining: 70.8ms\n",
            "675:\tlearn: 0.0510079\ttotal: 147ms\tremaining: 70.5ms\n",
            "676:\tlearn: 0.0509238\ttotal: 147ms\tremaining: 70.3ms\n",
            "677:\tlearn: 0.0508407\ttotal: 148ms\tremaining: 70.1ms\n",
            "678:\tlearn: 0.0507437\ttotal: 148ms\tremaining: 69.9ms\n",
            "679:\tlearn: 0.0506470\ttotal: 148ms\tremaining: 69.6ms\n",
            "680:\tlearn: 0.0505507\ttotal: 148ms\tremaining: 69.4ms\n",
            "681:\tlearn: 0.0504681\ttotal: 148ms\tremaining: 69.2ms\n",
            "682:\tlearn: 0.0503724\ttotal: 149ms\tremaining: 68.9ms\n",
            "683:\tlearn: 0.0502771\ttotal: 149ms\tremaining: 68.7ms\n",
            "684:\tlearn: 0.0502092\ttotal: 149ms\tremaining: 68.5ms\n",
            "685:\tlearn: 0.0501276\ttotal: 149ms\tremaining: 68.3ms\n",
            "686:\tlearn: 0.0500332\ttotal: 149ms\tremaining: 68ms\n",
            "687:\tlearn: 0.0499391\ttotal: 150ms\tremaining: 67.8ms\n",
            "688:\tlearn: 0.0498590\ttotal: 150ms\tremaining: 67.6ms\n",
            "689:\tlearn: 0.0497786\ttotal: 150ms\tremaining: 67.4ms\n",
            "690:\tlearn: 0.0496984\ttotal: 150ms\tremaining: 67.1ms\n",
            "691:\tlearn: 0.0496055\ttotal: 150ms\tremaining: 66.9ms\n",
            "692:\tlearn: 0.0495129\ttotal: 150ms\tremaining: 66.7ms\n",
            "693:\tlearn: 0.0494336\ttotal: 151ms\tremaining: 66.4ms\n",
            "694:\tlearn: 0.0493416\ttotal: 151ms\tremaining: 66.2ms\n",
            "695:\tlearn: 0.0492634\ttotal: 151ms\tremaining: 65.9ms\n",
            "696:\tlearn: 0.0491720\ttotal: 151ms\tremaining: 65.7ms\n",
            "697:\tlearn: 0.0490937\ttotal: 151ms\tremaining: 65.5ms\n",
            "698:\tlearn: 0.0490030\ttotal: 151ms\tremaining: 65.2ms\n",
            "699:\tlearn: 0.0489252\ttotal: 152ms\tremaining: 65ms\n",
            "700:\tlearn: 0.0488477\ttotal: 152ms\tremaining: 64.8ms\n",
            "701:\tlearn: 0.0487578\ttotal: 152ms\tremaining: 64.6ms\n",
            "702:\tlearn: 0.0486683\ttotal: 152ms\tremaining: 64.3ms\n",
            "703:\tlearn: 0.0485916\ttotal: 152ms\tremaining: 64.1ms\n",
            "704:\tlearn: 0.0485151\ttotal: 153ms\tremaining: 63.9ms\n",
            "705:\tlearn: 0.0484517\ttotal: 153ms\tremaining: 63.7ms\n",
            "706:\tlearn: 0.0483885\ttotal: 153ms\tremaining: 63.5ms\n",
            "707:\tlearn: 0.0483131\ttotal: 153ms\tremaining: 63.2ms\n",
            "708:\tlearn: 0.0482251\ttotal: 154ms\tremaining: 63ms\n",
            "709:\tlearn: 0.0481374\ttotal: 154ms\tremaining: 62.8ms\n",
            "710:\tlearn: 0.0480500\ttotal: 154ms\tremaining: 62.6ms\n",
            "711:\tlearn: 0.0479630\ttotal: 154ms\tremaining: 62.3ms\n",
            "712:\tlearn: 0.0478762\ttotal: 154ms\tremaining: 62.1ms\n",
            "713:\tlearn: 0.0478023\ttotal: 155ms\tremaining: 61.9ms\n",
            "714:\tlearn: 0.0477161\ttotal: 155ms\tremaining: 61.7ms\n",
            "715:\tlearn: 0.0476423\ttotal: 155ms\tremaining: 61.5ms\n",
            "716:\tlearn: 0.0475566\ttotal: 155ms\tremaining: 61.2ms\n",
            "717:\tlearn: 0.0474713\ttotal: 155ms\tremaining: 61ms\n",
            "718:\tlearn: 0.0473981\ttotal: 155ms\tremaining: 60.7ms\n",
            "719:\tlearn: 0.0473133\ttotal: 156ms\tremaining: 60.5ms\n",
            "720:\tlearn: 0.0472288\ttotal: 156ms\tremaining: 60.3ms\n",
            "721:\tlearn: 0.0471446\ttotal: 156ms\tremaining: 60.1ms\n",
            "722:\tlearn: 0.0470729\ttotal: 156ms\tremaining: 59.8ms\n",
            "723:\tlearn: 0.0470013\ttotal: 156ms\tremaining: 59.6ms\n",
            "724:\tlearn: 0.0469179\ttotal: 157ms\tremaining: 59.4ms\n",
            "725:\tlearn: 0.0468348\ttotal: 157ms\tremaining: 59.1ms\n",
            "726:\tlearn: 0.0467519\ttotal: 157ms\tremaining: 58.9ms\n",
            "727:\tlearn: 0.0466809\ttotal: 157ms\tremaining: 58.7ms\n",
            "728:\tlearn: 0.0466101\ttotal: 157ms\tremaining: 58.5ms\n",
            "729:\tlearn: 0.0465280\ttotal: 157ms\tremaining: 58.2ms\n",
            "730:\tlearn: 0.0464462\ttotal: 158ms\tremaining: 58ms\n",
            "731:\tlearn: 0.0463646\ttotal: 158ms\tremaining: 57.8ms\n",
            "732:\tlearn: 0.0462951\ttotal: 158ms\tremaining: 57.6ms\n",
            "733:\tlearn: 0.0462258\ttotal: 158ms\tremaining: 57.3ms\n",
            "734:\tlearn: 0.0461564\ttotal: 158ms\tremaining: 57.1ms\n",
            "735:\tlearn: 0.0460871\ttotal: 159ms\tremaining: 56.9ms\n",
            "736:\tlearn: 0.0460184\ttotal: 159ms\tremaining: 56.7ms\n",
            "737:\tlearn: 0.0459499\ttotal: 159ms\tremaining: 56.5ms\n",
            "738:\tlearn: 0.0458816\ttotal: 159ms\tremaining: 56.2ms\n",
            "739:\tlearn: 0.0458020\ttotal: 159ms\tremaining: 56ms\n",
            "740:\tlearn: 0.0457226\ttotal: 160ms\tremaining: 55.8ms\n",
            "741:\tlearn: 0.0456550\ttotal: 160ms\tremaining: 55.5ms\n",
            "742:\tlearn: 0.0455875\ttotal: 160ms\tremaining: 55.3ms\n",
            "743:\tlearn: 0.0455198\ttotal: 160ms\tremaining: 55.1ms\n",
            "744:\tlearn: 0.0454524\ttotal: 160ms\tremaining: 54.9ms\n",
            "745:\tlearn: 0.0453742\ttotal: 160ms\tremaining: 54.6ms\n",
            "746:\tlearn: 0.0453075\ttotal: 161ms\tremaining: 54.4ms\n",
            "747:\tlearn: 0.0452406\ttotal: 161ms\tremaining: 54.2ms\n",
            "748:\tlearn: 0.0451744\ttotal: 161ms\tremaining: 54ms\n",
            "749:\tlearn: 0.0451083\ttotal: 161ms\tremaining: 53.8ms\n",
            "750:\tlearn: 0.0450425\ttotal: 161ms\tremaining: 53.5ms\n",
            "751:\tlearn: 0.0449656\ttotal: 162ms\tremaining: 53.3ms\n",
            "752:\tlearn: 0.0449001\ttotal: 162ms\tremaining: 53.1ms\n",
            "753:\tlearn: 0.0448344\ttotal: 162ms\tremaining: 52.9ms\n",
            "754:\tlearn: 0.0447582\ttotal: 162ms\tremaining: 52.6ms\n",
            "755:\tlearn: 0.0447039\ttotal: 162ms\tremaining: 52.4ms\n",
            "756:\tlearn: 0.0446282\ttotal: 163ms\tremaining: 52.2ms\n",
            "757:\tlearn: 0.0445637\ttotal: 163ms\tremaining: 52ms\n",
            "758:\tlearn: 0.0444883\ttotal: 163ms\tremaining: 51.7ms\n",
            "759:\tlearn: 0.0444242\ttotal: 163ms\tremaining: 51.5ms\n",
            "760:\tlearn: 0.0443598\ttotal: 163ms\tremaining: 51.3ms\n",
            "761:\tlearn: 0.0442961\ttotal: 164ms\tremaining: 51.1ms\n",
            "762:\tlearn: 0.0442216\ttotal: 164ms\tremaining: 50.9ms\n",
            "763:\tlearn: 0.0441474\ttotal: 164ms\tremaining: 50.6ms\n",
            "764:\tlearn: 0.0440735\ttotal: 164ms\tremaining: 50.4ms\n",
            "765:\tlearn: 0.0439998\ttotal: 164ms\tremaining: 50.2ms\n",
            "766:\tlearn: 0.0439263\ttotal: 165ms\tremaining: 50ms\n",
            "767:\tlearn: 0.0438633\ttotal: 165ms\tremaining: 49.8ms\n",
            "768:\tlearn: 0.0438009\ttotal: 165ms\tremaining: 49.5ms\n",
            "769:\tlearn: 0.0437280\ttotal: 165ms\tremaining: 49.3ms\n",
            "770:\tlearn: 0.0436761\ttotal: 165ms\tremaining: 49.1ms\n",
            "771:\tlearn: 0.0436143\ttotal: 166ms\tremaining: 48.9ms\n",
            "772:\tlearn: 0.0435526\ttotal: 166ms\tremaining: 48.7ms\n",
            "773:\tlearn: 0.0435011\ttotal: 166ms\tremaining: 48.4ms\n",
            "774:\tlearn: 0.0434397\ttotal: 166ms\tremaining: 48.2ms\n",
            "775:\tlearn: 0.0433680\ttotal: 166ms\tremaining: 48ms\n",
            "776:\tlearn: 0.0432966\ttotal: 167ms\tremaining: 47.8ms\n",
            "777:\tlearn: 0.0432253\ttotal: 167ms\tremaining: 47.6ms\n",
            "778:\tlearn: 0.0431543\ttotal: 167ms\tremaining: 47.4ms\n",
            "779:\tlearn: 0.0430939\ttotal: 167ms\tremaining: 47.2ms\n",
            "780:\tlearn: 0.0430336\ttotal: 168ms\tremaining: 47ms\n",
            "781:\tlearn: 0.0429833\ttotal: 168ms\tremaining: 46.8ms\n",
            "782:\tlearn: 0.0429229\ttotal: 168ms\tremaining: 46.5ms\n",
            "783:\tlearn: 0.0428631\ttotal: 168ms\tremaining: 46.3ms\n",
            "784:\tlearn: 0.0427932\ttotal: 168ms\tremaining: 46.1ms\n",
            "785:\tlearn: 0.0427338\ttotal: 169ms\tremaining: 45.9ms\n",
            "786:\tlearn: 0.0426745\ttotal: 169ms\tremaining: 45.7ms\n",
            "787:\tlearn: 0.0426052\ttotal: 169ms\tremaining: 45.4ms\n",
            "788:\tlearn: 0.0425457\ttotal: 169ms\tremaining: 45.2ms\n",
            "789:\tlearn: 0.0424769\ttotal: 170ms\tremaining: 45.2ms\n",
            "790:\tlearn: 0.0424183\ttotal: 170ms\tremaining: 45ms\n",
            "791:\tlearn: 0.0423598\ttotal: 171ms\tremaining: 44.8ms\n",
            "792:\tlearn: 0.0423010\ttotal: 171ms\tremaining: 44.6ms\n",
            "793:\tlearn: 0.0422424\ttotal: 171ms\tremaining: 44.4ms\n",
            "794:\tlearn: 0.0421844\ttotal: 171ms\tremaining: 44.2ms\n",
            "795:\tlearn: 0.0421167\ttotal: 172ms\tremaining: 44ms\n",
            "796:\tlearn: 0.0420491\ttotal: 172ms\tremaining: 43.8ms\n",
            "797:\tlearn: 0.0419917\ttotal: 172ms\tremaining: 43.5ms\n",
            "798:\tlearn: 0.0419344\ttotal: 172ms\tremaining: 43.3ms\n",
            "799:\tlearn: 0.0418773\ttotal: 172ms\tremaining: 43.1ms\n",
            "800:\tlearn: 0.0418105\ttotal: 173ms\tremaining: 42.9ms\n",
            "801:\tlearn: 0.0417439\ttotal: 173ms\tremaining: 42.7ms\n",
            "802:\tlearn: 0.0416964\ttotal: 173ms\tremaining: 42.5ms\n",
            "803:\tlearn: 0.0416302\ttotal: 174ms\tremaining: 42.3ms\n",
            "804:\tlearn: 0.0415642\ttotal: 174ms\tremaining: 42.1ms\n",
            "805:\tlearn: 0.0414983\ttotal: 174ms\tremaining: 41.9ms\n",
            "806:\tlearn: 0.0414423\ttotal: 174ms\tremaining: 41.7ms\n",
            "807:\tlearn: 0.0413865\ttotal: 174ms\tremaining: 41.4ms\n",
            "808:\tlearn: 0.0413212\ttotal: 175ms\tremaining: 41.2ms\n",
            "809:\tlearn: 0.0412657\ttotal: 175ms\tremaining: 41ms\n",
            "810:\tlearn: 0.0412098\ttotal: 175ms\tremaining: 40.8ms\n",
            "811:\tlearn: 0.0411450\ttotal: 175ms\tremaining: 40.6ms\n",
            "812:\tlearn: 0.0410804\ttotal: 175ms\tremaining: 40.4ms\n",
            "813:\tlearn: 0.0410161\ttotal: 176ms\tremaining: 40.1ms\n",
            "814:\tlearn: 0.0409608\ttotal: 176ms\tremaining: 39.9ms\n",
            "815:\tlearn: 0.0409062\ttotal: 176ms\tremaining: 39.7ms\n",
            "816:\tlearn: 0.0408424\ttotal: 176ms\tremaining: 39.5ms\n",
            "817:\tlearn: 0.0407787\ttotal: 176ms\tremaining: 39.2ms\n",
            "818:\tlearn: 0.0407241\ttotal: 177ms\tremaining: 39ms\n",
            "819:\tlearn: 0.0406608\ttotal: 177ms\tremaining: 38.8ms\n",
            "820:\tlearn: 0.0406157\ttotal: 177ms\tremaining: 38.6ms\n",
            "821:\tlearn: 0.0405527\ttotal: 177ms\tremaining: 38.4ms\n",
            "822:\tlearn: 0.0404900\ttotal: 177ms\tremaining: 38.1ms\n",
            "823:\tlearn: 0.0404360\ttotal: 177ms\tremaining: 37.9ms\n",
            "824:\tlearn: 0.0403828\ttotal: 178ms\tremaining: 37.7ms\n",
            "825:\tlearn: 0.0403383\ttotal: 178ms\tremaining: 37.5ms\n",
            "826:\tlearn: 0.0402848\ttotal: 178ms\tremaining: 37.3ms\n",
            "827:\tlearn: 0.0402314\ttotal: 178ms\tremaining: 37.1ms\n",
            "828:\tlearn: 0.0401696\ttotal: 179ms\tremaining: 36.8ms\n",
            "829:\tlearn: 0.0401080\ttotal: 179ms\tremaining: 36.6ms\n",
            "830:\tlearn: 0.0400465\ttotal: 179ms\tremaining: 36.4ms\n",
            "831:\tlearn: 0.0399853\ttotal: 179ms\tremaining: 36.2ms\n",
            "832:\tlearn: 0.0399242\ttotal: 179ms\tremaining: 36ms\n",
            "833:\tlearn: 0.0398717\ttotal: 180ms\tremaining: 35.7ms\n",
            "834:\tlearn: 0.0398110\ttotal: 180ms\tremaining: 35.5ms\n",
            "835:\tlearn: 0.0397504\ttotal: 180ms\tremaining: 35.3ms\n",
            "836:\tlearn: 0.0397073\ttotal: 180ms\tremaining: 35.1ms\n",
            "837:\tlearn: 0.0396470\ttotal: 180ms\tremaining: 34.9ms\n",
            "838:\tlearn: 0.0395957\ttotal: 181ms\tremaining: 34.6ms\n",
            "839:\tlearn: 0.0395529\ttotal: 181ms\tremaining: 34.4ms\n",
            "840:\tlearn: 0.0395014\ttotal: 181ms\tremaining: 34.2ms\n",
            "841:\tlearn: 0.0394500\ttotal: 181ms\tremaining: 34ms\n",
            "842:\tlearn: 0.0393905\ttotal: 181ms\tremaining: 33.8ms\n",
            "843:\tlearn: 0.0393394\ttotal: 182ms\tremaining: 33.6ms\n",
            "844:\tlearn: 0.0392889\ttotal: 182ms\tremaining: 33.3ms\n",
            "845:\tlearn: 0.0392299\ttotal: 182ms\tremaining: 33.1ms\n",
            "846:\tlearn: 0.0391796\ttotal: 182ms\tremaining: 32.9ms\n",
            "847:\tlearn: 0.0391295\ttotal: 182ms\tremaining: 32.7ms\n",
            "848:\tlearn: 0.0390709\ttotal: 182ms\tremaining: 32.5ms\n",
            "849:\tlearn: 0.0390211\ttotal: 183ms\tremaining: 32.2ms\n",
            "850:\tlearn: 0.0389628\ttotal: 183ms\tremaining: 32ms\n",
            "851:\tlearn: 0.0389133\ttotal: 183ms\tremaining: 31.8ms\n",
            "852:\tlearn: 0.0388553\ttotal: 183ms\tremaining: 31.6ms\n",
            "853:\tlearn: 0.0388060\ttotal: 183ms\tremaining: 31.4ms\n",
            "854:\tlearn: 0.0387484\ttotal: 184ms\tremaining: 31.1ms\n",
            "855:\tlearn: 0.0386993\ttotal: 184ms\tremaining: 30.9ms\n",
            "856:\tlearn: 0.0386504\ttotal: 184ms\tremaining: 30.7ms\n",
            "857:\tlearn: 0.0385932\ttotal: 184ms\tremaining: 30.5ms\n",
            "858:\tlearn: 0.0385441\ttotal: 184ms\tremaining: 30.3ms\n",
            "859:\tlearn: 0.0384951\ttotal: 185ms\tremaining: 30.1ms\n",
            "860:\tlearn: 0.0384467\ttotal: 185ms\tremaining: 29.8ms\n",
            "861:\tlearn: 0.0383900\ttotal: 185ms\tremaining: 29.6ms\n",
            "862:\tlearn: 0.0383336\ttotal: 185ms\tremaining: 29.4ms\n",
            "863:\tlearn: 0.0382856\ttotal: 185ms\tremaining: 29.2ms\n",
            "864:\tlearn: 0.0382372\ttotal: 186ms\tremaining: 29ms\n",
            "865:\tlearn: 0.0381889\ttotal: 186ms\tremaining: 28.7ms\n",
            "866:\tlearn: 0.0381413\ttotal: 186ms\tremaining: 28.5ms\n",
            "867:\tlearn: 0.0380937\ttotal: 186ms\tremaining: 28.3ms\n",
            "868:\tlearn: 0.0380381\ttotal: 186ms\tremaining: 28.1ms\n",
            "869:\tlearn: 0.0379903\ttotal: 187ms\tremaining: 27.9ms\n",
            "870:\tlearn: 0.0379431\ttotal: 187ms\tremaining: 27.7ms\n",
            "871:\tlearn: 0.0378880\ttotal: 187ms\tremaining: 27.4ms\n",
            "872:\tlearn: 0.0378410\ttotal: 187ms\tremaining: 27.2ms\n",
            "873:\tlearn: 0.0377861\ttotal: 187ms\tremaining: 27ms\n",
            "874:\tlearn: 0.0377394\ttotal: 187ms\tremaining: 26.8ms\n",
            "875:\tlearn: 0.0376929\ttotal: 188ms\tremaining: 26.6ms\n",
            "876:\tlearn: 0.0376464\ttotal: 188ms\tremaining: 26.3ms\n",
            "877:\tlearn: 0.0375920\ttotal: 188ms\tremaining: 26.1ms\n",
            "878:\tlearn: 0.0375458\ttotal: 188ms\tremaining: 25.9ms\n",
            "879:\tlearn: 0.0374992\ttotal: 188ms\tremaining: 25.7ms\n",
            "880:\tlearn: 0.0374453\ttotal: 189ms\tremaining: 25.5ms\n",
            "881:\tlearn: 0.0373915\ttotal: 189ms\tremaining: 25.3ms\n",
            "882:\tlearn: 0.0373378\ttotal: 189ms\tremaining: 25.1ms\n",
            "883:\tlearn: 0.0372843\ttotal: 189ms\tremaining: 24.8ms\n",
            "884:\tlearn: 0.0372384\ttotal: 190ms\tremaining: 24.6ms\n",
            "885:\tlearn: 0.0371851\ttotal: 190ms\tremaining: 24.4ms\n",
            "886:\tlearn: 0.0371321\ttotal: 190ms\tremaining: 24.2ms\n",
            "887:\tlearn: 0.0370869\ttotal: 190ms\tremaining: 24ms\n",
            "888:\tlearn: 0.0370419\ttotal: 190ms\tremaining: 23.8ms\n",
            "889:\tlearn: 0.0369970\ttotal: 191ms\tremaining: 23.6ms\n",
            "890:\tlearn: 0.0369445\ttotal: 191ms\tremaining: 23.3ms\n",
            "891:\tlearn: 0.0368921\ttotal: 191ms\tremaining: 23.1ms\n",
            "892:\tlearn: 0.0368398\ttotal: 191ms\tremaining: 22.9ms\n",
            "893:\tlearn: 0.0367949\ttotal: 191ms\tremaining: 22.7ms\n",
            "894:\tlearn: 0.0367501\ttotal: 192ms\tremaining: 22.5ms\n",
            "895:\tlearn: 0.0366982\ttotal: 192ms\tremaining: 22.3ms\n",
            "896:\tlearn: 0.0366541\ttotal: 192ms\tremaining: 22ms\n",
            "897:\tlearn: 0.0366025\ttotal: 192ms\tremaining: 21.8ms\n",
            "898:\tlearn: 0.0365510\ttotal: 192ms\tremaining: 21.6ms\n",
            "899:\tlearn: 0.0365072\ttotal: 192ms\tremaining: 21.4ms\n",
            "900:\tlearn: 0.0364560\ttotal: 193ms\tremaining: 21.2ms\n",
            "901:\tlearn: 0.0364125\ttotal: 193ms\tremaining: 21ms\n",
            "902:\tlearn: 0.0363691\ttotal: 193ms\tremaining: 20.8ms\n",
            "903:\tlearn: 0.0363327\ttotal: 193ms\tremaining: 20.5ms\n",
            "904:\tlearn: 0.0362895\ttotal: 194ms\tremaining: 20.3ms\n",
            "905:\tlearn: 0.0362389\ttotal: 194ms\tremaining: 20.1ms\n",
            "906:\tlearn: 0.0361884\ttotal: 194ms\tremaining: 19.9ms\n",
            "907:\tlearn: 0.0361381\ttotal: 194ms\tremaining: 19.7ms\n",
            "908:\tlearn: 0.0361022\ttotal: 194ms\tremaining: 19.5ms\n",
            "909:\tlearn: 0.0360595\ttotal: 195ms\tremaining: 19.2ms\n",
            "910:\tlearn: 0.0360095\ttotal: 195ms\tremaining: 19ms\n",
            "911:\tlearn: 0.0359739\ttotal: 195ms\tremaining: 18.8ms\n",
            "912:\tlearn: 0.0359309\ttotal: 195ms\tremaining: 18.6ms\n",
            "913:\tlearn: 0.0358813\ttotal: 195ms\tremaining: 18.4ms\n",
            "914:\tlearn: 0.0358391\ttotal: 196ms\tremaining: 18.2ms\n",
            "915:\tlearn: 0.0357897\ttotal: 196ms\tremaining: 17.9ms\n",
            "916:\tlearn: 0.0357472\ttotal: 196ms\tremaining: 17.7ms\n",
            "917:\tlearn: 0.0357053\ttotal: 196ms\tremaining: 17.5ms\n",
            "918:\tlearn: 0.0356562\ttotal: 196ms\tremaining: 17.3ms\n",
            "919:\tlearn: 0.0356073\ttotal: 196ms\tremaining: 17.1ms\n",
            "920:\tlearn: 0.0355657\ttotal: 197ms\tremaining: 16.9ms\n",
            "921:\tlearn: 0.0355171\ttotal: 197ms\tremaining: 16.7ms\n",
            "922:\tlearn: 0.0354752\ttotal: 197ms\tremaining: 16.4ms\n",
            "923:\tlearn: 0.0354334\ttotal: 197ms\tremaining: 16.2ms\n",
            "924:\tlearn: 0.0353851\ttotal: 197ms\tremaining: 16ms\n",
            "925:\tlearn: 0.0353435\ttotal: 198ms\tremaining: 15.8ms\n",
            "926:\tlearn: 0.0353026\ttotal: 198ms\tremaining: 15.6ms\n",
            "927:\tlearn: 0.0352617\ttotal: 198ms\tremaining: 15.4ms\n",
            "928:\tlearn: 0.0352209\ttotal: 198ms\tremaining: 15.2ms\n",
            "929:\tlearn: 0.0351797\ttotal: 199ms\tremaining: 14.9ms\n",
            "930:\tlearn: 0.0351386\ttotal: 199ms\tremaining: 14.7ms\n",
            "931:\tlearn: 0.0350910\ttotal: 199ms\tremaining: 14.5ms\n",
            "932:\tlearn: 0.0350436\ttotal: 199ms\tremaining: 14.3ms\n",
            "933:\tlearn: 0.0350033\ttotal: 199ms\tremaining: 14.1ms\n",
            "934:\tlearn: 0.0349561\ttotal: 200ms\tremaining: 13.9ms\n",
            "935:\tlearn: 0.0349155\ttotal: 200ms\tremaining: 13.7ms\n",
            "936:\tlearn: 0.0348686\ttotal: 200ms\tremaining: 13.4ms\n",
            "937:\tlearn: 0.0348282\ttotal: 200ms\tremaining: 13.2ms\n",
            "938:\tlearn: 0.0347879\ttotal: 200ms\tremaining: 13ms\n",
            "939:\tlearn: 0.0347413\ttotal: 200ms\tremaining: 12.8ms\n",
            "940:\tlearn: 0.0347016\ttotal: 201ms\tremaining: 12.6ms\n",
            "941:\tlearn: 0.0346621\ttotal: 201ms\tremaining: 12.4ms\n",
            "942:\tlearn: 0.0346226\ttotal: 201ms\tremaining: 12.2ms\n",
            "943:\tlearn: 0.0345828\ttotal: 201ms\tremaining: 11.9ms\n",
            "944:\tlearn: 0.0345367\ttotal: 201ms\tremaining: 11.7ms\n",
            "945:\tlearn: 0.0344975\ttotal: 202ms\tremaining: 11.5ms\n",
            "946:\tlearn: 0.0344516\ttotal: 202ms\tremaining: 11.3ms\n",
            "947:\tlearn: 0.0344058\ttotal: 202ms\tremaining: 11.1ms\n",
            "948:\tlearn: 0.0343732\ttotal: 202ms\tremaining: 10.9ms\n",
            "949:\tlearn: 0.0343277\ttotal: 202ms\tremaining: 10.7ms\n",
            "950:\tlearn: 0.0342822\ttotal: 203ms\tremaining: 10.4ms\n",
            "951:\tlearn: 0.0342369\ttotal: 203ms\tremaining: 10.2ms\n",
            "952:\tlearn: 0.0341979\ttotal: 203ms\tremaining: 10ms\n",
            "953:\tlearn: 0.0341528\ttotal: 203ms\tremaining: 9.8ms\n",
            "954:\tlearn: 0.0341207\ttotal: 204ms\tremaining: 9.59ms\n",
            "955:\tlearn: 0.0340824\ttotal: 204ms\tremaining: 9.38ms\n",
            "956:\tlearn: 0.0340442\ttotal: 204ms\tremaining: 9.17ms\n",
            "957:\tlearn: 0.0339995\ttotal: 204ms\tremaining: 8.96ms\n",
            "958:\tlearn: 0.0339615\ttotal: 205ms\tremaining: 8.74ms\n",
            "959:\tlearn: 0.0339236\ttotal: 205ms\tremaining: 8.53ms\n",
            "960:\tlearn: 0.0338791\ttotal: 205ms\tremaining: 8.31ms\n",
            "961:\tlearn: 0.0338414\ttotal: 205ms\tremaining: 8.11ms\n",
            "962:\tlearn: 0.0338033\ttotal: 205ms\tremaining: 7.89ms\n",
            "963:\tlearn: 0.0337657\ttotal: 206ms\tremaining: 7.68ms\n",
            "964:\tlearn: 0.0337217\ttotal: 206ms\tremaining: 7.46ms\n",
            "965:\tlearn: 0.0336904\ttotal: 206ms\tremaining: 7.25ms\n",
            "966:\tlearn: 0.0336591\ttotal: 206ms\tremaining: 7.04ms\n",
            "967:\tlearn: 0.0336279\ttotal: 207ms\tremaining: 6.83ms\n",
            "968:\tlearn: 0.0335842\ttotal: 207ms\tremaining: 6.61ms\n",
            "969:\tlearn: 0.0335531\ttotal: 207ms\tremaining: 6.4ms\n",
            "970:\tlearn: 0.0335156\ttotal: 207ms\tremaining: 6.18ms\n",
            "971:\tlearn: 0.0334782\ttotal: 207ms\tremaining: 5.97ms\n",
            "972:\tlearn: 0.0334473\ttotal: 207ms\tremaining: 5.76ms\n",
            "973:\tlearn: 0.0334165\ttotal: 208ms\tremaining: 5.54ms\n",
            "974:\tlearn: 0.0333734\ttotal: 208ms\tremaining: 5.33ms\n",
            "975:\tlearn: 0.0333303\ttotal: 208ms\tremaining: 5.11ms\n",
            "976:\tlearn: 0.0332933\ttotal: 208ms\tremaining: 4.9ms\n",
            "977:\tlearn: 0.0332569\ttotal: 208ms\tremaining: 4.69ms\n",
            "978:\tlearn: 0.0332200\ttotal: 209ms\tremaining: 4.47ms\n",
            "979:\tlearn: 0.0331896\ttotal: 209ms\tremaining: 4.26ms\n",
            "980:\tlearn: 0.0331470\ttotal: 209ms\tremaining: 4.05ms\n",
            "981:\tlearn: 0.0331046\ttotal: 209ms\tremaining: 3.83ms\n",
            "982:\tlearn: 0.0330685\ttotal: 209ms\tremaining: 3.62ms\n",
            "983:\tlearn: 0.0330325\ttotal: 210ms\tremaining: 3.41ms\n",
            "984:\tlearn: 0.0329903\ttotal: 210ms\tremaining: 3.19ms\n",
            "985:\tlearn: 0.0329482\ttotal: 210ms\tremaining: 2.98ms\n",
            "986:\tlearn: 0.0329063\ttotal: 210ms\tremaining: 2.77ms\n",
            "987:\tlearn: 0.0328706\ttotal: 210ms\tremaining: 2.55ms\n",
            "988:\tlearn: 0.0328288\ttotal: 210ms\tremaining: 2.34ms\n",
            "989:\tlearn: 0.0327929\ttotal: 211ms\tremaining: 2.13ms\n",
            "990:\tlearn: 0.0327513\ttotal: 211ms\tremaining: 1.91ms\n",
            "991:\tlearn: 0.0327098\ttotal: 211ms\tremaining: 1.7ms\n",
            "992:\tlearn: 0.0326746\ttotal: 211ms\tremaining: 1.49ms\n",
            "993:\tlearn: 0.0326394\ttotal: 211ms\tremaining: 1.28ms\n",
            "994:\tlearn: 0.0326039\ttotal: 212ms\tremaining: 1.06ms\n",
            "995:\tlearn: 0.0325685\ttotal: 212ms\tremaining: 850us\n",
            "996:\tlearn: 0.0325335\ttotal: 212ms\tremaining: 638us\n",
            "997:\tlearn: 0.0324926\ttotal: 212ms\tremaining: 425us\n",
            "998:\tlearn: 0.0324578\ttotal: 212ms\tremaining: 212us\n",
            "999:\tlearn: 0.0324170\ttotal: 213ms\tremaining: 0us\n",
            "<catboost.core.CatBoostClassifier object at 0x7f7539d17310>\n",
            "Predicted       No Change\n",
            "Actual                   \n",
            "Decrease                1\n",
            "Large Decrease          1\n",
            "\n",
            "accuracy_score:\n",
            "\n",
            "prediction probability:\n",
            "[[0.01121592 0.01390391 0.97488018]\n",
            " [0.01282354 0.01938792 0.96778855]]\n",
            "Done!\n"
          ]
        }
      ]
    },
    {
      "cell_type": "code",
      "source": [],
      "metadata": {
        "id": "eLWkop1MC1SZ"
      },
      "execution_count": null,
      "outputs": []
    }
  ]
}